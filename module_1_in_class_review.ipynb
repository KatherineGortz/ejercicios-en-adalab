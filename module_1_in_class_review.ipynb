{
 "cells": [
  {
   "cell_type": "markdown",
   "metadata": {},
   "source": [
    "Clasificación de triángulos: Pide al usuario que ingrese las longitudes de tres lados de un triángulo. Determina si el triángulo es equilátero (todos los lados iguales), isósceles (dos lados iguales), o escaleno (ningún lado igual)."
   ]
  },
  {
   "cell_type": "code",
   "execution_count": null,
   "metadata": {},
   "outputs": [],
   "source": [
    "lado1= int(input(\"Dame el largo de lado 1 de un triagulo:\"))\n",
    "lado2= int(input(\"Dame el largo de lado 2 de un triagulo:\"))\n",
    "lado3= int(input(\"Dame el largo de lado 3 de un triagulo:\"))\n",
    "\n",
    "while lado1.isdigit() == False:\n",
    "    lado1= int(input(\"Dame el largo de lado 1 de un triagulo:\"))\n",
    "\n",
    "while lado2.isdigit() == False:\n",
    "    lado2= int(input(\"Dame el largo de lado 1 de un triagulo:\"))\n",
    "\n",
    "while lado3.isdigit() == False:\n",
    "    lado3= int(input(\"Dame el largo de lado 1 de un triagulo:\"))\n",
    "\n",
    "if lado1 == lado2 == lado3:\n",
    "    print(\"It is an equilaterial triangle.\")\n",
    "\n",
    "elif lado1 == lado2 or lado1 == lado3 or lado2 == lado3:\n",
    "    print(\"It is a isoceles triangle\")\n",
    "else:\n",
    "    print(\"It is a scalene triange\")\n",
    "\n",
    "\n",
    "\n"
   ]
  },
  {
   "cell_type": "markdown",
   "metadata": {},
   "source": [
    "\n",
    "Adivina el Número: Genera un número aleatorio entre 1 y 20. Pide al usuario que adivine el número y proporciona pistas (mayor o menor) hasta que adivinen correctamente."
   ]
  },
  {
   "cell_type": "code",
   "execution_count": null,
   "metadata": {},
   "outputs": [],
   "source": [
    "import random\n",
    "\n",
    "random_num = random.randint(0,20)\n",
    "\n",
    "usuario_num = int((\"Guess the number between 1 and 20:\"))\n",
    "\n",
    ".\n"
   ]
  },
  {
   "cell_type": "markdown",
   "metadata": {},
   "source": [
    "\n",
    "Clave máxima: Encuentra la clave con el valor máximo en un diccionario que contenga pares clave-valor numéricos."
   ]
  },
  {
   "cell_type": "code",
   "execution_count": null,
   "metadata": {},
   "outputs": [],
   "source": [
    "diccionario = {10 : 15, %}"
   ]
  }
 ],
 "metadata": {
  "kernelspec": {
   "display_name": "Python 3",
   "language": "python",
   "name": "python3"
  },
  "language_info": {
   "codemirror_mode": {
    "name": "ipython",
    "version": 3
   },
   "file_extension": ".py",
   "mimetype": "text/x-python",
   "name": "python",
   "nbconvert_exporter": "python",
   "pygments_lexer": "ipython3",
   "version": "3.13.0"
  }
 },
 "nbformat": 4,
 "nbformat_minor": 2
}

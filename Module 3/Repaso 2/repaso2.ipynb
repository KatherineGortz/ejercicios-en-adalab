{
 "cells": [
  {
   "cell_type": "code",
   "execution_count": 2,
   "metadata": {},
   "outputs": [],
   "source": [
    "import pandas as pd\n",
    "import numpy as np\n",
    "\n",
    "import matplotlib.pyplot as plt\n",
    "import seaborn as sns"
   ]
  },
  {
   "cell_type": "code",
   "execution_count": 3,
   "metadata": {},
   "outputs": [],
   "source": [
    "df_precios = pd.read_csv('precios_productos.csv')\n",
    "df_productos = pd.read_csv('productos_dia.csv')\n",
    "\n",
    "pd.set_option('display.max_columns', None) "
   ]
  },
  {
   "cell_type": "code",
   "execution_count": 4,
   "metadata": {},
   "outputs": [
    {
     "data": {
      "text/html": [
       "<div>\n",
       "<style scoped>\n",
       "    .dataframe tbody tr th:only-of-type {\n",
       "        vertical-align: middle;\n",
       "    }\n",
       "\n",
       "    .dataframe tbody tr th {\n",
       "        vertical-align: top;\n",
       "    }\n",
       "\n",
       "    .dataframe thead th {\n",
       "        text-align: right;\n",
       "    }\n",
       "</style>\n",
       "<table border=\"1\" class=\"dataframe\">\n",
       "  <thead>\n",
       "    <tr style=\"text-align: right;\">\n",
       "      <th></th>\n",
       "      <th>Unnamed: 0</th>\n",
       "      <th>price</th>\n",
       "      <th>reference_price</th>\n",
       "      <th>product_id</th>\n",
       "      <th>reference_unit</th>\n",
       "      <th>insert_date</th>\n",
       "    </tr>\n",
       "  </thead>\n",
       "  <tbody>\n",
       "    <tr>\n",
       "      <th>0</th>\n",
       "      <td>6837303</td>\n",
       "      <td>0,7</td>\n",
       "      <td>0,7</td>\n",
       "      <td>9b1d806ddaed2a3b4c842c361e9171a8</td>\n",
       "      <td>ud</td>\n",
       "      <td>2022-06-08 00:00:00</td>\n",
       "    </tr>\n",
       "    <tr>\n",
       "      <th>1</th>\n",
       "      <td>5137438</td>\n",
       "      <td>3,19</td>\n",
       "      <td>10,63</td>\n",
       "      <td>baf038a3f001812899adb8beaf4e0ec7</td>\n",
       "      <td>kg</td>\n",
       "      <td>2022-02-10 00:00:00</td>\n",
       "    </tr>\n",
       "    <tr>\n",
       "      <th>2</th>\n",
       "      <td>6005999</td>\n",
       "      <td>3,99</td>\n",
       "      <td>15,96</td>\n",
       "      <td>ca2fc753e5ea44e8c95888983c1dafe1</td>\n",
       "      <td>l</td>\n",
       "      <td>2022-04-11 00:00:00</td>\n",
       "    </tr>\n",
       "  </tbody>\n",
       "</table>\n",
       "</div>"
      ],
      "text/plain": [
       "   Unnamed: 0 price reference_price                        product_id  \\\n",
       "0     6837303   0,7             0,7  9b1d806ddaed2a3b4c842c361e9171a8   \n",
       "1     5137438  3,19           10,63  baf038a3f001812899adb8beaf4e0ec7   \n",
       "2     6005999  3,99           15,96  ca2fc753e5ea44e8c95888983c1dafe1   \n",
       "\n",
       "  reference_unit          insert_date  \n",
       "0             ud  2022-06-08 00:00:00  \n",
       "1             kg  2022-02-10 00:00:00  \n",
       "2              l  2022-04-11 00:00:00  "
      ]
     },
     "execution_count": 4,
     "metadata": {},
     "output_type": "execute_result"
    }
   ],
   "source": [
    "df_precios.head(3)"
   ]
  },
  {
   "cell_type": "code",
   "execution_count": 5,
   "metadata": {},
   "outputs": [],
   "source": [
    "df_precios.drop(columns=['Unnamed: 0'], axis=1, inplace=True)"
   ]
  },
  {
   "cell_type": "code",
   "execution_count": 6,
   "metadata": {},
   "outputs": [
    {
     "data": {
      "text/html": [
       "<div>\n",
       "<style scoped>\n",
       "    .dataframe tbody tr th:only-of-type {\n",
       "        vertical-align: middle;\n",
       "    }\n",
       "\n",
       "    .dataframe tbody tr th {\n",
       "        vertical-align: top;\n",
       "    }\n",
       "\n",
       "    .dataframe thead th {\n",
       "        text-align: right;\n",
       "    }\n",
       "</style>\n",
       "<table border=\"1\" class=\"dataframe\">\n",
       "  <thead>\n",
       "    <tr style=\"text-align: right;\">\n",
       "      <th></th>\n",
       "      <th>price</th>\n",
       "      <th>reference_price</th>\n",
       "      <th>product_id</th>\n",
       "      <th>reference_unit</th>\n",
       "      <th>insert_date</th>\n",
       "    </tr>\n",
       "  </thead>\n",
       "  <tbody>\n",
       "    <tr>\n",
       "      <th>0</th>\n",
       "      <td>0,7</td>\n",
       "      <td>0,7</td>\n",
       "      <td>9b1d806ddaed2a3b4c842c361e9171a8</td>\n",
       "      <td>ud</td>\n",
       "      <td>2022-06-08 00:00:00</td>\n",
       "    </tr>\n",
       "    <tr>\n",
       "      <th>1</th>\n",
       "      <td>3,19</td>\n",
       "      <td>10,63</td>\n",
       "      <td>baf038a3f001812899adb8beaf4e0ec7</td>\n",
       "      <td>kg</td>\n",
       "      <td>2022-02-10 00:00:00</td>\n",
       "    </tr>\n",
       "    <tr>\n",
       "      <th>2</th>\n",
       "      <td>3,99</td>\n",
       "      <td>15,96</td>\n",
       "      <td>ca2fc753e5ea44e8c95888983c1dafe1</td>\n",
       "      <td>l</td>\n",
       "      <td>2022-04-11 00:00:00</td>\n",
       "    </tr>\n",
       "  </tbody>\n",
       "</table>\n",
       "</div>"
      ],
      "text/plain": [
       "  price reference_price                        product_id reference_unit  \\\n",
       "0   0,7             0,7  9b1d806ddaed2a3b4c842c361e9171a8             ud   \n",
       "1  3,19           10,63  baf038a3f001812899adb8beaf4e0ec7             kg   \n",
       "2  3,99           15,96  ca2fc753e5ea44e8c95888983c1dafe1              l   \n",
       "\n",
       "           insert_date  \n",
       "0  2022-06-08 00:00:00  \n",
       "1  2022-02-10 00:00:00  \n",
       "2  2022-04-11 00:00:00  "
      ]
     },
     "execution_count": 6,
     "metadata": {},
     "output_type": "execute_result"
    }
   ],
   "source": [
    "df_precios.head(3)"
   ]
  },
  {
   "cell_type": "code",
   "execution_count": 7,
   "metadata": {},
   "outputs": [
    {
     "data": {
      "text/plain": [
       "price                 1\n",
       "reference_price       1\n",
       "product_id            0\n",
       "reference_unit     1609\n",
       "insert_date           0\n",
       "dtype: int64"
      ]
     },
     "execution_count": 7,
     "metadata": {},
     "output_type": "execute_result"
    }
   ],
   "source": [
    "df_precios.isnull().sum()"
   ]
  },
  {
   "cell_type": "code",
   "execution_count": 8,
   "metadata": {},
   "outputs": [
    {
     "data": {
      "text/html": [
       "<div>\n",
       "<style scoped>\n",
       "    .dataframe tbody tr th:only-of-type {\n",
       "        vertical-align: middle;\n",
       "    }\n",
       "\n",
       "    .dataframe tbody tr th {\n",
       "        vertical-align: top;\n",
       "    }\n",
       "\n",
       "    .dataframe thead th {\n",
       "        text-align: right;\n",
       "    }\n",
       "</style>\n",
       "<table border=\"1\" class=\"dataframe\">\n",
       "  <thead>\n",
       "    <tr style=\"text-align: right;\">\n",
       "      <th></th>\n",
       "      <th>Unnamed: 0</th>\n",
       "      <th>url</th>\n",
       "      <th>supermarket</th>\n",
       "      <th>name</th>\n",
       "      <th>description</th>\n",
       "      <th>product_id</th>\n",
       "    </tr>\n",
       "  </thead>\n",
       "  <tbody>\n",
       "    <tr>\n",
       "      <th>0</th>\n",
       "      <td>2362486</td>\n",
       "      <td>https://www.dia.es/compra-online/cuidado-del-h...</td>\n",
       "      <td>dia-es</td>\n",
       "      <td>MISTOL lavavajillas mano original botella 900 ml</td>\n",
       "      <td>NaN</td>\n",
       "      <td>9e2fda45e63337294f2a604178823026</td>\n",
       "    </tr>\n",
       "    <tr>\n",
       "      <th>1</th>\n",
       "      <td>2362487</td>\n",
       "      <td>https://www.dia.es/compra-online/cuidado-del-h...</td>\n",
       "      <td>dia-es</td>\n",
       "      <td>DIA lavavajillas máquina premium todo en uno e...</td>\n",
       "      <td>NaN</td>\n",
       "      <td>244994c762813d38881cb118742152a2</td>\n",
       "    </tr>\n",
       "    <tr>\n",
       "      <th>2</th>\n",
       "      <td>2362488</td>\n",
       "      <td>https://www.dia.es/compra-online/cuidado-del-h...</td>\n",
       "      <td>dia-es</td>\n",
       "      <td>FAIRY lavavajillas máquina platinum azul en cá...</td>\n",
       "      <td>NaN</td>\n",
       "      <td>8a5398b602e44b93a0c0a4a7b9d22b84</td>\n",
       "    </tr>\n",
       "  </tbody>\n",
       "</table>\n",
       "</div>"
      ],
      "text/plain": [
       "   Unnamed: 0                                                url supermarket  \\\n",
       "0     2362486  https://www.dia.es/compra-online/cuidado-del-h...      dia-es   \n",
       "1     2362487  https://www.dia.es/compra-online/cuidado-del-h...      dia-es   \n",
       "2     2362488  https://www.dia.es/compra-online/cuidado-del-h...      dia-es   \n",
       "\n",
       "                                                name  description  \\\n",
       "0   MISTOL lavavajillas mano original botella 900 ml          NaN   \n",
       "1  DIA lavavajillas máquina premium todo en uno e...          NaN   \n",
       "2  FAIRY lavavajillas máquina platinum azul en cá...          NaN   \n",
       "\n",
       "                         product_id  \n",
       "0  9e2fda45e63337294f2a604178823026  \n",
       "1  244994c762813d38881cb118742152a2  \n",
       "2  8a5398b602e44b93a0c0a4a7b9d22b84  "
      ]
     },
     "execution_count": 8,
     "metadata": {},
     "output_type": "execute_result"
    }
   ],
   "source": [
    "df_productos.head(3)"
   ]
  },
  {
   "cell_type": "code",
   "execution_count": 9,
   "metadata": {},
   "outputs": [],
   "source": [
    "df_productos.drop(columns=['Unnamed: 0'], axis=1, inplace=True)"
   ]
  },
  {
   "cell_type": "code",
   "execution_count": 10,
   "metadata": {},
   "outputs": [
    {
     "data": {
      "text/html": [
       "<div>\n",
       "<style scoped>\n",
       "    .dataframe tbody tr th:only-of-type {\n",
       "        vertical-align: middle;\n",
       "    }\n",
       "\n",
       "    .dataframe tbody tr th {\n",
       "        vertical-align: top;\n",
       "    }\n",
       "\n",
       "    .dataframe thead th {\n",
       "        text-align: right;\n",
       "    }\n",
       "</style>\n",
       "<table border=\"1\" class=\"dataframe\">\n",
       "  <thead>\n",
       "    <tr style=\"text-align: right;\">\n",
       "      <th></th>\n",
       "      <th>url</th>\n",
       "      <th>supermarket</th>\n",
       "      <th>name</th>\n",
       "      <th>description</th>\n",
       "      <th>product_id</th>\n",
       "    </tr>\n",
       "  </thead>\n",
       "  <tbody>\n",
       "    <tr>\n",
       "      <th>0</th>\n",
       "      <td>https://www.dia.es/compra-online/cuidado-del-h...</td>\n",
       "      <td>dia-es</td>\n",
       "      <td>MISTOL lavavajillas mano original botella 900 ml</td>\n",
       "      <td>NaN</td>\n",
       "      <td>9e2fda45e63337294f2a604178823026</td>\n",
       "    </tr>\n",
       "    <tr>\n",
       "      <th>1</th>\n",
       "      <td>https://www.dia.es/compra-online/cuidado-del-h...</td>\n",
       "      <td>dia-es</td>\n",
       "      <td>DIA lavavajillas máquina premium todo en uno e...</td>\n",
       "      <td>NaN</td>\n",
       "      <td>244994c762813d38881cb118742152a2</td>\n",
       "    </tr>\n",
       "    <tr>\n",
       "      <th>2</th>\n",
       "      <td>https://www.dia.es/compra-online/cuidado-del-h...</td>\n",
       "      <td>dia-es</td>\n",
       "      <td>FAIRY lavavajillas máquina platinum azul en cá...</td>\n",
       "      <td>NaN</td>\n",
       "      <td>8a5398b602e44b93a0c0a4a7b9d22b84</td>\n",
       "    </tr>\n",
       "  </tbody>\n",
       "</table>\n",
       "</div>"
      ],
      "text/plain": [
       "                                                 url supermarket  \\\n",
       "0  https://www.dia.es/compra-online/cuidado-del-h...      dia-es   \n",
       "1  https://www.dia.es/compra-online/cuidado-del-h...      dia-es   \n",
       "2  https://www.dia.es/compra-online/cuidado-del-h...      dia-es   \n",
       "\n",
       "                                                name  description  \\\n",
       "0   MISTOL lavavajillas mano original botella 900 ml          NaN   \n",
       "1  DIA lavavajillas máquina premium todo en uno e...          NaN   \n",
       "2  FAIRY lavavajillas máquina platinum azul en cá...          NaN   \n",
       "\n",
       "                         product_id  \n",
       "0  9e2fda45e63337294f2a604178823026  \n",
       "1  244994c762813d38881cb118742152a2  \n",
       "2  8a5398b602e44b93a0c0a4a7b9d22b84  "
      ]
     },
     "execution_count": 10,
     "metadata": {},
     "output_type": "execute_result"
    }
   ],
   "source": [
    "df_productos.head(3)"
   ]
  },
  {
   "cell_type": "code",
   "execution_count": 11,
   "metadata": {},
   "outputs": [
    {
     "data": {
      "text/plain": [
       "url                0\n",
       "supermarket        0\n",
       "name               0\n",
       "description    11494\n",
       "product_id         0\n",
       "dtype: int64"
      ]
     },
     "execution_count": 11,
     "metadata": {},
     "output_type": "execute_result"
    }
   ],
   "source": [
    "df_productos.isnull().sum()"
   ]
  },
  {
   "cell_type": "code",
   "execution_count": 12,
   "metadata": {},
   "outputs": [
    {
     "data": {
      "text/html": [
       "<div>\n",
       "<style scoped>\n",
       "    .dataframe tbody tr th:only-of-type {\n",
       "        vertical-align: middle;\n",
       "    }\n",
       "\n",
       "    .dataframe tbody tr th {\n",
       "        vertical-align: top;\n",
       "    }\n",
       "\n",
       "    .dataframe thead th {\n",
       "        text-align: right;\n",
       "    }\n",
       "</style>\n",
       "<table border=\"1\" class=\"dataframe\">\n",
       "  <thead>\n",
       "    <tr style=\"text-align: right;\">\n",
       "      <th></th>\n",
       "      <th>price</th>\n",
       "      <th>reference_price</th>\n",
       "      <th>product_id</th>\n",
       "      <th>reference_unit</th>\n",
       "      <th>insert_date</th>\n",
       "      <th>url</th>\n",
       "      <th>supermarket</th>\n",
       "      <th>name</th>\n",
       "      <th>description</th>\n",
       "    </tr>\n",
       "  </thead>\n",
       "  <tbody>\n",
       "    <tr>\n",
       "      <th>0</th>\n",
       "      <td>0,7</td>\n",
       "      <td>0,7</td>\n",
       "      <td>9b1d806ddaed2a3b4c842c361e9171a8</td>\n",
       "      <td>ud</td>\n",
       "      <td>2022-06-08 00:00:00</td>\n",
       "      <td>https://www.dia.es/compra-online/cuidado-del-h...</td>\n",
       "      <td>dia-es</td>\n",
       "      <td>DIA SUPER PACO guantes satinados talla S bolsa...</td>\n",
       "      <td>NaN</td>\n",
       "    </tr>\n",
       "    <tr>\n",
       "      <th>1</th>\n",
       "      <td>3,19</td>\n",
       "      <td>10,63</td>\n",
       "      <td>baf038a3f001812899adb8beaf4e0ec7</td>\n",
       "      <td>kg</td>\n",
       "      <td>2022-02-10 00:00:00</td>\n",
       "      <td>https://www.dia.es/compra-online/despensa/desa...</td>\n",
       "      <td>dia-es</td>\n",
       "      <td>KELLOGGS cereales special k con frutas rojas c...</td>\n",
       "      <td>NaN</td>\n",
       "    </tr>\n",
       "    <tr>\n",
       "      <th>2</th>\n",
       "      <td>3,99</td>\n",
       "      <td>15,96</td>\n",
       "      <td>ca2fc753e5ea44e8c95888983c1dafe1</td>\n",
       "      <td>l</td>\n",
       "      <td>2022-04-11 00:00:00</td>\n",
       "      <td>https://www.dia.es/compra-online/cuidado-perso...</td>\n",
       "      <td>dia-es</td>\n",
       "      <td>DIA IMAQE leche solar infantil spf 50+ tubo 25...</td>\n",
       "      <td>NaN</td>\n",
       "    </tr>\n",
       "  </tbody>\n",
       "</table>\n",
       "</div>"
      ],
      "text/plain": [
       "  price reference_price                        product_id reference_unit  \\\n",
       "0   0,7             0,7  9b1d806ddaed2a3b4c842c361e9171a8             ud   \n",
       "1  3,19           10,63  baf038a3f001812899adb8beaf4e0ec7             kg   \n",
       "2  3,99           15,96  ca2fc753e5ea44e8c95888983c1dafe1              l   \n",
       "\n",
       "           insert_date                                                url  \\\n",
       "0  2022-06-08 00:00:00  https://www.dia.es/compra-online/cuidado-del-h...   \n",
       "1  2022-02-10 00:00:00  https://www.dia.es/compra-online/despensa/desa...   \n",
       "2  2022-04-11 00:00:00  https://www.dia.es/compra-online/cuidado-perso...   \n",
       "\n",
       "  supermarket                                               name  description  \n",
       "0      dia-es  DIA SUPER PACO guantes satinados talla S bolsa...          NaN  \n",
       "1      dia-es  KELLOGGS cereales special k con frutas rojas c...          NaN  \n",
       "2      dia-es  DIA IMAQE leche solar infantil spf 50+ tubo 25...          NaN  "
      ]
     },
     "execution_count": 12,
     "metadata": {},
     "output_type": "execute_result"
    }
   ],
   "source": [
    "df = df_precios.merge(df_productos, on='product_id', how='inner')\n",
    "\n",
    "df.head(3)"
   ]
  },
  {
   "cell_type": "code",
   "execution_count": 13,
   "metadata": {},
   "outputs": [
    {
     "data": {
      "text/plain": [
       "(1264512, 9)"
      ]
     },
     "execution_count": 13,
     "metadata": {},
     "output_type": "execute_result"
    }
   ],
   "source": [
    "df.shape"
   ]
  },
  {
   "cell_type": "code",
   "execution_count": 29,
   "metadata": {},
   "outputs": [],
   "source": [
    "df = df_precios.merge(df_productos, on='product_id', how='right')"
   ]
  },
  {
   "cell_type": "code",
   "execution_count": 30,
   "metadata": {},
   "outputs": [
    {
     "data": {
      "text/plain": [
       "(1264539, 9)"
      ]
     },
     "execution_count": 30,
     "metadata": {},
     "output_type": "execute_result"
    }
   ],
   "source": [
    "df.shape"
   ]
  },
  {
   "cell_type": "code",
   "execution_count": 14,
   "metadata": {},
   "outputs": [
    {
     "data": {
      "text/plain": [
       "array(['https://www.dia.es/compra-online/cuidado-del-hogar/utensilios-de-limpieza/p/270115',\n",
       "       'https://www.dia.es/compra-online/despensa/desayunos-y-dulces/cereales/p/37838',\n",
       "       'https://www.dia.es/compra-online/cuidado-personal/cuidado-corporal/crema-solar/p/274490',\n",
       "       ...,\n",
       "       'https://www.dia.es/compra-online/cuidado-personal/bano-e-higiene-personal/colonias/p/177916',\n",
       "       'https://www.dia.es/compra-online/despensa/desayunos-y-dulces/cacao-y-cremas-de-cacao/p/256471',\n",
       "       'https://www.dia.es/compra-online/frescos/frutas/frutas-de-temporada/p/274923'],\n",
       "      shape=(10218,), dtype=object)"
      ]
     },
     "execution_count": 14,
     "metadata": {},
     "output_type": "execute_result"
    }
   ],
   "source": [
    "df['url'].unique()"
   ]
  },
  {
   "cell_type": "code",
   "execution_count": 15,
   "metadata": {},
   "outputs": [],
   "source": [
    "import re"
   ]
  },
  {
   "cell_type": "markdown",
   "metadata": {},
   "source": [
    "# Identificar la categoría y subcategoría de cada producto"
   ]
  },
  {
   "cell_type": "code",
   "execution_count": 16,
   "metadata": {},
   "outputs": [],
   "source": [
    "def extract_category_and_subcategory(url):\n",
    "    match = re.match(r'https://www\\.dia\\.es/compra-online/([^/]+)/([^/]+)/', url)\n",
    "    if match:\n",
    "        category = match.group(1)  # Extract category\n",
    "        subcategory = match.group(2)  # Extract subcategory\n",
    "        return category, subcategory\n",
    "    return None, None\n",
    "\n",
    "# Apply the function to the 'URL' column and create new columns 'category' and 'subcategory'\n",
    "df[['category', 'subcategory']] = df['url'].apply(lambda url: pd.Series(extract_category_and_subcategory(url)))\n",
    "\n",
    "# Show the updated dataframe\n"
   ]
  },
  {
   "cell_type": "code",
   "execution_count": 17,
   "metadata": {},
   "outputs": [
    {
     "data": {
      "text/html": [
       "<div>\n",
       "<style scoped>\n",
       "    .dataframe tbody tr th:only-of-type {\n",
       "        vertical-align: middle;\n",
       "    }\n",
       "\n",
       "    .dataframe tbody tr th {\n",
       "        vertical-align: top;\n",
       "    }\n",
       "\n",
       "    .dataframe thead th {\n",
       "        text-align: right;\n",
       "    }\n",
       "</style>\n",
       "<table border=\"1\" class=\"dataframe\">\n",
       "  <thead>\n",
       "    <tr style=\"text-align: right;\">\n",
       "      <th></th>\n",
       "      <th>price</th>\n",
       "      <th>reference_price</th>\n",
       "      <th>product_id</th>\n",
       "      <th>reference_unit</th>\n",
       "      <th>insert_date</th>\n",
       "      <th>url</th>\n",
       "      <th>supermarket</th>\n",
       "      <th>name</th>\n",
       "      <th>description</th>\n",
       "      <th>category</th>\n",
       "      <th>subcategory</th>\n",
       "    </tr>\n",
       "  </thead>\n",
       "  <tbody>\n",
       "    <tr>\n",
       "      <th>0</th>\n",
       "      <td>0,7</td>\n",
       "      <td>0,7</td>\n",
       "      <td>9b1d806ddaed2a3b4c842c361e9171a8</td>\n",
       "      <td>ud</td>\n",
       "      <td>2022-06-08 00:00:00</td>\n",
       "      <td>https://www.dia.es/compra-online/cuidado-del-h...</td>\n",
       "      <td>dia-es</td>\n",
       "      <td>DIA SUPER PACO guantes satinados talla S bolsa...</td>\n",
       "      <td>NaN</td>\n",
       "      <td>cuidado-del-hogar</td>\n",
       "      <td>utensilios-de-limpieza</td>\n",
       "    </tr>\n",
       "    <tr>\n",
       "      <th>1</th>\n",
       "      <td>3,19</td>\n",
       "      <td>10,63</td>\n",
       "      <td>baf038a3f001812899adb8beaf4e0ec7</td>\n",
       "      <td>kg</td>\n",
       "      <td>2022-02-10 00:00:00</td>\n",
       "      <td>https://www.dia.es/compra-online/despensa/desa...</td>\n",
       "      <td>dia-es</td>\n",
       "      <td>KELLOGGS cereales special k con frutas rojas c...</td>\n",
       "      <td>NaN</td>\n",
       "      <td>despensa</td>\n",
       "      <td>desayunos-y-dulces</td>\n",
       "    </tr>\n",
       "    <tr>\n",
       "      <th>2</th>\n",
       "      <td>3,99</td>\n",
       "      <td>15,96</td>\n",
       "      <td>ca2fc753e5ea44e8c95888983c1dafe1</td>\n",
       "      <td>l</td>\n",
       "      <td>2022-04-11 00:00:00</td>\n",
       "      <td>https://www.dia.es/compra-online/cuidado-perso...</td>\n",
       "      <td>dia-es</td>\n",
       "      <td>DIA IMAQE leche solar infantil spf 50+ tubo 25...</td>\n",
       "      <td>NaN</td>\n",
       "      <td>cuidado-personal</td>\n",
       "      <td>cuidado-corporal</td>\n",
       "    </tr>\n",
       "  </tbody>\n",
       "</table>\n",
       "</div>"
      ],
      "text/plain": [
       "  price reference_price                        product_id reference_unit  \\\n",
       "0   0,7             0,7  9b1d806ddaed2a3b4c842c361e9171a8             ud   \n",
       "1  3,19           10,63  baf038a3f001812899adb8beaf4e0ec7             kg   \n",
       "2  3,99           15,96  ca2fc753e5ea44e8c95888983c1dafe1              l   \n",
       "\n",
       "           insert_date                                                url  \\\n",
       "0  2022-06-08 00:00:00  https://www.dia.es/compra-online/cuidado-del-h...   \n",
       "1  2022-02-10 00:00:00  https://www.dia.es/compra-online/despensa/desa...   \n",
       "2  2022-04-11 00:00:00  https://www.dia.es/compra-online/cuidado-perso...   \n",
       "\n",
       "  supermarket                                               name  description  \\\n",
       "0      dia-es  DIA SUPER PACO guantes satinados talla S bolsa...          NaN   \n",
       "1      dia-es  KELLOGGS cereales special k con frutas rojas c...          NaN   \n",
       "2      dia-es  DIA IMAQE leche solar infantil spf 50+ tubo 25...          NaN   \n",
       "\n",
       "            category             subcategory  \n",
       "0  cuidado-del-hogar  utensilios-de-limpieza  \n",
       "1           despensa      desayunos-y-dulces  \n",
       "2   cuidado-personal        cuidado-corporal  "
      ]
     },
     "execution_count": 17,
     "metadata": {},
     "output_type": "execute_result"
    }
   ],
   "source": [
    "df.head(3)"
   ]
  },
  {
   "cell_type": "markdown",
   "metadata": {},
   "source": [
    "# ¿Qué categoría es la que vende más productos?\n",
    "\n",
    "answer: Dispensa"
   ]
  },
  {
   "cell_type": "code",
   "execution_count": 18,
   "metadata": {},
   "outputs": [
    {
     "data": {
      "text/plain": [
       "category\n",
       "despensa                         434671\n",
       "cuidado-personal                 212614\n",
       "frescos                          123027\n",
       "al-dia                            96411\n",
       "bebidas                           94660\n",
       "cuidado-del-hogar                 79637\n",
       "congelados                        52580\n",
       "bodega                            51895\n",
       "bebe                              38162\n",
       "mascotas                          30874\n",
       "cuidado-del-hogar-de-limpieza     22575\n",
       "platos-preparados                 21112\n",
       "dulces-de-navidad                  2316\n",
       "eco                                1085\n",
       "peso                                933\n",
       "caducidad                           473\n",
       "bulto-mixto                         468\n",
       "clasificacion-de-categorias         429\n",
       "conservas                           289\n",
       "desayunos-y-dulces                  166\n",
       "cuidado-corporal                    135\n",
       "Name: count, dtype: int64"
      ]
     },
     "execution_count": 18,
     "metadata": {},
     "output_type": "execute_result"
    }
   ],
   "source": [
    "df['category'].value_counts()"
   ]
  },
  {
   "cell_type": "markdown",
   "metadata": {},
   "source": [
    "# Dentro de cada categoría, ¿qué subcategorías son más populares?"
   ]
  },
  {
   "cell_type": "code",
   "execution_count": 19,
   "metadata": {},
   "outputs": [
    {
     "name": "stdout",
     "output_type": "stream",
     "text": [
      "                          category              subcategory   count\n",
      "1                           al-dia     charcuteria-y-quesos   44140\n",
      "6                             bebe         cuidado-del-bebe   14258\n",
      "15                         bebidas                 cervezas   25497\n",
      "21                          bodega                     vino   25990\n",
      "23                     bulto-mixto                  bebidas     168\n",
      "26                       caducidad         cuidado-personal     242\n",
      "30     clasificacion-de-categorias                 despensa     176\n",
      "32                      congelados                  helados   17516\n",
      "39                       conservas     conservas-de-pescado     289\n",
      "40                cuidado-corporal          limpieza-facial     135\n",
      "45               cuidado-del-hogar       cuidado-de-la-ropa   20029\n",
      "52   cuidado-del-hogar-de-limpieza                    hogar   12962\n",
      "54                cuidado-personal  bano-e-higiene-personal   95551\n",
      "61              desayunos-y-dulces   preparacion-de-postres     166\n",
      "67                        despensa       desayunos-y-dulces  166791\n",
      "82               dulces-de-navidad                 turrones     976\n",
      "86                             eco                 despensa     565\n",
      "88                         frescos     charcuteria-y-quesos   49822\n",
      "94                        mascotas                   perros   15119\n",
      "97                            peso                 despensa     468\n",
      "108              platos-preparados      pizzas-refrigeradas    3937\n"
     ]
    }
   ],
   "source": [
    "# Group by 'category' and 'subcategory' and count the occurrences\n",
    "subcategory_counts = df.groupby(['category', 'subcategory']).size().reset_index(name='count')\n",
    "\n",
    "# Find the most popular subcategory for each category\n",
    "most_popular_subcategory = subcategory_counts.loc[subcategory_counts.groupby('category')['count'].idxmax()]\n",
    "\n",
    "# Show the result\n",
    "print(most_popular_subcategory)\n"
   ]
  },
  {
   "cell_type": "markdown",
   "metadata": {},
   "source": [
    "# ¿Qué categoría es la que tiene los precios más altos? ¿y los mínimos? ¿Cuál es su media?"
   ]
  },
  {
   "cell_type": "code",
   "execution_count": 32,
   "metadata": {},
   "outputs": [],
   "source": [
    "columnas = ['price', 'reference_price']\n",
    "\n",
    "for i in columnas:\n",
    "    df[i] = df[i].str.replace(',', '.')\n",
    "    df[i] = df[i].astype(float)\n",
    "\n"
   ]
  },
  {
   "cell_type": "code",
   "execution_count": 21,
   "metadata": {},
   "outputs": [
    {
     "data": {
      "text/plain": [
       "category\n",
       "frescos                          289.00\n",
       "al-dia                           135.00\n",
       "cuidado-del-hogar                 60.00\n",
       "cuidado-personal                  44.99\n",
       "bodega                            33.84\n",
       "mascotas                          28.99\n",
       "despensa                          26.99\n",
       "bebe                              25.74\n",
       "congelados                        22.89\n",
       "bebidas                           14.99\n",
       "platos-preparados                  9.49\n",
       "cuidado-del-hogar-de-limpieza      9.45\n",
       "dulces-de-navidad                  7.49\n",
       "eco                                7.49\n",
       "peso                               6.95\n",
       "conservas                          4.75\n",
       "caducidad                          3.29\n",
       "clasificacion-de-categorias        3.25\n",
       "bulto-mixto                        3.19\n",
       "desayunos-y-dulces                 2.49\n",
       "cuidado-corporal                   1.49\n",
       "Name: price, dtype: float64"
      ]
     },
     "execution_count": 21,
     "metadata": {},
     "output_type": "execute_result"
    }
   ],
   "source": [
    "max_price = df.groupby('category')['price'].max()\n",
    "\n",
    "max_price_desc = max_price.sort_values(ascending=False)\n",
    "\n",
    "max_price_desc"
   ]
  },
  {
   "cell_type": "code",
   "execution_count": 22,
   "metadata": {},
   "outputs": [
    {
     "data": {
      "text/plain": [
       "category\n",
       "conservas                        3.19\n",
       "desayunos-y-dulces               2.39\n",
       "eco                              1.65\n",
       "cuidado-corporal                 1.49\n",
       "bulto-mixto                      1.25\n",
       "caducidad                        0.95\n",
       "peso                             0.90\n",
       "bebe                             0.75\n",
       "clasificacion-de-categorias      0.68\n",
       "cuidado-del-hogar-de-limpieza    0.65\n",
       "cuidado-personal                 0.65\n",
       "bodega                           0.65\n",
       "congelados                       0.49\n",
       "platos-preparados                0.49\n",
       "mascotas                         0.37\n",
       "cuidado-del-hogar                0.25\n",
       "al-dia                           0.18\n",
       "frescos                          0.18\n",
       "despensa                         0.16\n",
       "bebidas                          0.15\n",
       "dulces-de-navidad                0.08\n",
       "Name: price, dtype: float64"
      ]
     },
     "execution_count": 22,
     "metadata": {},
     "output_type": "execute_result"
    }
   ],
   "source": [
    "min_price = df.groupby('category')['price'].min()\n",
    "\n",
    "min_price_desc = min_price.sort_values(ascending=False)\n",
    "\n",
    "min_price_desc"
   ]
  },
  {
   "cell_type": "code",
   "execution_count": 23,
   "metadata": {},
   "outputs": [
    {
     "data": {
      "text/plain": [
       "category\n",
       "bodega                           6.331031\n",
       "cuidado-personal                 4.810817\n",
       "frescos                          4.682070\n",
       "bebe                             4.662929\n",
       "mascotas                         4.486188\n",
       "conservas                        4.188235\n",
       "cuidado-del-hogar                4.000772\n",
       "al-dia                           3.704284\n",
       "eco                              3.472783\n",
       "congelados                       3.116007\n",
       "peso                             3.019068\n",
       "platos-preparados                2.547070\n",
       "dulces-de-navidad                2.536973\n",
       "cuidado-del-hogar-de-limpieza    2.522834\n",
       "desayunos-y-dulces               2.401446\n",
       "despensa                         2.151173\n",
       "clasificacion-de-categorias      2.118089\n",
       "bulto-mixto                      2.019679\n",
       "caducidad                        1.952918\n",
       "bebidas                          1.711525\n",
       "cuidado-corporal                 1.490000\n",
       "Name: price, dtype: float64"
      ]
     },
     "execution_count": 23,
     "metadata": {},
     "output_type": "execute_result"
    }
   ],
   "source": [
    "av_price = df.groupby('category')['price'].mean()\n",
    "\n",
    "av_price_desc = av_price.sort_values(ascending=False)\n",
    "\n",
    "av_price_desc"
   ]
  },
  {
   "cell_type": "markdown",
   "metadata": {},
   "source": [
    "# Análisis de precios y productos\n",
    "¿Existen productos con precios fuera de lo común (outliers)?\n",
    "\n",
    "¿Cuántos productos tienen un precio superior al precio de referencia?\n",
    "\n",
    "¿Qué categorías de productos tienen la mayor y menor variación de precios?\n",
    "\n",
    "¿Cómo varían los precios de los productos a lo largo del tiempo?"
   ]
  },
  {
   "cell_type": "code",
   "execution_count": 24,
   "metadata": {},
   "outputs": [
    {
     "data": {
      "text/plain": [
       "<Axes: xlabel='product_id', ylabel='price'>"
      ]
     },
     "execution_count": 24,
     "metadata": {},
     "output_type": "execute_result"
    },
    {
     "name": "stderr",
     "output_type": "stream",
     "text": [
      "C:\\Users\\Kathe\\AppData\\Roaming\\Python\\Python313\\site-packages\\IPython\\core\\pylabtools.py:170: UserWarning: Creating legend with loc=\"best\" can be slow with large amounts of data.\n",
      "  fig.canvas.print_figure(bytes_io, **kw)\n"
     ]
    },
    {
     "data": {
      "image/png": "[encoded data removed]",
      "text/plain": [
       "<Figure size 640x480 with 1 Axes>"
      ]
     },
     "metadata": {},
     "output_type": "display_data"
    }
   ],
   "source": [
    "sns.scatterplot(data=df, x='product_id', y='price', size = 3, color = 'purple')"
   ]
  },
  {
   "cell_type": "code",
   "execution_count": 25,
   "metadata": {},
   "outputs": [
    {
     "data": {
      "text/plain": [
       "<Axes: xlabel='price', ylabel='count'>"
      ]
     },
     "execution_count": 25,
     "metadata": {},
     "output_type": "execute_result"
    },
    {
     "data": {
      "image/png": "[encoded data removed]",
      "text/plain": [
       "<Figure size 640x480 with 1 Axes>"
      ]
     },
     "metadata": {},
     "output_type": "display_data"
    }
   ],
   "source": [
    "sns.countplot(data=df, x='price', color = 'purple')"
   ]
  },
  {
   "cell_type": "code",
   "execution_count": 26,
   "metadata": {},
   "outputs": [
    {
     "data": {
      "text/plain": [
       "<Axes: xlabel='price'>"
      ]
     },
     "execution_count": 26,
     "metadata": {},
     "output_type": "execute_result"
    },
    {
     "data": {
      "image/png": "[encoded data removed]",
      "text/plain": [
       "<Figure size 640x480 with 1 Axes>"
      ]
     },
     "metadata": {},
     "output_type": "display_data"
    }
   ],
   "source": [
    "sns.boxplot(data=df, x='price', color = 'purple')"
   ]
  },
  {
   "cell_type": "code",
   "execution_count": 27,
   "metadata": {},
   "outputs": [
    {
     "data": {
      "text/plain": [
       "(1264512, 11)"
      ]
     },
     "execution_count": 27,
     "metadata": {},
     "output_type": "execute_result"
    }
   ],
   "source": [
    "df.shape"
   ]
  },
  {
   "cell_type": "code",
   "execution_count": 33,
   "metadata": {},
   "outputs": [
    {
     "name": "stdout",
     "output_type": "stream",
     "text": [
      "194374\n"
     ]
    }
   ],
   "source": [
    "count_products = (df['price'] > df['reference_price']).sum()\n",
    "print(count_products)"
   ]
  },
  {
   "cell_type": "markdown",
   "metadata": {},
   "source": [
    "# Análisis de productos\n"
   ]
  },
  {
   "cell_type": "code",
   "execution_count": null,
   "metadata": {},
   "outputs": [
    {
     "data": {
      "text/plain": [
       "Index(['price', 'reference_price', 'product_id', 'reference_unit',\n",
       "       'insert_date', 'url', 'supermarket', 'name', 'description', 'category',\n",
       "       'subcategory'],\n",
       "      dtype='object')"
      ]
     },
     "execution_count": 46,
     "metadata": {},
     "output_type": "execute_result"
    }
   ],
   "source": [
    "df.columns"
   ]
  },
  {
   "cell_type": "code",
   "execution_count": 34,
   "metadata": {},
   "outputs": [
    {
     "name": "stdout",
     "output_type": "stream",
     "text": [
      "product_id\n",
      "cd3f6bc51b2d934c1e46b0136ed62779    1384\n",
      "5d2d1ed4575049c5cf5bea27ea6bad2c    1225\n",
      "17c01da71d8e7a36cf32fd6f34f29625    1068\n",
      "2f268ae7ec6b26d49f1f463c4dd49244    1020\n",
      "b9c8b94b603a4b69e4454717730eab8c     930\n",
      "Name: count, dtype: int64\n"
     ]
    }
   ],
   "source": [
    "##¿Qué productos tienen más registros de precios?\n",
    "\n",
    "# Count the number of price records for each product\n",
    "product_price_counts = df['product_id'].value_counts()\n",
    "\n",
    "# Show the top products with the most price records\n",
    "print(product_price_counts.head())  # This will display the most frequent products (highest price records)\n"
   ]
  },
  {
   "cell_type": "code",
   "execution_count": null,
   "metadata": {},
   "outputs": [
    {
     "name": "stdout",
     "output_type": "stream",
     "text": [
      "10740\n"
     ]
    }
   ],
   "source": [
    "#¿Cuántos productos distintos hay en el dataset?\n",
    "\n",
    "unique_products = df['name'].nunique()\n",
    "\n",
    "print(unique_products)"
   ]
  },
  {
   "cell_type": "code",
   "execution_count": null,
   "metadata": {},
   "outputs": [
    {
     "data": {
      "text/html": [
       "<div>\n",
       "<style scoped>\n",
       "    .dataframe tbody tr th:only-of-type {\n",
       "        vertical-align: middle;\n",
       "    }\n",
       "\n",
       "    .dataframe tbody tr th {\n",
       "        vertical-align: top;\n",
       "    }\n",
       "\n",
       "    .dataframe thead th {\n",
       "        text-align: right;\n",
       "    }\n",
       "</style>\n",
       "<table border=\"1\" class=\"dataframe\">\n",
       "  <thead>\n",
       "    <tr style=\"text-align: right;\">\n",
       "      <th></th>\n",
       "      <th>price</th>\n",
       "      <th>reference_price</th>\n",
       "      <th>product_id</th>\n",
       "      <th>reference_unit</th>\n",
       "      <th>insert_date</th>\n",
       "    </tr>\n",
       "  </thead>\n",
       "  <tbody>\n",
       "  </tbody>\n",
       "</table>\n",
       "</div>"
      ],
      "text/plain": [
       "Empty DataFrame\n",
       "Columns: [price, reference_price, product_id, reference_unit, insert_date]\n",
       "Index: []"
      ]
     },
     "execution_count": 52,
     "metadata": {},
     "output_type": "execute_result"
    }
   ],
   "source": [
    "# ¿Existen productos en el dataset de precios que no tienen información en el dataset de productos? NO, el df is empty, so they are all in both datasets\n",
    "\n",
    "df_precios_not_in_productos = df_precios[df_precios['product_id'].isin(df_productos['product_id']) == False]\n",
    "\n",
    "df_precios_not_in_productos\n"
   ]
  },
  {
   "cell_type": "code",
   "execution_count": null,
   "metadata": {},
   "outputs": [
    {
     "data": {
      "text/plain": [
       "Index(['price', 'reference_price', 'product_id', 'reference_unit',\n",
       "       'insert_date', 'url', 'supermarket', 'name', 'description', 'category',\n",
       "       'subcategory'],\n",
       "      dtype='object')"
      ]
     },
     "execution_count": 53,
     "metadata": {},
     "output_type": "execute_result"
    }
   ],
   "source": [
    "df.columns"
   ]
  },
  {
   "cell_type": "markdown",
   "metadata": {},
   "source": [
    "# ¿Cuál es el precio medio por unidad de referencia de cada producto?"
   ]
  },
  {
   "cell_type": "code",
   "execution_count": null,
   "metadata": {},
   "outputs": [
    {
     "data": {
      "text/plain": [
       "reference_unit\n",
       "lavado    6.620565\n",
       "ud        4.301429\n",
       "l         3.745480\n",
       "kg        2.936545\n",
       "m         2.168132\n",
       "Name: price, dtype: float64"
      ]
     },
     "execution_count": 55,
     "metadata": {},
     "output_type": "execute_result"
    }
   ],
   "source": [
    "av_price_unit_measure = df.groupby('reference_unit')['price'].mean()\n",
    "\n",
    "av_price_unit_measure_desc = av_price_unit_measure.sort_values(ascending=False)\n",
    "\n",
    "av_price_unit_measure_desc"
   ]
  }
 ],
 "metadata": {
  "kernelspec": {
   "display_name": "Python 3",
   "language": "python",
   "name": "python3"
  },
  "language_info": {
   "codemirror_mode": {
    "name": "ipython",
    "version": 3
   },
   "file_extension": ".py",
   "mimetype": "text/x-python",
   "name": "python",
   "nbconvert_exporter": "python",
   "pygments_lexer": "ipython3",
   "version": "3.13.0"
  }
 },
 "nbformat": 4,
 "nbformat_minor": 2
}

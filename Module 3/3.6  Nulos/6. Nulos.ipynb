{
 "cells": [
  {
   "cell_type": "code",
   "execution_count": null,
   "metadata": {},
   "outputs": [],
   "source": [
    "# antes de empezar la lección tendremos que instalarunas librerías. Para ello tendreis que descomentar (una a una) la linea de abajo y ejecutar la celda\n",
    "#!pip install scikit-learn\n",
    "#!pip install seaborn\n",
    "#!pip install matplotlib"
   ]
  },
  {
   "cell_type": "code",
   "execution_count": 1,
   "metadata": {},
   "outputs": [],
   "source": [
    "# importamos las librerías que necesitamos\n",
    "\n",
    "# Tratamiento de datos\n",
    "# -----------------------------------------------------------------------\n",
    "import pandas as pd\n",
    "import numpy as np\n",
    "\n",
    "# Imputación de nulos usando métodos avanzados estadísticos\n",
    "# -----------------------------------------------------------------------\n",
    "from sklearn.impute import SimpleImputer\n",
    "from sklearn.experimental import enable_iterative_imputer\n",
    "from sklearn.impute import IterativeImputer\n",
    "from sklearn.impute import KNNImputer\n",
    "\n",
    "# Librerías de visualización\n",
    "# -----------------------------------------------------------------------\n",
    "import seaborn as sns\n",
    "import matplotlib.pyplot as plt\n",
    "# Configuración\n",
    "# -----------------------------------------------------------------------\n",
    "pd.set_option('display.max_columns', None) # para poder visualizar todas las columnas de los DataFrames"
   ]
  },
  {
   "cell_type": "code",
   "execution_count": 2,
   "metadata": {},
   "outputs": [
    {
     "ename": "FileNotFoundError",
     "evalue": "[Errno 2] No such file or directory: 'bank-additional.csv'",
     "output_type": "error",
     "traceback": [
      "\u001b[1;31m---------------------------------------------------------------------------\u001b[0m",
      "\u001b[1;31mFileNotFoundError\u001b[0m                         Traceback (most recent call last)",
      "Cell \u001b[1;32mIn[2], line 2\u001b[0m\n\u001b[0;32m      1\u001b[0m \u001b[38;5;66;03m# cargamos el dataframe creado en la lección anterior\u001b[39;00m\n\u001b[1;32m----> 2\u001b[0m df \u001b[38;5;241m=\u001b[39m \u001b[43mpd\u001b[49m\u001b[38;5;241;43m.\u001b[39;49m\u001b[43mread_csv\u001b[49m\u001b[43m(\u001b[49m\u001b[38;5;124;43m\"\u001b[39;49m\u001b[38;5;124;43mbank-additional.csv\u001b[39;49m\u001b[38;5;124;43m\"\u001b[39;49m\u001b[43m,\u001b[49m\u001b[43m \u001b[49m\u001b[43mindex_col\u001b[49m\u001b[43m \u001b[49m\u001b[38;5;241;43m=\u001b[39;49m\u001b[43m \u001b[49m\u001b[38;5;241;43m0\u001b[39;49m\u001b[43m)\u001b[49m\n\u001b[0;32m      3\u001b[0m df\u001b[38;5;241m.\u001b[39mhead(\u001b[38;5;241m1\u001b[39m)\n",
      "File \u001b[1;32mc:\\Users\\Kathe\\AppData\\Local\\Programs\\Python\\Python313\\Lib\\site-packages\\pandas\\io\\parsers\\readers.py:1026\u001b[0m, in \u001b[0;36mread_csv\u001b[1;34m(filepath_or_buffer, sep, delimiter, header, names, index_col, usecols, dtype, engine, converters, true_values, false_values, skipinitialspace, skiprows, skipfooter, nrows, na_values, keep_default_na, na_filter, verbose, skip_blank_lines, parse_dates, infer_datetime_format, keep_date_col, date_parser, date_format, dayfirst, cache_dates, iterator, chunksize, compression, thousands, decimal, lineterminator, quotechar, quoting, doublequote, escapechar, comment, encoding, encoding_errors, dialect, on_bad_lines, delim_whitespace, low_memory, memory_map, float_precision, storage_options, dtype_backend)\u001b[0m\n\u001b[0;32m   1013\u001b[0m kwds_defaults \u001b[38;5;241m=\u001b[39m _refine_defaults_read(\n\u001b[0;32m   1014\u001b[0m     dialect,\n\u001b[0;32m   1015\u001b[0m     delimiter,\n\u001b[1;32m   (...)\u001b[0m\n\u001b[0;32m   1022\u001b[0m     dtype_backend\u001b[38;5;241m=\u001b[39mdtype_backend,\n\u001b[0;32m   1023\u001b[0m )\n\u001b[0;32m   1024\u001b[0m kwds\u001b[38;5;241m.\u001b[39mupdate(kwds_defaults)\n\u001b[1;32m-> 1026\u001b[0m \u001b[38;5;28;01mreturn\u001b[39;00m \u001b[43m_read\u001b[49m\u001b[43m(\u001b[49m\u001b[43mfilepath_or_buffer\u001b[49m\u001b[43m,\u001b[49m\u001b[43m \u001b[49m\u001b[43mkwds\u001b[49m\u001b[43m)\u001b[49m\n",
      "File \u001b[1;32mc:\\Users\\Kathe\\AppData\\Local\\Programs\\Python\\Python313\\Lib\\site-packages\\pandas\\io\\parsers\\readers.py:620\u001b[0m, in \u001b[0;36m_read\u001b[1;34m(filepath_or_buffer, kwds)\u001b[0m\n\u001b[0;32m    617\u001b[0m _validate_names(kwds\u001b[38;5;241m.\u001b[39mget(\u001b[38;5;124m\"\u001b[39m\u001b[38;5;124mnames\u001b[39m\u001b[38;5;124m\"\u001b[39m, \u001b[38;5;28;01mNone\u001b[39;00m))\n\u001b[0;32m    619\u001b[0m \u001b[38;5;66;03m# Create the parser.\u001b[39;00m\n\u001b[1;32m--> 620\u001b[0m parser \u001b[38;5;241m=\u001b[39m \u001b[43mTextFileReader\u001b[49m\u001b[43m(\u001b[49m\u001b[43mfilepath_or_buffer\u001b[49m\u001b[43m,\u001b[49m\u001b[43m \u001b[49m\u001b[38;5;241;43m*\u001b[39;49m\u001b[38;5;241;43m*\u001b[39;49m\u001b[43mkwds\u001b[49m\u001b[43m)\u001b[49m\n\u001b[0;32m    622\u001b[0m \u001b[38;5;28;01mif\u001b[39;00m chunksize \u001b[38;5;129;01mor\u001b[39;00m iterator:\n\u001b[0;32m    623\u001b[0m     \u001b[38;5;28;01mreturn\u001b[39;00m parser\n",
      "File \u001b[1;32mc:\\Users\\Kathe\\AppData\\Local\\Programs\\Python\\Python313\\Lib\\site-packages\\pandas\\io\\parsers\\readers.py:1620\u001b[0m, in \u001b[0;36mTextFileReader.__init__\u001b[1;34m(self, f, engine, **kwds)\u001b[0m\n\u001b[0;32m   1617\u001b[0m     \u001b[38;5;28mself\u001b[39m\u001b[38;5;241m.\u001b[39moptions[\u001b[38;5;124m\"\u001b[39m\u001b[38;5;124mhas_index_names\u001b[39m\u001b[38;5;124m\"\u001b[39m] \u001b[38;5;241m=\u001b[39m kwds[\u001b[38;5;124m\"\u001b[39m\u001b[38;5;124mhas_index_names\u001b[39m\u001b[38;5;124m\"\u001b[39m]\n\u001b[0;32m   1619\u001b[0m \u001b[38;5;28mself\u001b[39m\u001b[38;5;241m.\u001b[39mhandles: IOHandles \u001b[38;5;241m|\u001b[39m \u001b[38;5;28;01mNone\u001b[39;00m \u001b[38;5;241m=\u001b[39m \u001b[38;5;28;01mNone\u001b[39;00m\n\u001b[1;32m-> 1620\u001b[0m \u001b[38;5;28mself\u001b[39m\u001b[38;5;241m.\u001b[39m_engine \u001b[38;5;241m=\u001b[39m \u001b[38;5;28;43mself\u001b[39;49m\u001b[38;5;241;43m.\u001b[39;49m\u001b[43m_make_engine\u001b[49m\u001b[43m(\u001b[49m\u001b[43mf\u001b[49m\u001b[43m,\u001b[49m\u001b[43m \u001b[49m\u001b[38;5;28;43mself\u001b[39;49m\u001b[38;5;241;43m.\u001b[39;49m\u001b[43mengine\u001b[49m\u001b[43m)\u001b[49m\n",
      "File \u001b[1;32mc:\\Users\\Kathe\\AppData\\Local\\Programs\\Python\\Python313\\Lib\\site-packages\\pandas\\io\\parsers\\readers.py:1880\u001b[0m, in \u001b[0;36mTextFileReader._make_engine\u001b[1;34m(self, f, engine)\u001b[0m\n\u001b[0;32m   1878\u001b[0m     \u001b[38;5;28;01mif\u001b[39;00m \u001b[38;5;124m\"\u001b[39m\u001b[38;5;124mb\u001b[39m\u001b[38;5;124m\"\u001b[39m \u001b[38;5;129;01mnot\u001b[39;00m \u001b[38;5;129;01min\u001b[39;00m mode:\n\u001b[0;32m   1879\u001b[0m         mode \u001b[38;5;241m+\u001b[39m\u001b[38;5;241m=\u001b[39m \u001b[38;5;124m\"\u001b[39m\u001b[38;5;124mb\u001b[39m\u001b[38;5;124m\"\u001b[39m\n\u001b[1;32m-> 1880\u001b[0m \u001b[38;5;28mself\u001b[39m\u001b[38;5;241m.\u001b[39mhandles \u001b[38;5;241m=\u001b[39m \u001b[43mget_handle\u001b[49m\u001b[43m(\u001b[49m\n\u001b[0;32m   1881\u001b[0m \u001b[43m    \u001b[49m\u001b[43mf\u001b[49m\u001b[43m,\u001b[49m\n\u001b[0;32m   1882\u001b[0m \u001b[43m    \u001b[49m\u001b[43mmode\u001b[49m\u001b[43m,\u001b[49m\n\u001b[0;32m   1883\u001b[0m \u001b[43m    \u001b[49m\u001b[43mencoding\u001b[49m\u001b[38;5;241;43m=\u001b[39;49m\u001b[38;5;28;43mself\u001b[39;49m\u001b[38;5;241;43m.\u001b[39;49m\u001b[43moptions\u001b[49m\u001b[38;5;241;43m.\u001b[39;49m\u001b[43mget\u001b[49m\u001b[43m(\u001b[49m\u001b[38;5;124;43m\"\u001b[39;49m\u001b[38;5;124;43mencoding\u001b[39;49m\u001b[38;5;124;43m\"\u001b[39;49m\u001b[43m,\u001b[49m\u001b[43m \u001b[49m\u001b[38;5;28;43;01mNone\u001b[39;49;00m\u001b[43m)\u001b[49m\u001b[43m,\u001b[49m\n\u001b[0;32m   1884\u001b[0m \u001b[43m    \u001b[49m\u001b[43mcompression\u001b[49m\u001b[38;5;241;43m=\u001b[39;49m\u001b[38;5;28;43mself\u001b[39;49m\u001b[38;5;241;43m.\u001b[39;49m\u001b[43moptions\u001b[49m\u001b[38;5;241;43m.\u001b[39;49m\u001b[43mget\u001b[49m\u001b[43m(\u001b[49m\u001b[38;5;124;43m\"\u001b[39;49m\u001b[38;5;124;43mcompression\u001b[39;49m\u001b[38;5;124;43m\"\u001b[39;49m\u001b[43m,\u001b[49m\u001b[43m \u001b[49m\u001b[38;5;28;43;01mNone\u001b[39;49;00m\u001b[43m)\u001b[49m\u001b[43m,\u001b[49m\n\u001b[0;32m   1885\u001b[0m \u001b[43m    \u001b[49m\u001b[43mmemory_map\u001b[49m\u001b[38;5;241;43m=\u001b[39;49m\u001b[38;5;28;43mself\u001b[39;49m\u001b[38;5;241;43m.\u001b[39;49m\u001b[43moptions\u001b[49m\u001b[38;5;241;43m.\u001b[39;49m\u001b[43mget\u001b[49m\u001b[43m(\u001b[49m\u001b[38;5;124;43m\"\u001b[39;49m\u001b[38;5;124;43mmemory_map\u001b[39;49m\u001b[38;5;124;43m\"\u001b[39;49m\u001b[43m,\u001b[49m\u001b[43m \u001b[49m\u001b[38;5;28;43;01mFalse\u001b[39;49;00m\u001b[43m)\u001b[49m\u001b[43m,\u001b[49m\n\u001b[0;32m   1886\u001b[0m \u001b[43m    \u001b[49m\u001b[43mis_text\u001b[49m\u001b[38;5;241;43m=\u001b[39;49m\u001b[43mis_text\u001b[49m\u001b[43m,\u001b[49m\n\u001b[0;32m   1887\u001b[0m \u001b[43m    \u001b[49m\u001b[43merrors\u001b[49m\u001b[38;5;241;43m=\u001b[39;49m\u001b[38;5;28;43mself\u001b[39;49m\u001b[38;5;241;43m.\u001b[39;49m\u001b[43moptions\u001b[49m\u001b[38;5;241;43m.\u001b[39;49m\u001b[43mget\u001b[49m\u001b[43m(\u001b[49m\u001b[38;5;124;43m\"\u001b[39;49m\u001b[38;5;124;43mencoding_errors\u001b[39;49m\u001b[38;5;124;43m\"\u001b[39;49m\u001b[43m,\u001b[49m\u001b[43m \u001b[49m\u001b[38;5;124;43m\"\u001b[39;49m\u001b[38;5;124;43mstrict\u001b[39;49m\u001b[38;5;124;43m\"\u001b[39;49m\u001b[43m)\u001b[49m\u001b[43m,\u001b[49m\n\u001b[0;32m   1888\u001b[0m \u001b[43m    \u001b[49m\u001b[43mstorage_options\u001b[49m\u001b[38;5;241;43m=\u001b[39;49m\u001b[38;5;28;43mself\u001b[39;49m\u001b[38;5;241;43m.\u001b[39;49m\u001b[43moptions\u001b[49m\u001b[38;5;241;43m.\u001b[39;49m\u001b[43mget\u001b[49m\u001b[43m(\u001b[49m\u001b[38;5;124;43m\"\u001b[39;49m\u001b[38;5;124;43mstorage_options\u001b[39;49m\u001b[38;5;124;43m\"\u001b[39;49m\u001b[43m,\u001b[49m\u001b[43m \u001b[49m\u001b[38;5;28;43;01mNone\u001b[39;49;00m\u001b[43m)\u001b[49m\u001b[43m,\u001b[49m\n\u001b[0;32m   1889\u001b[0m \u001b[43m\u001b[49m\u001b[43m)\u001b[49m\n\u001b[0;32m   1890\u001b[0m \u001b[38;5;28;01massert\u001b[39;00m \u001b[38;5;28mself\u001b[39m\u001b[38;5;241m.\u001b[39mhandles \u001b[38;5;129;01mis\u001b[39;00m \u001b[38;5;129;01mnot\u001b[39;00m \u001b[38;5;28;01mNone\u001b[39;00m\n\u001b[0;32m   1891\u001b[0m f \u001b[38;5;241m=\u001b[39m \u001b[38;5;28mself\u001b[39m\u001b[38;5;241m.\u001b[39mhandles\u001b[38;5;241m.\u001b[39mhandle\n",
      "File \u001b[1;32mc:\\Users\\Kathe\\AppData\\Local\\Programs\\Python\\Python313\\Lib\\site-packages\\pandas\\io\\common.py:873\u001b[0m, in \u001b[0;36mget_handle\u001b[1;34m(path_or_buf, mode, encoding, compression, memory_map, is_text, errors, storage_options)\u001b[0m\n\u001b[0;32m    868\u001b[0m \u001b[38;5;28;01melif\u001b[39;00m \u001b[38;5;28misinstance\u001b[39m(handle, \u001b[38;5;28mstr\u001b[39m):\n\u001b[0;32m    869\u001b[0m     \u001b[38;5;66;03m# Check whether the filename is to be opened in binary mode.\u001b[39;00m\n\u001b[0;32m    870\u001b[0m     \u001b[38;5;66;03m# Binary mode does not support 'encoding' and 'newline'.\u001b[39;00m\n\u001b[0;32m    871\u001b[0m     \u001b[38;5;28;01mif\u001b[39;00m ioargs\u001b[38;5;241m.\u001b[39mencoding \u001b[38;5;129;01mand\u001b[39;00m \u001b[38;5;124m\"\u001b[39m\u001b[38;5;124mb\u001b[39m\u001b[38;5;124m\"\u001b[39m \u001b[38;5;129;01mnot\u001b[39;00m \u001b[38;5;129;01min\u001b[39;00m ioargs\u001b[38;5;241m.\u001b[39mmode:\n\u001b[0;32m    872\u001b[0m         \u001b[38;5;66;03m# Encoding\u001b[39;00m\n\u001b[1;32m--> 873\u001b[0m         handle \u001b[38;5;241m=\u001b[39m \u001b[38;5;28;43mopen\u001b[39;49m\u001b[43m(\u001b[49m\n\u001b[0;32m    874\u001b[0m \u001b[43m            \u001b[49m\u001b[43mhandle\u001b[49m\u001b[43m,\u001b[49m\n\u001b[0;32m    875\u001b[0m \u001b[43m            \u001b[49m\u001b[43mioargs\u001b[49m\u001b[38;5;241;43m.\u001b[39;49m\u001b[43mmode\u001b[49m\u001b[43m,\u001b[49m\n\u001b[0;32m    876\u001b[0m \u001b[43m            \u001b[49m\u001b[43mencoding\u001b[49m\u001b[38;5;241;43m=\u001b[39;49m\u001b[43mioargs\u001b[49m\u001b[38;5;241;43m.\u001b[39;49m\u001b[43mencoding\u001b[49m\u001b[43m,\u001b[49m\n\u001b[0;32m    877\u001b[0m \u001b[43m            \u001b[49m\u001b[43merrors\u001b[49m\u001b[38;5;241;43m=\u001b[39;49m\u001b[43merrors\u001b[49m\u001b[43m,\u001b[49m\n\u001b[0;32m    878\u001b[0m \u001b[43m            \u001b[49m\u001b[43mnewline\u001b[49m\u001b[38;5;241;43m=\u001b[39;49m\u001b[38;5;124;43m\"\u001b[39;49m\u001b[38;5;124;43m\"\u001b[39;49m\u001b[43m,\u001b[49m\n\u001b[0;32m    879\u001b[0m \u001b[43m        \u001b[49m\u001b[43m)\u001b[49m\n\u001b[0;32m    880\u001b[0m     \u001b[38;5;28;01melse\u001b[39;00m:\n\u001b[0;32m    881\u001b[0m         \u001b[38;5;66;03m# Binary mode\u001b[39;00m\n\u001b[0;32m    882\u001b[0m         handle \u001b[38;5;241m=\u001b[39m \u001b[38;5;28mopen\u001b[39m(handle, ioargs\u001b[38;5;241m.\u001b[39mmode)\n",
      "\u001b[1;31mFileNotFoundError\u001b[0m: [Errno 2] No such file or directory: 'bank-additional.csv'"
     ]
    }
   ],
   "source": [
    "# cargamos el dataframe creado en la lección anterior\n",
    "df = pd.read_csv(\"bank-additional.csv\", index_col = 0)\n",
    "df.head(1)"
   ]
  },
  {
   "cell_type": "markdown",
   "metadata": {},
   "source": [
    "## Tipos de nulos\n",
    "\n",
    "- NaN (Not a Number): Puede aparecer en columnas numéricas y en algunas columnas de tipo objeto. Pandas utiliza la constante np.nan (importando numpy como np) para representar estos valores.\n",
    "\n",
    "- None: Lo podremos encontrar en columnas de tipo objeto.\n",
    "\n",
    "- Valores especiales de datos: En algunos conjuntos de datos, los valores nulos pueden tener representaciones específicas. Por ejemplo, en un conjunto de datos de encuestas, el valor \"NA\" o \"N/A\" podría utilizarse para denotar valores faltantes.\n",
    "\n",
    "- Valores vacíos o en blanco: En columnas de texto, es posible que los valores nulos simplemente sean cadenas vacías o espacios en blanco.\n",
    "\n",
    "- Valores especiales: En algunos casos, se pueden usar valores especiales que actúan como \"marcadores\" de nulos. Por ejemplo, usar un valor como -1 o 999 para indicar un valor faltante.\n",
    "\n",
    "- NaT (Not a Timestamp): Se utilizan para denotar fechas y horas faltantes o desconocidas.\n",
    "\n"
   ]
  },
  {
   "cell_type": "markdown",
   "metadata": {},
   "source": [
    "## Causas por las que existen nulos\n",
    "\n",
    "- Errores en la recopilación de datos: Los valores faltantes pueden deberse a errores en la recopilación de datos, como errores de transcripción o problemas técnicos con los instrumentos de medición.\n",
    "\n",
    "- Falta de respuesta: Los valores faltantes también pueden deberse a la falta de respuesta de los participantes en una encuesta o estudio. Esto puede deberse a la falta de disposición a responder ciertas preguntas o a la falta de tiempo o interés.\n",
    "\n",
    "- Datos incompletos: Los valores faltantes también pueden deberse a datos incompletos, como cuando solo se recopilan datos para ciertas variables o cuando solo se recopilan datos para ciertos grupos o regiones.\n",
    "\n",
    "- Fallos en la transmisión de datos: Los valores faltantes también pueden deberse a fallos en la transmisión de datos, como cuando se pierden datos durante la transferencia de datos de un sistema a otro.\n",
    "\n",
    "## Por qué nos pueden molestar los nulos\n",
    "\n",
    "- Error en el análisis\n",
    "- Pierde la precisión e integridad de los datos\n",
    "- Pérdida de información\n",
    "- Ej: calcular media\n",
    "\n",
    "## ¿Qué hacemos con esos nulos?\n",
    "\n",
    "- Metodos de Pandas de limpieza y eliminaciñon: fillna(), dropna()\n",
    "- Imputación de nulos con la librería scikit-learn\n",
    "\n",
    "\n",
    "## Estrategias para la imputación de nulos\n",
    "\n",
    "Podemos pensar que con la imputación nos estamos \"inventando datos\". Pero cuidado! Porque imputar valores es diferente de inventar datos: al inventar no usamos ningún criterio, y el valor asignado será totalmente arbitrario. Pero en la imputación lo que hacemos es mirar el comportamiento de los datos vecinos para poder estimar el valor del dato faltante.\n",
    "\n",
    "No es lo mismo imputar variables categóricas que numéricas:\n",
    "\n",
    "\n",
    "- **Para variables categóricas**\n",
    "\n",
    "    - Imputación basada en la moda: Podemos reemplazar los valores nulos con la moda (valor más frecuente) de la variable. Esto se puede hacer utilizando el método `fillna()` de Pandas.\n",
    "\n",
    "    - Imputación como una categoría especial: En algunos casos, podríamos querer mantener los valores nulos como una categoría especial. Es decir, sustituir por ejemplo por \"Unknown\" \n",
    " \n",
    "\n",
    "- **Para variables numéricas**\n",
    "\n",
    "    - Imputación basada en estadísticos: Podemos utilizar la media, la mediana o la moda de la variable para reemplazar los valores nulos. Esto se puede hacer utilizando la clase `SimpleImputer` de Scikit-learn o el `fillna` de Pandas .\n",
    "\n",
    "    - Imputación basada en modelos: Podemos utilizar modelos de aprendizaje automático para predecir los valores nulos basándote en las otras variables. Esto se puede hacer utilizando la clase `IterativeImputer` o el `KNNImputer`. Ya lo veremos después."
   ]
  },
  {
   "cell_type": "markdown",
   "metadata": {},
   "source": [
    "## Hoja de Ruta\n",
    "\n",
    "1. Identificamos columnas del df con nulos.\n",
    "2. Diferenciación entre variables categóricas y numéricas.\n",
    "3. Aplicación de estrategias dependiendo de distintos factores:\n",
    "   - Importancia de las variables dentro del análisis:\n",
    "     - SI importante: se queda\n",
    "     - NO importante: se elimina \n",
    "   - Tipo de variables:\n",
    "     - Categóricas:\n",
    "       - % ALTO nulos:\n",
    "         - se imputan con la moda\n",
    "         - se imputan con técnicas más avanzadas\n",
    "       - % BAJO nulos:\n",
    "         - distribución de categoría dominante -> imputación con la moda\n",
    "         - distribución no dominante -> otra estrategia\n",
    "     - Numéricas:\n",
    "       - % ALTO nulos:\n",
    "         - se imputan con técnicas más avanzadas\n",
    "       - % BAJO nulos:\n",
    "         - distribución simétrica: imputación con la media\n",
    "         - distribución asimétrica: imputación con la mediana\n",
    "\n",
    "\n"
   ]
  },
  {
   "cell_type": "markdown",
   "metadata": {},
   "source": [
    "### 1. Identificación de nulos"
   ]
  },
  {
   "cell_type": "code",
   "execution_count": 3,
   "metadata": {},
   "outputs": [
    {
     "ename": "NameError",
     "evalue": "name 'df' is not defined",
     "output_type": "error",
     "traceback": [
      "\u001b[1;31m---------------------------------------------------------------------------\u001b[0m",
      "\u001b[1;31mNameError\u001b[0m                                 Traceback (most recent call last)",
      "Cell \u001b[1;32mIn[3], line 1\u001b[0m\n\u001b[1;32m----> 1\u001b[0m nulos \u001b[38;5;241m=\u001b[39m \u001b[43mdf\u001b[49m\u001b[38;5;241m.\u001b[39misnull()\u001b[38;5;241m.\u001b[39msum()\n\u001b[0;32m      2\u001b[0m nulos\n",
      "\u001b[1;31mNameError\u001b[0m: name 'df' is not defined"
     ]
    }
   ],
   "source": [
    "nulos = df.isnull().sum()\n",
    "nulos"
   ]
  },
  {
   "cell_type": "code",
   "execution_count": null,
   "metadata": {},
   "outputs": [],
   "source": [
    "df.shape[0]"
   ]
  },
  {
   "cell_type": "code",
   "execution_count": null,
   "metadata": {},
   "outputs": [],
   "source": [
    "# % nulos\n",
    "nulos = df.isnull().sum()/df.shape[0]*100\n",
    "# % nulos ordenados de mayor a menor\n",
    "nulos.sort_values(ascending=False)"
   ]
  },
  {
   "cell_type": "markdown",
   "metadata": {},
   "source": [
    "#### Aquí vamos a asumir que todas las variables son relevantes, pero en este punto es donde se podrían eleminar las que no son necesarias para nuestro análisis."
   ]
  },
  {
   "cell_type": "markdown",
   "metadata": {},
   "source": [
    "#### El siguiente paso es determinar las variables con un 'alto' % de nulos. Lo que se considera alto o no, depende del contexto"
   ]
  },
  {
   "cell_type": "markdown",
   "metadata": {},
   "source": [
    "### Separación variables entre categóricas y numéricas. **Ojo, aquí los tipos tienen que estar bien.\n"
   ]
  },
  {
   "cell_type": "code",
   "execution_count": null,
   "metadata": {},
   "outputs": [],
   "source": [
    "# Separamos las variables con nulos en variables categóricas y numéricas. Pero antes, deberemos haber comprobado que su tipo de dato es correcto.\n",
    "df.dtypes"
   ]
  },
  {
   "cell_type": "markdown",
   "metadata": {},
   "source": [
    "### Como no guardamos la limpieza en clases anteriores, hay variables que no tienen su tipo de dato de forma correcta y hay que cambiarlo:\n",
    "   - cons.price.idx, cons.conf.idx, euribor3m -> pasar a numérico\n",
    "   - podemos usar map para transformar los valores de loan\n"
   ]
  },
  {
   "cell_type": "code",
   "execution_count": 10,
   "metadata": {},
   "outputs": [],
   "source": [
    "# Cambio a numérico variables \n",
    "\n",
    "def cambiar_comas(cadena):\n",
    "    try:\n",
    "    # Reemplazar las comas por puntos en la cadena\n",
    "        return float(cadena.replace(\",\", \".\"))\n",
    "    \n",
    "    except:\n",
    "        # Si ocurre algún error (por ejemplo, si el argumento no es una cadena),\n",
    "        # devolver np.nan (valor Not a Number) para indicar un valor inválido o no disponible.\n",
    "        return np.nan\n",
    "\n",
    "df['cons.price.idx'] = df['cons.price.idx'].apply(cambiar_comas)\n",
    "df['cons.conf.idx'] = df['cons.conf.idx'].apply(cambiar_comas)\n",
    "df['euribor3m'] = df['euribor3m'].apply(cambiar_comas)"
   ]
  },
  {
   "cell_type": "code",
   "execution_count": 11,
   "metadata": {},
   "outputs": [],
   "source": [
    "# Transformo variable loan\n",
    "\n",
    "diccionario_mapa = {0: \"No\", 1: \"Si\"} \n",
    "df[\"loan\"] = df[\"loan\"].map(diccionario_mapa)\n",
    "df[\"housing\"] = df[\"housing\"].map(diccionario_mapa)\n",
    "df[\"default\"] = df[\"default\"].map(diccionario_mapa)"
   ]
  },
  {
   "cell_type": "code",
   "execution_count": 70,
   "metadata": {},
   "outputs": [],
   "source": [
    "df['age'] = df['age'].astype(int)"
   ]
  },
  {
   "cell_type": "code",
   "execution_count": null,
   "metadata": {},
   "outputs": [],
   "source": [
    "df.dtypes"
   ]
  },
  {
   "cell_type": "code",
   "execution_count": null,
   "metadata": {},
   "outputs": [],
   "source": [
    "# GESTIÓN DE NULOS DE VARIABLES CATEGÓRICAS\n",
    "# Queremos un dataframe con las variables objeto (categóricas) y que a su vez tengan nulos"
   ]
  },
  {
   "cell_type": "code",
   "execution_count": null,
   "metadata": {},
   "outputs": [],
   "source": [
    "nulos"
   ]
  },
  {
   "cell_type": "code",
   "execution_count": 14,
   "metadata": {},
   "outputs": [],
   "source": [
    "# Quiero ver las columnas de tipo object que tienen nulos\n",
    "columnas_object_con_nulos = df[df.columns[df.isnull().any()]].select_dtypes(include = \"O\").columns"
   ]
  },
  {
   "cell_type": "code",
   "execution_count": null,
   "metadata": {},
   "outputs": [],
   "source": [
    "df.isnull().any()"
   ]
  },
  {
   "cell_type": "code",
   "execution_count": null,
   "metadata": {},
   "outputs": [],
   "source": [
    "print(columnas_object_con_nulos)"
   ]
  },
  {
   "cell_type": "code",
   "execution_count": null,
   "metadata": {},
   "outputs": [],
   "source": [
    "# Veamos, por columna, el porcentaje en el que aparece cada valor\n",
    "for col in columnas_object_con_nulos:\n",
    "    print(f\"La distribución de las categorías (incluyendo nulos) para la columna\", col)\n",
    "    display(df[col].value_counts(dropna=False, normalize=True) * 100)  # Convertimos a porcentaje\n",
    "    print(\"........................\")\n",
    "\n",
    "    #normalize sirve para que me de el porcentaje por columna, pero está en formato decimal, así que multiplicamos por 100"
   ]
  },
  {
   "cell_type": "markdown",
   "metadata": {},
   "source": [
    "#### Recordamos nuestra hoja de ruta para variables categóricas\n",
    "\n",
    "- % ALTO nulos:\n",
    "    - se imputan con la moda (si distribución muy dominante)\n",
    "    - se imputan con técnicas más avanzadas\n",
    "- % BAJO nulos:\n",
    "    - distribución de categoría dominante -> imputación con la moda\n",
    "    - distribución no dominante -> nueva categoría"
   ]
  },
  {
   "cell_type": "markdown",
   "metadata": {},
   "source": [
    "Decidamos ahora que hacer con cada una de las columnas: \n",
    "\n",
    "1. **job**: % BAJO nulos. Distribución no dominante, hay dos categorías que dominan, `admin` y `blue-collar` con un (25% y 22%) --> Nueva categoría, 'Unknown'\n",
    "\n",
    "2. **marital** : % BAJO nulos. Distribución dominante: 60% 'married'. --> Reemplazar por moda\n",
    "\n",
    "3. **education** y **housing**: % BAJO nulos. Distribución no dominante. --> Nueva categoría, 'Unknown'\n",
    "\n",
    "4. **default**: % ALTo de nulos. Ctegoría dominante \"No\". NO importante para análisis --> ELIMINAR\n",
    "\n",
    "5. **loan**:  % BAJO de nulos. Distribución dominante 'No'. --> Reemplazar por moda\n",
    "\n",
    "6. **date**: En esta columna, tampoco observamos que haya una clase mayoritaría por lo que optaremos por reemplazar también por \"Unknown\". \n",
    "\n",
    "Resumiendo:\n",
    "- Columnas que reemplazaremos por la moda:\n",
    "\n",
    "    - marital\n",
    "\n",
    "    - loan \n",
    "\n",
    "- Eliminar:\n",
    "    - default \n",
    "    \n",
    "- Columnas que reemplzaremos por ina categoría nueva (\"Uknown\"):\n",
    "\n",
    "    - job\n",
    "\n",
    "    - education\n",
    "\n",
    "    - housing\n",
    "\n",
    "    - contact_month\n",
    "    \n",
    "    - date\n",
    "\n",
    "\n",
    "\n",
    "Recuerda que cada conjunto de datos es único, por lo que es importante tomar decisiones basadas en una comprensión profunda del dominio y del impacto potencial en tus análisis. Siempre es una buena idea evaluar el efecto de la imputación en la distribución y calidad de tus datos antes de continuar con el análisis.\n"
   ]
  },
  {
   "cell_type": "code",
   "execution_count": 23,
   "metadata": {},
   "outputs": [],
   "source": [
    "# Eliminar columna\n",
    "df.drop('default', axis = 1, inplace = True)"
   ]
  },
  {
   "cell_type": "code",
   "execution_count": null,
   "metadata": {},
   "outputs": [],
   "source": [
    "columnas_moda = [\"marital\", \"loan\"]\n",
    "columnas_desconocido = [\"job\", \"education\", \"housing\", \"date\"]"
   ]
  },
  {
   "cell_type": "code",
   "execution_count": null,
   "metadata": {},
   "outputs": [],
   "source": [
    "#Vamos a imputar por la moda"
   ]
  },
  {
   "cell_type": "code",
   "execution_count": 26,
   "metadata": {},
   "outputs": [],
   "source": [
    "df['marital'] = df['marital'].fillna(df['marital'].mode()[0]) #ponmos el [0] por si acaso hay más de una moda y nos quedamos con la primera"
   ]
  },
  {
   "cell_type": "code",
   "execution_count": 27,
   "metadata": {},
   "outputs": [],
   "source": [
    "df['loan'] = df['loan'].fillna(df['loan'].mode()[0]) "
   ]
  },
  {
   "cell_type": "code",
   "execution_count": null,
   "metadata": {},
   "outputs": [],
   "source": [
    "df.isnull().sum()"
   ]
  },
  {
   "cell_type": "code",
   "execution_count": 29,
   "metadata": {},
   "outputs": [],
   "source": [
    "#Ahora vamos a encargarnos de las columnas en las que hay que crear una nueva categoría a la que llamaremos 'Unknown'"
   ]
  },
  {
   "cell_type": "code",
   "execution_count": null,
   "metadata": {},
   "outputs": [],
   "source": [
    "df['job'] = df['job'].fillna('Unknown')"
   ]
  },
  {
   "cell_type": "code",
   "execution_count": 32,
   "metadata": {},
   "outputs": [],
   "source": [
    "#O lo hacemos en todas a la vez\n",
    "columnas_desconocido = [\"job\", \"education\", \"housing\", \"date\"]\n",
    "\n",
    "for col in columnas_desconocido:\n",
    "    df[col] = df[col].fillna('Unknown')"
   ]
  },
  {
   "cell_type": "code",
   "execution_count": null,
   "metadata": {},
   "outputs": [],
   "source": [
    "df.isnull().sum()"
   ]
  },
  {
   "cell_type": "markdown",
   "metadata": {},
   "source": [
    "#### Ahora vamos a analizar las variables numéricas:"
   ]
  },
  {
   "cell_type": "code",
   "execution_count": 34,
   "metadata": {},
   "outputs": [],
   "source": [
    "columnas_number_con_nulos = df[df.columns[df.isnull().any()]].select_dtypes(include = \"number\").columns"
   ]
  },
  {
   "cell_type": "code",
   "execution_count": null,
   "metadata": {},
   "outputs": [],
   "source": [
    "print(columnas_number_con_nulos)"
   ]
  },
  {
   "cell_type": "code",
   "execution_count": null,
   "metadata": {},
   "outputs": [],
   "source": [
    "for col in columnas_number_con_nulos:\n",
    "    print(f\"La distribución de las categorías (incluyendo nulos) para la columna\", col)\n",
    "    display(df[col].value_counts(dropna=False, normalize=True) * 100)  # Convertimos a porcentaje\n",
    "    print(\"........................\")"
   ]
  },
  {
   "cell_type": "markdown",
   "metadata": {},
   "source": [
    "#### Aquí esta división por categorías no nos sirve mucho, lo que nos interesa es la distribución de los valores\n",
    "#### Para entender la distribución de los valores, necesitamos hacer gráficos, cosa que aún no hemos aprendido a hacer, este código no es necesario que lo entendáis, solo los gráficos, lo veremos en la siguiente clase\n"
   ]
  },
  {
   "cell_type": "code",
   "execution_count": 39,
   "metadata": {},
   "outputs": [
    {
     "data": {
      "image/png": "[encoded data removed]",
      "text/plain": [
       "<Figure size 800x500 with 1 Axes>"
      ]
     },
     "metadata": {},
     "output_type": "display_data"
    },
    {
     "data": {
      "image/png": "[encoded data removed]",
      "text/plain": [
       "<Figure size 800x500 with 1 Axes>"
      ]
     },
     "metadata": {},
     "output_type": "display_data"
    },
    {
     "data": {
      "image/png": "[encoded data removed]",
      "text/plain": [
       "<Figure size 800x500 with 1 Axes>"
      ]
     },
     "metadata": {},
     "output_type": "display_data"
    }
   ],
   "source": [
    "import matplotlib.pyplot as plt\n",
    "\n",
    "# Lista de columnas para las que quieres hacer histogramas\n",
    "\n",
    "# Crear un histograma separado para cada columna\n",
    "for col in list(columnas_number_con_nulos):\n",
    "    plt.figure(figsize=(8, 5))\n",
    "    plt.hist(df[col].dropna(), bins=30, color='skyblue', edgecolor='black')\n",
    "    plt.title(f'Histograma de {col}')\n",
    "    plt.xlabel(col)\n",
    "    plt.ylabel('Frecuencia')\n",
    "    plt.show()\n"
   ]
  },
  {
   "cell_type": "markdown",
   "metadata": {},
   "source": [
    " #### Recordamos nuestra hoja de ruta para variables numéricas\n",
    " \n",
    "  - % ALTO nulos:\n",
    "    - se imputan con técnicas más avanzadas\n",
    "  - % BAJO nulos:\n",
    "    - distribución simétrica: imputación con la media\n",
    "    - distribución asimétrica: imputación con la mediana"
   ]
  },
  {
   "cell_type": "markdown",
   "metadata": {},
   "source": [
    "#### Vamos a determinar la estrategia de gestión de nulos para cada una de las variables numéricas con nulos:\n",
    "\n",
    "- Age: Bajo % nulos + distribución no simétrica -> imputación con la mediana\n",
    "- cons.price.idx: Bajo % nulos + distribución no simétrica -> imputación con la mediana\n",
    "- euriborn3m: Medio-alto % nulos -> imputación con métodos avanzados\n",
    "  \n",
    "\n",
    "En resumen:\n",
    "- Imputación con la mediana: age, cons.price.idx\n",
    "- Imputación técnicas avanzadas: euriborn3m"
   ]
  },
  {
   "cell_type": "code",
   "execution_count": 53,
   "metadata": {},
   "outputs": [
    {
     "name": "stdout",
     "output_type": "stream",
     "text": [
      "93.57\n"
     ]
    }
   ],
   "source": [
    "#Primero imputamos por la mediana: age y cons.price.idx\n",
    "median_conspriceidx = df[\"cons.price.idx\"].median()\n",
    "print(median_conspriceidx)"
   ]
  },
  {
   "cell_type": "code",
   "execution_count": null,
   "metadata": {},
   "outputs": [],
   "source": [
    "df[\"cons.price.idx\"] = df[\"cons.price.idx\"].fillna(median_conspriceidx)\n"
   ]
  },
  {
   "cell_type": "code",
   "execution_count": null,
   "metadata": {},
   "outputs": [],
   "source": [
    "df.isnull().sum()"
   ]
  },
  {
   "cell_type": "code",
   "execution_count": 73,
   "metadata": {},
   "outputs": [
    {
     "name": "stdout",
     "output_type": "stream",
     "text": [
      "39.0\n"
     ]
    }
   ],
   "source": [
    "median_age = df['age'].median()\n",
    "print(median_age)"
   ]
  },
  {
   "cell_type": "code",
   "execution_count": 50,
   "metadata": {},
   "outputs": [],
   "source": [
    "df['age'] = df['age'].fillna(median_age)"
   ]
  },
  {
   "cell_type": "code",
   "execution_count": null,
   "metadata": {},
   "outputs": [],
   "source": [
    "df.isnull().sum()"
   ]
  },
  {
   "cell_type": "code",
   "execution_count": null,
   "metadata": {},
   "outputs": [],
   "source": [
    "#Para valores bajos de nulos\n",
    "\n",
    "#SimpleImputer\n",
    "\n",
    "\"\"\"Imagina que tienes una tabla que tiene una columnacon muchos valores nulos. El SimpleImputer es una herramienta\n",
    "automática que te ayuda a rellenar esos nulos con valores \"inteligentes\". Para ello, se fija en los valores que SÍ tenemos en la columna\n",
    "y usa estrategías para elegir qué valor poner en los nulos. Algunas de sus estrategias son: la media, mediana, moda\n",
    "\n",
    "\"\"\"\n",
    "\n",
    "from sklearn.impute import SimpleImputer\n",
    "\n",
    "imputer = SimpleImputer(strategy='mean')  # Aquí puedes elegir 'mean', 'median', 'mode\", etc.\n",
    "df['edad'] = imputer.fit_transform(df[['edad']])\n",
    "\n",
    "\"\"\" En realidad es lo mismo que como lo hemos hecho antes manualmente, pero podemos hacerlo de manera más automática, pasándole más columnas\"\n",
    "#IterativeImputer\n",
    "\n",
    "\"\"\"\"\"\n",
    "columnas_a_imputar = ['edad', 'salario', 'altura']\n",
    "\n",
    "df[columnas_a_imputar] = imputer.fit_transform(df[columnas_a_imputar])\n",
    "\n",
    "\n",
    "#Para valores altos de nulos\n",
    "\n",
    "#IterativeImputer\n",
    "\"\"\"Es una heramienta para imputar valores nulos que, en vez de usar la media oo mediana, \"predice\" lo que puede ir en esos nulos\n",
    "fijándose en el resto de valores que SÍ tenemos y en los valores que hay en otras columnas\n",
    "y cómo esos valores pueden influir en el valor de la columna que intento imputar. Para ello, no hace solo una vez estas predicciones,\n",
    "si no muchas, para acercarse lo máximo posible a la verdad.\n",
    "\n",
    "Tiene dos parametros que se usan para controlar su comportamiento.\n",
    "Max_iter: el número máximo de repeticiones para adivinar los nulos, cuanto más alto, mejor, aunque depende de la cantidad de datos.\n",
    "(10-50 es bajo 500-1000 es bastante alto)\n",
    "Random_state: controla la aleatoriedad, me asegura de que cuando lo ejecute varias veces, me de los mismos resultados.\n",
    "El valor que le demos da igual, mientras lo usemos, se suele usar el 42 (guiño a Guía del autoestopista galáctico)\"\"\"\n",
    "\n",
    "imputer_iter = IterativeImputer(max_iter = 100, random_state = 42)\n",
    "df['euribor3m'] = imputer_iter.fit_transform(df[['euribor3m']])\n",
    "\n",
    "# KNN\n",
    "\n",
    "\"\"\" Es una herramienta de predicción que usa un algoritmo llamado \"vecinos cercanos\" en inglés. Para rellenar los datos faltantes,\n",
    "se fija en los vecinos más cercanos, es decir, en las filas más similares que tengan datos completos.\n",
    "\n",
    "Tiene el parámetro:\n",
    "n_neighbors:  es el número de vecinos que tendrá en cuenta, es decir, filas con valores similares y sin nulos. \n",
    "Cuantos más vecinos tenganmos en cuenta, mejor, pero dependerá de la cantidad de nuestros datos.\n",
    "Si tenemos una cantidad pequeña de datos con 3-5 vecinos estará bien.\n",
    "Si tenemos una gran cantidad de datos, 10-20 estará mejor.\n",
    "\n",
    "Diferencia con IterativeImputer:\n",
    "- Iterative se centra en cómo influyen las columnas entre sí y KNN en el parecido\n",
    "- KNN es más sencillo y no itera X veces\n",
    "- KNN es más rápido, mejor para df pequeños\n",
    "- KNN es más sensible a valores atípicos, no tiene en cuenta relaciones complejas\n",
    "- Iterative es más preciso, es mejor para conjuntos grandes o complejos con muchas relaciones entre columnas\n",
    "\n",
    "\"\"\"\n",
    "\n",
    "imputer_knn = KNNImputer(n_neighbors=5)\n",
    "df['euribor3m'] = imputer_iter.fit_transform(df[['euribor3m']])"
   ]
  },
  {
   "cell_type": "code",
   "execution_count": 60,
   "metadata": {},
   "outputs": [],
   "source": [
    "imputer_iter = IterativeImputer(max_iter = 100, random_state = 42)\n",
    "df['euribor3m'] = imputer_iter.fit_transform(df[['euribor3m']])"
   ]
  },
  {
   "cell_type": "code",
   "execution_count": null,
   "metadata": {},
   "outputs": [],
   "source": [
    "df.isnull().sum()"
   ]
  },
  {
   "cell_type": "code",
   "execution_count": 163,
   "metadata": {},
   "outputs": [],
   "source": [
    "df.to_csv('bank-additional-no-nulos.csv', index=False)"
   ]
  },
  {
   "cell_type": "markdown",
   "metadata": {},
   "source": [
    "#### Resumen gestión de nulos:\n",
    "\n",
    "  - eliminación de variables: drop(), dropna()\n",
    "    - df= df.dropna(subset=[column]) me elimina solo las líneas que son nulas, pero pierdo también los valores de las otras columnas\n",
    "\n",
    "  - imputación de variables:\n",
    "\n",
    "    - fillna() -> df[col].fillna(value)\n",
    "    - SimpleImputer \n",
    "    - Iterative Imputer\n",
    "    - KNN Imputer\n"
   ]
  }
 ],
 "metadata": {
  "kernelspec": {
   "display_name": "Python 3",
   "language": "python",
   "name": "python3"
  },
  "language_info": {
   "codemirror_mode": {
    "name": "ipython",
    "version": 3
   },
   "file_extension": ".py",
   "mimetype": "text/x-python",
   "name": "python",
   "nbconvert_exporter": "python",
   "pygments_lexer": "ipython3",
   "version": "3.13.0"
  }
 },
 "nbformat": 4,
 "nbformat_minor": 2
}

{
 "cells": [
  {
   "cell_type": "code",
   "execution_count": 2,
   "metadata": {},
   "outputs": [],
   "source": [
    "import pandas as pd\n",
    "import numpy as np\n",
    "pd.set_option('display.max_columns', None)"
   ]
  },
  {
   "cell_type": "code",
   "execution_count": null,
   "metadata": {},
   "outputs": [],
   "source": []
  },
  {
   "cell_type": "code",
   "execution_count": 6,
   "metadata": {},
   "outputs": [],
   "source": [
    "df_part1 = pd.read_csv('data_part1.csv',index_col=0)\n",
    "df_part2 = pd.read_csv('data_part2.csv',index_col=0)\n"
   ]
  },
  {
   "cell_type": "code",
   "execution_count": 11,
   "metadata": {},
   "outputs": [
    {
     "data": {
      "text/plain": [
       "Index(['Country', 'Density\\n(P/Km2)', 'Abbreviation', 'Agricultural Land( %)',\n",
       "       'Land Area(Km2)', 'Armed Forces size', 'Birth Rate', 'Calling Code',\n",
       "       'Capital/Major City', 'Co2-Emissions', 'CPI', 'CPI Change (%)',\n",
       "       'Currency-Code', 'Fertility Rate', 'Forested Area (%)',\n",
       "       'Gasoline Price'],\n",
       "      dtype='object')"
      ]
     },
     "execution_count": 11,
     "metadata": {},
     "output_type": "execute_result"
    }
   ],
   "source": [
    "df_part1.columns"
   ]
  },
  {
   "cell_type": "code",
   "execution_count": 20,
   "metadata": {},
   "outputs": [
    {
     "data": {
      "text/plain": [
       "Index(['GDP', 'Gross primary education enrollment (%)',\n",
       "       'Gross tertiary education enrollment (%)', 'Infant mortality',\n",
       "       'Largest city', 'Life expectancy', 'Maternal mortality ratio',\n",
       "       'Minimum wage', 'Official language', 'Out of pocket health expenditure',\n",
       "       'Physicians per thousand', 'Population',\n",
       "       'Population: Labor force participation (%)', 'Tax revenue (%)',\n",
       "       'Total tax rate', 'Unemployment rate', 'Urban_population', 'country',\n",
       "       'coordinates'],\n",
       "      dtype='object')"
      ]
     },
     "execution_count": 20,
     "metadata": {},
     "output_type": "execute_result"
    }
   ],
   "source": [
    "df_part2.columns"
   ]
  },
  {
   "cell_type": "code",
   "execution_count": 22,
   "metadata": {},
   "outputs": [],
   "source": [
    "merge_inner = df_part1.merge( df_part2, left_on='Country', right_on='country' , how = 'inner') "
   ]
  },
  {
   "cell_type": "code",
   "execution_count": null,
   "metadata": {},
   "outputs": [],
   "source": [
    "merge_inner.columns"
   ]
  },
  {
   "cell_type": "code",
   "execution_count": null,
   "metadata": {},
   "outputs": [],
   "source": [
    "merge_inner.drop(columns=['country'],inplace=True)\n"
   ]
  },
  {
   "cell_type": "code",
   "execution_count": 26,
   "metadata": {},
   "outputs": [
    {
     "data": {
      "text/plain": [
       "Index(['Country', 'Density\\n(P/Km2)', 'Abbreviation', 'Agricultural Land( %)',\n",
       "       'Land Area(Km2)', 'Armed Forces size', 'Birth Rate', 'Calling Code',\n",
       "       'Capital/Major City', 'Co2-Emissions', 'CPI', 'CPI Change (%)',\n",
       "       'Currency-Code', 'Fertility Rate', 'Forested Area (%)',\n",
       "       'Gasoline Price', 'GDP', 'Gross primary education enrollment (%)',\n",
       "       'Gross tertiary education enrollment (%)', 'Infant mortality',\n",
       "       'Largest city', 'Life expectancy', 'Maternal mortality ratio',\n",
       "       'Minimum wage', 'Official language', 'Out of pocket health expenditure',\n",
       "       'Physicians per thousand', 'Population',\n",
       "       'Population: Labor force participation (%)', 'Tax revenue (%)',\n",
       "       'Total tax rate', 'Unemployment rate', 'Urban_population',\n",
       "       'coordinates'],\n",
       "      dtype='object')"
      ]
     },
     "execution_count": 26,
     "metadata": {},
     "output_type": "execute_result"
    }
   ],
   "source": [
    "merge_inner.columns"
   ]
  },
  {
   "cell_type": "code",
   "execution_count": 27,
   "metadata": {},
   "outputs": [],
   "source": [
    "df_final = merge_inner.copy()"
   ]
  },
  {
   "cell_type": "code",
   "execution_count": 46,
   "metadata": {},
   "outputs": [
    {
     "data": {
      "text/plain": [
       "{'Country': 'country',\n",
       " 'Density\\n(P/Km2)': 'density',\n",
       " 'Abbreviation': 'abbreviation',\n",
       " 'Agricultural Land( %)': 'agricultural_land_',\n",
       " 'Land Area(Km2)': 'land_areakm2',\n",
       " 'Armed Forces size': 'armed_forces_size',\n",
       " 'Birth Rate': 'birth_rate',\n",
       " 'Calling Code': 'calling_code',\n",
       " 'Capital/Major City': 'capital/major_city',\n",
       " 'Co2-Emissions': 'co2-emissions',\n",
       " 'CPI': 'cpi',\n",
       " 'CPI Change (%)': 'cpi_change_',\n",
       " 'Currency-Code': 'currency-code',\n",
       " 'Fertility Rate': 'fertility_rate',\n",
       " 'Forested Area (%)': 'forested_area_',\n",
       " 'Gasoline Price': 'gasoline_price',\n",
       " 'GDP': 'gdp',\n",
       " 'Gross primary education enrollment (%)': 'gross_primary_education_enrollment_',\n",
       " 'Gross tertiary education enrollment (%)': 'gross_tertiary_education_enrollment_',\n",
       " 'Infant mortality': 'infant_mortality',\n",
       " 'Largest city': 'largest_city',\n",
       " 'Life expectancy': 'life_expectancy',\n",
       " 'Maternal mortality ratio': 'maternal_mortality_ratio',\n",
       " 'Minimum wage': 'minimum_wage',\n",
       " 'Official language': 'official_language',\n",
       " 'Out of pocket health expenditure': 'out_of_pocket_health_expenditure',\n",
       " 'Physicians per thousand': 'physicians_per_thousand',\n",
       " 'Population': 'population',\n",
       " 'Population: Labor force participation (%)': 'population_labor_force_participation_',\n",
       " 'Tax revenue (%)': 'tax_revenue_',\n",
       " 'Total tax rate': 'total_tax_rate',\n",
       " 'Unemployment rate': 'unemployment_rate',\n",
       " 'Urban_population': 'urban_population',\n",
       " 'coordinates': 'coordinates'}"
      ]
     },
     "execution_count": 46,
     "metadata": {},
     "output_type": "execute_result"
    }
   ],
   "source": [
    "nuevas_columnas = {}\n",
    "\n",
    "for col in df_final.columns:\n",
    "    nuevas_columnas[col] = col.lower().replace(\" \", \"_\").replace(\"\\n\", \"\").replace(\":\", \"\").replace(\"%\", \"\").replace(\"(\", \"\").replace(\")\", \"\").replace(\"p/km2\", \"\")\n",
    "\n",
    "nuevas_columnas"
   ]
  },
  {
   "cell_type": "code",
   "execution_count": null,
   "metadata": {},
   "outputs": [],
   "source": []
  },
  {
   "cell_type": "code",
   "execution_count": 47,
   "metadata": {},
   "outputs": [
    {
     "data": {
      "text/plain": [
       "Index(['country', 'density', 'abbreviation', 'agricultural_land_',\n",
       "       'land_areakm2', 'armed_forces_size', 'birth_rate', 'calling_code',\n",
       "       'capital/major_city', 'co2-emissions', 'cpi', 'cpi_change_',\n",
       "       'currency-code', 'fertility_rate', 'forested_area_', 'gasoline_price',\n",
       "       'gdp', 'gross_primary_education_enrollment_',\n",
       "       'gross_tertiary_education_enrollment_', 'infant_mortality',\n",
       "       'largest_city', 'life_expectancy', 'maternal_mortality_ratio',\n",
       "       'minimum_wage', 'official_language', 'out_of_pocket_health_expenditure',\n",
       "       'physicians_per_thousand', 'population',\n",
       "       'population_labor_force_participation_', 'tax_revenue_',\n",
       "       'total_tax_rate', 'unemployment_rate', 'urban_population',\n",
       "       'coordinates'],\n",
       "      dtype='object')"
      ]
     },
     "execution_count": 47,
     "metadata": {},
     "output_type": "execute_result"
    }
   ],
   "source": [
    "df_final.rename(columns = nuevas_columnas, inplace = True)\n",
    "df_final.columns"
   ]
  },
  {
   "cell_type": "code",
   "execution_count": null,
   "metadata": {},
   "outputs": [],
   "source": []
  }
 ],
 "metadata": {
  "kernelspec": {
   "display_name": "Python 3",
   "language": "python",
   "name": "python3"
  },
  "language_info": {
   "codemirror_mode": {
    "name": "ipython",
    "version": 3
   },
   "file_extension": ".py",
   "mimetype": "text/x-python",
   "name": "python",
   "nbconvert_exporter": "python",
   "pygments_lexer": "ipython3",
   "version": "3.13.1"
  }
 },
 "nbformat": 4,
 "nbformat_minor": 2
}

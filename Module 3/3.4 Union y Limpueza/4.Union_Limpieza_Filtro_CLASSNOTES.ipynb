{
 "cells": [
  {
   "cell_type": "code",
   "execution_count": null,
   "metadata": {},
   "outputs": [],
   "source": [
    "# De momento hemos visto:\n",
    "# Lectura de ficheros\n",
    "# Exploración"
   ]
  },
  {
   "cell_type": "code",
   "execution_count": null,
   "metadata": {},
   "outputs": [],
   "source": [
    "# Hoy vamos a ver:\n",
    "# Unión de datos\n",
    "# Limpieza\n",
    "# Filtrado/Selección\n",
    "# ¿Orden? Depende"
   ]
  },
  {
   "cell_type": "code",
   "execution_count": 1,
   "metadata": {},
   "outputs": [],
   "source": [
    "import pandas as pd\n",
    "import numpy as np\n",
    "pd.set_option('display.max_columns', None)"
   ]
  },
  {
   "cell_type": "code",
   "execution_count": 2,
   "metadata": {},
   "outputs": [],
   "source": [
    "df_bank = pd.read_csv(\"bank-additional.csv\")"
   ]
  },
  {
   "cell_type": "code",
   "execution_count": 3,
   "metadata": {},
   "outputs": [
    {
     "data": {
      "text/html": [
       "<div>\n",
       "<style scoped>\n",
       "    .dataframe tbody tr th:only-of-type {\n",
       "        vertical-align: middle;\n",
       "    }\n",
       "\n",
       "    .dataframe tbody tr th {\n",
       "        vertical-align: top;\n",
       "    }\n",
       "\n",
       "    .dataframe thead th {\n",
       "        text-align: right;\n",
       "    }\n",
       "</style>\n",
       "<table border=\"1\" class=\"dataframe\">\n",
       "  <thead>\n",
       "    <tr style=\"text-align: right;\">\n",
       "      <th></th>\n",
       "      <th>Unnamed: 0</th>\n",
       "      <th>age</th>\n",
       "      <th>job</th>\n",
       "      <th>marital</th>\n",
       "      <th>education</th>\n",
       "      <th>default</th>\n",
       "      <th>housing</th>\n",
       "      <th>loan</th>\n",
       "      <th>contact</th>\n",
       "      <th>duration</th>\n",
       "      <th>campaign</th>\n",
       "      <th>pdays</th>\n",
       "      <th>previous</th>\n",
       "      <th>poutcome</th>\n",
       "      <th>emp.var.rate</th>\n",
       "      <th>cons.price.idx</th>\n",
       "      <th>cons.conf.idx</th>\n",
       "      <th>euribor3m</th>\n",
       "      <th>nr.employed</th>\n",
       "      <th>y</th>\n",
       "      <th>date</th>\n",
       "      <th>latitude</th>\n",
       "      <th>longitude</th>\n",
       "      <th>id_</th>\n",
       "    </tr>\n",
       "  </thead>\n",
       "  <tbody>\n",
       "    <tr>\n",
       "      <th>0</th>\n",
       "      <td>0</td>\n",
       "      <td>NaN</td>\n",
       "      <td>housemaid</td>\n",
       "      <td>MARRIED</td>\n",
       "      <td>basic.4y</td>\n",
       "      <td>0.0</td>\n",
       "      <td>0.0</td>\n",
       "      <td>0.0</td>\n",
       "      <td>telephone</td>\n",
       "      <td>261</td>\n",
       "      <td>1</td>\n",
       "      <td>999</td>\n",
       "      <td>0</td>\n",
       "      <td>NONEXISTENT</td>\n",
       "      <td>1.1</td>\n",
       "      <td>93,994</td>\n",
       "      <td>-36,4</td>\n",
       "      <td>4,857</td>\n",
       "      <td>5191</td>\n",
       "      <td>no</td>\n",
       "      <td>2-agosto-2019</td>\n",
       "      <td>41.495</td>\n",
       "      <td>-71.233</td>\n",
       "      <td>089b39d8-e4d0-461b-87d4-814d71e0e079</td>\n",
       "    </tr>\n",
       "    <tr>\n",
       "      <th>1</th>\n",
       "      <td>1</td>\n",
       "      <td>57.0</td>\n",
       "      <td>services</td>\n",
       "      <td>MARRIED</td>\n",
       "      <td>high.school</td>\n",
       "      <td>NaN</td>\n",
       "      <td>0.0</td>\n",
       "      <td>0.0</td>\n",
       "      <td>telephone</td>\n",
       "      <td>149</td>\n",
       "      <td>1</td>\n",
       "      <td>999</td>\n",
       "      <td>0</td>\n",
       "      <td>NONEXISTENT</td>\n",
       "      <td>1.1</td>\n",
       "      <td>93,994</td>\n",
       "      <td>-36,4</td>\n",
       "      <td>NaN</td>\n",
       "      <td>5191</td>\n",
       "      <td>no</td>\n",
       "      <td>14-septiembre-2016</td>\n",
       "      <td>34.601</td>\n",
       "      <td>-83.923</td>\n",
       "      <td>e9d37224-cb6f-4942-98d7-46672963d097</td>\n",
       "    </tr>\n",
       "    <tr>\n",
       "      <th>2</th>\n",
       "      <td>2</td>\n",
       "      <td>37.0</td>\n",
       "      <td>services</td>\n",
       "      <td>MARRIED</td>\n",
       "      <td>high.school</td>\n",
       "      <td>0.0</td>\n",
       "      <td>1.0</td>\n",
       "      <td>0.0</td>\n",
       "      <td>telephone</td>\n",
       "      <td>226</td>\n",
       "      <td>1</td>\n",
       "      <td>999</td>\n",
       "      <td>0</td>\n",
       "      <td>NONEXISTENT</td>\n",
       "      <td>1.1</td>\n",
       "      <td>93,994</td>\n",
       "      <td>-36,4</td>\n",
       "      <td>4,857</td>\n",
       "      <td>5191</td>\n",
       "      <td>no</td>\n",
       "      <td>15-febrero-2019</td>\n",
       "      <td>34.939</td>\n",
       "      <td>-94.847</td>\n",
       "      <td>3f9f49b5-e410-4948-bf6e-f9244f04918b</td>\n",
       "    </tr>\n",
       "    <tr>\n",
       "      <th>3</th>\n",
       "      <td>3</td>\n",
       "      <td>40.0</td>\n",
       "      <td>admin.</td>\n",
       "      <td>MARRIED</td>\n",
       "      <td>basic.6y</td>\n",
       "      <td>0.0</td>\n",
       "      <td>0.0</td>\n",
       "      <td>0.0</td>\n",
       "      <td>telephone</td>\n",
       "      <td>151</td>\n",
       "      <td>1</td>\n",
       "      <td>999</td>\n",
       "      <td>0</td>\n",
       "      <td>NONEXISTENT</td>\n",
       "      <td>1.1</td>\n",
       "      <td>93,994</td>\n",
       "      <td>-36,4</td>\n",
       "      <td>NaN</td>\n",
       "      <td>5191</td>\n",
       "      <td>no</td>\n",
       "      <td>29-noviembre-2015</td>\n",
       "      <td>49.041</td>\n",
       "      <td>-70.308</td>\n",
       "      <td>9991fafb-4447-451a-8be2-b0df6098d13e</td>\n",
       "    </tr>\n",
       "    <tr>\n",
       "      <th>4</th>\n",
       "      <td>4</td>\n",
       "      <td>56.0</td>\n",
       "      <td>services</td>\n",
       "      <td>MARRIED</td>\n",
       "      <td>high.school</td>\n",
       "      <td>0.0</td>\n",
       "      <td>0.0</td>\n",
       "      <td>1.0</td>\n",
       "      <td>telephone</td>\n",
       "      <td>307</td>\n",
       "      <td>1</td>\n",
       "      <td>999</td>\n",
       "      <td>0</td>\n",
       "      <td>NONEXISTENT</td>\n",
       "      <td>1.1</td>\n",
       "      <td>93,994</td>\n",
       "      <td>-36,4</td>\n",
       "      <td>NaN</td>\n",
       "      <td>5191</td>\n",
       "      <td>no</td>\n",
       "      <td>29-enero-2017</td>\n",
       "      <td>38.033</td>\n",
       "      <td>-104.463</td>\n",
       "      <td>eca60b76-70b6-4077-80ba-bc52e8ebb0eb</td>\n",
       "    </tr>\n",
       "  </tbody>\n",
       "</table>\n",
       "</div>"
      ],
      "text/plain": [
       "   Unnamed: 0   age        job  marital    education  default  housing  loan  \\\n",
       "0           0   NaN  housemaid  MARRIED     basic.4y      0.0      0.0   0.0   \n",
       "1           1  57.0   services  MARRIED  high.school      NaN      0.0   0.0   \n",
       "2           2  37.0   services  MARRIED  high.school      0.0      1.0   0.0   \n",
       "3           3  40.0     admin.  MARRIED     basic.6y      0.0      0.0   0.0   \n",
       "4           4  56.0   services  MARRIED  high.school      0.0      0.0   1.0   \n",
       "\n",
       "     contact  duration  campaign  pdays  previous     poutcome  emp.var.rate  \\\n",
       "0  telephone       261         1    999         0  NONEXISTENT           1.1   \n",
       "1  telephone       149         1    999         0  NONEXISTENT           1.1   \n",
       "2  telephone       226         1    999         0  NONEXISTENT           1.1   \n",
       "3  telephone       151         1    999         0  NONEXISTENT           1.1   \n",
       "4  telephone       307         1    999         0  NONEXISTENT           1.1   \n",
       "\n",
       "  cons.price.idx cons.conf.idx euribor3m nr.employed   y                date  \\\n",
       "0         93,994         -36,4     4,857        5191  no       2-agosto-2019   \n",
       "1         93,994         -36,4       NaN        5191  no  14-septiembre-2016   \n",
       "2         93,994         -36,4     4,857        5191  no     15-febrero-2019   \n",
       "3         93,994         -36,4       NaN        5191  no   29-noviembre-2015   \n",
       "4         93,994         -36,4       NaN        5191  no       29-enero-2017   \n",
       "\n",
       "   latitude  longitude                                   id_  \n",
       "0    41.495    -71.233  089b39d8-e4d0-461b-87d4-814d71e0e079  \n",
       "1    34.601    -83.923  e9d37224-cb6f-4942-98d7-46672963d097  \n",
       "2    34.939    -94.847  3f9f49b5-e410-4948-bf6e-f9244f04918b  \n",
       "3    49.041    -70.308  9991fafb-4447-451a-8be2-b0df6098d13e  \n",
       "4    38.033   -104.463  eca60b76-70b6-4077-80ba-bc52e8ebb0eb  "
      ]
     },
     "execution_count": 3,
     "metadata": {},
     "output_type": "execute_result"
    }
   ],
   "source": [
    "df_bank.head() #Unnamed es el índice"
   ]
  },
  {
   "cell_type": "code",
   "execution_count": 4,
   "metadata": {},
   "outputs": [
    {
     "data": {
      "text/html": [
       "<div>\n",
       "<style scoped>\n",
       "    .dataframe tbody tr th:only-of-type {\n",
       "        vertical-align: middle;\n",
       "    }\n",
       "\n",
       "    .dataframe tbody tr th {\n",
       "        vertical-align: top;\n",
       "    }\n",
       "\n",
       "    .dataframe thead th {\n",
       "        text-align: right;\n",
       "    }\n",
       "</style>\n",
       "<table border=\"1\" class=\"dataframe\">\n",
       "  <thead>\n",
       "    <tr style=\"text-align: right;\">\n",
       "      <th></th>\n",
       "      <th>age</th>\n",
       "      <th>job</th>\n",
       "      <th>marital</th>\n",
       "      <th>education</th>\n",
       "      <th>default</th>\n",
       "      <th>housing</th>\n",
       "      <th>loan</th>\n",
       "      <th>contact</th>\n",
       "      <th>duration</th>\n",
       "      <th>campaign</th>\n",
       "      <th>pdays</th>\n",
       "      <th>previous</th>\n",
       "      <th>poutcome</th>\n",
       "      <th>emp.var.rate</th>\n",
       "      <th>cons.price.idx</th>\n",
       "      <th>cons.conf.idx</th>\n",
       "      <th>euribor3m</th>\n",
       "      <th>nr.employed</th>\n",
       "      <th>y</th>\n",
       "      <th>date</th>\n",
       "      <th>latitude</th>\n",
       "      <th>longitude</th>\n",
       "      <th>id_</th>\n",
       "    </tr>\n",
       "  </thead>\n",
       "  <tbody>\n",
       "    <tr>\n",
       "      <th>0</th>\n",
       "      <td>NaN</td>\n",
       "      <td>housemaid</td>\n",
       "      <td>MARRIED</td>\n",
       "      <td>basic.4y</td>\n",
       "      <td>0.0</td>\n",
       "      <td>0.0</td>\n",
       "      <td>0.0</td>\n",
       "      <td>telephone</td>\n",
       "      <td>261</td>\n",
       "      <td>1</td>\n",
       "      <td>999</td>\n",
       "      <td>0</td>\n",
       "      <td>NONEXISTENT</td>\n",
       "      <td>1.1</td>\n",
       "      <td>93,994</td>\n",
       "      <td>-36,4</td>\n",
       "      <td>4,857</td>\n",
       "      <td>5191</td>\n",
       "      <td>no</td>\n",
       "      <td>2-agosto-2019</td>\n",
       "      <td>41.495</td>\n",
       "      <td>-71.233</td>\n",
       "      <td>089b39d8-e4d0-461b-87d4-814d71e0e079</td>\n",
       "    </tr>\n",
       "    <tr>\n",
       "      <th>1</th>\n",
       "      <td>57.0</td>\n",
       "      <td>services</td>\n",
       "      <td>MARRIED</td>\n",
       "      <td>high.school</td>\n",
       "      <td>NaN</td>\n",
       "      <td>0.0</td>\n",
       "      <td>0.0</td>\n",
       "      <td>telephone</td>\n",
       "      <td>149</td>\n",
       "      <td>1</td>\n",
       "      <td>999</td>\n",
       "      <td>0</td>\n",
       "      <td>NONEXISTENT</td>\n",
       "      <td>1.1</td>\n",
       "      <td>93,994</td>\n",
       "      <td>-36,4</td>\n",
       "      <td>NaN</td>\n",
       "      <td>5191</td>\n",
       "      <td>no</td>\n",
       "      <td>14-septiembre-2016</td>\n",
       "      <td>34.601</td>\n",
       "      <td>-83.923</td>\n",
       "      <td>e9d37224-cb6f-4942-98d7-46672963d097</td>\n",
       "    </tr>\n",
       "    <tr>\n",
       "      <th>2</th>\n",
       "      <td>37.0</td>\n",
       "      <td>services</td>\n",
       "      <td>MARRIED</td>\n",
       "      <td>high.school</td>\n",
       "      <td>0.0</td>\n",
       "      <td>1.0</td>\n",
       "      <td>0.0</td>\n",
       "      <td>telephone</td>\n",
       "      <td>226</td>\n",
       "      <td>1</td>\n",
       "      <td>999</td>\n",
       "      <td>0</td>\n",
       "      <td>NONEXISTENT</td>\n",
       "      <td>1.1</td>\n",
       "      <td>93,994</td>\n",
       "      <td>-36,4</td>\n",
       "      <td>4,857</td>\n",
       "      <td>5191</td>\n",
       "      <td>no</td>\n",
       "      <td>15-febrero-2019</td>\n",
       "      <td>34.939</td>\n",
       "      <td>-94.847</td>\n",
       "      <td>3f9f49b5-e410-4948-bf6e-f9244f04918b</td>\n",
       "    </tr>\n",
       "    <tr>\n",
       "      <th>3</th>\n",
       "      <td>40.0</td>\n",
       "      <td>admin.</td>\n",
       "      <td>MARRIED</td>\n",
       "      <td>basic.6y</td>\n",
       "      <td>0.0</td>\n",
       "      <td>0.0</td>\n",
       "      <td>0.0</td>\n",
       "      <td>telephone</td>\n",
       "      <td>151</td>\n",
       "      <td>1</td>\n",
       "      <td>999</td>\n",
       "      <td>0</td>\n",
       "      <td>NONEXISTENT</td>\n",
       "      <td>1.1</td>\n",
       "      <td>93,994</td>\n",
       "      <td>-36,4</td>\n",
       "      <td>NaN</td>\n",
       "      <td>5191</td>\n",
       "      <td>no</td>\n",
       "      <td>29-noviembre-2015</td>\n",
       "      <td>49.041</td>\n",
       "      <td>-70.308</td>\n",
       "      <td>9991fafb-4447-451a-8be2-b0df6098d13e</td>\n",
       "    </tr>\n",
       "    <tr>\n",
       "      <th>4</th>\n",
       "      <td>56.0</td>\n",
       "      <td>services</td>\n",
       "      <td>MARRIED</td>\n",
       "      <td>high.school</td>\n",
       "      <td>0.0</td>\n",
       "      <td>0.0</td>\n",
       "      <td>1.0</td>\n",
       "      <td>telephone</td>\n",
       "      <td>307</td>\n",
       "      <td>1</td>\n",
       "      <td>999</td>\n",
       "      <td>0</td>\n",
       "      <td>NONEXISTENT</td>\n",
       "      <td>1.1</td>\n",
       "      <td>93,994</td>\n",
       "      <td>-36,4</td>\n",
       "      <td>NaN</td>\n",
       "      <td>5191</td>\n",
       "      <td>no</td>\n",
       "      <td>29-enero-2017</td>\n",
       "      <td>38.033</td>\n",
       "      <td>-104.463</td>\n",
       "      <td>eca60b76-70b6-4077-80ba-bc52e8ebb0eb</td>\n",
       "    </tr>\n",
       "  </tbody>\n",
       "</table>\n",
       "</div>"
      ],
      "text/plain": [
       "    age        job  marital    education  default  housing  loan    contact  \\\n",
       "0   NaN  housemaid  MARRIED     basic.4y      0.0      0.0   0.0  telephone   \n",
       "1  57.0   services  MARRIED  high.school      NaN      0.0   0.0  telephone   \n",
       "2  37.0   services  MARRIED  high.school      0.0      1.0   0.0  telephone   \n",
       "3  40.0     admin.  MARRIED     basic.6y      0.0      0.0   0.0  telephone   \n",
       "4  56.0   services  MARRIED  high.school      0.0      0.0   1.0  telephone   \n",
       "\n",
       "   duration  campaign  pdays  previous     poutcome  emp.var.rate  \\\n",
       "0       261         1    999         0  NONEXISTENT           1.1   \n",
       "1       149         1    999         0  NONEXISTENT           1.1   \n",
       "2       226         1    999         0  NONEXISTENT           1.1   \n",
       "3       151         1    999         0  NONEXISTENT           1.1   \n",
       "4       307         1    999         0  NONEXISTENT           1.1   \n",
       "\n",
       "  cons.price.idx cons.conf.idx euribor3m nr.employed   y                date  \\\n",
       "0         93,994         -36,4     4,857        5191  no       2-agosto-2019   \n",
       "1         93,994         -36,4       NaN        5191  no  14-septiembre-2016   \n",
       "2         93,994         -36,4     4,857        5191  no     15-febrero-2019   \n",
       "3         93,994         -36,4       NaN        5191  no   29-noviembre-2015   \n",
       "4         93,994         -36,4       NaN        5191  no       29-enero-2017   \n",
       "\n",
       "   latitude  longitude                                   id_  \n",
       "0    41.495    -71.233  089b39d8-e4d0-461b-87d4-814d71e0e079  \n",
       "1    34.601    -83.923  e9d37224-cb6f-4942-98d7-46672963d097  \n",
       "2    34.939    -94.847  3f9f49b5-e410-4948-bf6e-f9244f04918b  \n",
       "3    49.041    -70.308  9991fafb-4447-451a-8be2-b0df6098d13e  \n",
       "4    38.033   -104.463  eca60b76-70b6-4077-80ba-bc52e8ebb0eb  "
      ]
     },
     "execution_count": 4,
     "metadata": {},
     "output_type": "execute_result"
    }
   ],
   "source": [
    "df_bank = pd.read_csv(\"bank-additional.csv\", index_col = 0)\n",
    "df_bank.head()"
   ]
  },
  {
   "cell_type": "code",
   "execution_count": 5,
   "metadata": {},
   "outputs": [],
   "source": [
    "df_2012 = pd.read_excel(\"customer-details.xlsx\", sheet_name=\"2012\", index_col = 0)\n",
    "df_2013 = pd.read_excel(\"customer-details.xlsx\", sheet_name=\"2013\", index_col = 0)\n",
    "df_2014 = pd.read_excel(\"customer-details.xlsx\", sheet_name=\"2014\", index_col = 0)"
   ]
  },
  {
   "cell_type": "code",
   "execution_count": 6,
   "metadata": {},
   "outputs": [
    {
     "data": {
      "text/html": [
       "<div>\n",
       "<style scoped>\n",
       "    .dataframe tbody tr th:only-of-type {\n",
       "        vertical-align: middle;\n",
       "    }\n",
       "\n",
       "    .dataframe tbody tr th {\n",
       "        vertical-align: top;\n",
       "    }\n",
       "\n",
       "    .dataframe thead th {\n",
       "        text-align: right;\n",
       "    }\n",
       "</style>\n",
       "<table border=\"1\" class=\"dataframe\">\n",
       "  <thead>\n",
       "    <tr style=\"text-align: right;\">\n",
       "      <th></th>\n",
       "      <th>Income</th>\n",
       "      <th>Kidhome</th>\n",
       "      <th>Teenhome</th>\n",
       "      <th>Dt_Customer</th>\n",
       "      <th>NumWebVisitsMonth</th>\n",
       "      <th>ID</th>\n",
       "    </tr>\n",
       "  </thead>\n",
       "  <tbody>\n",
       "    <tr>\n",
       "      <th>0</th>\n",
       "      <td>161770</td>\n",
       "      <td>1</td>\n",
       "      <td>0</td>\n",
       "      <td>2012-04-04</td>\n",
       "      <td>29</td>\n",
       "      <td>089b39d8-e4d0-461b-87d4-814d71e0e079</td>\n",
       "    </tr>\n",
       "    <tr>\n",
       "      <th>1</th>\n",
       "      <td>85477</td>\n",
       "      <td>1</td>\n",
       "      <td>1</td>\n",
       "      <td>2012-12-30</td>\n",
       "      <td>7</td>\n",
       "      <td>e9d37224-cb6f-4942-98d7-46672963d097</td>\n",
       "    </tr>\n",
       "    <tr>\n",
       "      <th>2</th>\n",
       "      <td>147233</td>\n",
       "      <td>1</td>\n",
       "      <td>1</td>\n",
       "      <td>2012-02-02</td>\n",
       "      <td>5</td>\n",
       "      <td>3f9f49b5-e410-4948-bf6e-f9244f04918b</td>\n",
       "    </tr>\n",
       "    <tr>\n",
       "      <th>3</th>\n",
       "      <td>121393</td>\n",
       "      <td>1</td>\n",
       "      <td>2</td>\n",
       "      <td>2012-12-21</td>\n",
       "      <td>29</td>\n",
       "      <td>9991fafb-4447-451a-8be2-b0df6098d13e</td>\n",
       "    </tr>\n",
       "    <tr>\n",
       "      <th>4</th>\n",
       "      <td>63164</td>\n",
       "      <td>1</td>\n",
       "      <td>2</td>\n",
       "      <td>2012-06-20</td>\n",
       "      <td>20</td>\n",
       "      <td>eca60b76-70b6-4077-80ba-bc52e8ebb0eb</td>\n",
       "    </tr>\n",
       "  </tbody>\n",
       "</table>\n",
       "</div>"
      ],
      "text/plain": [
       "   Income  Kidhome  Teenhome Dt_Customer  NumWebVisitsMonth  \\\n",
       "0  161770        1         0  2012-04-04                 29   \n",
       "1   85477        1         1  2012-12-30                  7   \n",
       "2  147233        1         1  2012-02-02                  5   \n",
       "3  121393        1         2  2012-12-21                 29   \n",
       "4   63164        1         2  2012-06-20                 20   \n",
       "\n",
       "                                     ID  \n",
       "0  089b39d8-e4d0-461b-87d4-814d71e0e079  \n",
       "1  e9d37224-cb6f-4942-98d7-46672963d097  \n",
       "2  3f9f49b5-e410-4948-bf6e-f9244f04918b  \n",
       "3  9991fafb-4447-451a-8be2-b0df6098d13e  \n",
       "4  eca60b76-70b6-4077-80ba-bc52e8ebb0eb  "
      ]
     },
     "execution_count": 6,
     "metadata": {},
     "output_type": "execute_result"
    }
   ],
   "source": [
    "df_2012.head()"
   ]
  },
  {
   "cell_type": "code",
   "execution_count": 7,
   "metadata": {},
   "outputs": [
    {
     "data": {
      "text/html": [
       "<div>\n",
       "<style scoped>\n",
       "    .dataframe tbody tr th:only-of-type {\n",
       "        vertical-align: middle;\n",
       "    }\n",
       "\n",
       "    .dataframe tbody tr th {\n",
       "        vertical-align: top;\n",
       "    }\n",
       "\n",
       "    .dataframe thead th {\n",
       "        text-align: right;\n",
       "    }\n",
       "</style>\n",
       "<table border=\"1\" class=\"dataframe\">\n",
       "  <thead>\n",
       "    <tr style=\"text-align: right;\">\n",
       "      <th></th>\n",
       "      <th>Income</th>\n",
       "      <th>Kidhome</th>\n",
       "      <th>Teenhome</th>\n",
       "      <th>Dt_Customer</th>\n",
       "      <th>NumWebVisitsMonth</th>\n",
       "      <th>ID</th>\n",
       "    </tr>\n",
       "  </thead>\n",
       "  <tbody>\n",
       "    <tr>\n",
       "      <th>0</th>\n",
       "      <td>82407</td>\n",
       "      <td>0</td>\n",
       "      <td>1</td>\n",
       "      <td>2013-10-07</td>\n",
       "      <td>29</td>\n",
       "      <td>ef81336c-e41a-46d0-8a30-5d4ac3b836be</td>\n",
       "    </tr>\n",
       "    <tr>\n",
       "      <th>1</th>\n",
       "      <td>24877</td>\n",
       "      <td>0</td>\n",
       "      <td>0</td>\n",
       "      <td>2013-04-21</td>\n",
       "      <td>32</td>\n",
       "      <td>50b224ac-84b4-42a7-aba9-3e1d1d620479</td>\n",
       "    </tr>\n",
       "    <tr>\n",
       "      <th>2</th>\n",
       "      <td>78839</td>\n",
       "      <td>1</td>\n",
       "      <td>0</td>\n",
       "      <td>2013-11-25</td>\n",
       "      <td>21</td>\n",
       "      <td>9cb15c53-b647-464a-add9-09cdae04897c</td>\n",
       "    </tr>\n",
       "    <tr>\n",
       "      <th>3</th>\n",
       "      <td>113859</td>\n",
       "      <td>1</td>\n",
       "      <td>1</td>\n",
       "      <td>2013-01-06</td>\n",
       "      <td>12</td>\n",
       "      <td>f8aaf334-949d-4943-a214-b64fe9c088b4</td>\n",
       "    </tr>\n",
       "    <tr>\n",
       "      <th>4</th>\n",
       "      <td>147317</td>\n",
       "      <td>0</td>\n",
       "      <td>0</td>\n",
       "      <td>2013-07-10</td>\n",
       "      <td>14</td>\n",
       "      <td>885fe85a-3718-4760-a32a-a57628cf7528</td>\n",
       "    </tr>\n",
       "  </tbody>\n",
       "</table>\n",
       "</div>"
      ],
      "text/plain": [
       "   Income  Kidhome  Teenhome Dt_Customer  NumWebVisitsMonth  \\\n",
       "0   82407        0         1  2013-10-07                 29   \n",
       "1   24877        0         0  2013-04-21                 32   \n",
       "2   78839        1         0  2013-11-25                 21   \n",
       "3  113859        1         1  2013-01-06                 12   \n",
       "4  147317        0         0  2013-07-10                 14   \n",
       "\n",
       "                                     ID  \n",
       "0  ef81336c-e41a-46d0-8a30-5d4ac3b836be  \n",
       "1  50b224ac-84b4-42a7-aba9-3e1d1d620479  \n",
       "2  9cb15c53-b647-464a-add9-09cdae04897c  \n",
       "3  f8aaf334-949d-4943-a214-b64fe9c088b4  \n",
       "4  885fe85a-3718-4760-a32a-a57628cf7528  "
      ]
     },
     "execution_count": 7,
     "metadata": {},
     "output_type": "execute_result"
    }
   ],
   "source": [
    "df_2013.head()"
   ]
  },
  {
   "cell_type": "code",
   "execution_count": null,
   "metadata": {},
   "outputs": [],
   "source": [
    "#¿Cómo querríamos unir estos df?"
   ]
  },
  {
   "cell_type": "code",
   "execution_count": null,
   "metadata": {},
   "outputs": [],
   "source": [
    "#Método concat: para unir DataFrames\n",
    "#pd.concat\n",
    "#Primero vamos a ver el ejemplo con ficheros pequeñitos"
   ]
  },
  {
   "cell_type": "code",
   "execution_count": 8,
   "metadata": {},
   "outputs": [],
   "source": [
    "df_2012_short = pd.DataFrame({'Año': [2012, 2012], 'Ventas': [100, 200], 'Previsión' : ['ok' , 'debajo']})\n",
    "df_2013_short = pd.DataFrame({'Año': [2013, 2013], 'Ventas': [150, 250]})\n",
    "df_2014_short = pd.DataFrame({'Año': [2014, 2014], 'Ventas': [300, 400]})"
   ]
  },
  {
   "cell_type": "code",
   "execution_count": 9,
   "metadata": {},
   "outputs": [
    {
     "data": {
      "text/html": [
       "<div>\n",
       "<style scoped>\n",
       "    .dataframe tbody tr th:only-of-type {\n",
       "        vertical-align: middle;\n",
       "    }\n",
       "\n",
       "    .dataframe tbody tr th {\n",
       "        vertical-align: top;\n",
       "    }\n",
       "\n",
       "    .dataframe thead th {\n",
       "        text-align: right;\n",
       "    }\n",
       "</style>\n",
       "<table border=\"1\" class=\"dataframe\">\n",
       "  <thead>\n",
       "    <tr style=\"text-align: right;\">\n",
       "      <th></th>\n",
       "      <th>Año</th>\n",
       "      <th>Ventas</th>\n",
       "      <th>Previsión</th>\n",
       "    </tr>\n",
       "  </thead>\n",
       "  <tbody>\n",
       "    <tr>\n",
       "      <th>0</th>\n",
       "      <td>2012</td>\n",
       "      <td>100</td>\n",
       "      <td>ok</td>\n",
       "    </tr>\n",
       "    <tr>\n",
       "      <th>1</th>\n",
       "      <td>2012</td>\n",
       "      <td>200</td>\n",
       "      <td>debajo</td>\n",
       "    </tr>\n",
       "  </tbody>\n",
       "</table>\n",
       "</div>"
      ],
      "text/plain": [
       "    Año  Ventas Previsión\n",
       "0  2012     100        ok\n",
       "1  2012     200    debajo"
      ]
     },
     "execution_count": 9,
     "metadata": {},
     "output_type": "execute_result"
    }
   ],
   "source": [
    "df_2012_short"
   ]
  },
  {
   "cell_type": "code",
   "execution_count": 10,
   "metadata": {},
   "outputs": [
    {
     "data": {
      "text/html": [
       "<div>\n",
       "<style scoped>\n",
       "    .dataframe tbody tr th:only-of-type {\n",
       "        vertical-align: middle;\n",
       "    }\n",
       "\n",
       "    .dataframe tbody tr th {\n",
       "        vertical-align: top;\n",
       "    }\n",
       "\n",
       "    .dataframe thead th {\n",
       "        text-align: right;\n",
       "    }\n",
       "</style>\n",
       "<table border=\"1\" class=\"dataframe\">\n",
       "  <thead>\n",
       "    <tr style=\"text-align: right;\">\n",
       "      <th></th>\n",
       "      <th>Año</th>\n",
       "      <th>Ventas</th>\n",
       "    </tr>\n",
       "  </thead>\n",
       "  <tbody>\n",
       "    <tr>\n",
       "      <th>0</th>\n",
       "      <td>2013</td>\n",
       "      <td>150</td>\n",
       "    </tr>\n",
       "    <tr>\n",
       "      <th>1</th>\n",
       "      <td>2013</td>\n",
       "      <td>250</td>\n",
       "    </tr>\n",
       "  </tbody>\n",
       "</table>\n",
       "</div>"
      ],
      "text/plain": [
       "    Año  Ventas\n",
       "0  2013     150\n",
       "1  2013     250"
      ]
     },
     "execution_count": 10,
     "metadata": {},
     "output_type": "execute_result"
    }
   ],
   "source": [
    "df_2013_short"
   ]
  },
  {
   "cell_type": "code",
   "execution_count": 11,
   "metadata": {},
   "outputs": [
    {
     "data": {
      "text/html": [
       "<div>\n",
       "<style scoped>\n",
       "    .dataframe tbody tr th:only-of-type {\n",
       "        vertical-align: middle;\n",
       "    }\n",
       "\n",
       "    .dataframe tbody tr th {\n",
       "        vertical-align: top;\n",
       "    }\n",
       "\n",
       "    .dataframe thead th {\n",
       "        text-align: right;\n",
       "    }\n",
       "</style>\n",
       "<table border=\"1\" class=\"dataframe\">\n",
       "  <thead>\n",
       "    <tr style=\"text-align: right;\">\n",
       "      <th></th>\n",
       "      <th>Año</th>\n",
       "      <th>Ventas</th>\n",
       "    </tr>\n",
       "  </thead>\n",
       "  <tbody>\n",
       "    <tr>\n",
       "      <th>0</th>\n",
       "      <td>2014</td>\n",
       "      <td>300</td>\n",
       "    </tr>\n",
       "    <tr>\n",
       "      <th>1</th>\n",
       "      <td>2014</td>\n",
       "      <td>400</td>\n",
       "    </tr>\n",
       "  </tbody>\n",
       "</table>\n",
       "</div>"
      ],
      "text/plain": [
       "    Año  Ventas\n",
       "0  2014     300\n",
       "1  2014     400"
      ]
     },
     "execution_count": 11,
     "metadata": {},
     "output_type": "execute_result"
    }
   ],
   "source": [
    "df_2014_short"
   ]
  },
  {
   "cell_type": "code",
   "execution_count": null,
   "metadata": {},
   "outputs": [],
   "source": [
    "#Yo quiero ponerlo uno debajo de otro\n",
    "#Utilizamos pd.concat que tiene un parámetro llamado join. Esto nos suena, ¿no?"
   ]
  },
  {
   "cell_type": "code",
   "execution_count": 12,
   "metadata": {},
   "outputs": [
    {
     "data": {
      "text/html": [
       "<div>\n",
       "<style scoped>\n",
       "    .dataframe tbody tr th:only-of-type {\n",
       "        vertical-align: middle;\n",
       "    }\n",
       "\n",
       "    .dataframe tbody tr th {\n",
       "        vertical-align: top;\n",
       "    }\n",
       "\n",
       "    .dataframe thead th {\n",
       "        text-align: right;\n",
       "    }\n",
       "</style>\n",
       "<table border=\"1\" class=\"dataframe\">\n",
       "  <thead>\n",
       "    <tr style=\"text-align: right;\">\n",
       "      <th></th>\n",
       "      <th>Año</th>\n",
       "      <th>Ventas</th>\n",
       "      <th>Previsión</th>\n",
       "    </tr>\n",
       "  </thead>\n",
       "  <tbody>\n",
       "    <tr>\n",
       "      <th>0</th>\n",
       "      <td>2012</td>\n",
       "      <td>100</td>\n",
       "      <td>ok</td>\n",
       "    </tr>\n",
       "    <tr>\n",
       "      <th>1</th>\n",
       "      <td>2012</td>\n",
       "      <td>200</td>\n",
       "      <td>debajo</td>\n",
       "    </tr>\n",
       "    <tr>\n",
       "      <th>2</th>\n",
       "      <td>2013</td>\n",
       "      <td>150</td>\n",
       "      <td>NaN</td>\n",
       "    </tr>\n",
       "    <tr>\n",
       "      <th>3</th>\n",
       "      <td>2013</td>\n",
       "      <td>250</td>\n",
       "      <td>NaN</td>\n",
       "    </tr>\n",
       "    <tr>\n",
       "      <th>4</th>\n",
       "      <td>2014</td>\n",
       "      <td>300</td>\n",
       "      <td>NaN</td>\n",
       "    </tr>\n",
       "    <tr>\n",
       "      <th>5</th>\n",
       "      <td>2014</td>\n",
       "      <td>400</td>\n",
       "      <td>NaN</td>\n",
       "    </tr>\n",
       "  </tbody>\n",
       "</table>\n",
       "</div>"
      ],
      "text/plain": [
       "    Año  Ventas Previsión\n",
       "0  2012     100        ok\n",
       "1  2012     200    debajo\n",
       "2  2013     150       NaN\n",
       "3  2013     250       NaN\n",
       "4  2014     300       NaN\n",
       "5  2014     400       NaN"
      ]
     },
     "execution_count": 12,
     "metadata": {},
     "output_type": "execute_result"
    }
   ],
   "source": [
    "df_años_short = pd.concat([df_2012_short, df_2013_short, df_2014_short], axis = 0, join = 'outer', ignore_index=True) \n",
    "#axis=0, es para unir por filas, es decir, uno de bajo de otro\n",
    "#join: ahora veremos cómo funciona\n",
    "#ignora_index = True para darle un índice nuevo, False para mantener el de las tablas originales\n",
    "df_años_short"
   ]
  },
  {
   "cell_type": "code",
   "execution_count": 13,
   "metadata": {},
   "outputs": [
    {
     "data": {
      "text/html": [
       "<div>\n",
       "<style scoped>\n",
       "    .dataframe tbody tr th:only-of-type {\n",
       "        vertical-align: middle;\n",
       "    }\n",
       "\n",
       "    .dataframe tbody tr th {\n",
       "        vertical-align: top;\n",
       "    }\n",
       "\n",
       "    .dataframe thead th {\n",
       "        text-align: right;\n",
       "    }\n",
       "</style>\n",
       "<table border=\"1\" class=\"dataframe\">\n",
       "  <thead>\n",
       "    <tr style=\"text-align: right;\">\n",
       "      <th></th>\n",
       "      <th>0</th>\n",
       "      <th>1</th>\n",
       "      <th>2</th>\n",
       "      <th>3</th>\n",
       "      <th>4</th>\n",
       "      <th>5</th>\n",
       "      <th>6</th>\n",
       "    </tr>\n",
       "  </thead>\n",
       "  <tbody>\n",
       "    <tr>\n",
       "      <th>0</th>\n",
       "      <td>2012</td>\n",
       "      <td>100</td>\n",
       "      <td>ok</td>\n",
       "      <td>2013</td>\n",
       "      <td>150</td>\n",
       "      <td>2014</td>\n",
       "      <td>300</td>\n",
       "    </tr>\n",
       "    <tr>\n",
       "      <th>1</th>\n",
       "      <td>2012</td>\n",
       "      <td>200</td>\n",
       "      <td>debajo</td>\n",
       "      <td>2013</td>\n",
       "      <td>250</td>\n",
       "      <td>2014</td>\n",
       "      <td>400</td>\n",
       "    </tr>\n",
       "  </tbody>\n",
       "</table>\n",
       "</div>"
      ],
      "text/plain": [
       "      0    1       2     3    4     5    6\n",
       "0  2012  100      ok  2013  150  2014  300\n",
       "1  2012  200  debajo  2013  250  2014  400"
      ]
     },
     "execution_count": 13,
     "metadata": {},
     "output_type": "execute_result"
    }
   ],
   "source": [
    "#¿Qué psa si hago axis 1?\n",
    "df_años_axis1 = pd.concat([df_2012_short, df_2013_short, df_2014_short], axis = 1, ignore_index=True)\n",
    "df_años_axis1"
   ]
  },
  {
   "cell_type": "code",
   "execution_count": 14,
   "metadata": {},
   "outputs": [
    {
     "data": {
      "text/html": [
       "<div>\n",
       "<style scoped>\n",
       "    .dataframe tbody tr th:only-of-type {\n",
       "        vertical-align: middle;\n",
       "    }\n",
       "\n",
       "    .dataframe tbody tr th {\n",
       "        vertical-align: top;\n",
       "    }\n",
       "\n",
       "    .dataframe thead th {\n",
       "        text-align: right;\n",
       "    }\n",
       "</style>\n",
       "<table border=\"1\" class=\"dataframe\">\n",
       "  <thead>\n",
       "    <tr style=\"text-align: right;\">\n",
       "      <th></th>\n",
       "      <th>Año</th>\n",
       "      <th>Ventas</th>\n",
       "    </tr>\n",
       "  </thead>\n",
       "  <tbody>\n",
       "    <tr>\n",
       "      <th>0</th>\n",
       "      <td>2012</td>\n",
       "      <td>100</td>\n",
       "    </tr>\n",
       "    <tr>\n",
       "      <th>1</th>\n",
       "      <td>2012</td>\n",
       "      <td>200</td>\n",
       "    </tr>\n",
       "    <tr>\n",
       "      <th>2</th>\n",
       "      <td>2013</td>\n",
       "      <td>150</td>\n",
       "    </tr>\n",
       "    <tr>\n",
       "      <th>3</th>\n",
       "      <td>2013</td>\n",
       "      <td>250</td>\n",
       "    </tr>\n",
       "    <tr>\n",
       "      <th>4</th>\n",
       "      <td>2014</td>\n",
       "      <td>300</td>\n",
       "    </tr>\n",
       "    <tr>\n",
       "      <th>5</th>\n",
       "      <td>2014</td>\n",
       "      <td>400</td>\n",
       "    </tr>\n",
       "  </tbody>\n",
       "</table>\n",
       "</div>"
      ],
      "text/plain": [
       "    Año  Ventas\n",
       "0  2012     100\n",
       "1  2012     200\n",
       "2  2013     150\n",
       "3  2013     250\n",
       "4  2014     300\n",
       "5  2014     400"
      ]
     },
     "execution_count": 14,
     "metadata": {},
     "output_type": "execute_result"
    }
   ],
   "source": [
    "df_años_short = pd.concat([df_2012_short, df_2013_short, df_2014_short], axis = 0, join = 'inner', ignore_index=True) \n",
    "df_años_short"
   ]
  },
  {
   "cell_type": "code",
   "execution_count": 15,
   "metadata": {},
   "outputs": [
    {
     "data": {
      "text/html": [
       "<div>\n",
       "<style scoped>\n",
       "    .dataframe tbody tr th:only-of-type {\n",
       "        vertical-align: middle;\n",
       "    }\n",
       "\n",
       "    .dataframe tbody tr th {\n",
       "        vertical-align: top;\n",
       "    }\n",
       "\n",
       "    .dataframe thead th {\n",
       "        text-align: right;\n",
       "    }\n",
       "</style>\n",
       "<table border=\"1\" class=\"dataframe\">\n",
       "  <thead>\n",
       "    <tr style=\"text-align: right;\">\n",
       "      <th></th>\n",
       "      <th>Año</th>\n",
       "      <th>Ventas</th>\n",
       "    </tr>\n",
       "  </thead>\n",
       "  <tbody>\n",
       "    <tr>\n",
       "      <th>0</th>\n",
       "      <td>2012</td>\n",
       "      <td>100</td>\n",
       "    </tr>\n",
       "    <tr>\n",
       "      <th>1</th>\n",
       "      <td>2012</td>\n",
       "      <td>200</td>\n",
       "    </tr>\n",
       "    <tr>\n",
       "      <th>0</th>\n",
       "      <td>2013</td>\n",
       "      <td>150</td>\n",
       "    </tr>\n",
       "    <tr>\n",
       "      <th>1</th>\n",
       "      <td>2013</td>\n",
       "      <td>250</td>\n",
       "    </tr>\n",
       "    <tr>\n",
       "      <th>0</th>\n",
       "      <td>2014</td>\n",
       "      <td>300</td>\n",
       "    </tr>\n",
       "    <tr>\n",
       "      <th>1</th>\n",
       "      <td>2014</td>\n",
       "      <td>400</td>\n",
       "    </tr>\n",
       "  </tbody>\n",
       "</table>\n",
       "</div>"
      ],
      "text/plain": [
       "    Año  Ventas\n",
       "0  2012     100\n",
       "1  2012     200\n",
       "0  2013     150\n",
       "1  2013     250\n",
       "0  2014     300\n",
       "1  2014     400"
      ]
     },
     "execution_count": 15,
     "metadata": {},
     "output_type": "execute_result"
    }
   ],
   "source": [
    "#qué pasa si le pongo en ignore_index false?\n",
    "df_años_short = pd.concat([df_2012_short, df_2013_short, df_2014_short], axis = 0, join = 'inner', ignore_index=False) \n",
    "df_años_short"
   ]
  },
  {
   "cell_type": "code",
   "execution_count": null,
   "metadata": {},
   "outputs": [],
   "source": [
    "#Ahora vamos a hacerlo con los archivos grandes"
   ]
  },
  {
   "cell_type": "code",
   "execution_count": 16,
   "metadata": {},
   "outputs": [
    {
     "data": {
      "text/html": [
       "<div>\n",
       "<style scoped>\n",
       "    .dataframe tbody tr th:only-of-type {\n",
       "        vertical-align: middle;\n",
       "    }\n",
       "\n",
       "    .dataframe tbody tr th {\n",
       "        vertical-align: top;\n",
       "    }\n",
       "\n",
       "    .dataframe thead th {\n",
       "        text-align: right;\n",
       "    }\n",
       "</style>\n",
       "<table border=\"1\" class=\"dataframe\">\n",
       "  <thead>\n",
       "    <tr style=\"text-align: right;\">\n",
       "      <th></th>\n",
       "      <th>Income</th>\n",
       "      <th>Kidhome</th>\n",
       "      <th>Teenhome</th>\n",
       "      <th>Dt_Customer</th>\n",
       "      <th>NumWebVisitsMonth</th>\n",
       "      <th>ID</th>\n",
       "    </tr>\n",
       "  </thead>\n",
       "  <tbody>\n",
       "    <tr>\n",
       "      <th>0</th>\n",
       "      <td>161770</td>\n",
       "      <td>1</td>\n",
       "      <td>0</td>\n",
       "      <td>2012-04-04</td>\n",
       "      <td>29</td>\n",
       "      <td>089b39d8-e4d0-461b-87d4-814d71e0e079</td>\n",
       "    </tr>\n",
       "    <tr>\n",
       "      <th>1</th>\n",
       "      <td>85477</td>\n",
       "      <td>1</td>\n",
       "      <td>1</td>\n",
       "      <td>2012-12-30</td>\n",
       "      <td>7</td>\n",
       "      <td>e9d37224-cb6f-4942-98d7-46672963d097</td>\n",
       "    </tr>\n",
       "    <tr>\n",
       "      <th>2</th>\n",
       "      <td>147233</td>\n",
       "      <td>1</td>\n",
       "      <td>1</td>\n",
       "      <td>2012-02-02</td>\n",
       "      <td>5</td>\n",
       "      <td>3f9f49b5-e410-4948-bf6e-f9244f04918b</td>\n",
       "    </tr>\n",
       "    <tr>\n",
       "      <th>3</th>\n",
       "      <td>121393</td>\n",
       "      <td>1</td>\n",
       "      <td>2</td>\n",
       "      <td>2012-12-21</td>\n",
       "      <td>29</td>\n",
       "      <td>9991fafb-4447-451a-8be2-b0df6098d13e</td>\n",
       "    </tr>\n",
       "    <tr>\n",
       "      <th>4</th>\n",
       "      <td>63164</td>\n",
       "      <td>1</td>\n",
       "      <td>2</td>\n",
       "      <td>2012-06-20</td>\n",
       "      <td>20</td>\n",
       "      <td>eca60b76-70b6-4077-80ba-bc52e8ebb0eb</td>\n",
       "    </tr>\n",
       "  </tbody>\n",
       "</table>\n",
       "</div>"
      ],
      "text/plain": [
       "   Income  Kidhome  Teenhome Dt_Customer  NumWebVisitsMonth  \\\n",
       "0  161770        1         0  2012-04-04                 29   \n",
       "1   85477        1         1  2012-12-30                  7   \n",
       "2  147233        1         1  2012-02-02                  5   \n",
       "3  121393        1         2  2012-12-21                 29   \n",
       "4   63164        1         2  2012-06-20                 20   \n",
       "\n",
       "                                     ID  \n",
       "0  089b39d8-e4d0-461b-87d4-814d71e0e079  \n",
       "1  e9d37224-cb6f-4942-98d7-46672963d097  \n",
       "2  3f9f49b5-e410-4948-bf6e-f9244f04918b  \n",
       "3  9991fafb-4447-451a-8be2-b0df6098d13e  \n",
       "4  eca60b76-70b6-4077-80ba-bc52e8ebb0eb  "
      ]
     },
     "execution_count": 16,
     "metadata": {},
     "output_type": "execute_result"
    }
   ],
   "source": [
    "df_años = pd.concat([df_2012, df_2013, df_2014], axis = 0, ignore_index=True) \n",
    "# axis = 0 uno por filas\n",
    "# ignore_inex = True para ignorar los índices originales y crear uno nuevo secuencial\n",
    "# outer: incluye todas las columnas / inner incluye solo las columnas columnes\n",
    "# Si no le pongo join, da por sentado que es inner\n",
    "df_años.head()"
   ]
  },
  {
   "cell_type": "code",
   "execution_count": null,
   "metadata": {},
   "outputs": [],
   "source": [
    "# Merge: unimos dataframes por columnas en común. Esto nos suena de SQL. Esto ya no es uno debajo de otro."
   ]
  },
  {
   "cell_type": "code",
   "execution_count": 21,
   "metadata": {},
   "outputs": [
    {
     "data": {
      "text/plain": [
       "Index(['age', 'job', 'marital', 'education', 'default', 'housing', 'loan',\n",
       "       'contact', 'duration', 'campaign', 'pdays', 'previous', 'poutcome',\n",
       "       'emp.var.rate', 'cons.price.idx', 'cons.conf.idx', 'euribor3m',\n",
       "       'nr.employed', 'y', 'date', 'latitude', 'longitude', 'id_'],\n",
       "      dtype='object')"
      ]
     },
     "execution_count": 21,
     "metadata": {},
     "output_type": "execute_result"
    }
   ],
   "source": [
    "df_bank.columns"
   ]
  },
  {
   "cell_type": "code",
   "execution_count": 22,
   "metadata": {},
   "outputs": [
    {
     "data": {
      "text/plain": [
       "Index(['Income', 'Kidhome', 'Teenhome', 'Dt_Customer', 'NumWebVisitsMonth',\n",
       "       'ID'],\n",
       "      dtype='object')"
      ]
     },
     "execution_count": 22,
     "metadata": {},
     "output_type": "execute_result"
    }
   ],
   "source": [
    "df_años.columns"
   ]
  },
  {
   "cell_type": "code",
   "execution_count": null,
   "metadata": {},
   "outputs": [],
   "source": [
    "#¿Hay alguna columna por la que podamos unir ambas tablas?"
   ]
  },
  {
   "cell_type": "code",
   "execution_count": null,
   "metadata": {},
   "outputs": [],
   "source": [
    "#Vamos a querer unir ambas tablas... Y las opciones son como en SQL... Left, right e inner join."
   ]
  },
  {
   "cell_type": "code",
   "execution_count": null,
   "metadata": {},
   "outputs": [],
   "source": [
    "#La estructura es:\n",
    "nombre_df_final = df1.merge(df2, left_on = columna por la que unir en la izquierda, right_on= columna por la que unir en la derecha)"
   ]
  },
  {
   "cell_type": "code",
   "execution_count": 16,
   "metadata": {},
   "outputs": [],
   "source": [
    "merge_inner = df_años.merge(df_bank, left_on = 'ID', right_on = 'id_') #la tabla de la izquierda sigue siendo la primera"
   ]
  },
  {
   "cell_type": "code",
   "execution_count": null,
   "metadata": {},
   "outputs": [],
   "source": [
    "#left_on = el nombre de la columna a unir de la tabla de la izquierda\n",
    "#right_on = el nombre de la columna a unir de la tabla de la derecha\n",
    "#Si no le ponemos nada, es un inner"
   ]
  },
  {
   "cell_type": "code",
   "execution_count": null,
   "metadata": {},
   "outputs": [],
   "source": [
    "merge_inner.head()"
   ]
  },
  {
   "cell_type": "code",
   "execution_count": 28,
   "metadata": {},
   "outputs": [
    {
     "data": {
      "text/plain": [
       "(43170, 6)"
      ]
     },
     "execution_count": 28,
     "metadata": {},
     "output_type": "execute_result"
    }
   ],
   "source": [
    "df_años.shape"
   ]
  },
  {
   "cell_type": "code",
   "execution_count": 29,
   "metadata": {},
   "outputs": [
    {
     "data": {
      "text/plain": [
       "(43000, 23)"
      ]
     },
     "execution_count": 29,
     "metadata": {},
     "output_type": "execute_result"
    }
   ],
   "source": [
    "df_bank.shape"
   ]
  },
  {
   "cell_type": "code",
   "execution_count": 30,
   "metadata": {},
   "outputs": [
    {
     "data": {
      "text/plain": [
       "(43000, 29)"
      ]
     },
     "execution_count": 30,
     "metadata": {},
     "output_type": "execute_result"
    }
   ],
   "source": [
    "merge_inner.shape"
   ]
  },
  {
   "cell_type": "code",
   "execution_count": null,
   "metadata": {},
   "outputs": [],
   "source": [
    "#¿Y si quiero mantener los registros de la primera tabla, la de años, aunque no estén en la segunda?\n",
    "#Uso el parámetro how"
   ]
  },
  {
   "cell_type": "code",
   "execution_count": null,
   "metadata": {},
   "outputs": [],
   "source": [
    "merge_left= df_años.merge(df_bank, how = 'left', left_on = 'ID', right_on = 'id_')\n",
    "merge_left.head()"
   ]
  },
  {
   "cell_type": "code",
   "execution_count": null,
   "metadata": {},
   "outputs": [],
   "source": [
    "merge_right= df_años.merge(df_bank, how = 'right', left_on = 'ID', right_on = 'id_')\n",
    "merge_right.head()"
   ]
  },
  {
   "cell_type": "code",
   "execution_count": null,
   "metadata": {},
   "outputs": [],
   "source": [
    "merge_outer= df_años.merge(df_bank, how = 'outer', left_on = 'ID', right_on = 'id_')\n",
    "merge_outer.head()"
   ]
  },
  {
   "cell_type": "code",
   "execution_count": null,
   "metadata": {},
   "outputs": [],
   "source": [
    "# concat -> unir df uno encima de otro\n",
    "# merge -> unir df uno al lado de otro a través de columnas en común\n",
    "# join -> unir df a través de índices, pero se usa mucho menos"
   ]
  },
  {
   "cell_type": "code",
   "execution_count": 30,
   "metadata": {},
   "outputs": [
    {
     "data": {
      "text/plain": [
       "Index(['age', 'job', 'marital', 'education', 'default', 'housing', 'loan',\n",
       "       'contact', 'duration', 'campaign', 'pdays', 'previous', 'poutcome',\n",
       "       'emp.var.rate', 'cons.price.idx', 'cons.conf.idx', 'euribor3m',\n",
       "       'nr.employed', 'y', 'date', 'latitude', 'longitude', 'id_'],\n",
       "      dtype='object')"
      ]
     },
     "execution_count": 30,
     "metadata": {},
     "output_type": "execute_result"
    }
   ],
   "source": [
    "df_bank.columns"
   ]
  },
  {
   "cell_type": "code",
   "execution_count": null,
   "metadata": {},
   "outputs": [],
   "source": [
    "#Vamos a convertir a ID y id_ en índices y luego vamos a unir las tablas por índice\n",
    "#Primero vamos a renombrar id_ a ID\n",
    "#Después pasaremos las columnas ID a índice\n",
    "#Por último, usaremos JOIN para unir"
   ]
  },
  {
   "cell_type": "code",
   "execution_count": 28,
   "metadata": {},
   "outputs": [],
   "source": [
    "df_bank.rename(columns = {'id_': 'ID'}, inplace = True)"
   ]
  },
  {
   "cell_type": "code",
   "execution_count": 29,
   "metadata": {},
   "outputs": [
    {
     "data": {
      "text/plain": [
       "Index(['age', 'job', 'marital', 'education', 'default', 'housing', 'loan',\n",
       "       'contact', 'duration', 'campaign', 'pdays', 'previous', 'poutcome',\n",
       "       'emp.var.rate', 'cons.price.idx', 'cons.conf.idx', 'euribor3m',\n",
       "       'nr.employed', 'y', 'date', 'latitude', 'longitude'],\n",
       "      dtype='object')"
      ]
     },
     "execution_count": 29,
     "metadata": {},
     "output_type": "execute_result"
    }
   ],
   "source": [
    "df_bank.columns"
   ]
  },
  {
   "cell_type": "code",
   "execution_count": 17,
   "metadata": {},
   "outputs": [
    {
     "data": {
      "text/html": [
       "<div>\n",
       "<style scoped>\n",
       "    .dataframe tbody tr th:only-of-type {\n",
       "        vertical-align: middle;\n",
       "    }\n",
       "\n",
       "    .dataframe tbody tr th {\n",
       "        vertical-align: top;\n",
       "    }\n",
       "\n",
       "    .dataframe thead th {\n",
       "        text-align: right;\n",
       "    }\n",
       "</style>\n",
       "<table border=\"1\" class=\"dataframe\">\n",
       "  <thead>\n",
       "    <tr style=\"text-align: right;\">\n",
       "      <th></th>\n",
       "      <th>age</th>\n",
       "      <th>job</th>\n",
       "      <th>marital</th>\n",
       "      <th>education</th>\n",
       "      <th>default</th>\n",
       "      <th>housing</th>\n",
       "      <th>loan</th>\n",
       "      <th>contact</th>\n",
       "      <th>duration</th>\n",
       "      <th>campaign</th>\n",
       "      <th>pdays</th>\n",
       "      <th>previous</th>\n",
       "      <th>poutcome</th>\n",
       "      <th>emp.var.rate</th>\n",
       "      <th>cons.price.idx</th>\n",
       "      <th>cons.conf.idx</th>\n",
       "      <th>euribor3m</th>\n",
       "      <th>nr.employed</th>\n",
       "      <th>y</th>\n",
       "      <th>date</th>\n",
       "      <th>latitude</th>\n",
       "      <th>longitude</th>\n",
       "      <th>id_</th>\n",
       "    </tr>\n",
       "  </thead>\n",
       "  <tbody>\n",
       "    <tr>\n",
       "      <th>0</th>\n",
       "      <td>NaN</td>\n",
       "      <td>housemaid</td>\n",
       "      <td>MARRIED</td>\n",
       "      <td>basic.4y</td>\n",
       "      <td>0.0</td>\n",
       "      <td>0.0</td>\n",
       "      <td>0.0</td>\n",
       "      <td>telephone</td>\n",
       "      <td>261</td>\n",
       "      <td>1</td>\n",
       "      <td>999</td>\n",
       "      <td>0</td>\n",
       "      <td>NONEXISTENT</td>\n",
       "      <td>1.1</td>\n",
       "      <td>93,994</td>\n",
       "      <td>-36,4</td>\n",
       "      <td>4,857</td>\n",
       "      <td>5191</td>\n",
       "      <td>no</td>\n",
       "      <td>2-agosto-2019</td>\n",
       "      <td>41.495</td>\n",
       "      <td>-71.233</td>\n",
       "      <td>089b39d8-e4d0-461b-87d4-814d71e0e079</td>\n",
       "    </tr>\n",
       "    <tr>\n",
       "      <th>1</th>\n",
       "      <td>57.0</td>\n",
       "      <td>services</td>\n",
       "      <td>MARRIED</td>\n",
       "      <td>high.school</td>\n",
       "      <td>NaN</td>\n",
       "      <td>0.0</td>\n",
       "      <td>0.0</td>\n",
       "      <td>telephone</td>\n",
       "      <td>149</td>\n",
       "      <td>1</td>\n",
       "      <td>999</td>\n",
       "      <td>0</td>\n",
       "      <td>NONEXISTENT</td>\n",
       "      <td>1.1</td>\n",
       "      <td>93,994</td>\n",
       "      <td>-36,4</td>\n",
       "      <td>NaN</td>\n",
       "      <td>5191</td>\n",
       "      <td>no</td>\n",
       "      <td>14-septiembre-2016</td>\n",
       "      <td>34.601</td>\n",
       "      <td>-83.923</td>\n",
       "      <td>e9d37224-cb6f-4942-98d7-46672963d097</td>\n",
       "    </tr>\n",
       "    <tr>\n",
       "      <th>2</th>\n",
       "      <td>37.0</td>\n",
       "      <td>services</td>\n",
       "      <td>MARRIED</td>\n",
       "      <td>high.school</td>\n",
       "      <td>0.0</td>\n",
       "      <td>1.0</td>\n",
       "      <td>0.0</td>\n",
       "      <td>telephone</td>\n",
       "      <td>226</td>\n",
       "      <td>1</td>\n",
       "      <td>999</td>\n",
       "      <td>0</td>\n",
       "      <td>NONEXISTENT</td>\n",
       "      <td>1.1</td>\n",
       "      <td>93,994</td>\n",
       "      <td>-36,4</td>\n",
       "      <td>4,857</td>\n",
       "      <td>5191</td>\n",
       "      <td>no</td>\n",
       "      <td>15-febrero-2019</td>\n",
       "      <td>34.939</td>\n",
       "      <td>-94.847</td>\n",
       "      <td>3f9f49b5-e410-4948-bf6e-f9244f04918b</td>\n",
       "    </tr>\n",
       "  </tbody>\n",
       "</table>\n",
       "</div>"
      ],
      "text/plain": [
       "    age        job  marital    education  default  housing  loan    contact  \\\n",
       "0   NaN  housemaid  MARRIED     basic.4y      0.0      0.0   0.0  telephone   \n",
       "1  57.0   services  MARRIED  high.school      NaN      0.0   0.0  telephone   \n",
       "2  37.0   services  MARRIED  high.school      0.0      1.0   0.0  telephone   \n",
       "\n",
       "   duration  campaign  pdays  previous     poutcome  emp.var.rate  \\\n",
       "0       261         1    999         0  NONEXISTENT           1.1   \n",
       "1       149         1    999         0  NONEXISTENT           1.1   \n",
       "2       226         1    999         0  NONEXISTENT           1.1   \n",
       "\n",
       "  cons.price.idx cons.conf.idx euribor3m nr.employed   y                date  \\\n",
       "0         93,994         -36,4     4,857        5191  no       2-agosto-2019   \n",
       "1         93,994         -36,4       NaN        5191  no  14-septiembre-2016   \n",
       "2         93,994         -36,4     4,857        5191  no     15-febrero-2019   \n",
       "\n",
       "   latitude  longitude                                   id_  \n",
       "0    41.495    -71.233  089b39d8-e4d0-461b-87d4-814d71e0e079  \n",
       "1    34.601    -83.923  e9d37224-cb6f-4942-98d7-46672963d097  \n",
       "2    34.939    -94.847  3f9f49b5-e410-4948-bf6e-f9244f04918b  "
      ]
     },
     "execution_count": 17,
     "metadata": {},
     "output_type": "execute_result"
    }
   ],
   "source": [
    "df_bank.head(3)"
   ]
  },
  {
   "cell_type": "code",
   "execution_count": 18,
   "metadata": {},
   "outputs": [
    {
     "ename": "KeyError",
     "evalue": "\"None of ['ID'] are in the columns\"",
     "output_type": "error",
     "traceback": [
      "\u001b[1;31m---------------------------------------------------------------------------\u001b[0m",
      "\u001b[1;31mKeyError\u001b[0m                                  Traceback (most recent call last)",
      "\u001b[1;32m~\\AppData\\Local\\Temp\\ipykernel_7408\\107270088.py\u001b[0m in \u001b[0;36m?\u001b[1;34m()\u001b[0m\n\u001b[1;32m----> 1\u001b[1;33m \u001b[0mdf_bank\u001b[0m\u001b[1;33m.\u001b[0m\u001b[0mset_index\u001b[0m\u001b[1;33m(\u001b[0m\u001b[1;33m[\u001b[0m\u001b[1;34m'ID'\u001b[0m\u001b[1;33m]\u001b[0m\u001b[1;33m,\u001b[0m \u001b[0minplace\u001b[0m \u001b[1;33m=\u001b[0m \u001b[1;32mTrue\u001b[0m\u001b[1;33m)\u001b[0m\u001b[1;33m\u001b[0m\u001b[1;33m\u001b[0m\u001b[0m\n\u001b[0m\u001b[0;32m      2\u001b[0m \u001b[0mdf_bank\u001b[0m\u001b[1;33m.\u001b[0m\u001b[0mhead\u001b[0m\u001b[1;33m(\u001b[0m\u001b[1;36m2\u001b[0m\u001b[1;33m)\u001b[0m\u001b[1;33m\u001b[0m\u001b[1;33m\u001b[0m\u001b[0m\n",
      "\u001b[1;32mc:\\Users\\Kathe\\AppData\\Local\\Programs\\Python\\Python313\\Lib\\site-packages\\pandas\\core\\frame.py\u001b[0m in \u001b[0;36m?\u001b[1;34m(self, keys, drop, append, inplace, verify_integrity)\u001b[0m\n\u001b[0;32m   6118\u001b[0m                     \u001b[1;32mif\u001b[0m \u001b[1;32mnot\u001b[0m \u001b[0mfound\u001b[0m\u001b[1;33m:\u001b[0m\u001b[1;33m\u001b[0m\u001b[1;33m\u001b[0m\u001b[0m\n\u001b[0;32m   6119\u001b[0m                         \u001b[0mmissing\u001b[0m\u001b[1;33m.\u001b[0m\u001b[0mappend\u001b[0m\u001b[1;33m(\u001b[0m\u001b[0mcol\u001b[0m\u001b[1;33m)\u001b[0m\u001b[1;33m\u001b[0m\u001b[1;33m\u001b[0m\u001b[0m\n\u001b[0;32m   6120\u001b[0m \u001b[1;33m\u001b[0m\u001b[0m\n\u001b[0;32m   6121\u001b[0m         \u001b[1;32mif\u001b[0m \u001b[0mmissing\u001b[0m\u001b[1;33m:\u001b[0m\u001b[1;33m\u001b[0m\u001b[1;33m\u001b[0m\u001b[0m\n\u001b[1;32m-> 6122\u001b[1;33m             \u001b[1;32mraise\u001b[0m \u001b[0mKeyError\u001b[0m\u001b[1;33m(\u001b[0m\u001b[1;33mf\"\u001b[0m\u001b[1;33mNone of \u001b[0m\u001b[1;33m{\u001b[0m\u001b[0mmissing\u001b[0m\u001b[1;33m}\u001b[0m\u001b[1;33m are in the columns\u001b[0m\u001b[1;33m\"\u001b[0m\u001b[1;33m)\u001b[0m\u001b[1;33m\u001b[0m\u001b[1;33m\u001b[0m\u001b[0m\n\u001b[0m\u001b[0;32m   6123\u001b[0m \u001b[1;33m\u001b[0m\u001b[0m\n\u001b[0;32m   6124\u001b[0m         \u001b[1;32mif\u001b[0m \u001b[0minplace\u001b[0m\u001b[1;33m:\u001b[0m\u001b[1;33m\u001b[0m\u001b[1;33m\u001b[0m\u001b[0m\n\u001b[0;32m   6125\u001b[0m             \u001b[0mframe\u001b[0m \u001b[1;33m=\u001b[0m \u001b[0mself\u001b[0m\u001b[1;33m\u001b[0m\u001b[1;33m\u001b[0m\u001b[0m\n",
      "\u001b[1;31mKeyError\u001b[0m: \"None of ['ID'] are in the columns\""
     ]
    }
   ],
   "source": [
    "df_bank.set_index(['ID'], inplace = True)\n",
    "df_bank.head(2)"
   ]
  },
  {
   "cell_type": "code",
   "execution_count": null,
   "metadata": {},
   "outputs": [],
   "source": [
    "df_años.head()"
   ]
  },
  {
   "cell_type": "code",
   "execution_count": 30,
   "metadata": {},
   "outputs": [
    {
     "data": {
      "text/html": [
       "<div>\n",
       "<style scoped>\n",
       "    .dataframe tbody tr th:only-of-type {\n",
       "        vertical-align: middle;\n",
       "    }\n",
       "\n",
       "    .dataframe tbody tr th {\n",
       "        vertical-align: top;\n",
       "    }\n",
       "\n",
       "    .dataframe thead th {\n",
       "        text-align: right;\n",
       "    }\n",
       "</style>\n",
       "<table border=\"1\" class=\"dataframe\">\n",
       "  <thead>\n",
       "    <tr style=\"text-align: right;\">\n",
       "      <th></th>\n",
       "      <th>Income</th>\n",
       "      <th>Kidhome</th>\n",
       "      <th>Teenhome</th>\n",
       "      <th>Dt_Customer</th>\n",
       "      <th>NumWebVisitsMonth</th>\n",
       "    </tr>\n",
       "    <tr>\n",
       "      <th>ID</th>\n",
       "      <th></th>\n",
       "      <th></th>\n",
       "      <th></th>\n",
       "      <th></th>\n",
       "      <th></th>\n",
       "    </tr>\n",
       "  </thead>\n",
       "  <tbody>\n",
       "    <tr>\n",
       "      <th>089b39d8-e4d0-461b-87d4-814d71e0e079</th>\n",
       "      <td>161770</td>\n",
       "      <td>1</td>\n",
       "      <td>0</td>\n",
       "      <td>2012-04-04</td>\n",
       "      <td>29</td>\n",
       "    </tr>\n",
       "    <tr>\n",
       "      <th>e9d37224-cb6f-4942-98d7-46672963d097</th>\n",
       "      <td>85477</td>\n",
       "      <td>1</td>\n",
       "      <td>1</td>\n",
       "      <td>2012-12-30</td>\n",
       "      <td>7</td>\n",
       "    </tr>\n",
       "    <tr>\n",
       "      <th>3f9f49b5-e410-4948-bf6e-f9244f04918b</th>\n",
       "      <td>147233</td>\n",
       "      <td>1</td>\n",
       "      <td>1</td>\n",
       "      <td>2012-02-02</td>\n",
       "      <td>5</td>\n",
       "    </tr>\n",
       "    <tr>\n",
       "      <th>9991fafb-4447-451a-8be2-b0df6098d13e</th>\n",
       "      <td>121393</td>\n",
       "      <td>1</td>\n",
       "      <td>2</td>\n",
       "      <td>2012-12-21</td>\n",
       "      <td>29</td>\n",
       "    </tr>\n",
       "    <tr>\n",
       "      <th>eca60b76-70b6-4077-80ba-bc52e8ebb0eb</th>\n",
       "      <td>63164</td>\n",
       "      <td>1</td>\n",
       "      <td>2</td>\n",
       "      <td>2012-06-20</td>\n",
       "      <td>20</td>\n",
       "    </tr>\n",
       "  </tbody>\n",
       "</table>\n",
       "</div>"
      ],
      "text/plain": [
       "                                      Income  Kidhome  Teenhome Dt_Customer  \\\n",
       "ID                                                                            \n",
       "089b39d8-e4d0-461b-87d4-814d71e0e079  161770        1         0  2012-04-04   \n",
       "e9d37224-cb6f-4942-98d7-46672963d097   85477        1         1  2012-12-30   \n",
       "3f9f49b5-e410-4948-bf6e-f9244f04918b  147233        1         1  2012-02-02   \n",
       "9991fafb-4447-451a-8be2-b0df6098d13e  121393        1         2  2012-12-21   \n",
       "eca60b76-70b6-4077-80ba-bc52e8ebb0eb   63164        1         2  2012-06-20   \n",
       "\n",
       "                                      NumWebVisitsMonth  \n",
       "ID                                                       \n",
       "089b39d8-e4d0-461b-87d4-814d71e0e079                 29  \n",
       "e9d37224-cb6f-4942-98d7-46672963d097                  7  \n",
       "3f9f49b5-e410-4948-bf6e-f9244f04918b                  5  \n",
       "9991fafb-4447-451a-8be2-b0df6098d13e                 29  \n",
       "eca60b76-70b6-4077-80ba-bc52e8ebb0eb                 20  "
      ]
     },
     "execution_count": 30,
     "metadata": {},
     "output_type": "execute_result"
    }
   ],
   "source": [
    "df_años.set_index(['ID'], inplace = True)\n",
    "df_años.head()"
   ]
  },
  {
   "cell_type": "code",
   "execution_count": null,
   "metadata": {},
   "outputs": [],
   "source": [
    "#Veamos cómo se unirían"
   ]
  },
  {
   "cell_type": "code",
   "execution_count": null,
   "metadata": {},
   "outputs": [],
   "source": [
    "df_join = df_años.join(df_bank, on = 'ID') #Por defecto, realiza un left join\n",
    "df_join.head()\n"
   ]
  },
  {
   "cell_type": "code",
   "execution_count": null,
   "metadata": {},
   "outputs": [],
   "source": [
    "#si quisieramos hacer otro tipo de join, tendríamos que añadir el parámetro how = 'right' o 'outer'"
   ]
  },
  {
   "cell_type": "markdown",
   "metadata": {},
   "source": [
    "# Limpieza\n",
    "\n",
    "- Eliminar info redundante, duplicados, eliminar columnas con demasiados nulos\n",
    "- Homegeneizar columnas: cambiar nombre o tipo de dato\n",
    "- Limpieza o reemplazo de caracteres\n",
    "- Creación de columnas nuevas, normalmente basadas en otras\n",
    "- Gestión de nulos\n"
   ]
  },
  {
   "cell_type": "code",
   "execution_count": null,
   "metadata": {},
   "outputs": [],
   "source": [
    "merge_inner"
   ]
  },
  {
   "cell_type": "code",
   "execution_count": 34,
   "metadata": {},
   "outputs": [],
   "source": [
    "df_final = merge_inner.copy()"
   ]
  },
  {
   "cell_type": "code",
   "execution_count": 35,
   "metadata": {},
   "outputs": [
    {
     "data": {
      "text/plain": [
       "Index(['Income', 'Kidhome', 'Teenhome', 'Dt_Customer', 'NumWebVisitsMonth',\n",
       "       'ID', 'age', 'job', 'marital', 'education', 'default', 'housing',\n",
       "       'loan', 'contact', 'duration', 'campaign', 'pdays', 'previous',\n",
       "       'poutcome', 'emp.var.rate', 'cons.price.idx', 'cons.conf.idx',\n",
       "       'euribor3m', 'nr.employed', 'y', 'date', 'latitude', 'longitude',\n",
       "       'id_'],\n",
       "      dtype='object')"
      ]
     },
     "execution_count": 35,
     "metadata": {},
     "output_type": "execute_result"
    }
   ],
   "source": [
    "df_final.columns"
   ]
  },
  {
   "cell_type": "code",
   "execution_count": 41,
   "metadata": {},
   "outputs": [
    {
     "data": {
      "text/plain": [
       "Index(['Income', 'Kidhome', 'Teenhome', 'Dt_Customer', 'NumWebVisitsMonth',\n",
       "       'ID', 'age', 'job', 'marital', 'education', 'default', 'housing',\n",
       "       'loan', 'contact', 'duration', 'campaign', 'pdays', 'previous',\n",
       "       'poutcome', 'emp.var.rate', 'cons.price.idx', 'cons.conf.idx',\n",
       "       'euribor3m', 'nr.employed', 'y', 'date', 'latitude', 'longitude'],\n",
       "      dtype='object')"
      ]
     },
     "execution_count": 41,
     "metadata": {},
     "output_type": "execute_result"
    }
   ],
   "source": [
    "# Eliminamos columnas redundantes, por ejemplo, al hacer el join, tengo dos columnas de id\n",
    "\n",
    "df_final.drop(\"id_\", axis = 1, inplace = True)\n",
    "df_final.columns"
   ]
  },
  {
   "cell_type": "code",
   "execution_count": 42,
   "metadata": {},
   "outputs": [
    {
     "data": {
      "text/plain": [
       "{'Income': 'income',\n",
       " 'Kidhome': 'kidhome',\n",
       " 'Teenhome': 'teenhome',\n",
       " 'Dt_Customer': 'dt_customer',\n",
       " 'NumWebVisitsMonth': 'numwebvisitsmonth',\n",
       " 'ID': 'id',\n",
       " 'age': 'age',\n",
       " 'job': 'job',\n",
       " 'marital': 'marital',\n",
       " 'education': 'education',\n",
       " 'default': 'default',\n",
       " 'housing': 'housing',\n",
       " 'loan': 'loan',\n",
       " 'contact': 'contact',\n",
       " 'duration': 'duration',\n",
       " 'campaign': 'campaign',\n",
       " 'pdays': 'pdays',\n",
       " 'previous': 'previous',\n",
       " 'poutcome': 'poutcome',\n",
       " 'emp.var.rate': 'empvarrate',\n",
       " 'cons.price.idx': 'conspriceidx',\n",
       " 'cons.conf.idx': 'consconfidx',\n",
       " 'euribor3m': 'euribor3m',\n",
       " 'nr.employed': 'nremployed',\n",
       " 'y': 'y',\n",
       " 'date': 'date',\n",
       " 'latitude': 'latitude',\n",
       " 'longitude': 'longitude'}"
      ]
     },
     "execution_count": 42,
     "metadata": {},
     "output_type": "execute_result"
    }
   ],
   "source": [
    "# Homogeneizamos nombre de las columnas\n",
    "# Esto es importante para la limpieza, para no tener inconsistencias\n",
    "# En este caso, quiero todos los nombres de columnas en minúsculas\n",
    "\n",
    "nuevas_columnas = {}\n",
    "\n",
    "for col in df_final.columns:\n",
    "    nuevas_columnas[col] = col.lower().replace(\".\", \"\")\n",
    "\n",
    "nuevas_columnas"
   ]
  },
  {
   "cell_type": "code",
   "execution_count": null,
   "metadata": {},
   "outputs": [],
   "source": [
    "#Para cambiar nombre de columna usamos df.rename(columns = diccionario con nombre antiguo: nombre nuevo)\n",
    "df_final.rename(columns = nuevas_columnas, inplace = True)\n",
    "df_final.columns"
   ]
  },
  {
   "cell_type": "code",
   "execution_count": null,
   "metadata": {},
   "outputs": [],
   "source": [
    "# Cambiar tipo de datos si fuera necesario\n",
    "\n",
    "df_final.info() #Mirar cada uno si tiene sentido que sea de ese tipo de dato"
   ]
  },
  {
   "cell_type": "code",
   "execution_count": null,
   "metadata": {},
   "outputs": [],
   "source": [
    "#¿Cómo se cambia el tipo de dato de una columna?\n",
    "#Usamos el método .astype() y en algunos casos pd.to_datetime()\n",
    "# Para empezar tenemos que saber de qué dato a qué dato podemos pasar\n",
    "## int --> float, str, bool (0 sería False y los demás True)\n",
    "## float --> int, str, bool (0.0 False y lo demás True)\n",
    "## str --> int solo si son números válidos, float igual, bool (celdas vacías son False y las demás, True)\n",
    "## bool --> int (True es 1 y False 0), float (1.0, 0.0), str ('True', 'False')\n",
    "\n",
    "df['nombre_columna'] = df['nombre_columna'].astype(int)\n",
    "df['nombre_columna'] = df['nombre_columna'].astype(str)\n",
    "df['nombre_columna'] = df['nombre_columna'].astype(bool)\n",
    "df['nombre_columna'] = pd.to_datetime(df['nombre_columna'])\n",
    "df = df.astype({columna1: int, columna2:str})\n",
    "\n",
    "#Convertir varias columnas a la vez\n",
    "df = df.astype({'columna1': int, 'columna2': str})"
   ]
  },
  {
   "cell_type": "code",
   "execution_count": 44,
   "metadata": {},
   "outputs": [],
   "source": [
    "#Ej, quiero el income como float\n",
    "df_final['income'] = df_final['income'].astype(float)"
   ]
  },
  {
   "cell_type": "code",
   "execution_count": null,
   "metadata": {},
   "outputs": [],
   "source": [
    "df_final.info()"
   ]
  },
  {
   "cell_type": "code",
   "execution_count": null,
   "metadata": {},
   "outputs": [],
   "source": [
    "df_final.dtypes"
   ]
  },
  {
   "cell_type": "code",
   "execution_count": null,
   "metadata": {},
   "outputs": [],
   "source": [
    "df_final.describe()"
   ]
  },
  {
   "cell_type": "code",
   "execution_count": null,
   "metadata": {},
   "outputs": [],
   "source": [
    "df_final.describe().T\n",
    "#count: num de valores no nulos\n",
    "#media: promedio\n",
    "#std: desviación estándar\n",
    "#min: valor mínimo\n",
    "#max: valor máximo\n",
    "#25%: Primer cuartil, percentil 25\n",
    "#50%: La mediana\n",
    "#75%: Tercer cuartil, percentil 75\n"
   ]
  },
  {
   "cell_type": "code",
   "execution_count": null,
   "metadata": {},
   "outputs": [],
   "source": [
    "for col in df_final.select_dtypes(include='object'):\n",
    "    print(col)\n",
    "    print('-----------------------------')\n",
    "    print(df_final[col].unique())\n",
    "    \n",
    "#Me sirve para ver si está bien escrito, valores únicos, etc."
   ]
  },
  {
   "cell_type": "code",
   "execution_count": null,
   "metadata": {},
   "outputs": [],
   "source": [
    "# IMPORTANTE: No voy a limpiar columnas con las que no voy a trabajar..."
   ]
  },
  {
   "cell_type": "code",
   "execution_count": null,
   "metadata": {},
   "outputs": [],
   "source": [
    "#¿Cómo podríamos modificar el texto de la info dentro de nuestras columnas?\n"
   ]
  },
  {
   "cell_type": "code",
   "execution_count": 50,
   "metadata": {},
   "outputs": [],
   "source": [
    "df_final['marital'] = df_final['marital'].str.lower()\n",
    "df_final['poutcome'] = df_final['poutcome'].str.lower()"
   ]
  },
  {
   "cell_type": "code",
   "execution_count": 51,
   "metadata": {},
   "outputs": [],
   "source": [
    "df_final['education'] = df_final['education'].str.replace('.', \" \")"
   ]
  },
  {
   "cell_type": "code",
   "execution_count": 55,
   "metadata": {},
   "outputs": [
    {
     "data": {
      "text/plain": [
       "0             2-agosto-2019\n",
       "1        14-septiembre-2016\n",
       "2           15-febrero-2019\n",
       "3         29-noviembre-2015\n",
       "4             29-enero-2017\n",
       "                ...        \n",
       "42995       13-octubre-2015\n",
       "42996         17-marzo-2018\n",
       "42997    15-septiembre-2016\n",
       "42998    23-septiembre-2019\n",
       "42999      6-noviembre-2019\n",
       "Name: date, Length: 43000, dtype: object"
      ]
     },
     "execution_count": 55,
     "metadata": {},
     "output_type": "execute_result"
    }
   ],
   "source": [
    "df_final['date'] # A lo mejor no quiero esta fecha así, sino separar año y mes..."
   ]
  },
  {
   "cell_type": "code",
   "execution_count": 76,
   "metadata": {},
   "outputs": [],
   "source": [
    "df_final[[\"contact_month\", \"contact_year\"]] = df_final[\"date\"].str.split(\"-\", expand = True).get([1,2])\n",
    "#Expand me convierte el valor dividido por - en columnas, como si tuvieras tres columnas así: 2    agosto   2019\n",
    "#get me coge los índices que yo le digo, en este caso el índice 1 y 2 son la segunda y tercera columna"
   ]
  },
  {
   "cell_type": "code",
   "execution_count": null,
   "metadata": {},
   "outputs": [],
   "source": [
    "#También lo podemos hacer de otra forma, podemos usilizar dt.month o dt.year para obtener el mes y año de un datetime"
   ]
  },
  {
   "cell_type": "code",
   "execution_count": null,
   "metadata": {},
   "outputs": [],
   "source": [
    "df_final[\"contact_month\"] = df_final[\"date\"].dt.month\n",
    "df_final[\"contact_year\"] = df_final[\"date\"].dt.year"
   ]
  },
  {
   "cell_type": "code",
   "execution_count": null,
   "metadata": {},
   "outputs": [],
   "source": [
    "df_final.head()"
   ]
  },
  {
   "cell_type": "code",
   "execution_count": null,
   "metadata": {},
   "outputs": [],
   "source": [
    "df_final.to_csv(\"df_final_limpieza.csv\", index=False) #cómo guardar el resultado\n",
    "#index_False se usa para evitar que se guarde el índice de las filas en el csv, si no lo incluimos,\n",
    "# pandas agregará una columna extra al principio de csv con una secuencia de números"
   ]
  },
  {
   "cell_type": "markdown",
   "metadata": {},
   "source": [
    "## Filtrado\n",
    "\n",
    "### ==\n",
    "### .isin()\n",
    "### .between()\n",
    "### .str.contains()\n",
    "\n"
   ]
  },
  {
   "cell_type": "code",
   "execution_count": null,
   "metadata": {},
   "outputs": [],
   "source": [
    "df_final['marital'].unique()"
   ]
  },
  {
   "cell_type": "code",
   "execution_count": null,
   "metadata": {},
   "outputs": [],
   "source": [
    "#Imaginaos que solo me quiero quedar con married\n",
    "cond_married = df_final['marital'] == 'married'"
   ]
  },
  {
   "cell_type": "code",
   "execution_count": null,
   "metadata": {},
   "outputs": [],
   "source": [
    "#He creado una condición, a ver qué me devuelve"
   ]
  },
  {
   "cell_type": "code",
   "execution_count": null,
   "metadata": {},
   "outputs": [],
   "source": [
    "cond_married"
   ]
  },
  {
   "cell_type": "code",
   "execution_count": null,
   "metadata": {},
   "outputs": [],
   "source": [
    "#Si yo esta condición se la paso a la columna marital, ¿qué me va a hacer?"
   ]
  },
  {
   "cell_type": "code",
   "execution_count": null,
   "metadata": {},
   "outputs": [],
   "source": [
    "df_married = df_final[df_final['marital'] == 'married']\n",
    "df_married = df_final[cond_married] \n",
    "#Ambas opciones son lo mismo"
   ]
  },
  {
   "cell_type": "code",
   "execution_count": null,
   "metadata": {},
   "outputs": [],
   "source": [
    "df_married = df_final[df_final['marital'] == 'married']"
   ]
  },
  {
   "cell_type": "code",
   "execution_count": null,
   "metadata": {},
   "outputs": [],
   "source": [
    "df_married[\"marital\"].unique()"
   ]
  },
  {
   "cell_type": "code",
   "execution_count": null,
   "metadata": {},
   "outputs": [],
   "source": [
    "# Ahora quiero que de income solo se quede con los que son más de 15000\n",
    "# Y voy a guardar el resultado en un df nuevo\n",
    "\n",
    "condicion_income = df_final[\"income\"] > 150000\n",
    "\n",
    "# Primero creo la condición"
   ]
  },
  {
   "cell_type": "code",
   "execution_count": null,
   "metadata": {},
   "outputs": [],
   "source": [
    "# Creo un nuevo dataframe basado en esa condición\n",
    "df_income_150 = df_final[condicion_income]\n"
   ]
  },
  {
   "cell_type": "code",
   "execution_count": null,
   "metadata": {},
   "outputs": [],
   "source": [
    "# A ver si me ha funcionado\n",
    "df_income_150[\"income\"].min()"
   ]
  },
  {
   "cell_type": "code",
   "execution_count": null,
   "metadata": {},
   "outputs": [],
   "source": [
    "#Ahora quiero un df nuevo donde salgan las personas casadas y con un income de más de 150000"
   ]
  },
  {
   "cell_type": "code",
   "execution_count": null,
   "metadata": {},
   "outputs": [],
   "source": [
    "df_income_casados = df_final[cond_married & condicion_income]\n",
    "df_income_casados.head(2)"
   ]
  },
  {
   "cell_type": "code",
   "execution_count": 57,
   "metadata": {},
   "outputs": [
    {
     "data": {
      "text/plain": [
       "array(['basic 4y', 'high school', 'basic 6y', 'basic 9y',\n",
       "       'professional course', nan, 'university degree', 'illiterate'],\n",
       "      dtype=object)"
      ]
     },
     "execution_count": 57,
     "metadata": {},
     "output_type": "execute_result"
    }
   ],
   "source": [
    "# .isin(), lo utilizo para un filtro con varias opciones, parecido al IN en SQL\n",
    "\n",
    "df_final[\"education\"].unique()"
   ]
  },
  {
   "cell_type": "code",
   "execution_count": 60,
   "metadata": {},
   "outputs": [],
   "source": [
    "filtro_educacion = ['basic 6y', 'basic 9y']"
   ]
  },
  {
   "cell_type": "code",
   "execution_count": 61,
   "metadata": {},
   "outputs": [],
   "source": [
    "# aplicamos el método 'isin()' pasando la lista\n",
    "df_educacion = df_final[df_final[\"education\"].isin(filtro_educacion)]"
   ]
  },
  {
   "cell_type": "code",
   "execution_count": 62,
   "metadata": {},
   "outputs": [
    {
     "data": {
      "text/plain": [
       "array(['basic 6y', 'basic 9y'], dtype=object)"
      ]
     },
     "execution_count": 62,
     "metadata": {},
     "output_type": "execute_result"
    }
   ],
   "source": [
    "# comprobamos que ahora solo tenemos dos valores únicos para la columna ' education'\n",
    "df_educacion[\"education\"].unique()"
   ]
  },
  {
   "cell_type": "code",
   "execution_count": null,
   "metadata": {},
   "outputs": [],
   "source": [
    "# .between(), como el BETWEEN en SQL\n",
    "\n",
    "# clientes que han visitado la página entre 15 y 20 veces, ambos incluidos\n",
    "df_web = df_final[df_final[\"numwebvisitsmonth\"].between(15, 25)]\n",
    "df_web.head()"
   ]
  },
  {
   "cell_type": "code",
   "execution_count": null,
   "metadata": {},
   "outputs": [],
   "source": [
    "#Por último, .str.containts(), busca palabras o caracteres en una columna de texto"
   ]
  },
  {
   "cell_type": "code",
   "execution_count": 65,
   "metadata": {},
   "outputs": [],
   "source": [
    "df_basic = df_final[df_final['education'].str.contains('basic', na=False)] #CUIDADO, si tiene nulos, nos dará error, para ignorar los nulos, usamos na=False"
   ]
  },
  {
   "cell_type": "code",
   "execution_count": 66,
   "metadata": {},
   "outputs": [
    {
     "data": {
      "text/plain": [
       "array(['basic 4y', 'basic 6y', 'basic 9y'], dtype=object)"
      ]
     },
     "execution_count": 66,
     "metadata": {},
     "output_type": "execute_result"
    }
   ],
   "source": [
    "df_basic['education'].unique()"
   ]
  },
  {
   "cell_type": "code",
   "execution_count": null,
   "metadata": {},
   "outputs": [],
   "source": [
    "# data sets para practicar\n",
    "# https://www.kaggle.com/datasets\n",
    "# https://archive.ics.uci.edu/\n"
   ]
  }
 ],
 "metadata": {
  "kernelspec": {
   "display_name": "Python 3",
   "language": "python",
   "name": "python3"
  },
  "language_info": {
   "codemirror_mode": {
    "name": "ipython",
    "version": 3
   },
   "file_extension": ".py",
   "mimetype": "text/x-python",
   "name": "python",
   "nbconvert_exporter": "python",
   "pygments_lexer": "ipython3",
   "version": "3.13.0"
  }
 },
 "nbformat": 4,
 "nbformat_minor": 2
}

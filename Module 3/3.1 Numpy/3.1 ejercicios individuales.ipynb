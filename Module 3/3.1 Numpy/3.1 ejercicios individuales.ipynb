{
 "cells": [
  {
   "cell_type": "code",
   "execution_count": 6,
   "metadata": {},
   "outputs": [],
   "source": [
    "import numpy as np"
   ]
  },
  {
   "cell_type": "code",
   "execution_count": 2,
   "metadata": {},
   "outputs": [
    {
     "name": "stdout",
     "output_type": "stream",
     "text": [
      "[[94 74 94]\n",
      " [74 41 79]\n",
      " [40 57 66]\n",
      " [92 34 97]]\n"
     ]
    }
   ],
   "source": [
    "#1.Genera un array bidimensional de 4 x 3 con valores aleatorios enteros entre el 34 y el 98. Una vez creado cada array comprueba las dimensiones y los tipos de datos que tenemos en el array.\n",
    "\n",
    "array_1 = np.random.randint(34, 99, (4,3))\n",
    "print(array_1)"
   ]
  },
  {
   "cell_type": "code",
   "execution_count": 3,
   "metadata": {},
   "outputs": [
    {
     "data": {
      "text/plain": [
       "dtype('int32')"
      ]
     },
     "execution_count": 3,
     "metadata": {},
     "output_type": "execute_result"
    }
   ],
   "source": [
    "array_1.dtype"
   ]
  },
  {
   "cell_type": "code",
   "execution_count": 4,
   "metadata": {},
   "outputs": [],
   "source": [
    "#2 Crea dos arrays (unidimensional, bidimensional) usando el método np.array().\n",
    "\n",
    "lista1 = [34,56,71,98, 10]\n",
    "lista2 = [[23,45,89, 56], [12,43,82,44]]\n",
    "\n",
    "array_lista1 = np.array(lista1) \n",
    "array_lista2 = np.array(lista2) \n"
   ]
  },
  {
   "cell_type": "code",
   "execution_count": 5,
   "metadata": {},
   "outputs": [
    {
     "name": "stdout",
     "output_type": "stream",
     "text": [
      "[34 56 71 98 10]\n"
     ]
    }
   ],
   "source": [
    "print(array_lista1)\n",
    "\n"
   ]
  },
  {
   "cell_type": "code",
   "execution_count": 6,
   "metadata": {},
   "outputs": [
    {
     "name": "stdout",
     "output_type": "stream",
     "text": [
      "[[23 45 89 56]\n",
      " [12 43 82 44]]\n"
     ]
    }
   ],
   "source": [
    "print(array_lista2)"
   ]
  },
  {
   "cell_type": "markdown",
   "metadata": {},
   "source": [
    "#3 Crea un array unidimensional con 50 elementos con el método que prefieras y extrae:\n"
   ]
  },
  {
   "cell_type": "code",
   "execution_count": 7,
   "metadata": {},
   "outputs": [],
   "source": [
    "array_q3 = np.random.randint(1, 100, 50)\n"
   ]
  },
  {
   "cell_type": "code",
   "execution_count": 8,
   "metadata": {},
   "outputs": [
    {
     "name": "stdout",
     "output_type": "stream",
     "text": [
      "[63 59 52 82 37 72  8 13  7 27  9 45 27 66 31 73 56 88 19  6 26 33 23 23\n",
      " 39 19 59 59 53 68 85 72 65 67 17 22 61  4 65 42 19 68 79 61 54 24 47 78\n",
      " 14 58]\n"
     ]
    }
   ],
   "source": [
    "print(array_q3)"
   ]
  },
  {
   "cell_type": "code",
   "execution_count": 9,
   "metadata": {},
   "outputs": [
    {
     "data": {
      "text/plain": [
       "np.int32(63)"
      ]
     },
     "execution_count": 9,
     "metadata": {},
     "output_type": "execute_result"
    }
   ],
   "source": [
    "#El primer elemento.\n",
    "\n",
    "array_q3[0]"
   ]
  },
  {
   "cell_type": "code",
   "execution_count": 10,
   "metadata": {},
   "outputs": [
    {
     "data": {
      "text/plain": [
       "array([59, 82, 72, 13, 27, 45, 66, 73, 88,  6, 33, 23, 19, 59, 68, 72, 67,\n",
       "       22,  4, 42, 68, 61, 24, 78, 58], dtype=int32)"
      ]
     },
     "execution_count": 10,
     "metadata": {},
     "output_type": "execute_result"
    }
   ],
   "source": [
    "#Lo elementos que están en posición impar.\n",
    "\n",
    "array_q3[1::2]"
   ]
  },
  {
   "cell_type": "code",
   "execution_count": 11,
   "metadata": {},
   "outputs": [
    {
     "data": {
      "text/plain": [
       "array([63, 59, 52, 82], dtype=int32)"
      ]
     },
     "execution_count": 11,
     "metadata": {},
     "output_type": "execute_result"
    }
   ],
   "source": [
    "#Los cuatro primeros elementos.\n",
    "\n",
    "array_q3[0:4:]"
   ]
  },
  {
   "cell_type": "code",
   "execution_count": 12,
   "metadata": {},
   "outputs": [
    {
     "data": {
      "text/plain": [
       "array([78, 14, 58], dtype=int32)"
      ]
     },
     "execution_count": 12,
     "metadata": {},
     "output_type": "execute_result"
    }
   ],
   "source": [
    "#Los últimos tres elementos.\n",
    "array_q3[-3::]"
   ]
  },
  {
   "cell_type": "code",
   "execution_count": 13,
   "metadata": {},
   "outputs": [
    {
     "data": {
      "text/plain": [
       "array([82, 37, 72,  8, 13], dtype=int32)"
      ]
     },
     "execution_count": 13,
     "metadata": {},
     "output_type": "execute_result"
    }
   ],
   "source": [
    "#Los elementos entre el 4 y el 8 (incluido).\n",
    "array_q3[3:8:]"
   ]
  },
  {
   "cell_type": "code",
   "execution_count": 14,
   "metadata": {},
   "outputs": [],
   "source": [
    "#Crea un array de dos dimensiones de 4 x 5 con el método que prefieras y extrae:\n",
    "\n",
    "array_q4 = np.random.randint(1, 100, (2, 4, 5))"
   ]
  },
  {
   "cell_type": "code",
   "execution_count": 15,
   "metadata": {},
   "outputs": [
    {
     "name": "stdout",
     "output_type": "stream",
     "text": [
      "[[[58 22 80 97 55]\n",
      "  [58  3 78  1 15]\n",
      "  [26  4 40 32  8]\n",
      "  [41 60 48 30 65]]\n",
      "\n",
      " [[ 4 26 97 14  8]\n",
      "  [69 60 27 35 58]\n",
      "  [63 19 24 66 34]\n",
      "  [66  9 61 69 16]]]\n"
     ]
    }
   ],
   "source": [
    "print(array_q4)"
   ]
  },
  {
   "cell_type": "code",
   "execution_count": 33,
   "metadata": {},
   "outputs": [
    {
     "name": "stdout",
     "output_type": "stream",
     "text": [
      "[58 22 80 97 55]\n"
     ]
    }
   ],
   "source": [
    "#La primera fila y todas las columnas.\n",
    "print(array_q4[0,0])"
   ]
  },
  {
   "cell_type": "code",
   "execution_count": 36,
   "metadata": {},
   "outputs": [
    {
     "name": "stdout",
     "output_type": "stream",
     "text": [
      "[[[58 22 80 97 55]\n",
      "  [26  4 40 32  8]]\n",
      "\n",
      " [[ 4 26 97 14  8]\n",
      "  [63 19 24 66 34]]]\n"
     ]
    }
   ],
   "source": [
    "#filas pares\n",
    "\n",
    "print(array_q4[:,::2])\n"
   ]
  },
  {
   "cell_type": "code",
   "execution_count": 37,
   "metadata": {},
   "outputs": [
    {
     "name": "stdout",
     "output_type": "stream",
     "text": [
      "[[[58]\n",
      "  [58]\n",
      "  [26]\n",
      "  [41]]\n",
      "\n",
      " [[ 4]\n",
      "  [69]\n",
      "  [63]\n",
      "  [66]]]\n"
     ]
    }
   ],
   "source": [
    "#La primera columna y todas las filas.\n",
    "print(array_q4[:,::, 0:1:])"
   ]
  },
  {
   "cell_type": "code",
   "execution_count": 14,
   "metadata": {},
   "outputs": [],
   "source": [
    "#5Crea un array bidimensional con 20 elementos aleatrorios entre 0 y 50 con el método que prefieras y:\n",
    "\n",
    "array_q5 = np.random.randint(0, 50, size=(4, 5))"
   ]
  },
  {
   "cell_type": "code",
   "execution_count": 15,
   "metadata": {},
   "outputs": [
    {
     "data": {
      "text/plain": [
       "array([[ 5, 32,  9, 48, 29],\n",
       "       [49, 12, 11, 24, 47],\n",
       "       [35, 15, 11, 18, 37],\n",
       "       [40, 23, 28,  1, 28]], dtype=int32)"
      ]
     },
     "execution_count": 15,
     "metadata": {},
     "output_type": "execute_result"
    }
   ],
   "source": [
    "array_q5"
   ]
  },
  {
   "cell_type": "code",
   "execution_count": 63,
   "metadata": {},
   "outputs": [],
   "source": [
    "#Crea una mascara o filtro donde los valores mayores a 30 y menores a 10 se reemplace por \"objetivo\" y el resto por \"no es mi objetivo\".\n",
    "\n",
    "#valores > 30 :'objetivo'\n",
    "#valores < 10 : 'no es mi objetivo'\n",
    "\n",
    "mask_greater_than_30 = array_q5 > 30\n",
    "mask_less_than_10 = array_q5 < 10\n",
    "\n",
    "\n"
   ]
  },
  {
   "cell_type": "code",
   "execution_count": 56,
   "metadata": {},
   "outputs": [
    {
     "name": "stdout",
     "output_type": "stream",
     "text": [
      "[36 38 46 34 41]\n"
     ]
    }
   ],
   "source": [
    "datos_mayor_30 = array_q5[array_q5 > 30]\n",
    "print(datos_mayor_30)"
   ]
  },
  {
   "cell_type": "code",
   "execution_count": 64,
   "metadata": {},
   "outputs": [
    {
     "name": "stdout",
     "output_type": "stream",
     "text": [
      "Array after replacement:\n",
      "(array([23, 12, 15, 9, 'objetivo', 25, 'objetivo', 1, 25, 5, 21, 3, 7,\n",
      "       'objetivo', 5, 11, 'objetivo', 'objetivo', 1, 7], dtype=object), array([23, 12, 15, 'no es el objetivo', 36, 25, 38, 'no es el objetivo',\n",
      "       25, 'no es el objetivo', 21, 'no es el objetivo',\n",
      "       'no es el objetivo', 46, 'no es el objetivo', 11, 34, 41,\n",
      "       'no es el objetivo', 'no es el objetivo'], dtype=object))\n"
     ]
    }
   ],
   "source": [
    "# Use np.where() to replace values that match the condition with 'objectivo'\n",
    "array_obj = array_q5.astype(object)  # Convert to object type to support string replacement\n",
    "\n",
    "# Replace values that match the condition\n",
    "result = np.where(mask_greater_than_30, 'objetivo', array_obj), np.where(mask_less_than_10, 'no es el objetivo', array_obj), \n",
    "\n",
    "# Print the resulting array\n",
    "print(\"Array after replacement:\")\n",
    "print(result)"
   ]
  },
  {
   "cell_type": "code",
   "execution_count": 67,
   "metadata": {},
   "outputs": [
    {
     "data": {
      "text/plain": [
       "array([230, 120, 150,  90, 360, 250, 380,  10, 250,  50, 210,  30,  70,\n",
       "       460,  50, 110, 340, 410,  10,  70], dtype=int32)"
      ]
     },
     "execution_count": 67,
     "metadata": {},
     "output_type": "execute_result"
    }
   ],
   "source": [
    "#Los valores de mi array bidimensional multiplicalos por el escalar 10.\n",
    "escalar = 10\n",
    "\n",
    "multiplicacion_escalar = array_q5 * escalar\n",
    "multiplicacion_escalar"
   ]
  },
  {
   "cell_type": "code",
   "execution_count": 7,
   "metadata": {},
   "outputs": [],
   "source": [
    "#6 Crea un nuevo array de dos dimensiones con la misma forma que el anterior y con el método que prefieras y realiza lo siguiente:\n",
    "\n",
    "array_q6 = np.random.randint(0, 50, size=(4, 5))\n"
   ]
  },
  {
   "cell_type": "code",
   "execution_count": 16,
   "metadata": {},
   "outputs": [
    {
     "name": "stdout",
     "output_type": "stream",
     "text": [
      "[[ 5 32  9 48 29]\n",
      " [49 12 11 24 47]\n",
      " [35 15 11 18 37]\n",
      " [40 23 28  1 28]]\n",
      "[[29  9 17 12 23]\n",
      " [36 36 27  3 22]\n",
      " [ 2 27  1 28 20]\n",
      " [45 12 42 30 14]]\n"
     ]
    }
   ],
   "source": [
    "print(array_q5)\n",
    "print(array_q6)"
   ]
  },
  {
   "cell_type": "code",
   "execution_count": 17,
   "metadata": {},
   "outputs": [
    {
     "data": {
      "text/plain": [
       "array([[34, 41, 26, 60, 52],\n",
       "       [85, 48, 38, 27, 69],\n",
       "       [37, 42, 12, 46, 57],\n",
       "       [85, 35, 70, 31, 42]], dtype=int32)"
      ]
     },
     "execution_count": 17,
     "metadata": {},
     "output_type": "execute_result"
    }
   ],
   "source": [
    "#Suma el primer array con el segundo.\n",
    "suma = array_q5 + array_q6\n",
    "\n",
    "suma"
   ]
  },
  {
   "cell_type": "code",
   "execution_count": 19,
   "metadata": {},
   "outputs": [
    {
     "name": "stdout",
     "output_type": "stream",
     "text": [
      "[[ 5 32  9 48 29]\n",
      " [49 12 11 24 47]\n",
      " [35 15 11 18 37]\n",
      " [40 23 28  1 28]]\n",
      "[[  25 1024   81 2304  841]\n",
      " [2401  144  121  576 2209]\n",
      " [1225  225  121  324 1369]\n",
      " [1600  529  784    1  784]]\n"
     ]
    }
   ],
   "source": [
    "#Aplicar la potencia para el primer array elevado al segundo.\n",
    "\n",
    "print(array_q5)\n",
    "\n",
    "potencia = np.power(array_q5, 2)\n",
    "\n",
    "print(potencia)"
   ]
  },
  {
   "cell_type": "code",
   "execution_count": 24,
   "metadata": {},
   "outputs": [
    {
     "data": {
      "text/plain": [
       "array([[89, 79, 74, 20, 85],\n",
       "       [49, 39, 91, 73, 16],\n",
       "       [43, 96, 91, 73, 81],\n",
       "       [22, 11, 71, 44, 21]], dtype=int32)"
      ]
     },
     "execution_count": 24,
     "metadata": {},
     "output_type": "execute_result"
    }
   ],
   "source": [
    "\n",
    "#7 Crea un array, puede ser bidimensional! Eso si, los valores tienen que estar entre 0-100\n",
    "\n",
    "array_q7 = np.random.randint(0,100, (4,5))\n",
    "\n",
    "array_q7\n"
   ]
  },
  {
   "cell_type": "code",
   "execution_count": 26,
   "metadata": {},
   "outputs": [
    {
     "data": {
      "text/plain": [
       "np.float64(58.4)"
      ]
     },
     "execution_count": 26,
     "metadata": {},
     "output_type": "execute_result"
    }
   ],
   "source": [
    "#La media de los elementos\n",
    "\n",
    "media = np.mean(array_q7)\n",
    "\n",
    "media\n"
   ]
  },
  {
   "cell_type": "code",
   "execution_count": 29,
   "metadata": {},
   "outputs": [
    {
     "data": {
      "text/plain": [
       "array([50.75, 56.25, 81.75, 52.5 , 50.75])"
      ]
     },
     "execution_count": 29,
     "metadata": {},
     "output_type": "execute_result"
    }
   ],
   "source": [
    "#La media de las columnas y redondéalo a dos decimales\n",
    "\n",
    "media_columnas = np.mean(array_q7, axis = 0)\n",
    "\n",
    "media_columnas = np.round(media_columnas, 2)\n",
    "\n",
    "media_columnas\n",
    "\n"
   ]
  },
  {
   "cell_type": "code",
   "execution_count": 31,
   "metadata": {},
   "outputs": [
    {
     "data": {
      "text/plain": [
       "array([89, 91, 96, 71], dtype=int32)"
      ]
     },
     "execution_count": 31,
     "metadata": {},
     "output_type": "execute_result"
    }
   ],
   "source": [
    "#El valor máximo de cada fila\n",
    "\n",
    "valor_max = np.max(array_q7, axis = 1)\n",
    "\n",
    "valor_max"
   ]
  },
  {
   "cell_type": "code",
   "execution_count": 33,
   "metadata": {},
   "outputs": [
    {
     "data": {
      "text/plain": [
       "array([20, 16, 43, 11], dtype=int32)"
      ]
     },
     "execution_count": 33,
     "metadata": {},
     "output_type": "execute_result"
    }
   ],
   "source": [
    "#El valor mínimo de cada fila\n",
    "\n",
    "valor_min = np.min(array_q7, axis = 1)\n",
    "\n",
    "valor_min"
   ]
  },
  {
   "cell_type": "code",
   "execution_count": 34,
   "metadata": {},
   "outputs": [
    {
     "name": "stdout",
     "output_type": "stream",
     "text": [
      "[91 96 91]\n"
     ]
    }
   ],
   "source": [
    "#Hay algun valor que sea mayor que 90 en tu array\n",
    "\n",
    "datos_mayor_90 = array_q7[array_q7 > 90]\n",
    "print(datos_mayor_90)"
   ]
  },
  {
   "cell_type": "code",
   "execution_count": 36,
   "metadata": {},
   "outputs": [
    {
     "data": {
      "text/plain": [
       "(array([1, 2, 2]), array([2, 1, 2]))"
      ]
     },
     "execution_count": 36,
     "metadata": {},
     "output_type": "execute_result"
    }
   ],
   "source": [
    "#Donde los podemos encontrar, cuáles son sus índices\n",
    "\n",
    "indexes = np.where(array_q7 > 90)\n",
    "\n",
    "indexes"
   ]
  },
  {
   "cell_type": "code",
   "execution_count": 38,
   "metadata": {},
   "outputs": [
    {
     "data": {
      "text/plain": [
       "array([[20, 74, 79, 85, 89],\n",
       "       [16, 39, 49, 73, 91],\n",
       "       [43, 73, 81, 91, 96],\n",
       "       [11, 21, 22, 44, 71]], dtype=int32)"
      ]
     },
     "execution_count": 38,
     "metadata": {},
     "output_type": "execute_result"
    }
   ],
   "source": [
    "#Ordena el array de mayor a menor\n",
    "\n",
    "array_q7_sorted= np.sort(array_q7)\n",
    "\n",
    "array_q7_sorted"
   ]
  }
 ],
 "metadata": {
  "kernelspec": {
   "display_name": "Python 3",
   "language": "python",
   "name": "python3"
  },
  "language_info": {
   "codemirror_mode": {
    "name": "ipython",
    "version": 3
   },
   "file_extension": ".py",
   "mimetype": "text/x-python",
   "name": "python",
   "nbconvert_exporter": "python",
   "pygments_lexer": "ipython3",
   "version": "3.13.0"
  }
 },
 "nbformat": 4,
 "nbformat_minor": 2
}

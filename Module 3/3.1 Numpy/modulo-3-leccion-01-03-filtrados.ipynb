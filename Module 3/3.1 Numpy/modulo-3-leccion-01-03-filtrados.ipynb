{
 "cells": [
  {
   "cell_type": "code",
   "execution_count": 1,
   "metadata": {},
   "outputs": [],
   "source": [
    "# antes de empezar importamos la librería de NumPy para poder trabajar con todos sus métodos. \n",
    "import numpy as np"
   ]
  },
  {
   "cell_type": "code",
   "execution_count": 2,
   "metadata": {},
   "outputs": [
    {
     "name": "stdout",
     "output_type": "stream",
     "text": [
      "El array bidimensional que tenemos es: \n",
      " [[0.78415423 0.69118324 0.59972248 0.98798808]\n",
      " [0.58703524 0.87943394 0.89662338 0.1073667 ]\n",
      " [0.79053033 0.20318369 0.20645637 0.5421861 ]\n",
      " [0.60561998 0.75280002 0.59636169 0.67319644]\n",
      " [0.445758   0.42933543 0.76492663 0.77372507]]\n",
      "\n",
      "El primer elemento de nuestro array es: \n",
      " [0.78415423 0.69118324 0.59972248 0.98798808]\n"
     ]
    }
   ],
   "source": [
    "# definimos un array bidimensional\n",
    "# en este caso estamos generando un array de 5 filas y 4 columnas con números aleatorios entre el 0 y el 1\n",
    "\n",
    "bidimensional = np.random.rand(5, 4)\n",
    "print(f\"El array bidimensional que tenemos es: \\n {bidimensional}\")\n",
    "\n",
    "# desgranemos la indexación en este tipo de arrays\n",
    "# si accedemos al elemento 0 del array obtenemos a la fila que queramos de nuestro array\n",
    "\n",
    "print(f\"\\nEl primer elemento de nuestro array es: \\n {bidimensional[0]}\")"
   ]
  },
  {
   "cell_type": "code",
   "execution_count": 3,
   "metadata": {},
   "outputs": [
    {
     "name": "stdout",
     "output_type": "stream",
     "text": [
      "El array bidimensional con el que vamos a trabajar es: \n",
      " [[0.41584614 0.82312683 0.19433902 0.81775218]\n",
      " [0.76281141 0.86328659 0.94662046 0.87703294]\n",
      " [0.02764513 0.03467823 0.14428307 0.98926624]\n",
      " [0.51561502 0.17237538 0.59164942 0.77651838]\n",
      " [0.76409676 0.31078056 0.00390948 0.17254908]]\n",
      "-----------------------------\n",
      "Primer paso: creación de una máscara booleana \n",
      " [[False  True False  True]\n",
      " [ True  True  True  True]\n",
      " [False False False  True]\n",
      " [ True False  True  True]\n",
      " [ True False False False]]\n",
      "-----------------------------\n",
      "Segundo paso: aplicar la máscara booleana \n",
      " [0.82312683 0.81775218 0.76281141 0.86328659 0.94662046 0.87703294\n",
      " 0.98926624 0.51561502 0.59164942 0.77651838 0.76409676]\n"
     ]
    }
   ],
   "source": [
    "# en este caso reutilizaremos el array bidimensional que creamos en el apartado anterior\n",
    "print(f\"El array bidimensional con el que vamos a trabajar es: \\n {bidimensional}\")\n",
    "\n",
    "# creamos la máscara, en este caso nuestra condición será: ¿qué elementos son mayores que 0.5?\n",
    "print(\"-----------------------------\")\n",
    "print(f\"Primer paso: creación de una máscara booleana \\n {bidimensional > 0.5}\")\n",
    "\n",
    "# aplicamos la máscara creada en el paso anterior, en este caso, NumPy nos devolverá solo los elementos \n",
    "# que coinciden con la condicion\n",
    "print(\"-----------------------------\")\n",
    "print(f\"Segundo paso: aplicar la máscara booleana \\n {bidimensional[bidimensional > 0.5]}\")"
   ]
  },
  {
   "cell_type": "markdown",
   "metadata": {},
   "source": [
    "Imaginemos ahora que queremos seleccionar ciertos valores basados en dos condiciones. En este caso:\n",
    "\n",
    "- Usaremos el operador `&` para indicar que queremos que se cumplan las dos condiciones. Lo que conocíamos hasta ahora como `and`.\n",
    "\n",
    "\n",
    "- Usaremos el operador `|` para indicar que se cumpla una condición y otra. Lo que conocíamos hasta ahora como `or`. "
   ]
  },
  {
   "cell_type": "code",
   "execution_count": 7,
   "metadata": {},
   "outputs": [
    {
     "name": "stdout",
     "output_type": "stream",
     "text": [
      "El array bidimensional con el que vamos a trabajar es: \n",
      " [[0.41584614 0.82312683 0.19433902 0.81775218]\n",
      " [0.76281141 0.86328659 0.94662046 0.87703294]\n",
      " [0.02764513 0.03467823 0.14428307 0.98926624]\n",
      " [0.51561502 0.17237538 0.59164942 0.77651838]\n",
      " [0.76409676 0.31078056 0.00390948 0.17254908]]\n",
      "-----------------------------\n",
      "El resultado del filtrado < 0.2 o > 0.7 es: \n",
      " [0.82312683 0.19433902 0.81775218 0.76281141 0.86328659 0.94662046\n",
      " 0.87703294 0.02764513 0.03467823 0.14428307 0.98926624 0.17237538\n",
      " 0.77651838 0.76409676 0.00390948 0.17254908]\n"
     ]
    }
   ],
   "source": [
    "# en este caso reutilizaremos el array bidimensional que creamos en el apartado anterior\n",
    "print(f\"El array bidimensional con el que vamos a trabajar es: \\n {bidimensional}\")\n",
    "\n",
    "\n",
    "# queremos seleccionar aquellos números que sean MENORES que 0.2 \n",
    "# o MAYORES que 0.7. FIJATE QUE CADA CONDICIÓN VA ENTRE PARÉNTESIS SEPARADA POR EL OPERADOR \"|\"\n",
    "\n",
    "print(\"-----------------------------\")\n",
    "resultado_filtradoI = bidimensional[(bidimensional < 0.2) |  (bidimensional >0.7)]\n",
    "print(f\"El resultado del filtrado < 0.2 o > 0.7 es: \\n {resultado_filtradoI}\")"
   ]
  },
  {
   "cell_type": "markdown",
   "metadata": {},
   "source": [
    "## Filtrado con `np.where()`\n",
    "\n",
    "Permite realizar una evaluación condicional sobre un *array*. La función `np.where()` devuelve un nuevo array con los elementos seleccionados según la condición especificada.\n",
    "\n",
    "Su sintaxis básica es:\n",
    "```python\n",
    "np.where(condición, valor_si_verdadero, valor_si_falso)\n",
    "```\n",
    "\n",
    "Donde:\n",
    "\n",
    "- **condición**: Es una expresión booleana que define la condición a evaluar. \n",
    "\n",
    "- **valor_si_verdadero** (opcional):  Es el valor o array que se selecciona si la condición es verdadera.\n",
    "\n",
    "- **valor_si_falso** (opcional): Es el valor o array que se selecciona si la condición es falsa."
   ]
  },
  {
   "cell_type": "code",
   "execution_count": 10,
   "metadata": {},
   "outputs": [
    {
     "name": "stdout",
     "output_type": "stream",
     "text": [
      "El array con el que vamos a trabajar en este apartado de la lección es: \n",
      " [[0.41584614 0.82312683 0.19433902 0.81775218]\n",
      " [0.76281141 0.86328659 0.94662046 0.87703294]\n",
      " [0.02764513 0.03467823 0.14428307 0.98926624]\n",
      " [0.51561502 0.17237538 0.59164942 0.77651838]\n",
      " [0.76409676 0.31078056 0.00390948 0.17254908]]\n",
      "--------------------------\n",
      "El resultado del np.where() es: \n",
      " (array([0, 0, 1, 1, 1, 2], dtype=int64), array([1, 3, 1, 2, 3, 3], dtype=int64))\n"
     ]
    }
   ],
   "source": [
    "print(f\"El array con el que vamos a trabajar en este apartado de la lección es: \\n {bidimensional}\")\n",
    "\n",
    "# usamos el método 'np.where()' para evaluar una condición, en este caso para encontrar los valores mayores que 0.8\n",
    "\n",
    "resultado_where = np.where(bidimensional > 0.8)\n",
    "print(\"--------------------------\")\n",
    "print(\"El resultado del np.where() es: \\n\", resultado_where)"
   ]
  },
  {
   "cell_type": "markdown",
   "metadata": {},
   "source": [
    "Seguramente hayan notado que la salida del resulado, pasemos a explicarlo un poco!\n",
    "\n",
    "tengamos en cuenta nuestro siguiente array y el resultado de nuestro where:\n",
    "\n",
    "```python\n",
    "[[0.41584614 0.82312683 0.19433902 0.81775218]\n",
    " [0.76281141 0.86328659 0.94662046 0.87703294]\n",
    " [0.02764513 0.03467823 0.14428307 0.98926624]\n",
    " [0.51561502 0.17237538 0.59164942 0.77651838]\n",
    " [0.76409676 0.31078056 0.00390948 0.17254908]]\n",
    "\n",
    " El resultado del np.where() es: \n",
    " (array([0, 0, 1, 1, 1, 2], dtype=int64), array([1, 3, 1, 2, 3, 3], dtype=int64))\n",
    "```\n",
    "\n",
    "nuestro where ha encontrado las posiciones de los elementos en array que son mayores que 0.8. El resultado es una tupla de dos arrays:\n",
    "\n",
    "*   El primer array contiene los índices de las filas.\n",
    "*   El segundo array contiene los índices de las columnas.\n",
    "\n",
    "\n",
    "El detalle es el siguiente:\n",
    "\n",
    "*   array([0, 0, 1, 1, 1, 2], dtype=int64) representa las filas.\n",
    "*   array([1, 3, 1, 2, 3], dtype=int64) representa las columnas.\n",
    "\n",
    "Al combinar cada fila y columna con su posicion, nos da una ubicacion de los elementos que cumplen mi condicion. por ejemplo el primer valor del array de filas es 0 y el primer valor de array de columnas es 1, por lo tanto el elemento que cumple la condicion esta en [0,1]\n",
    "\n",
    "Vamos a verificar los valores en esas posiciones para confirmar que son mayores que 0.8:\n",
    "\n",
    "*   array[0, 1] -> 0.82312683\n",
    "*   array[0, 3] -> 0.81775218\n",
    "*   array[1, 1] -> 0.86328659\n",
    "*   array[1, 2] -> 0.94662046\n",
    "*   array[1, 3] -> 0.87703294\n",
    "*   array[2, 3] -> 0.98926624\n",
    "\n",
    "\n",
    "Efectivamente, todos estos valores son mayores que 0.8!"
   ]
  },
  {
   "cell_type": "markdown",
   "metadata": {},
   "source": [
    "Ok, dijimos anteriormente que nosotros utilizando where, podriamos asignar valores segun se cumpla o no una condicion, para este caso asignaremos xxx cuando se cumpla la condicion (es decir, la condicion sea verdadera) y asignaremos ooo cuando no lo sea."
   ]
  },
  {
   "cell_type": "code",
   "execution_count": 9,
   "metadata": {},
   "outputs": [
    {
     "name": "stdout",
     "output_type": "stream",
     "text": [
      "El array con el que vamos a trabajar en este apartado de la lección es: \n",
      " [[0.41584614 0.82312683 0.19433902 0.81775218]\n",
      " [0.76281141 0.86328659 0.94662046 0.87703294]\n",
      " [0.02764513 0.03467823 0.14428307 0.98926624]\n",
      " [0.51561502 0.17237538 0.59164942 0.77651838]\n",
      " [0.76409676 0.31078056 0.00390948 0.17254908]]\n",
      "--------------------------\n",
      "El resultado del np.where() es: \n",
      " [['ooo' 'xxx' 'ooo' 'xxx']\n",
      " ['ooo' 'xxx' 'xxx' 'xxx']\n",
      " ['ooo' 'ooo' 'ooo' 'xxx']\n",
      " ['ooo' 'ooo' 'ooo' 'ooo']\n",
      " ['ooo' 'ooo' 'ooo' 'ooo']]\n"
     ]
    }
   ],
   "source": [
    "print(f\"El array con el que vamos a trabajar en este apartado de la lección es: \\n {bidimensional}\")\n",
    "\n",
    "# usamos el método 'np.where()' para evaluar una condición, en este caso para encontrar los valores mayores que 0.8\n",
    "\n",
    "resultado_where = np.where(bidimensional > 0.8,\"xxx\",\"ooo\")\n",
    "print(\"--------------------------\")\n",
    "print(\"El resultado del np.where() es: \\n\", resultado_where)"
   ]
  },
  {
   "cell_type": "markdown",
   "metadata": {},
   "source": [
    "NOTA IMPORTANTE! En la demostracion anterior asignamos un tipo de dato str a nuestros valores evaluados de la matriz, esto podria ser un problema si necesitamos que los valores siempre sean numericos."
   ]
  },
  {
   "cell_type": "markdown",
   "metadata": {},
   "source": [
    "# Operaciones aritméticas con *arrays* \n",
    "\n",
    "*NumPy* proporciona una amplia gama de funciones y operaciones para realizar cálculos aritméticos en *arrays* de manera eficiente.\n",
    "\n",
    "Algunas de las operaciones aritméticas comunes que puedes realizar con arrays de NumPy:\n",
    "\n",
    "1. Suma: Usaremos el método `np.add()`\n",
    "  \n",
    "2. Resta: En este caso`np.subtract()`\n",
    "\n",
    "3. Multiplicación: Usaremos `np.multiply()`\n",
    "\n",
    "4. División: Método `np.divide()`\n",
    "\n",
    "5. Potencia: Usaremos el método `np.power()`\n",
    "\n",
    "6. Operaciones con escalares\n",
    "\n",
    "Los operadores `+`, `-`, `*` y `/` también funcionan para realizar las operaciones correspondientes directamente entre *arrays* de *NumPy*. Sin embargo, aunque los podemos usar, los métodos aprendidos específicos de NumPy son los más adecuados."
   ]
  },
  {
   "cell_type": "code",
   "execution_count": 11,
   "metadata": {},
   "outputs": [
    {
     "name": "stdout",
     "output_type": "stream",
     "text": [
      "El array 1 es:\n",
      "  [[[4 2 8]\n",
      "  [9 7 3]]\n",
      "\n",
      " [[3 7 8]\n",
      "  [9 5 1]]] \n",
      "\n",
      "El array 2 es:\n",
      "  [[[3 5 8]\n",
      "  [2 1 2]]\n",
      "\n",
      " [[1 8 3]\n",
      "  [9 5 1]]]\n",
      "--------------------------------\n",
      "El resultado de la suma de los dos arrays es:\n",
      " [[[ 7  7 16]\n",
      "  [11  8  5]]\n",
      "\n",
      " [[ 4 15 11]\n",
      "  [18 10  2]]]\n"
     ]
    }
   ],
   "source": [
    "# lo primero que vamos a hacer es definir dos arrays con los que trabajaremos. \n",
    "# en este caso vamos a generar dos arrays tridimensionales con números enteros entre el 1 y 10\n",
    "# el array consta de 2 matrices, 2 filas y tres colummas \n",
    "\n",
    "array1 = np.random.randint(1,10, (2, 2, 3))\n",
    "array2 = np.random.randint(1,10, (2, 2, 3))\n",
    "\n",
    "print(\"El array 1 es:\\n \", array1, '\\n')\n",
    "print(\"El array 2 es:\\n \", array2)\n",
    "\n",
    "# sumar dos arrays\n",
    "\n",
    "print(\"--------------------------------\")\n",
    "suma = np.add(array1, array2)  # Suma los elementos correspondientes de los dos arrays\n",
    "print(\"El resultado de la suma de los dos arrays es:\\n\", suma)\n"
   ]
  },
  {
   "cell_type": "markdown",
   "metadata": {},
   "source": [
    "Como pueden ver, las operaciones se realizan por posicion, es decir, en este caso se suma la posicion [0][0][0] del primer array tridimensional con la posicion similar del segundo array tridimensional."
   ]
  },
  {
   "cell_type": "code",
   "execution_count": 12,
   "metadata": {},
   "outputs": [
    {
     "name": "stdout",
     "output_type": "stream",
     "text": [
      "El array 1 es:\n",
      "  [[[4 2 8]\n",
      "  [9 7 3]]\n",
      "\n",
      " [[3 7 8]\n",
      "  [9 5 1]]] \n",
      "\n",
      "El array 2 es:\n",
      "  [[[3 5 8]\n",
      "  [2 1 2]]\n",
      "\n",
      " [[1 8 3]\n",
      "  [9 5 1]]]\n",
      "--------------------------------\n",
      "El resultado de la resta de los dos arrays es:\n",
      " [[[ 1 -3  0]\n",
      "  [ 7  6  1]]\n",
      "\n",
      " [[ 2 -1  5]\n",
      "  [ 0  0  0]]]\n"
     ]
    }
   ],
   "source": [
    "# misma logica en el caso de la resta:\n",
    "print(\"El array 1 es:\\n \", array1, '\\n')\n",
    "print(\"El array 2 es:\\n \", array2)\n",
    "\n",
    "# restar dos arrays\n",
    "print(\"--------------------------------\")\n",
    "resta = np.subtract(array1, array2)  # Resta los elementos correspondientes de los dos arrays\n",
    "print(\"El resultado de la resta de los dos arrays es:\\n\", resta)"
   ]
  },
  {
   "cell_type": "code",
   "execution_count": 13,
   "metadata": {},
   "outputs": [
    {
     "name": "stdout",
     "output_type": "stream",
     "text": [
      "El array 1 es:\n",
      "  [[[4 2 8]\n",
      "  [9 7 3]]\n",
      "\n",
      " [[3 7 8]\n",
      "  [9 5 1]]] \n",
      "\n",
      "El array 2 es:\n",
      "  [[[3 5 8]\n",
      "  [2 1 2]]\n",
      "\n",
      " [[1 8 3]\n",
      "  [9 5 1]]]\n",
      "--------------------------------\n",
      "El resultado de la multiplicación de los dos arrays es:\n",
      " [[[12 10 64]\n",
      "  [18  7  6]]\n",
      "\n",
      " [[ 3 56 24]\n",
      "  [81 25  1]]]\n"
     ]
    }
   ],
   "source": [
    "# la multiplicacion mantiene la misma logica de operar por cada posicion entre los diferentes arrays.\n",
    "\n",
    "print(\"El array 1 es:\\n \", array1, '\\n')\n",
    "print(\"El array 2 es:\\n \", array2)\n",
    "\n",
    "# multiplicar dos arrays\n",
    "\n",
    "print(\"--------------------------------\")\n",
    "multipicacion = np.multiply(array1, array2)  # Multiplicacion los elementos correspondientes de los dos arrays\n",
    "print(\"El resultado de la multiplicación de los dos arrays es:\\n\", multipicacion)"
   ]
  },
  {
   "cell_type": "code",
   "execution_count": 15,
   "metadata": {},
   "outputs": [
    {
     "name": "stdout",
     "output_type": "stream",
     "text": [
      "El array 1 es:\n",
      "  [[[3 4 5]\n",
      "  [2 8 1]]\n",
      "\n",
      " [[6 2 1]\n",
      "  [7 8 3]]] \n",
      "\n",
      "El array 2 es:\n",
      "  [[[5 7 5]\n",
      "  [2 5 1]]\n",
      "\n",
      " [[3 9 7]\n",
      "  [6 6 3]]]\n",
      "--------------------------------\n",
      "El resultado de la división de los dos arrays es:\n",
      " [[[0.6        0.57142857 1.        ]\n",
      "  [1.         1.6        1.        ]]\n",
      "\n",
      " [[2.         0.22222222 0.14285714]\n",
      "  [1.16666667 1.33333333 1.        ]]]\n"
     ]
    }
   ],
   "source": [
    "# Para la division, seguimos con la logica de operar por cada posicion entre los arrays.\n",
    "\n",
    "print(\"El array 1 es:\\n \", array1, '\\n')\n",
    "print(\"El array 2 es:\\n \", array2)\n",
    "\n",
    "# dividir dos arrays\n",
    "\n",
    "print(\"--------------------------------\")\n",
    "division = np.divide(array1, array2)  # Division los elementos correspondientes de los dos arrays\n",
    "print(\"El resultado de la división de los dos arrays es:\\n\", division)"
   ]
  },
  {
   "cell_type": "code",
   "execution_count": 14,
   "metadata": {},
   "outputs": [
    {
     "name": "stdout",
     "output_type": "stream",
     "text": [
      "El array 1 es:\n",
      "  [[[4 2 8]\n",
      "  [9 7 3]]\n",
      "\n",
      " [[3 7 8]\n",
      "  [9 5 1]]] \n",
      "\n",
      "El array 2 es:\n",
      "  [[[3 5 8]\n",
      "  [2 1 2]]\n",
      "\n",
      " [[1 8 3]\n",
      "  [9 5 1]]]\n",
      "--------------------------------\n",
      "El resultado de la potencia de los dos arrays es:\n",
      " [[[       64        32  16777216]\n",
      "  [       81         7         9]]\n",
      "\n",
      " [[        3   5764801       512]\n",
      "  [387420489      3125         1]]]\n"
     ]
    }
   ],
   "source": [
    "#en este caso la potenciacion sigue las mismas reglas anteriores.\n",
    "\n",
    "print(\"El array 1 es:\\n \", array1, '\\n')\n",
    "print(\"El array 2 es:\\n \", array2)\n",
    "\n",
    "# elevar dos arrays\n",
    "\n",
    "print(\"--------------------------------\")\n",
    "elevado = np.power(array1, array2)  # Elevar los elementos correspondientes de los dos arrays\n",
    "print(\"El resultado de la potencia de los dos arrays es:\\n\", elevado)"
   ]
  },
  {
   "cell_type": "code",
   "execution_count": 19,
   "metadata": {},
   "outputs": [
    {
     "name": "stdout",
     "output_type": "stream",
     "text": [
      "El array 1 es:\n",
      "  [[[3 4 5]\n",
      "  [2 8 1]]\n",
      "\n",
      " [[6 2 1]\n",
      "  [7 8 3]]] \n",
      "\n",
      "--------------------------------\n",
      "El resultado de la multiplicación del array con el escalar es:\n",
      " [[[ 6  8 10]\n",
      "  [ 4 16  2]]\n",
      "\n",
      " [[12  4  2]\n",
      "  [14 16  6]]]\n"
     ]
    }
   ],
   "source": [
    "# operaciones con escalares\n",
    "# definimos un escalar\n",
    "\n",
    "escalar = 2\n",
    "\n",
    "# y seguimos con nuestro array de ejemplo\n",
    "\n",
    "print(\"El array 1 es:\\n \", array1, '\\n')\n",
    "\n",
    "print(\"--------------------------------\")\n",
    "\n",
    "multiplicacion_escalar = array1 * escalar\n",
    "print(\"El resultado de la multiplicación del array con el escalar es:\\n\", multiplicacion_escalar)\n",
    "\n",
    "# Aca lo que sucede es que ese escalar se multiplicara por cada posicion de mi array definido."
   ]
  }
 ],
 "metadata": {
  "kernelspec": {
   "display_name": "Python 3",
   "language": "python",
   "name": "python3"
  },
  "language_info": {
   "codemirror_mode": {
    "name": "ipython",
    "version": 3
   },
   "file_extension": ".py",
   "mimetype": "text/x-python",
   "name": "python",
   "nbconvert_exporter": "python",
   "pygments_lexer": "ipython3",
   "version": "3.13.0"
  },
  "toc": {
   "base_numbering": 1,
   "nav_menu": {},
   "number_sections": true,
   "sideBar": true,
   "skip_h1_title": false,
   "title_cell": "Table of Contents",
   "title_sidebar": "Contents",
   "toc_cell": true,
   "toc_position": {
    "height": "calc(100% - 180px)",
    "left": "10px",
    "top": "150px",
    "width": "426.667px"
   },
   "toc_section_display": true,
   "toc_window_display": true
  }
 },
 "nbformat": 4,
 "nbformat_minor": 2
}

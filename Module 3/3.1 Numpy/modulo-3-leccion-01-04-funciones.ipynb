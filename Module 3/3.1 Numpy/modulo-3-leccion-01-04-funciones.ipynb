{
 "cells": [
  {
   "cell_type": "code",
   "execution_count": 1,
   "metadata": {},
   "outputs": [],
   "source": [
    "# antes de empezar importamos la librería de NumPy para poder trabajar con todos sus métodos. \n",
    "import numpy as np"
   ]
  },
  {
   "cell_type": "code",
   "execution_count": 2,
   "metadata": {},
   "outputs": [
    {
     "name": "stdout",
     "output_type": "stream",
     "text": [
      "El array bidimensional que tenemos es: \n",
      " [[0.15265784 0.97150864 0.24325016 0.99824561]\n",
      " [0.59801945 0.75306732 0.41230327 0.19911023]\n",
      " [0.32040605 0.04403937 0.27483058 0.64505906]\n",
      " [0.28249429 0.5656331  0.20680891 0.44322887]\n",
      " [0.6529562  0.13333111 0.00101535 0.11903488]]\n"
     ]
    }
   ],
   "source": [
    "# Creando un array bidimensional.\n",
    "\n",
    "bidimensional = np.random.rand(5, 4)\n",
    "print(f\"El array bidimensional que tenemos es: \\n {bidimensional}\")"
   ]
  },
  {
   "cell_type": "code",
   "execution_count": 3,
   "metadata": {},
   "outputs": [
    {
     "data": {
      "text/plain": [
       "array([[0.15, 0.97, 0.24, 1.  ],\n",
       "       [0.6 , 0.75, 0.41, 0.2 ],\n",
       "       [0.32, 0.04, 0.27, 0.65],\n",
       "       [0.28, 0.57, 0.21, 0.44],\n",
       "       [0.65, 0.13, 0.  , 0.12]])"
      ]
     },
     "execution_count": 3,
     "metadata": {},
     "output_type": "execute_result"
    }
   ],
   "source": [
    "# antes de seguir vamos a aprender el método np.round(), que al igual que en Python básico nos permite redondear los valores de los elementos de nuestor array\n",
    "\n",
    "bidimensional_red = np.round(bidimensional, 2)\n",
    "\n",
    "# donde el primer argumento es el elemento que queremos tratar (en este caso nuestro array bidimensional, y el segundo la cantida de decimales, en nuestro caso 2)\n",
    "\n",
    "bidimensional_red"
   ]
  },
  {
   "cell_type": "markdown",
   "metadata": {},
   "source": [
    "Ya estamos en condiciones de aplicar algunos calculos estadisticos a mi array, en este caso podriamos calcular la media DE TODO MI ARRAY simplemente aplicando el metodo np.mean() al array donde quiero aplicar esta funcion."
   ]
  },
  {
   "cell_type": "code",
   "execution_count": 4,
   "metadata": {},
   "outputs": [
    {
     "name": "stdout",
     "output_type": "stream",
     "text": [
      "El array con el que vamos a trabajar en este apartado de la lección es: \n",
      " [[0.15 0.97 0.24 1.  ]\n",
      " [0.6  0.75 0.41 0.2 ]\n",
      " [0.32 0.04 0.27 0.65]\n",
      " [0.28 0.57 0.21 0.44]\n",
      " [0.65 0.13 0.   0.12]]\n",
      "--------------------------\n",
      "El cálculo de la media de todos los elementos del array es: \n",
      " 0.4\n"
     ]
    }
   ],
   "source": [
    "print(f\"El array con el que vamos a trabajar en este apartado de la lección es: \\n {bidimensional_red}\")\n",
    "\n",
    "# calculamos la media de todos los elementos del array\n",
    "\n",
    "media = np.mean(bidimensional_red)\n",
    "print(\"--------------------------\")\n",
    "print(f\"El cálculo de la media de todos los elementos del array es: \\n {media}\")"
   ]
  },
  {
   "cell_type": "markdown",
   "metadata": {},
   "source": [
    "Anteriormente vimos que podiamos aplicar np.mean() a todo mi array, aunque podria suceder el caso de que quisieramos aplicarlo a las columnas, por lo tanto con lo que vimos en el ejermplo atenrior, solo debemos agregar el eje al que vamos a aplicar este calculo, como son las columnas mi eje sera 0 (cero), la sintaxis la vemos en el ejemplo como axis=0."
   ]
  },
  {
   "cell_type": "code",
   "execution_count": 5,
   "metadata": {},
   "outputs": [
    {
     "name": "stdout",
     "output_type": "stream",
     "text": [
      "El array con el que vamos a trabajar en este apartado de la lección es: \n",
      " [[0.34 0.4  0.5  0.46]\n",
      " [0.92 0.29 0.5  0.85]\n",
      " [0.69 0.53 0.62 0.59]\n",
      " [0.3  0.09 0.56 0.96]\n",
      " [0.   0.99 0.86 0.79]]\n",
      "--------------------------\n",
      "La media de cada COLUMNA (axis = 0) del array es: \n",
      " [0.45  0.46  0.608 0.73 ]\n"
     ]
    }
   ],
   "source": [
    "print(f\"El array con el que vamos a trabajar en este apartado de la lección es: \\n {bidimensional_red}\")\n",
    "\n",
    "# calculamos la media por cada COLUMNA que tenemos en el array\n",
    "\n",
    "media_col = np.mean(bidimensional_red, axis = 0) # noten que agregamos un eje donde aplico la funcion\n",
    "print(\"--------------------------\")\n",
    "print(f\"La media de cada COLUMNA (axis = 0) del array es: \\n {media_col}\")"
   ]
  },
  {
   "cell_type": "markdown",
   "metadata": {},
   "source": [
    "Si podemos calcular la media de cada columna, entonces tambien podremos hacer lo mismo con cada fila, cambiando el valor del eje de 0 al valor de 1, es decir que la sintaxis ser axis=1."
   ]
  },
  {
   "cell_type": "code",
   "execution_count": 6,
   "metadata": {},
   "outputs": [
    {
     "name": "stdout",
     "output_type": "stream",
     "text": [
      "El array con el que vamos a trabajar en este apartado de la lección es: \n",
      " [[0.34 0.4  0.5  0.46]\n",
      " [0.92 0.29 0.5  0.85]\n",
      " [0.69 0.53 0.62 0.59]\n",
      " [0.3  0.09 0.56 0.96]\n",
      " [0.   0.99 0.86 0.79]]\n",
      "--------------------------\n",
      "La media de cada FILA (axis = 1) del array es: \n",
      " [0.425  0.64   0.6075 0.4775 0.66  ]\n"
     ]
    }
   ],
   "source": [
    "print(f\"El array con el que vamos a trabajar en este apartado de la lección es: \\n {bidimensional_red}\")\n",
    "\n",
    "# calculamos la media por cada FILA que tenemos en el array\n",
    "\n",
    "media_fila = np.mean(bidimensional_red, axis = 1) # noten que agregamos un eje donde aplico la funcion\n",
    "print(\"--------------------------\")\n",
    "print(f\"La media de cada FILA (axis = 1) del array es: \\n {media_fila}\")"
   ]
  },
  {
   "cell_type": "markdown",
   "metadata": {},
   "source": [
    "### `np.var()`\n",
    "\n",
    "Calcula la varianza de los valores de mi *array*. Por defecto lo hará sobre todo el *array*, pero nosotros le podemos especificar el eje usando el parámetro `axis`. La **varianza** es una medida estadística que indica qué tan dispersos están los valores de un conjunto de datos alrededor de su media. Es una medida de la variabilidad de los datos. Una varianza alta indica que los valores están más dispersos, mientras que una varianza baja indica que los valores están más cercanos a la media.\n",
    "\n",
    "- `axis = 0`: columnas\n",
    "- `axis = 1`: filas\n",
    "\n"
   ]
  },
  {
   "cell_type": "code",
   "execution_count": 7,
   "metadata": {},
   "outputs": [
    {
     "name": "stdout",
     "output_type": "stream",
     "text": [
      "El array con el que vamos a trabajar en este apartado de la lección es: \n",
      " [[0.34 0.4  0.5  0.46]\n",
      " [0.92 0.29 0.5  0.85]\n",
      " [0.69 0.53 0.62 0.59]\n",
      " [0.3  0.09 0.56 0.96]\n",
      " [0.   0.99 0.86 0.79]]\n",
      "--------------------------\n",
      "El cálculo de la varianza de todos los elementos del array es: \n",
      " 0.074496\n"
     ]
    }
   ],
   "source": [
    "print(f\"El array con el que vamos a trabajar en este apartado de la lección es: \\n {bidimensional_red}\")\n",
    "\n",
    "# calculamos la varianza de todos los elementos de array\n",
    "\n",
    "varianza = np.var(bidimensional_red)\n",
    "print(\"--------------------------\")\n",
    "print(f\"El cálculo de la varianza de todos los elementos del array es: \\n {varianza}\")"
   ]
  },
  {
   "cell_type": "code",
   "execution_count": 8,
   "metadata": {},
   "outputs": [
    {
     "name": "stdout",
     "output_type": "stream",
     "text": [
      "El array con el que vamos a trabajar en este apartado de la lección es: \n",
      " [[0.34 0.4  0.5  0.46]\n",
      " [0.92 0.29 0.5  0.85]\n",
      " [0.69 0.53 0.62 0.59]\n",
      " [0.3  0.09 0.56 0.96]\n",
      " [0.   0.99 0.86 0.79]]\n",
      "--------------------------\n",
      "La varianza de cada COLUMNA (axis = 0) del array es: \n",
      " [0.10312  0.09104  0.017856 0.03268 ]\n"
     ]
    }
   ],
   "source": [
    "print(f\"El array con el que vamos a trabajar en este apartado de la lección es: \\n {bidimensional_red}\")\n",
    "\n",
    "# calculamos la varianza por cada COLUMNA que tenemos en el array\n",
    "\n",
    "varianza_col = np.var(bidimensional_red, axis = 0) # noten que agregamos un eje donde aplico la funcion\n",
    "print(\"--------------------------\")\n",
    "print(f\"La varianza de cada COLUMNA (axis = 0) del array es: \\n {varianza_col}\")"
   ]
  },
  {
   "cell_type": "code",
   "execution_count": 10,
   "metadata": {},
   "outputs": [
    {
     "name": "stdout",
     "output_type": "stream",
     "text": [
      "El array con el que vamos a trabajar en este apartado de la lección es: \n",
      " [[0.34 0.4  0.5  0.46]\n",
      " [0.92 0.29 0.5  0.85]\n",
      " [0.69 0.53 0.62 0.59]\n",
      " [0.3  0.09 0.56 0.96]\n",
      " [0.   0.99 0.86 0.79]]\n",
      "--------------------------\n",
      "La varianza de cada FILA (axis = 1) del array es: \n",
      " [0.003675   0.06615    0.00331875 0.10531875 0.15035   ]\n"
     ]
    }
   ],
   "source": [
    "print(f\"El array con el que vamos a trabajar en este apartado de la lección es: \\n {bidimensional_red}\")\n",
    "\n",
    "# calculamos la varianza por cada FILA que tenemos en el array\n",
    "\n",
    "varianza_fila = np.var(bidimensional_red, axis = 1) # noten que agregamos un eje donde aplico la funcion\n",
    "print(\"--------------------------\")\n",
    "print(f\"La varianza de cada FILA (axis = 1) del array es: \\n {varianza_fila}\")"
   ]
  },
  {
   "cell_type": "markdown",
   "metadata": {},
   "source": [
    "### `np.std()`\n",
    "\n",
    "Calcula la desviación estándar en nuestro *array*, como hasta ahora, por defecto nos lo va a calcular para todos los elementos. La **desviación estándar** es una medida estadística que indica cuánto varían los valores de un conjunto de datos con respecto a la media. Proporciona una medida de dispersión o variabilidad en los datos. Una desviación estándar alta indica que los valores del conjunto de datos están más dispersos, mientras que una desviación estándar baja indica que los valores están más cerca de la media.\n",
    "\n",
    "\n",
    "Entonces... ¿Cuál es la diferencia entre desviación y varianza?\n",
    "\n",
    "- La varianza mide la dispersión de los datos alrededor de la media, expresada en unidades al cuadrado.\n",
    "- La desviación estándar mide la dispersión de los datos alrededor de la media, expresada en las mismas unidades que los datos originales.\n",
    "\n",
    "Si le pasamos el parámetro `axis` podemos especificar sobre que eje queremos que nos calcule la desviación estándar. \n",
    "\n",
    "- `axis = 0`: columnas\n",
    "- `axis = 1`: filas"
   ]
  },
  {
   "cell_type": "code",
   "execution_count": 11,
   "metadata": {},
   "outputs": [
    {
     "name": "stdout",
     "output_type": "stream",
     "text": [
      "El array con el que vamos a trabajar en este apartado de la lección es: \n",
      " [[0.34 0.4  0.5  0.46]\n",
      " [0.92 0.29 0.5  0.85]\n",
      " [0.69 0.53 0.62 0.59]\n",
      " [0.3  0.09 0.56 0.96]\n",
      " [0.   0.99 0.86 0.79]]\n",
      "--------------------------\n",
      "El cálculo de la desviacion de todos los elementos del array es: \n",
      " 0.2729395537477117\n"
     ]
    }
   ],
   "source": [
    "print(f\"El array con el que vamos a trabajar en este apartado de la lección es: \\n {bidimensional_red}\")\n",
    "\n",
    "# calculamos la desviación de todos los elementos de array\n",
    "\n",
    "desviación = np.std(bidimensional_red)\n",
    "print(\"--------------------------\")\n",
    "print(f\"El cálculo de la desviacion de todos los elementos del array es: \\n {desviación}\")"
   ]
  },
  {
   "cell_type": "code",
   "execution_count": 5,
   "metadata": {},
   "outputs": [
    {
     "name": "stdout",
     "output_type": "stream",
     "text": [
      "El array con el que vamos a trabajar en este apartado de la lección es: \n",
      " [[0.15 0.97 0.24 1.  ]\n",
      " [0.6  0.75 0.41 0.2 ]\n",
      " [0.32 0.04 0.27 0.65]\n",
      " [0.28 0.57 0.21 0.44]\n",
      " [0.65 0.13 0.   0.12]]\n",
      "--------------------------\n",
      "La desviación de cada COLUMNA (axis = 0) del array es: \n",
      " [0.19276929 0.35678565 0.13215143 0.31902351]\n"
     ]
    }
   ],
   "source": [
    "print(f\"El array con el que vamos a trabajar en este apartado de la lección es: \\n {bidimensional_red}\")\n",
    "\n",
    "# calculamos la desviación por cada COLUMNA que tenemos en el array\n",
    "\n",
    "desviacion_col = np.std(bidimensional_red, axis = 0) # noten que agregamos un eje donde aplico la funcion\n",
    "print(\"--------------------------\")\n",
    "print(f\"La desviación de cada COLUMNA (axis = 0) del array es: \\n {desviacion_col}\")"
   ]
  },
  {
   "cell_type": "code",
   "execution_count": 6,
   "metadata": {},
   "outputs": [
    {
     "name": "stdout",
     "output_type": "stream",
     "text": [
      "El array con el que vamos a trabajar en este apartado de la lección es: \n",
      " [[0.15 0.97 0.24 1.  ]\n",
      " [0.6  0.75 0.41 0.2 ]\n",
      " [0.32 0.04 0.27 0.65]\n",
      " [0.28 0.57 0.21 0.44]\n",
      " [0.65 0.13 0.   0.12]]\n",
      "--------------------------\n",
      "La desviación de cada FILA (axis = 1) del array es: \n",
      " [0.39642149 0.20627651 0.21783021 0.14008926 0.25064916]\n"
     ]
    }
   ],
   "source": [
    "print(f\"El array con el que vamos a trabajar en este apartado de la lección es: \\n {bidimensional_red}\")\n",
    "\n",
    "# calculamos la desviación por cada FILA que tenemos en el array\n",
    "\n",
    "desviacion_fila = np.std(bidimensional_red, axis = 1) # noten que agregamos un eje donde aplico la funcion\n",
    "print(\"--------------------------\")\n",
    "print(f\"La desviación de cada FILA (axis = 1) del array es: \\n {desviacion_fila}\")"
   ]
  },
  {
   "cell_type": "markdown",
   "metadata": {},
   "source": [
    "## Operaciones aritméticas\n",
    "\n",
    "### `np.min()`\n",
    "\n",
    "Nos devuelve el valor mínimo de nuestro *array*. \n",
    "\n",
    "De la misma forma que `np.mean()` nos va a permitir identificar los valores mínimos a través de las columnas o las filas usando el parámetro `axis`. \n",
    "\n",
    "Igual que en `np.mean()`:\n",
    "\n",
    "- `axis = 0`: columnas\n",
    "- `axis = 1`: filas"
   ]
  },
  {
   "cell_type": "code",
   "execution_count": 14,
   "metadata": {},
   "outputs": [
    {
     "name": "stdout",
     "output_type": "stream",
     "text": [
      "El array con el que vamos a trabajar en este apartado de la lección es: \n",
      " [[0.34 0.4  0.5  0.46]\n",
      " [0.92 0.29 0.5  0.85]\n",
      " [0.69 0.53 0.62 0.59]\n",
      " [0.3  0.09 0.56 0.96]\n",
      " [0.   0.99 0.86 0.79]]\n",
      "--------------------------\n",
      "El valor mínimo de todos los elementos del array es: \n",
      " 0.0\n"
     ]
    }
   ],
   "source": [
    "print(f\"El array con el que vamos a trabajar en este apartado de la lección es: \\n {bidimensional_red}\")\n",
    "\n",
    "# sacamos el valor mínimo del array\n",
    "\n",
    "minimo = np.min(bidimensional_red)\n",
    "print(\"--------------------------\")\n",
    "print(f\"El valor mínimo de todos los elementos del array es: \\n {minimo}\")"
   ]
  },
  {
   "cell_type": "code",
   "execution_count": 15,
   "metadata": {},
   "outputs": [
    {
     "name": "stdout",
     "output_type": "stream",
     "text": [
      "El array con el que vamos a trabajar en este apartado de la lección es: \n",
      " [[0.34 0.4  0.5  0.46]\n",
      " [0.92 0.29 0.5  0.85]\n",
      " [0.69 0.53 0.62 0.59]\n",
      " [0.3  0.09 0.56 0.96]\n",
      " [0.   0.99 0.86 0.79]]\n",
      "--------------------------\n",
      "El valor mínimo de cada COLUMNA (axis = 0) del array es: \n",
      " [0.   0.09 0.5  0.46]\n"
     ]
    }
   ],
   "source": [
    "print(f\"El array con el que vamos a trabajar en este apartado de la lección es: \\n {bidimensional_red}\")\n",
    "\n",
    "# sacamos el valor mínimo de cada COLUMNA que tenemos en el array\n",
    "\n",
    "minimo_col = np.min(bidimensional_red, axis = 0) # noten que agregamos un eje donde aplico la funcion\n",
    "print(\"--------------------------\")\n",
    "print(f\"El valor mínimo de cada COLUMNA (axis = 0) del array es: \\n {minimo_col}\")"
   ]
  },
  {
   "cell_type": "code",
   "execution_count": 16,
   "metadata": {},
   "outputs": [
    {
     "name": "stdout",
     "output_type": "stream",
     "text": [
      "El array con el que vamos a trabajar en este apartado de la lección es: \n",
      " [[0.34 0.4  0.5  0.46]\n",
      " [0.92 0.29 0.5  0.85]\n",
      " [0.69 0.53 0.62 0.59]\n",
      " [0.3  0.09 0.56 0.96]\n",
      " [0.   0.99 0.86 0.79]]\n",
      "--------------------------\n",
      "El valor mínimo de cada FILA (axis = 1) del array es: \n",
      " [0.34 0.29 0.53 0.09 0.  ]\n"
     ]
    }
   ],
   "source": [
    "print(f\"El array con el que vamos a trabajar en este apartado de la lección es: \\n {bidimensional_red}\")\n",
    "\n",
    "# sacamos el valor mínimo de cada FILA que tenemos en el array\n",
    "\n",
    "minimo_fila = np.min(bidimensional_red, axis = 1) # noten que agregamos un eje donde aplico la funcion\n",
    "print(\"--------------------------\")\n",
    "print(f\"El valor mínimo de cada FILA (axis = 1) del array es: \\n {minimo_fila}\")"
   ]
  },
  {
   "cell_type": "markdown",
   "metadata": {},
   "source": [
    "### `np.max()`\n",
    "\n",
    "Nos devuelve el valor máximo de nuestro *array*. \n",
    "\n",
    "Podemos seguir trabajando con el parámetro `axis` para sacar los valores máximos por filas o columnas:\n",
    "\n",
    "- `axis = 0`: columnas\n",
    "- `axis = 1`: filas"
   ]
  },
  {
   "cell_type": "code",
   "execution_count": 17,
   "metadata": {},
   "outputs": [
    {
     "name": "stdout",
     "output_type": "stream",
     "text": [
      "El array con el que vamos a trabajar en este apartado de la lección es: \n",
      " [[0.34 0.4  0.5  0.46]\n",
      " [0.92 0.29 0.5  0.85]\n",
      " [0.69 0.53 0.62 0.59]\n",
      " [0.3  0.09 0.56 0.96]\n",
      " [0.   0.99 0.86 0.79]]\n",
      "--------------------------\n",
      "El valor máximo de todos los elementos del array es: \n",
      " 0.99\n"
     ]
    }
   ],
   "source": [
    "print(f\"El array con el que vamos a trabajar en este apartado de la lección es: \\n {bidimensional_red}\")\n",
    "\n",
    "# calculamos el valor máximo de todos los elementos del array\n",
    "maximo = np.max(bidimensional_red)\n",
    "print(\"--------------------------\")\n",
    "print(f\"El valor máximo de todos los elementos del array es: \\n {maximo}\")"
   ]
  },
  {
   "cell_type": "code",
   "execution_count": 18,
   "metadata": {},
   "outputs": [
    {
     "name": "stdout",
     "output_type": "stream",
     "text": [
      "El array con el que vamos a trabajar en este apartado de la lección es: \n",
      " [[0.34 0.4  0.5  0.46]\n",
      " [0.92 0.29 0.5  0.85]\n",
      " [0.69 0.53 0.62 0.59]\n",
      " [0.3  0.09 0.56 0.96]\n",
      " [0.   0.99 0.86 0.79]]\n",
      "--------------------------\n",
      "El valor máximo de cada COLUMNA (axis = 0) del array es: \n",
      " [0.92 0.99 0.86 0.96]\n"
     ]
    }
   ],
   "source": [
    "print(f\"El array con el que vamos a trabajar en este apartado de la lección es: \\n {bidimensional_red}\")\n",
    "\n",
    "# calculamos el valor máximo por cada COLUMNA que tenemos en el array\n",
    "\n",
    "maximo_col = np.max(bidimensional_red, axis = 0) # noten que agregamos un eje donde aplico la funcion\n",
    "print(\"--------------------------\")\n",
    "print(f\"El valor máximo de cada COLUMNA (axis = 0) del array es: \\n {maximo_col}\")"
   ]
  },
  {
   "cell_type": "code",
   "execution_count": 19,
   "metadata": {},
   "outputs": [
    {
     "name": "stdout",
     "output_type": "stream",
     "text": [
      "El array con el que vamos a trabajar en este apartado de la lección es: \n",
      " [[0.34 0.4  0.5  0.46]\n",
      " [0.92 0.29 0.5  0.85]\n",
      " [0.69 0.53 0.62 0.59]\n",
      " [0.3  0.09 0.56 0.96]\n",
      " [0.   0.99 0.86 0.79]]\n",
      "--------------------------\n",
      "El valor máximo de cada FILA (axis = 1) del array es: \n",
      " [0.5  0.92 0.69 0.96 0.99]\n"
     ]
    }
   ],
   "source": [
    "print(f\"El array con el que vamos a trabajar en este apartado de la lección es: \\n {bidimensional_red}\")\n",
    "\n",
    "# calculamos el valor máximo por cada FILA que tenemos en el array\n",
    "\n",
    "maximo_fila = np.max(bidimensional_red, axis = 1) # noten que agregamos un eje donde aplico la funcion\n",
    "print(\"--------------------------\")\n",
    "print(f\"El valor máximo de cada FILA (axis = 1) del array es: \\n {maximo_fila}\")"
   ]
  },
  {
   "cell_type": "markdown",
   "metadata": {},
   "source": [
    "### `np.sum()`\n",
    "\n",
    "Suma los elementos del *array*. Por defecto nos va a sumar todos los elementos del *array* (nos devuelve un único valor). Podemos especificar que nos haga la suma por filas o columnas con el parámetro `axis` (nos devolverá un valor por cada fila o columna que tengamos):\n",
    "\n",
    "- `axis = 0`: columnas\n",
    "- `axis = 1`: filas"
   ]
  },
  {
   "cell_type": "code",
   "execution_count": 20,
   "metadata": {},
   "outputs": [
    {
     "name": "stdout",
     "output_type": "stream",
     "text": [
      "El array con el que vamos a trabajar en este apartado de la lección es: \n",
      " [[0.34 0.4  0.5  0.46]\n",
      " [0.92 0.29 0.5  0.85]\n",
      " [0.69 0.53 0.62 0.59]\n",
      " [0.3  0.09 0.56 0.96]\n",
      " [0.   0.99 0.86 0.79]]\n",
      "--------------------------\n",
      "La suma de todos los elementos del array es: \n",
      " 11.240000000000002\n"
     ]
    }
   ],
   "source": [
    "print(f\"El array con el que vamos a trabajar en este apartado de la lección es: \\n {bidimensional_red}\")\n",
    "\n",
    "# calculamos la suma de todos los elementos de array\n",
    "\n",
    "suma = np.sum(bidimensional_red)\n",
    "print(\"--------------------------\")\n",
    "print(f\"La suma de todos los elementos del array es: \\n {suma}\")"
   ]
  },
  {
   "cell_type": "code",
   "execution_count": 21,
   "metadata": {},
   "outputs": [
    {
     "name": "stdout",
     "output_type": "stream",
     "text": [
      "El array con el que vamos a trabajar en este apartado de la lección es: \n",
      " [[0.34 0.4  0.5  0.46]\n",
      " [0.92 0.29 0.5  0.85]\n",
      " [0.69 0.53 0.62 0.59]\n",
      " [0.3  0.09 0.56 0.96]\n",
      " [0.   0.99 0.86 0.79]]\n",
      "--------------------------\n",
      "La suma de los elementos de cada COLUMNA (axis = 0) del array es: \n",
      " [2.25 2.3  3.04 3.65]\n"
     ]
    }
   ],
   "source": [
    "print(f\"El array con el que vamos a trabajar en este apartado de la lección es: \\n {bidimensional_red}\")\n",
    "\n",
    "# calculamos la suma de todos los elementos por cada COLUMNA que tenemos en el array\n",
    "\n",
    "suma_col = np.sum(bidimensional_red, axis = 0) # noten que agregamos un eje donde aplico la funcion\n",
    "print(\"--------------------------\")\n",
    "print(f\"La suma de los elementos de cada COLUMNA (axis = 0) del array es: \\n {suma_col}\")"
   ]
  },
  {
   "cell_type": "code",
   "execution_count": 22,
   "metadata": {},
   "outputs": [
    {
     "name": "stdout",
     "output_type": "stream",
     "text": [
      "El array con el que vamos a trabajar en este apartado de la lección es: \n",
      " [[0.34 0.4  0.5  0.46]\n",
      " [0.92 0.29 0.5  0.85]\n",
      " [0.69 0.53 0.62 0.59]\n",
      " [0.3  0.09 0.56 0.96]\n",
      " [0.   0.99 0.86 0.79]]\n",
      "--------------------------\n",
      "La suma de los elementos de cada FILA (axis = 1) del array es: \n",
      " [1.7  2.56 2.43 1.91 2.64]\n"
     ]
    }
   ],
   "source": [
    "print(f\"El array con el que vamos a trabajar en este apartado de la lección es: \\n {bidimensional_red}\")\n",
    "\n",
    "# calculamos la suma de todos los elementos por cada FILA que tenemos en el array\n",
    "\n",
    "suma_fila = np.sum(bidimensional_red, axis = 1) # noten que agregamos un eje donde aplico la funcion\n",
    "print(\"--------------------------\")\n",
    "print(f\"La suma de los elementos de cada FILA (axis = 1) del array es: \\n {suma_fila}\")"
   ]
  },
  {
   "cell_type": "markdown",
   "metadata": {},
   "source": [
    "## Otros métodos\n",
    "\n",
    "### `np.sort()`\n",
    "\n",
    "Devuelve una copia ordenada de un *array*.\n",
    "\n",
    "Por defecto nos ordenará por filas de nuestro *array*, si lo que queremos es que nos ordene por columnas tendremos que pasarle el parámetro `axis = 0`. "
   ]
  },
  {
   "cell_type": "code",
   "execution_count": 23,
   "metadata": {},
   "outputs": [
    {
     "name": "stdout",
     "output_type": "stream",
     "text": [
      "El array con el que vamos a trabajar en este apartado de la lección es: \n",
      " [[0.34 0.4  0.5  0.46]\n",
      " [0.92 0.29 0.5  0.85]\n",
      " [0.69 0.53 0.62 0.59]\n",
      " [0.3  0.09 0.56 0.96]\n",
      " [0.   0.99 0.86 0.79]]\n",
      "--------------------------\n",
      "\n",
      "El array ordenado por CADA FILA de menor a mayor es: \n",
      " [[0.34 0.4  0.46 0.5 ]\n",
      " [0.29 0.5  0.85 0.92]\n",
      " [0.53 0.59 0.62 0.69]\n",
      " [0.09 0.3  0.56 0.96]\n",
      " [0.   0.79 0.86 0.99]]\n"
     ]
    }
   ],
   "source": [
    "print(f\"El array con el que vamos a trabajar en este apartado de la lección es: \\n {bidimensional_red}\")\n",
    "\n",
    "# ordenamos el array con el método np.sort()\n",
    "\n",
    "bidimensional_red_ordenado_filas = np.sort(bidimensional_red) #por defecto esta en axis=1 y no haria falta especificarlo.\n",
    "print(\"--------------------------\\n\")\n",
    "print(\"El array ordenado por CADA FILA de menor a mayor es: \\n\", bidimensional_red_ordenado_filas)\n"
   ]
  },
  {
   "cell_type": "markdown",
   "metadata": {},
   "source": [
    "Si nos fijamos, el *array* esta ordenado de menor a mayor en cada fila. Si quisieramos ordenarlo de menor a mayor por columnas tendremos que usar el parámetro `axis = 0`"
   ]
  },
  {
   "cell_type": "code",
   "execution_count": 24,
   "metadata": {},
   "outputs": [
    {
     "name": "stdout",
     "output_type": "stream",
     "text": [
      "El array con el que vamos a trabajar en este apartado de la lección es: \n",
      " [[0.34 0.4  0.5  0.46]\n",
      " [0.92 0.29 0.5  0.85]\n",
      " [0.69 0.53 0.62 0.59]\n",
      " [0.3  0.09 0.56 0.96]\n",
      " [0.   0.99 0.86 0.79]]\n",
      "--------------------------\n",
      "\n",
      "El array ordenado por CADA COLUMNA de menor a mayor es: \n",
      " [[0.   0.09 0.5  0.46]\n",
      " [0.3  0.29 0.5  0.59]\n",
      " [0.34 0.4  0.56 0.79]\n",
      " [0.69 0.53 0.62 0.85]\n",
      " [0.92 0.99 0.86 0.96]]\n"
     ]
    }
   ],
   "source": [
    "print(f\"El array con el que vamos a trabajar en este apartado de la lección es: \\n {bidimensional_red}\")\n",
    "\n",
    "# ordenamos el array con el método np.sort()\n",
    "\n",
    "bidimensional_red_ordenado_col = np.sort(bidimensional_red, axis = 0) # noten que agregamos un eje donde aplico la funcion\n",
    "print(\"--------------------------\\n\")\n",
    "print(\"El array ordenado por CADA COLUMNA de menor a mayor es: \\n\", bidimensional_red_ordenado_col)"
   ]
  },
  {
   "cell_type": "markdown",
   "metadata": {},
   "source": [
    "⚠️ Si nos fijamos en cualquiera de los casos nos esta ordenando de menor a mayor. \n",
    "\n",
    "Pero... ¿Qué pasaría si quisieramos ordenar de mayor a menor? \n",
    "\n",
    "Le tendríamos que dar la vuelta primero al *array* y luego ordenarlo. ¿Cómo podemos darle la vuelta a un *array*? \n",
    "\n",
    "> Utilizando el operador `-` delante del *array* y del método\n"
   ]
  },
  {
   "cell_type": "code",
   "execution_count": 25,
   "metadata": {},
   "outputs": [
    {
     "name": "stdout",
     "output_type": "stream",
     "text": [
      "El array con el que vamos a trabajar en este apartado de la lección es: \n",
      " [[0.34 0.4  0.5  0.46]\n",
      " [0.92 0.29 0.5  0.85]\n",
      " [0.69 0.53 0.62 0.59]\n",
      " [0.3  0.09 0.56 0.96]\n",
      " [0.   0.99 0.86 0.79]]\n",
      "--------------------------\n",
      "\n",
      "El array con un símbolo '-' antes es: \n",
      " [[-0.34 -0.4  -0.5  -0.46]\n",
      " [-0.92 -0.29 -0.5  -0.85]\n",
      " [-0.69 -0.53 -0.62 -0.59]\n",
      " [-0.3  -0.09 -0.56 -0.96]\n",
      " [-0.   -0.99 -0.86 -0.79]]\n",
      "--------------------------\n",
      "\n",
      "El array con un símbolo '-' antes y usando el método 'np.sort()' es: \n",
      " [[-0.5  -0.46 -0.4  -0.34]\n",
      " [-0.92 -0.85 -0.5  -0.29]\n",
      " [-0.69 -0.62 -0.59 -0.53]\n",
      " [-0.96 -0.56 -0.3  -0.09]\n",
      " [-0.99 -0.86 -0.79 -0.  ]]\n",
      "--------------------------\n",
      "\n",
      "El array con un símbolo '-' antes y usando el método 'np.sort()' y volviendolo a poner en negativo es: \n",
      " [[0.5  0.46 0.4  0.34]\n",
      " [0.92 0.85 0.5  0.29]\n",
      " [0.69 0.62 0.59 0.53]\n",
      " [0.96 0.56 0.3  0.09]\n",
      " [0.99 0.86 0.79 0.  ]]\n"
     ]
    }
   ],
   "source": [
    "print(f\"El array con el que vamos a trabajar en este apartado de la lección es: \\n {bidimensional_red}\")\n",
    "\n",
    "# le ponemos un símbolo '-' al array, fijaos que lo ponemos todos los elementos a negativos\n",
    "\n",
    "print(\"--------------------------\\n\")\n",
    "print(f\"El array con un símbolo '-' antes es: \\n {-bidimensional_red}\")\n",
    "\n",
    "# ahora vamos a ordenar este array con el método np.sort()\n",
    "\n",
    "print(\"--------------------------\\n\")\n",
    "print(f\"El array con un símbolo '-' antes y usando el método 'np.sort()' es: \\n {np.sort(-bidimensional_red)}\")\n",
    "\n",
    "# si nos fijamos ahora, si ignoramos los símbolos '-' los valores más altos están al inicio de las filas, por lo que\n",
    "# tendremos que hacer ahora es quitarle los símbolos '-'. Para eso lo que haremos será poner un símbolo '-' delante del 'np.sort()'\n",
    "\n",
    "print(\"--------------------------\\n\")\n",
    "print(f\"El array con un símbolo '-' antes y usando el método 'np.sort()' y volviendolo a poner en negativo es: \\n {-np.sort(-bidimensional_red)}\")"
   ]
  },
  {
   "cell_type": "markdown",
   "metadata": {},
   "source": [
    "### `np.transpose()`\n",
    "\n",
    "Es una función de la biblioteca NumPy que se utiliza para intercambiar las dimensiones de un *array*. Toma como argumento un *array* y devuelve un nuevo *array* con las dimensiones intercambiadas.\n",
    "\n",
    "La sintaxis básica de `np.transpose` es la siguiente:\n",
    "\n",
    "```python\n",
    "np.transpose(arr, axes)\n",
    "```\n",
    "\n",
    "Donde:\n",
    "- `arr`: Es la matriz que deseas transponer.\n",
    "- `axes`: Es una tupla opcional que especifica cómo se deben reordenar las dimensiones. Cada elemento de la tupla representa la dimensión correspondiente en la matriz transpuesta. Si no se proporciona `axes`, se realiza una permutación de las dimensiones en orden inverso.\n",
    "\n",
    "Visualmente lo podemos ver así:\n",
    "\n",
    "\n",
    "![image-2.png](https://github.com/Adalab/data_imagenes/blob/main/Modulo-2/NumPy/transpose.png?raw=true)\n",
    "\n",
    "\n",
    "En resumen, `np.transpose` es una función útil para cambiar las dimensiones de una matriz en NumPy. Puede ser especialmente útil en el análisis de datos cuando se necesita cambiar el orden de filas y columnas para realizar cálculos o manipulaciones específicas.\n",
    "\n",
    "\n",
    "Veamos varios ejemplos con arrays de distintas dimensiones:"
   ]
  },
  {
   "cell_type": "markdown",
   "metadata": {},
   "source": [
    "#### Unidimensional\n",
    "\n",
    "No tiene mucho sentido hacer una transposición de un *array* de una dimensión ya que:\n",
    "\n",
    "> La transposición de un *array* unidimensional devuelve una vista inalterada del *array* original."
   ]
  },
  {
   "cell_type": "markdown",
   "metadata": {},
   "source": [
    "#### Bidimensional\n",
    "\n",
    "Va ha cambiar las filas por columnas en nuestro *array*"
   ]
  },
  {
   "cell_type": "code",
   "execution_count": 27,
   "metadata": {},
   "outputs": [
    {
     "name": "stdout",
     "output_type": "stream",
     "text": [
      "El array con el que vamos a trabajar en este apartado de la lección es: \n",
      " [[0.34 0.4  0.5  0.46]\n",
      " [0.92 0.29 0.5  0.85]\n",
      " [0.69 0.53 0.62 0.59]\n",
      " [0.3  0.09 0.56 0.96]\n",
      " [0.   0.99 0.86 0.79]]\n",
      "--------------------------\n",
      "\n",
      "El array después de aplicar el método 'np.transpose()': \n",
      " [[0.34 0.92 0.69 0.3  0.  ]\n",
      " [0.4  0.29 0.53 0.09 0.99]\n",
      " [0.5  0.5  0.62 0.56 0.86]\n",
      " [0.46 0.85 0.59 0.96 0.79]]\n"
     ]
    }
   ],
   "source": [
    "print(f\"El array con el que vamos a trabajar en este apartado de la lección es: \\n {bidimensional_red}\")\n",
    "\n",
    "# transponemos el array bidimensional usando el método'np.transpose()'\n",
    "# Fijaos como después de aplicar el método transpose tenemos 4 filas y 5 columnas. El array original tenia 5 filas  y 4 columnas\n",
    "\n",
    "print(\"--------------------------\\n\")\n",
    "bidimensional_red_trans = np.transpose(bidimensional_red)\n",
    "print(f\"El array después de aplicar el método 'np.transpose()': \\n {bidimensional_red_trans}\")\n"
   ]
  },
  {
   "cell_type": "markdown",
   "metadata": {},
   "source": [
    "#### Multidimensional\n",
    "\n",
    "La cosa se complica cuando pasamos a *arrays* con más de dos dimensiones. \n",
    "\n",
    "Por defecto este método nos hará la siguiente transposicion:\n",
    "\n",
    "- El número de columnas --> número de *arrays* \n",
    "\n",
    "\n",
    "- El número de filas --> número de filas\n",
    "\n",
    "\n",
    "- El número de *arrays* --> número de columnas"
   ]
  },
  {
   "cell_type": "code",
   "execution_count": 30,
   "metadata": {},
   "outputs": [
    {
     "name": "stdout",
     "output_type": "stream",
     "text": [
      "El array con el que vamos a trabajar en este apartado de la lección es: \n",
      " [[[ 1  2  3  4  5]\n",
      "  [ 6  7  8  9 10]]\n",
      "\n",
      " [[11 12 13 14 15]\n",
      "  [16 17 18 19 20]]]\n",
      "--------------------------\n",
      "\n",
      "El array después de aplicar el método 'np.transpose()': \n",
      " [[[ 1 11]\n",
      "  [ 6 16]]\n",
      "\n",
      " [[ 2 12]\n",
      "  [ 7 17]]\n",
      "\n",
      " [[ 3 13]\n",
      "  [ 8 18]]\n",
      "\n",
      " [[ 4 14]\n",
      "  [ 9 19]]\n",
      "\n",
      " [[ 5 15]\n",
      "  [10 20]]]\n"
     ]
    }
   ],
   "source": [
    "# creando mi array de 3D\n",
    "\n",
    "lista_listas_listas = [[[1, 2, 3, 4, 5], [6, 7, 8, 9, 10]], [[11, 12, 13, 14, 15], [16, 17, 18, 19, 20]]]\n",
    "tridimensional = np.array(lista_listas_listas)\n",
    "\n",
    "print(f\"El array con el que vamos a trabajar en este apartado de la lección es: \\n {tridimensional}\")\n",
    "\n",
    "# aplicamos el método 'np.transpose()' para ver que nos devuelve por defecto\n",
    "print(\"--------------------------\\n\")\n",
    "\n",
    "\n",
    "tridimensional_trans_defecto = np.transpose(tridimensional)\n",
    "print(f\"El array después de aplicar el método 'np.transpose()': \\n {tridimensional_trans_defecto}\")\n",
    "\n",
    "# antes teníamos un array de 2 matrices x 2 filas x 5 columnas\n",
    "# después tenemos un array de 5 matrices x 2  filas x 2 columnas"
   ]
  },
  {
   "cell_type": "markdown",
   "metadata": {},
   "source": [
    "Pero nosotras podemos especificar el sentido en el que queremos que transpongan los elementos de mi *array*\n",
    "\n",
    "```python\n",
    "np.transpose(nuestro_array, (1,2,0))\n",
    "```\n",
    "\n",
    "Entendiendo lo siguiente cuando definimos el siguiente *array*:\n",
    "\n",
    "```python\n",
    "multidimensional = np.random.randint(0,100, (2,3,5))\n",
    "```\n",
    "\n",
    "- 2 (posición 0): hace referencia a el número de *subarrays* o  matrices que queremos. \n",
    "\n",
    "\n",
    "- 3 (posición 1): hace referencia al número de filas que queremos en cada uno de nuestros *subarrays*.\n",
    "\n",
    "\n",
    "- 5 (posición 2): hace referencia al número de columnas que queremos en cada uno de nuestros *subarrays*. \n",
    "\n",
    "> A este método le podemos pasar un parámetro adicional que puede ser una tupla o una lista donde indicaremos el orden de permutación que queremos\n",
    "\n",
    "**¿Cómo lo hacemos?**\n",
    "\n",
    "Lo haremos indicando donde queremos cada una de las posiciones antiguas. Es decir, imaginemos que queremos hacer la siguiente transposición:\n",
    "\n",
    "- Las columnas (posición 2) queremos que sean las filas (posición 1)\n",
    "\n",
    "\n",
    "- Las filas (posición 1) queremos que sean el número de *arrays* (posición 0)\n",
    "\n",
    "\n",
    "- El número de *arrays* (posición 0) queremos que sean columnas (posición 2)\n",
    "\n",
    "Lo único que tendremos que hacer es especificar este nuevo orden en el `transpose()`\n",
    "\n",
    "```python\n",
    "np.transpose(multidimensional, (1,2,0))\n",
    "```\n",
    "\n",
    "Si nos fijamos lo que hacemos en la tupla es, basándonos en las posiciones de la tupla:\n",
    "\n",
    "- ¿Qué quiero en la posición 0 de la tupla (y por lo tanto de mi nuevo *array* transpuesto*? -- > lo que antes era la posición 1. Por lo tanto, pongo un 1\n",
    "\n",
    "\n",
    "- ¿Qué quiero en la posción 1? --> lo que antes era la posición 2. Por lo tanto, pongo un 2\n",
    "\n",
    "\n",
    "\n",
    "- ¿Qué quiero en la posición 2? --> lo que antes era la posición 0. Por lo tanto, pongo un 0"
   ]
  },
  {
   "cell_type": "code",
   "execution_count": 29,
   "metadata": {},
   "outputs": [
    {
     "name": "stdout",
     "output_type": "stream",
     "text": [
      "El array con el que vamos a trabajar en este apartado de la lección es: \n",
      " [[[ 1  2  3  4  5]\n",
      "  [ 6  7  8  9 10]]\n",
      "\n",
      " [[11 12 13 14 15]\n",
      "  [16 17 18 19 20]]]\n",
      "--------------------------\n",
      "\n",
      "El array después de aplicar el método 'np.transpose()': \n",
      " [[[ 1 11]\n",
      "  [ 2 12]\n",
      "  [ 3 13]\n",
      "  [ 4 14]\n",
      "  [ 5 15]]\n",
      "\n",
      " [[ 6 16]\n",
      "  [ 7 17]\n",
      "  [ 8 18]\n",
      "  [ 9 19]\n",
      "  [10 20]]]\n"
     ]
    }
   ],
   "source": [
    "print(f\"El array con el que vamos a trabajar en este apartado de la lección es: \\n {tridimensional}\")\n",
    "\n",
    "# aplicamos el método 'np.transpose()' para ver que nos devuelve por defecto\n",
    "\n",
    "print(\"--------------------------\\n\")\n",
    "tridimensional_trans_1 = np.transpose(tridimensional, (1,2,0))\n",
    "print(f\"El array después de aplicar el método 'np.transpose()': \\n {tridimensional_trans_1}\")\n",
    "\n",
    "# antes teníamos un array de 2 matrices x 2 filas x 5 columnas\n",
    "# después tenemos un array de 2 matrices x 5 filas x 2 columnas"
   ]
  },
  {
   "cell_type": "markdown",
   "metadata": {},
   "source": [
    "## `reshape()`:\n",
    "\n",
    "`np.reshape` es una función de NumPy que se utiliza para cambiar la forma de un *array* sin cambiar sus datos subyacentes. Permite reorganizar los elementos de un *array* en una nueva forma especificada por el usuario.\n",
    "\n",
    "La sintaxis básica de `np.reshape` es la siguiente:\n",
    "\n",
    "```python\n",
    "np.reshape(a, newshape, order='C')\n",
    "```\n",
    "\n",
    "Donde:\n",
    "- `a`: Es la matriz que se desea remodelar.\n",
    "- `newshape`: Es la nueva forma deseada de la matriz, especificada como una tupla de enteros.\n",
    "- `order` (opciona): Especifica el orden en el que se deben leer los elementos de la matriz. Puede tomar dos valores: 'C' (por defecto) para leer los elementos en orden de fila (por filas) y 'F' para leer los elementos en orden de columna (por columnas)."
   ]
  },
  {
   "cell_type": "code",
   "execution_count": 31,
   "metadata": {},
   "outputs": [
    {
     "name": "stdout",
     "output_type": "stream",
     "text": [
      "El array con el que vamos a trabajar es: \n",
      " [1 2 3 4 5 6]\n",
      "\n",
      "--------------------------\n",
      "\n",
      "El array después de aplicar el método 'np.reshape()' es: \n",
      " [[1 2 3]\n",
      " [4 5 6]]\n"
     ]
    }
   ],
   "source": [
    "# definimos un array unidimensional utilizando el método 'np.array()'\n",
    "\n",
    "a = np.array([1, 2, 3, 4, 5, 6])\n",
    "print(f\"El array con el que vamos a trabajar es: \\n {a}\")\n",
    "\n",
    "# Si queremos remodelar esta matriz en una matriz bidimensional \n",
    "# de 2 filas y 3 columnas, podemos usar `np.reshape` de la siguiente manera:\n",
    "\n",
    "print(\"\\n--------------------------\\n\")\n",
    "reshaped_a = np.reshape(a, (2, 3))\n",
    "print(f\"El array después de aplicar el método 'np.reshape()' es: \\n {reshaped_a}\")\n"
   ]
  },
  {
   "cell_type": "markdown",
   "metadata": {},
   "source": [
    "\n",
    "También podemos utilizar `np.reshape` para remodelar *arrays* multidimensionales. Veamos un ejemplo:"
   ]
  },
  {
   "cell_type": "code",
   "execution_count": 32,
   "metadata": {},
   "outputs": [
    {
     "name": "stdout",
     "output_type": "stream",
     "text": [
      "El array con el que vamos a trabajar es: \n",
      " [[1 2 3]\n",
      " [4 5 6]]\n",
      "\n",
      "--------------------------\n",
      "\n",
      "El array después de aplicar el método 'np.reshape()' es: \n",
      " [1 2 3 4 5 6]\n"
     ]
    }
   ],
   "source": [
    "# definimos un array unidimensional utilizando el método 'np.array()'\n",
    "\n",
    "b = np.array([[1, 2, 3], [4, 5, 6]])\n",
    "print(f\"El array con el que vamos a trabajar es: \\n {b}\")\n",
    "\n",
    "# Si queremos remodelar esta matriz en una matriz bidimensional \n",
    "# de 2 filas y 3 columnas, podemos usar `np.reshape` de la siguiente manera:\n",
    "\n",
    "print(\"\\n--------------------------\\n\")\n",
    "reshaped_b = np.reshape(a, (6,))\n",
    "print(f\"El array después de aplicar el método 'np.reshape()' es: \\n {reshaped_b}\")"
   ]
  },
  {
   "cell_type": "markdown",
   "metadata": {},
   "source": [
    "## `np.swapaxes()`\n",
    "\n",
    "El método `np.swapaxes` se utiliza para intercambiar dos ejes (dimensiones) específicos de un *array*. Permite reorganizar los ejes de un *array* sin cambiar los datos subyacentes.\n",
    "\n",
    "La sintaxis básica de `np.swapaxes` es la siguiente:\n",
    "\n",
    "```python\n",
    "np.swapaxes(arr, axis1, axis2)\n",
    "```\n",
    "\n",
    "Donde:\n",
    "- `arr` es la matriz en la que se desea intercambiar los ejes.\n",
    "- `axis1` y `axis2` son los ejes que se deben intercambiar."
   ]
  },
  {
   "cell_type": "code",
   "execution_count": 37,
   "metadata": {},
   "outputs": [
    {
     "name": "stdout",
     "output_type": "stream",
     "text": [
      "El array con el que vamos a trabajar es: \n",
      " [[1 2 3]\n",
      " [4 5 6]]\n",
      "\n",
      "--------------------------\n",
      "\n",
      "El array después de aplicar el método 'np.swapaxes()' es:\n",
      " [[1 4]\n",
      " [2 5]\n",
      " [3 6]]\n"
     ]
    }
   ],
   "source": [
    "# definimos un array nuevo bidimensional\n",
    "\n",
    "arr = np.array([[1, 2, 3], [4, 5, 6]])\n",
    "print(f\"El array con el que vamos a trabajar es: \\n {arr}\")\n",
    "\n",
    "# Si queremos intercambiar los ejes de este array, podemos usar `np.swapaxes` de la siguiente manera:\n",
    "\n",
    "print(\"\\n--------------------------\\n\")\n",
    "swapped_arr = np.swapaxes(arr, 0, 1)\n",
    "print(f\"El array después de aplicar el método 'np.swapaxes()' es:\\n {swapped_arr}\")"
   ]
  },
  {
   "cell_type": "code",
   "execution_count": 34,
   "metadata": {},
   "outputs": [
    {
     "name": "stdout",
     "output_type": "stream",
     "text": [
      "El array con el que vamos a trabajar es: \n",
      " [[[1 2 3]\n",
      "  [3 4 3]]\n",
      "\n",
      " [[5 6 4]\n",
      "  [7 8 4]]]\n",
      "\n",
      "--------------------------\n",
      "\n",
      "El array después de aplicar el método 'np.swapaxes()' es: \n",
      " [[[1 5]\n",
      "  [3 7]]\n",
      "\n",
      " [[2 6]\n",
      "  [4 8]]\n",
      "\n",
      " [[3 4]\n",
      "  [3 4]]]\n"
     ]
    }
   ],
   "source": [
    "# definimos un array nuevo tridimensional\n",
    "\n",
    "arr_3d = np.array([[[1, 2, 3], [3, 4, 3]], [[5, 6, 4], [7, 8, 4]]])\n",
    "print(f\"El array con el que vamos a trabajar es: \\n {arr_3d}\")\n",
    "\n",
    "# Si queremos intercambiar los ejes 0 (matrices) y 2 (columnas) de este array, podemos hacer lo siguiente:\n",
    "\n",
    "print(\"\\n--------------------------\\n\")\n",
    "swapped_arr_3d = np.swapaxes(arr_3d, 0, 2)\n",
    "print(f\"El array después de aplicar el método 'np.swapaxes()' es: \\n {swapped_arr_3d}\")"
   ]
  },
  {
   "cell_type": "markdown",
   "metadata": {},
   "source": [
    "En este caso, el eje 0 representaba las matrices individuales, el eje 1 representaba las filas y el eje 2 representaba las columnas. Después del intercambio, el eje 0 representa las columnas, el eje 1 representa las filas y el eje 2 representa las matrices individuales.\n"
   ]
  },
  {
   "cell_type": "markdown",
   "metadata": {},
   "source": [
    "## `np.copy()`\n",
    "\n",
    "El método `np.copy()` en NumPy se utiliza para realizar una copia completa de un array NumPy, incluyendo sus datos y su estructura. Esto significa que se crea una nueva instancia del array con los mismos datos que el array original, pero completamente independiente de él. \n",
    "\n",
    "La copia no comparte ninguna referencia de memoria con el array original, lo que significa que cualquier modificación hecha en la copia no afectará al array original, y viceversa."
   ]
  },
  {
   "cell_type": "code",
   "execution_count": 35,
   "metadata": {},
   "outputs": [
    {
     "name": "stdout",
     "output_type": "stream",
     "text": [
      "Array original: [1 2 3 4 5]\n",
      "--------------------------\n",
      "Copia modificada: [100   2   3   4   5]\n"
     ]
    }
   ],
   "source": [
    "#creamos un array para el ejemplo, puede ser de cualquier dimension y forma\n",
    "\n",
    "original_array = np.array([1, 2, 3, 4, 5])\n",
    "\n",
    "# Creamos una copia del array\n",
    "\n",
    "copia_array = original_array.copy()\n",
    "\n",
    "# Modificamos la copia\n",
    "\n",
    "copia_array[0] = 100\n",
    "\n",
    "# Imprimimos ambos arrays\n",
    "\n",
    "print(\"Array original:\", original_array)\n",
    "print(\"--------------------------\")\n",
    "print(\"Copia modificada:\", copia_array)"
   ]
  },
  {
   "cell_type": "markdown",
   "metadata": {},
   "source": [
    "## `np.flatten()`\n",
    "\n",
    "El método `np.flatten()` en NumPy es una función que se utiliza para convertir un array multidimensional en un array unidimensional, es decir, aplana el array. Esto significa que toma todos los elementos del array, independientemente de su forma original (dimensionalidad), y los coloca en una sola dimensión.\n",
    "\n",
    "La principal utilidad de flatten() radica en simplificar la manipulación y el procesamiento de datos cuando se trabaja con arrays multidimensionales. Al convertir un array multidimensional en un array unidimensional, se puede acceder a todos los elementos de manera secuencial, lo que facilita su procesamiento mediante operaciones de iteración, filtrado, ordenamiento u otras manipulaciones de datos."
   ]
  },
  {
   "cell_type": "code",
   "execution_count": 36,
   "metadata": {},
   "outputs": [
    {
     "name": "stdout",
     "output_type": "stream",
     "text": [
      "Array multidimensional original:\n",
      "[[1 2 3]\n",
      " [4 5 6]\n",
      " [7 8 9]]\n",
      "\n",
      "Array unidimensional obtenido con flatten():\n",
      "[1 2 3 4 5 6 7 8 9]\n"
     ]
    }
   ],
   "source": [
    "# Crear un array multidimensional\n",
    "\n",
    "array_multidimensional = np.array([[1, 2, 3], [4, 5, 6], [7, 8, 9]])\n",
    "\n",
    "print(\"Array multidimensional original:\")\n",
    "print(array_multidimensional)\n",
    "print()\n",
    "\n",
    "# Aplicar flatten() para convertirlo en un array unidimensional\n",
    "\n",
    "array_unidimensional = array_multidimensional.flatten()\n",
    "\n",
    "print(\"Array unidimensional obtenido con flatten():\")\n",
    "print(array_unidimensional)"
   ]
  }
 ],
 "metadata": {
  "kernelspec": {
   "display_name": "Python 3",
   "language": "python",
   "name": "python3"
  },
  "language_info": {
   "codemirror_mode": {
    "name": "ipython",
    "version": 3
   },
   "file_extension": ".py",
   "mimetype": "text/x-python",
   "name": "python",
   "nbconvert_exporter": "python",
   "pygments_lexer": "ipython3",
   "version": "3.13.0"
  },
  "toc": {
   "base_numbering": 1,
   "nav_menu": {},
   "number_sections": true,
   "sideBar": true,
   "skip_h1_title": false,
   "title_cell": "Table of Contents",
   "title_sidebar": "Contents",
   "toc_cell": true,
   "toc_position": {
    "height": "calc(100% - 180px)",
    "left": "10px",
    "top": "150px",
    "width": "426.667px"
   },
   "toc_section_display": true,
   "toc_window_display": true
  }
 },
 "nbformat": 4,
 "nbformat_minor": 2
}

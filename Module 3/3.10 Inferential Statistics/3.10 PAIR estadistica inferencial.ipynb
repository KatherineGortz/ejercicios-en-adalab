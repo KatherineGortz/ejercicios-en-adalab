{
 "cells": [
  {
   "cell_type": "markdown",
   "metadata": {},
   "source": []
  },
  {
   "cell_type": "code",
   "execution_count": 1,
   "metadata": {},
   "outputs": [],
   "source": [
    "\n",
    "# importamos las librerías que necesitamos\n",
    "\n",
    "# Tratamiento de datos\n",
    "# -----------------------------------------------------------------------\n",
    "import pandas as pd\n",
    "import numpy as np\n",
    "\n",
    "# Visualización\n",
    "# ------------------------------------------------------------------------------\n",
    "import matplotlib.pyplot as plt\n",
    "import seaborn as sns\n",
    "\n",
    "# Evaluar linealidad de las relaciones entre las variables\n",
    "# y la distribución de las variables\n",
    "# ------------------------------------------------------------------------------\n",
    "#from scipy.stats import shapiro, kstest, poisson, chisquare, ttest_ind, levene, bartlett, sem, ppf\n",
    "import scipy.stats as stats\n",
    "\n",
    "# Configuración\n",
    "# -----------------------------------------------------------------------\n",
    "pd.set_option('display.max_columns', None) # para poder visualizar todas las columnas de los DataFrames\n",
    "\n",
    "# Gestión de los warnings\n",
    "# -----------------------------------------------------------------------\n",
    "import warnings\n",
    "warnings.filterwarnings(\"ignore\")"
   ]
  },
  {
   "cell_type": "code",
   "execution_count": 3,
   "metadata": {},
   "outputs": [
    {
     "data": {
      "text/html": [
       "<div>\n",
       "<style scoped>\n",
       "    .dataframe tbody tr th:only-of-type {\n",
       "        vertical-align: middle;\n",
       "    }\n",
       "\n",
       "    .dataframe tbody tr th {\n",
       "        vertical-align: top;\n",
       "    }\n",
       "\n",
       "    .dataframe thead th {\n",
       "        text-align: right;\n",
       "    }\n",
       "</style>\n",
       "<table border=\"1\" class=\"dataframe\">\n",
       "  <thead>\n",
       "    <tr style=\"text-align: right;\">\n",
       "      <th></th>\n",
       "      <th>country</th>\n",
       "      <th>density</th>\n",
       "      <th>abbreviation</th>\n",
       "      <th>agricultural_land</th>\n",
       "      <th>land_area</th>\n",
       "      <th>armed_forces_size</th>\n",
       "      <th>birth_rate</th>\n",
       "      <th>calling_code</th>\n",
       "      <th>capital/major_city</th>\n",
       "      <th>co2-emissions</th>\n",
       "      <th>cpi</th>\n",
       "      <th>cpi_change</th>\n",
       "      <th>currency-code</th>\n",
       "      <th>fertility_rate</th>\n",
       "      <th>forested_area</th>\n",
       "      <th>gasoline_price</th>\n",
       "      <th>gdp</th>\n",
       "      <th>gross_primary_education_enrollment</th>\n",
       "      <th>gross_tertiary_education_enrollment</th>\n",
       "      <th>infant_mortality</th>\n",
       "      <th>largest_city</th>\n",
       "      <th>life_expectancy</th>\n",
       "      <th>maternal_mortality_ratio</th>\n",
       "      <th>minimum_wage</th>\n",
       "      <th>official_language</th>\n",
       "      <th>out_of_pocket_health_expenditure</th>\n",
       "      <th>physicians_per_thousand</th>\n",
       "      <th>population</th>\n",
       "      <th>population_labor_force_participation</th>\n",
       "      <th>tax_revenue</th>\n",
       "      <th>total_tax_rate</th>\n",
       "      <th>unemployment_rate</th>\n",
       "      <th>urban_population</th>\n",
       "      <th>latitude</th>\n",
       "      <th>longitude</th>\n",
       "      <th>continent</th>\n",
       "    </tr>\n",
       "  </thead>\n",
       "  <tbody>\n",
       "    <tr>\n",
       "      <th>0</th>\n",
       "      <td>Afghanistan</td>\n",
       "      <td>60.0</td>\n",
       "      <td>AF</td>\n",
       "      <td>58.1</td>\n",
       "      <td>652.230</td>\n",
       "      <td>323.0</td>\n",
       "      <td>32.49</td>\n",
       "      <td>93.0</td>\n",
       "      <td>Kabul</td>\n",
       "      <td>8.672</td>\n",
       "      <td>149.90</td>\n",
       "      <td>2.3</td>\n",
       "      <td>AFN</td>\n",
       "      <td>4.47</td>\n",
       "      <td>2.1</td>\n",
       "      <td>0.70</td>\n",
       "      <td>1.910135e+10</td>\n",
       "      <td>104.0</td>\n",
       "      <td>9.7</td>\n",
       "      <td>47.9</td>\n",
       "      <td>Kabul</td>\n",
       "      <td>64.5</td>\n",
       "      <td>638.0</td>\n",
       "      <td>0.43</td>\n",
       "      <td>Pashto</td>\n",
       "      <td>78.4</td>\n",
       "      <td>0.28</td>\n",
       "      <td>NaN</td>\n",
       "      <td>48.9</td>\n",
       "      <td>9.3</td>\n",
       "      <td>71.4</td>\n",
       "      <td>11.12</td>\n",
       "      <td>NaN</td>\n",
       "      <td>33.939110</td>\n",
       "      <td>67.709953</td>\n",
       "      <td>Asia</td>\n",
       "    </tr>\n",
       "    <tr>\n",
       "      <th>1</th>\n",
       "      <td>Albania</td>\n",
       "      <td>105.0</td>\n",
       "      <td>AL</td>\n",
       "      <td>43.1</td>\n",
       "      <td>28.748</td>\n",
       "      <td>9.0</td>\n",
       "      <td>11.78</td>\n",
       "      <td>355.0</td>\n",
       "      <td>Tirana</td>\n",
       "      <td>4.536</td>\n",
       "      <td>119.05</td>\n",
       "      <td>1.4</td>\n",
       "      <td>ALL</td>\n",
       "      <td>1.62</td>\n",
       "      <td>28.1</td>\n",
       "      <td>1.36</td>\n",
       "      <td>1.527808e+10</td>\n",
       "      <td>107.0</td>\n",
       "      <td>55.0</td>\n",
       "      <td>7.8</td>\n",
       "      <td>Tirana</td>\n",
       "      <td>78.5</td>\n",
       "      <td>15.0</td>\n",
       "      <td>1.12</td>\n",
       "      <td>Albanian</td>\n",
       "      <td>56.9</td>\n",
       "      <td>1.20</td>\n",
       "      <td>NaN</td>\n",
       "      <td>55.7</td>\n",
       "      <td>18.6</td>\n",
       "      <td>36.6</td>\n",
       "      <td>12.33</td>\n",
       "      <td>NaN</td>\n",
       "      <td>41.153332</td>\n",
       "      <td>20.168331</td>\n",
       "      <td>Europe</td>\n",
       "    </tr>\n",
       "    <tr>\n",
       "      <th>2</th>\n",
       "      <td>Algeria</td>\n",
       "      <td>18.0</td>\n",
       "      <td>DZ</td>\n",
       "      <td>17.4</td>\n",
       "      <td>NaN</td>\n",
       "      <td>317.0</td>\n",
       "      <td>24.28</td>\n",
       "      <td>213.0</td>\n",
       "      <td>Algiers</td>\n",
       "      <td>150.006</td>\n",
       "      <td>151.36</td>\n",
       "      <td>2.0</td>\n",
       "      <td>DZD</td>\n",
       "      <td>3.02</td>\n",
       "      <td>0.8</td>\n",
       "      <td>0.28</td>\n",
       "      <td>1.699882e+11</td>\n",
       "      <td>109.9</td>\n",
       "      <td>51.4</td>\n",
       "      <td>20.1</td>\n",
       "      <td>Algiers</td>\n",
       "      <td>76.7</td>\n",
       "      <td>112.0</td>\n",
       "      <td>0.95</td>\n",
       "      <td>Arabic</td>\n",
       "      <td>28.1</td>\n",
       "      <td>1.72</td>\n",
       "      <td>NaN</td>\n",
       "      <td>41.2</td>\n",
       "      <td>37.2</td>\n",
       "      <td>66.1</td>\n",
       "      <td>11.70</td>\n",
       "      <td>NaN</td>\n",
       "      <td>28.033886</td>\n",
       "      <td>1.659626</td>\n",
       "      <td>Africa</td>\n",
       "    </tr>\n",
       "    <tr>\n",
       "      <th>3</th>\n",
       "      <td>Andorra</td>\n",
       "      <td>164.0</td>\n",
       "      <td>AD</td>\n",
       "      <td>40.0</td>\n",
       "      <td>468.000</td>\n",
       "      <td>NaN</td>\n",
       "      <td>7.20</td>\n",
       "      <td>376.0</td>\n",
       "      <td>Andorra la Vella</td>\n",
       "      <td>469.000</td>\n",
       "      <td>NaN</td>\n",
       "      <td>NaN</td>\n",
       "      <td>EUR</td>\n",
       "      <td>1.27</td>\n",
       "      <td>34.0</td>\n",
       "      <td>1.51</td>\n",
       "      <td>3.154058e+09</td>\n",
       "      <td>106.4</td>\n",
       "      <td>NaN</td>\n",
       "      <td>2.7</td>\n",
       "      <td>Andorra la Vella</td>\n",
       "      <td>NaN</td>\n",
       "      <td>NaN</td>\n",
       "      <td>6.63</td>\n",
       "      <td>Catalan</td>\n",
       "      <td>36.4</td>\n",
       "      <td>3.33</td>\n",
       "      <td>77.142</td>\n",
       "      <td>NaN</td>\n",
       "      <td>NaN</td>\n",
       "      <td>NaN</td>\n",
       "      <td>NaN</td>\n",
       "      <td>67.873</td>\n",
       "      <td>42.506285</td>\n",
       "      <td>1.521801</td>\n",
       "      <td>Europe</td>\n",
       "    </tr>\n",
       "    <tr>\n",
       "      <th>4</th>\n",
       "      <td>Angola</td>\n",
       "      <td>26.0</td>\n",
       "      <td>AO</td>\n",
       "      <td>47.5</td>\n",
       "      <td>NaN</td>\n",
       "      <td>117.0</td>\n",
       "      <td>40.73</td>\n",
       "      <td>244.0</td>\n",
       "      <td>Luanda</td>\n",
       "      <td>34.693</td>\n",
       "      <td>261.73</td>\n",
       "      <td>17.1</td>\n",
       "      <td>AOA</td>\n",
       "      <td>5.52</td>\n",
       "      <td>46.3</td>\n",
       "      <td>0.97</td>\n",
       "      <td>9.463542e+10</td>\n",
       "      <td>113.5</td>\n",
       "      <td>9.3</td>\n",
       "      <td>51.6</td>\n",
       "      <td>Luanda</td>\n",
       "      <td>60.8</td>\n",
       "      <td>241.0</td>\n",
       "      <td>0.71</td>\n",
       "      <td>Portuguese</td>\n",
       "      <td>33.4</td>\n",
       "      <td>0.21</td>\n",
       "      <td>NaN</td>\n",
       "      <td>77.5</td>\n",
       "      <td>9.2</td>\n",
       "      <td>49.1</td>\n",
       "      <td>6.89</td>\n",
       "      <td>NaN</td>\n",
       "      <td>-11.202692</td>\n",
       "      <td>17.873887</td>\n",
       "      <td>Africa</td>\n",
       "    </tr>\n",
       "  </tbody>\n",
       "</table>\n",
       "</div>"
      ],
      "text/plain": [
       "       country  density abbreviation  agricultural_land  land_area  \\\n",
       "0  Afghanistan     60.0           AF               58.1    652.230   \n",
       "1      Albania    105.0           AL               43.1     28.748   \n",
       "2      Algeria     18.0           DZ               17.4        NaN   \n",
       "3      Andorra    164.0           AD               40.0    468.000   \n",
       "4       Angola     26.0           AO               47.5        NaN   \n",
       "\n",
       "   armed_forces_size  birth_rate  calling_code capital/major_city  \\\n",
       "0              323.0       32.49          93.0              Kabul   \n",
       "1                9.0       11.78         355.0             Tirana   \n",
       "2              317.0       24.28         213.0            Algiers   \n",
       "3                NaN        7.20         376.0   Andorra la Vella   \n",
       "4              117.0       40.73         244.0             Luanda   \n",
       "\n",
       "   co2-emissions     cpi  cpi_change currency-code  fertility_rate  \\\n",
       "0          8.672  149.90         2.3           AFN            4.47   \n",
       "1          4.536  119.05         1.4           ALL            1.62   \n",
       "2        150.006  151.36         2.0           DZD            3.02   \n",
       "3        469.000     NaN         NaN           EUR            1.27   \n",
       "4         34.693  261.73        17.1           AOA            5.52   \n",
       "\n",
       "   forested_area  gasoline_price           gdp  \\\n",
       "0            2.1            0.70  1.910135e+10   \n",
       "1           28.1            1.36  1.527808e+10   \n",
       "2            0.8            0.28  1.699882e+11   \n",
       "3           34.0            1.51  3.154058e+09   \n",
       "4           46.3            0.97  9.463542e+10   \n",
       "\n",
       "   gross_primary_education_enrollment  gross_tertiary_education_enrollment  \\\n",
       "0                               104.0                                  9.7   \n",
       "1                               107.0                                 55.0   \n",
       "2                               109.9                                 51.4   \n",
       "3                               106.4                                  NaN   \n",
       "4                               113.5                                  9.3   \n",
       "\n",
       "   infant_mortality      largest_city  life_expectancy  \\\n",
       "0              47.9             Kabul             64.5   \n",
       "1               7.8            Tirana             78.5   \n",
       "2              20.1           Algiers             76.7   \n",
       "3               2.7  Andorra la Vella              NaN   \n",
       "4              51.6            Luanda             60.8   \n",
       "\n",
       "   maternal_mortality_ratio  minimum_wage official_language  \\\n",
       "0                     638.0          0.43            Pashto   \n",
       "1                      15.0          1.12          Albanian   \n",
       "2                     112.0          0.95            Arabic   \n",
       "3                       NaN          6.63           Catalan   \n",
       "4                     241.0          0.71        Portuguese   \n",
       "\n",
       "   out_of_pocket_health_expenditure  physicians_per_thousand  population  \\\n",
       "0                              78.4                     0.28         NaN   \n",
       "1                              56.9                     1.20         NaN   \n",
       "2                              28.1                     1.72         NaN   \n",
       "3                              36.4                     3.33      77.142   \n",
       "4                              33.4                     0.21         NaN   \n",
       "\n",
       "   population_labor_force_participation  tax_revenue  total_tax_rate  \\\n",
       "0                                  48.9          9.3            71.4   \n",
       "1                                  55.7         18.6            36.6   \n",
       "2                                  41.2         37.2            66.1   \n",
       "3                                   NaN          NaN             NaN   \n",
       "4                                  77.5          9.2            49.1   \n",
       "\n",
       "   unemployment_rate  urban_population   latitude  longitude continent  \n",
       "0              11.12               NaN  33.939110  67.709953      Asia  \n",
       "1              12.33               NaN  41.153332  20.168331    Europe  \n",
       "2              11.70               NaN  28.033886   1.659626    Africa  \n",
       "3                NaN            67.873  42.506285   1.521801    Europe  \n",
       "4               6.89               NaN -11.202692  17.873887    Africa  "
      ]
     },
     "execution_count": 3,
     "metadata": {},
     "output_type": "execute_result"
    }
   ],
   "source": [
    "df = pd.read_csv('../3.8 Visualization II//world_data_full_apply_nulos.csv', index_col=0)\n",
    "df.head(5)"
   ]
  },
  {
   "cell_type": "code",
   "execution_count": 29,
   "metadata": {},
   "outputs": [
    {
     "data": {
      "text/plain": [
       "array(['Asia', 'Europe', 'Africa', 'Central America', 'South America',\n",
       "       'Oceania', 'North America', nan], dtype=object)"
      ]
     },
     "execution_count": 29,
     "metadata": {},
     "output_type": "execute_result"
    }
   ],
   "source": [
    "df['continent'].unique()"
   ]
  },
  {
   "cell_type": "markdown",
   "metadata": {},
   "source": [
    "Ejercicios intervalo de confianza. Al igual que en el caso del ejercicio de la clase, piensa un motivo por el que sería interesante calcular estos intervalos de confianza para la extracción de insights.\n",
    "\n",
    "Intervalo de Confianza para la Esperanza de Vida Contexto: Trabajas en una organización de salud global y deseas estimar el intervalo de confianza al 95% para la esperanza de vida promedio de cada continente. Nota: Cuidado porque puede que os salgan algunos nulos, genera un código para que no salgan nulos en los intervalos de confianza.\n",
    "\n",
    "Intervalo de Confianza para el PIB Contexto: Eres una economista y quieres calcular el intervalo de confianza al 90% para el Producto Interno Bruto (PIB) de los continentes."
   ]
  },
  {
   "cell_type": "code",
   "execution_count": 6,
   "metadata": {},
   "outputs": [
    {
     "name": "stdout",
     "output_type": "stream",
     "text": [
      "72.27967914438503\n",
      "71.20004561117909\n",
      "73.35931267759096\n"
     ]
    }
   ],
   "source": [
    "# Drop NaN values from the 'life_expectancy' column before calculations\n",
    "df_clean = df['life_expectancy'].dropna()\n",
    "\n",
    "media_duration = df_clean.mean()  # Calculate mean\n",
    "media_duration\n",
    "\n",
    "error = stats.sem(df_clean)  # Calculate standard error\n",
    "\n",
    "nivel_confianza = 0.95\n",
    "grados_de_libertad = len(df_clean) - 1\n",
    "\n",
    "valor_critico = stats.t.ppf((1 + nivel_confianza) / 2, df=grados_de_libertad)\n",
    "\n",
    "limite_inferior = media_duration - valor_critico * error\n",
    "limite_superior = media_duration + valor_critico * error\n",
    "\n",
    "print(media_duration)\n",
    "print(limite_inferior)\n",
    "print(limite_superior)\n"
   ]
  },
  {
   "cell_type": "code",
   "execution_count": 7,
   "metadata": {},
   "outputs": [
    {
     "name": "stdout",
     "output_type": "stream",
     "text": [
      "477295901399.5389\n",
      "218865474606.78442\n",
      "735726328192.2933\n"
     ]
    }
   ],
   "source": [
    "df_clean = df['gdp'].dropna()\n",
    "\n",
    "media_duration = df_clean.mean()  # Calculate mean\n",
    "media_duration\n",
    "\n",
    "error = stats.sem(df_clean)  # Calculate standard error\n",
    "\n",
    "nivel_confianza = 0.9\n",
    "grados_de_libertad = len(df_clean) - 1\n",
    "\n",
    "valor_critico = stats.t.ppf((1 + nivel_confianza) / 2, df=grados_de_libertad)\n",
    "\n",
    "limite_inferior = media_duration - valor_critico * error\n",
    "limite_superior = media_duration + valor_critico * error\n",
    "\n",
    "print(media_duration)\n",
    "print(limite_inferior)\n",
    "print(limite_superior)"
   ]
  },
  {
   "cell_type": "markdown",
   "metadata": {},
   "source": [
    "\n",
    "Prueba de Hipótesis\n",
    "\n",
    "\n",
    "\n",
    "\n",
    "Prueba de Hipótesis sobre Proporciones: ¿Hay una diferencia significativa en la tasa de desempleo entre los países de Europa y América?\n",
    "\n",
    "Comparación de Medias en Precios de Gasolina : ¿El precio de la gasolina (gasoline_price) es significativamente diferente entre países con un PIB alto y PIB bajo?"
   ]
  },
  {
   "cell_type": "code",
   "execution_count": 12,
   "metadata": {},
   "outputs": [
    {
     "name": "stdout",
     "output_type": "stream",
     "text": [
      "Valores no normales\n"
     ]
    }
   ],
   "source": [
    "#Test de Normalidad :Verifica si la variable \"life_expectancy\" (esperanza de vida) sigue una distribución normal usando el test de Shapiro-Wilk o Kolmogorov-Smirnov según el tamaño de la muestra.\n",
    "life_expectancy = df['life_expectancy'].dropna()\n",
    "\n",
    "len(life_expectancy)\n",
    "\n",
    "p_valor = stats.shapiro(life_expectancy).pvalue\n",
    "\n",
    "if p_valor > 0.05: \n",
    "    print(\"Valores normales\")\n",
    "else:\n",
    "     print(\"Valores no normales\")\n"
   ]
  },
  {
   "cell_type": "code",
   "execution_count": 14,
   "metadata": {},
   "outputs": [
    {
     "data": {
      "text/plain": [
       "<Axes: xlabel='life_expectancy', ylabel='Count'>"
      ]
     },
     "execution_count": 14,
     "metadata": {},
     "output_type": "execute_result"
    },
    {
     "data": {
      "image/png": "[encoded data removed]",
      "text/plain": [
       "<Figure size 640x480 with 1 Axes>"
      ]
     },
     "metadata": {},
     "output_type": "display_data"
    }
   ],
   "source": [
    "sns.histplot(x='life_expectancy', bins=20, data=df)"
   ]
  },
  {
   "cell_type": "markdown",
   "metadata": {},
   "source": [
    "Test de Igualdad de Varianzas: Comprueba si la varianza del PIB (GDP) es igual en países de Europa y África usando el test de Bartlett (si los datos son normales) o Levene (si no son normales)."
   ]
  },
  {
   "cell_type": "code",
   "execution_count": 15,
   "metadata": {},
   "outputs": [],
   "source": [
    "grupo_1 = df[df['continent']== 'Europe'][\"gdp\"]\n",
    "grupo_2 = df[df['continent']== 'Africa'][\"gdp\"]"
   ]
  },
  {
   "cell_type": "code",
   "execution_count": 16,
   "metadata": {},
   "outputs": [
    {
     "name": "stdout",
     "output_type": "stream",
     "text": [
      "Valores no normales\n"
     ]
    }
   ],
   "source": [
    "if len(grupo_1)> 5000:\n",
    "    p_valor= stats.kstest(grupo_1, 'norm').pvalue\n",
    "else:\n",
    "    p_valor = stats.shapiro(grupo_1).pvalue\n",
    "\n",
    "\n",
    "if p_valor > 0.05: \n",
    "    print(\"Valores normales\")\n",
    "else:\n",
    "     print(\"Valores no normales\")"
   ]
  },
  {
   "cell_type": "code",
   "execution_count": 17,
   "metadata": {},
   "outputs": [
    {
     "name": "stdout",
     "output_type": "stream",
     "text": [
      "Valores no normales\n"
     ]
    }
   ],
   "source": [
    "if len(grupo_2)> 5000:\n",
    "    p_valor= stats.kstest(grupo_2, 'norm').pvalue\n",
    "else:\n",
    "    p_valor = stats.shapiro(grupo_2).pvalue\n",
    "\n",
    "\n",
    "if p_valor > 0.05: \n",
    "    print(\"Valores normales\")\n",
    "else:\n",
    "     print(\"Valores no normales\")"
   ]
  },
  {
   "cell_type": "code",
   "execution_count": 18,
   "metadata": {},
   "outputs": [
    {
     "name": "stdout",
     "output_type": "stream",
     "text": [
      "Varianzas no son iguales, cumple hipótesis nula\n"
     ]
    }
   ],
   "source": [
    "p_valor_varianza = stats.levene(grupo_1, grupo_2).pvalue\n",
    "p_valor_varianza\n",
    "\n",
    "if(p_valor_varianza> 0.05):\n",
    "    print(\"Varianzas iguales, cumple hipótesis nula\")\n",
    "else:\n",
    "    print(\"Varianzas no son iguales, cumple hipótesis nula\")"
   ]
  },
  {
   "cell_type": "markdown",
   "metadata": {},
   "source": [
    "2C: Comparación de Medias (t-Test de Student o Mann-Whitney U): ¿La esperanza de vida difiere significativamente entre países de América y Asia?\n",
    "\n",
    "H0: No hay diferencia\n",
    "H1: Hay diferencia"
   ]
  },
  {
   "cell_type": "code",
   "execution_count": 31,
   "metadata": {},
   "outputs": [],
   "source": [
    "grupo_1 = df[df['continent'].isin(['North America', 'South America', 'Central America'])][\"life_expectancy\"].dropna()\n",
    "grupo_2 = df[df['continent']== 'Asia'][\"life_expectancy\"].dropna()"
   ]
  },
  {
   "cell_type": "code",
   "execution_count": 32,
   "metadata": {},
   "outputs": [
    {
     "name": "stdout",
     "output_type": "stream",
     "text": [
      "75.05142857142857\n",
      "73.7818181818182\n"
     ]
    }
   ],
   "source": [
    "print(grupo_1.mean())\n",
    "print(grupo_2.mean())\n"
   ]
  },
  {
   "cell_type": "code",
   "execution_count": 33,
   "metadata": {},
   "outputs": [
    {
     "name": "stdout",
     "output_type": "stream",
     "text": [
      "Valores normales\n"
     ]
    }
   ],
   "source": [
    "if len(grupo_1)> 5000:\n",
    "    p_valor= stats.kstest(grupo_1, 'norm').pvalue\n",
    "else:\n",
    "    p_valor = stats.shapiro(grupo_1).pvalue\n",
    "\n",
    "\n",
    "if p_valor > 0.05: \n",
    "    print(\"Valores normales\")\n",
    "else:\n",
    "     print(\"Valores no normales\")"
   ]
  },
  {
   "cell_type": "code",
   "execution_count": 34,
   "metadata": {},
   "outputs": [
    {
     "name": "stdout",
     "output_type": "stream",
     "text": [
      "Valores normales\n"
     ]
    }
   ],
   "source": [
    "if len(grupo_2)> 5000:\n",
    "    p_valor= stats.kstest(grupo_2, 'norm').pvalue\n",
    "else:\n",
    "    p_valor = stats.shapiro(grupo_2).pvalue\n",
    "\n",
    "\n",
    "if p_valor > 0.05: \n",
    "    print(\"Valores normales\")\n",
    "else:\n",
    "     print(\"Valores no normales\")"
   ]
  },
  {
   "cell_type": "code",
   "execution_count": 35,
   "metadata": {},
   "outputs": [
    {
     "name": "stdout",
     "output_type": "stream",
     "text": [
      "Varianzas iguales, cumple hipótesis nula\n"
     ]
    }
   ],
   "source": [
    "p_valor_varianza = stats.bartlett(grupo_1, grupo_2).pvalue\n",
    "p_valor_varianza\n",
    "\n",
    "if(p_valor_varianza> 0.05):\n",
    "    print(\"Varianzas iguales, cumple hipótesis nula\")\n",
    "else:\n",
    "    print(\"Varianzas no son iguales, cumple hipótesis nula\")"
   ]
  },
  {
   "cell_type": "code",
   "execution_count": 36,
   "metadata": {},
   "outputs": [
    {
     "name": "stdout",
     "output_type": "stream",
     "text": [
      "Se cumple mi hipotesis nula\n"
     ]
    }
   ],
   "source": [
    "t_stat, p_valor=stats.ttest_ind(grupo_1, grupo_2)\n",
    "if(p_valor > 0.05):\n",
    "    print(\"Se cumple mi hipotesis nula\")\n",
    "else: \n",
    "    print(\"No se cumple mi hipotesis nula\")"
   ]
  },
  {
   "cell_type": "markdown",
   "metadata": {},
   "source": [
    "2D: Prueba de Hipótesis sobre Proporciones: ¿Hay una diferencia significativa en la tasa de desempleo entre los países de Europa y América?\n",
    "\n",
    "H0: No hay diferencia.\n",
    "H1: Hay diferencia."
   ]
  },
  {
   "cell_type": "code",
   "execution_count": 38,
   "metadata": {},
   "outputs": [],
   "source": [
    "grupo_1 = df[df['continent'].isin(['North America', 'South America', 'Central America'])][\"unemployment_rate\"].dropna()\n",
    "grupo_2 = df[df['continent']== 'Europe'][\"unemployment_rate\"].dropna()"
   ]
  },
  {
   "cell_type": "code",
   "execution_count": 39,
   "metadata": {},
   "outputs": [
    {
     "name": "stdout",
     "output_type": "stream",
     "text": [
      "Valores no normales\n"
     ]
    }
   ],
   "source": [
    "if len(grupo_1)> 5000:\n",
    "    p_valor= stats.kstest(grupo_1, 'norm').pvalue\n",
    "else:\n",
    "    p_valor = stats.shapiro(grupo_1).pvalue\n",
    "\n",
    "\n",
    "if p_valor > 0.05: \n",
    "    print(\"Valores normales\")\n",
    "else:\n",
    "     print(\"Valores no normales\")"
   ]
  },
  {
   "cell_type": "code",
   "execution_count": 40,
   "metadata": {},
   "outputs": [
    {
     "name": "stdout",
     "output_type": "stream",
     "text": [
      "Valores no normales\n"
     ]
    }
   ],
   "source": [
    "if len(grupo_2)> 5000:\n",
    "    p_valor= stats.kstest(grupo_2, 'norm').pvalue\n",
    "else:\n",
    "    p_valor = stats.shapiro(grupo_2).pvalue\n",
    "\n",
    "\n",
    "if p_valor > 0.05: \n",
    "    print(\"Valores normales\")\n",
    "else:\n",
    "     print(\"Valores no normales\")"
   ]
  },
  {
   "cell_type": "code",
   "execution_count": 41,
   "metadata": {},
   "outputs": [
    {
     "name": "stdout",
     "output_type": "stream",
     "text": [
      "Varianzas iguales, cumple hipótesis nula\n"
     ]
    }
   ],
   "source": [
    "p_valor_varianza = stats.levene(grupo_1, grupo_2).pvalue\n",
    "p_valor_varianza\n",
    "\n",
    "if(p_valor_varianza> 0.05):\n",
    "    print(\"Varianzas iguales, cumple hipótesis nula\")\n",
    "else:\n",
    "    print(\"Varianzas no son iguales, cumple hipótesis nula\")"
   ]
  },
  {
   "cell_type": "code",
   "execution_count": 42,
   "metadata": {},
   "outputs": [
    {
     "name": "stdout",
     "output_type": "stream",
     "text": [
      "Se cumple mi hipotesis nula\n"
     ]
    }
   ],
   "source": [
    "t_stat, p_valor=stats.mannwhitneyu(grupo_1, grupo_2)\n",
    "if(p_valor > 0.05):\n",
    "    print(\"Se cumple mi hipotesis nula\")\n",
    "else: \n",
    "    print(\"No se cumple mi hipotesis nula\")"
   ]
  },
  {
   "cell_type": "code",
   "execution_count": 43,
   "metadata": {},
   "outputs": [
    {
     "name": "stdout",
     "output_type": "stream",
     "text": [
      "Se cumple mi hipotesis nula\n"
     ]
    }
   ],
   "source": [
    "t_stat, p_valor=stats.ttest_ind(grupo_1, grupo_2)\n",
    "if(p_valor > 0.05):\n",
    "    print(\"Se cumple mi hipotesis nula\")\n",
    "else: \n",
    "    print(\"No se cumple mi hipotesis nula\")"
   ]
  },
  {
   "cell_type": "markdown",
   "metadata": {},
   "source": [
    "2E. Comparación de Medias en Precios de Gasolina : ¿El precio de la gasolina (gasoline_price) es significativamente diferente entre países con un PIB alto y PIB bajo?\n",
    "\n",
    "H0: No hay diferencia\n",
    "H1: Hay diferencia"
   ]
  },
  {
   "cell_type": "code",
   "execution_count": 49,
   "metadata": {},
   "outputs": [],
   "source": [
    "mean_gdp= df['gdp'].mean()\n",
    "\n",
    "pib_alto = df[df['gdp'] >= mean_gdp][\"gasoline_price\"].dropna()\n",
    "pib_bajo = df[df['gdp'] < mean_gdp][\"gasoline_price\"].dropna()"
   ]
  },
  {
   "cell_type": "code",
   "execution_count": 54,
   "metadata": {},
   "outputs": [
    {
     "data": {
      "text/plain": [
       "<Axes: xlabel='gasoline_price', ylabel='Count'>"
      ]
     },
     "execution_count": 54,
     "metadata": {},
     "output_type": "execute_result"
    },
    {
     "data": {
      "image/png": "[encoded data removed]",
      "text/plain": [
       "<Figure size 640x480 with 1 Axes>"
      ]
     },
     "metadata": {},
     "output_type": "display_data"
    }
   ],
   "source": [
    "sns.histplot(data=pib_bajo)"
   ]
  },
  {
   "cell_type": "code",
   "execution_count": 58,
   "metadata": {},
   "outputs": [
    {
     "data": {
      "text/plain": [
       "<Axes: xlabel='gasoline_price', ylabel='Count'>"
      ]
     },
     "execution_count": 58,
     "metadata": {},
     "output_type": "execute_result"
    },
    {
     "data": {
      "image/png": "[encoded data removed]",
      "text/plain": [
       "<Figure size 640x480 with 1 Axes>"
      ]
     },
     "metadata": {},
     "output_type": "display_data"
    }
   ],
   "source": [
    "sns.histplot(data=pib_alto, bins=10)"
   ]
  },
  {
   "cell_type": "code",
   "execution_count": 50,
   "metadata": {},
   "outputs": [
    {
     "name": "stdout",
     "output_type": "stream",
     "text": [
      "Valores normales\n"
     ]
    }
   ],
   "source": [
    "if len(pib_alto)> 5000:\n",
    "    p_valor= stats.kstest(pib_alto, 'norm').pvalue\n",
    "else:\n",
    "    p_valor = stats.shapiro(pib_alto).pvalue\n",
    "\n",
    "\n",
    "if p_valor > 0.05: \n",
    "    print(\"Valores normales\")\n",
    "else:\n",
    "     print(\"Valores no normales\")"
   ]
  },
  {
   "cell_type": "code",
   "execution_count": 59,
   "metadata": {},
   "outputs": [
    {
     "data": {
      "text/plain": [
       "np.float64(0.658228626385462)"
      ]
     },
     "execution_count": 59,
     "metadata": {},
     "output_type": "execute_result"
    }
   ],
   "source": [
    "p_valor"
   ]
  },
  {
   "cell_type": "code",
   "execution_count": 51,
   "metadata": {},
   "outputs": [
    {
     "name": "stdout",
     "output_type": "stream",
     "text": [
      "Valores normales\n"
     ]
    }
   ],
   "source": [
    "if len(pib_bajo)> 5000:\n",
    "    p_valor= stats.kstest(pib_bajo, 'norm').pvalue\n",
    "else:\n",
    "    p_valor = stats.shapiro(pib_bajo).pvalue\n",
    "\n",
    "\n",
    "if p_valor > 0.05: \n",
    "    print(\"Valores normales\")\n",
    "else:\n",
    "     print(\"Valores no normales\")"
   ]
  },
  {
   "cell_type": "code",
   "execution_count": 62,
   "metadata": {},
   "outputs": [
    {
     "name": "stdout",
     "output_type": "stream",
     "text": [
      "Varianzas iguales, cumple hipótesis nula\n"
     ]
    }
   ],
   "source": [
    "p_valor_varianza = stats.bartlett(pib_alto, pib_bajo).pvalue\n",
    "p_valor_varianza\n",
    "\n",
    "if(p_valor_varianza> 0.05):\n",
    "    print(\"Varianzas iguales, cumple hipótesis nula\")\n",
    "else:\n",
    "    print(\"Varianzas no son iguales, cumple hipótesis nula\")"
   ]
  },
  {
   "cell_type": "code",
   "execution_count": 63,
   "metadata": {},
   "outputs": [
    {
     "name": "stdout",
     "output_type": "stream",
     "text": [
      "Se cumple mi hipotesis nula\n"
     ]
    }
   ],
   "source": [
    "t_stat, p_valor=stats.ttest_ind(pib_alto, pib_bajo)\n",
    "if(p_valor > 0.05):\n",
    "    print(\"Se cumple mi hipotesis nula\")\n",
    "else: \n",
    "    print(\"No se cumple mi hipotesis nula\")"
   ]
  },
  {
   "cell_type": "code",
   "execution_count": null,
   "metadata": {},
   "outputs": [],
   "source": []
  },
  {
   "cell_type": "code",
   "execution_count": null,
   "metadata": {},
   "outputs": [],
   "source": []
  },
  {
   "cell_type": "code",
   "execution_count": null,
   "metadata": {},
   "outputs": [],
   "source": []
  },
  {
   "cell_type": "code",
   "execution_count": null,
   "metadata": {},
   "outputs": [],
   "source": []
  }
 ],
 "metadata": {
  "kernelspec": {
   "display_name": "Python 3",
   "language": "python",
   "name": "python3"
  },
  "language_info": {
   "codemirror_mode": {
    "name": "ipython",
    "version": 3
   },
   "file_extension": ".py",
   "mimetype": "text/x-python",
   "name": "python",
   "nbconvert_exporter": "python",
   "pygments_lexer": "ipython3",
   "version": "3.13.0"
  }
 },
 "nbformat": 4,
 "nbformat_minor": 2
}

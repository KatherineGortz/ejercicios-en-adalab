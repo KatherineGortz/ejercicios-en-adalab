{
 "cells": [
  {
   "cell_type": "code",
   "execution_count": 1,
   "metadata": {},
   "outputs": [],
   "source": [
    "\n",
    "# importamos las librerías que necesitamos\n",
    "\n",
    "# Tratamiento de datos\n",
    "# -----------------------------------------------------------------------\n",
    "import pandas as pd\n",
    "import numpy as np\n",
    "\n",
    "# Visualización\n",
    "# ------------------------------------------------------------------------------\n",
    "import matplotlib.pyplot as plt\n",
    "import seaborn as sns\n",
    "\n",
    "# Evaluar linealidad de las relaciones entre las variables\n",
    "# y la distribución de las variables\n",
    "# ------------------------------------------------------------------------------\n",
    "#import scipy.stats as stats\n",
    "import scipy.stats as stats\n",
    "from scipy.stats import shapiro, poisson, chisquare, expon, kstest\n",
    "\n",
    "# Configuración\n",
    "# -----------------------------------------------------------------------\n",
    "pd.set_option('display.max_columns', None) # para poder visualizar todas las columnas de los DataFrames\n",
    "\n",
    "# Gestión de los warnings\n",
    "# -----------------------------------------------------------------------\n",
    "import warnings\n",
    "warnings.filterwarnings(\"ignore\")"
   ]
  },
  {
   "cell_type": "markdown",
   "metadata": {},
   "source": [
    "# Distribución Normal"
   ]
  },
  {
   "cell_type": "code",
   "execution_count": 2,
   "metadata": {},
   "outputs": [
    {
     "data": {
      "image/png": "[encoded data removed]",
      "text/plain": [
       "<Figure size 640x480 with 1 Axes>"
      ]
     },
     "metadata": {},
     "output_type": "display_data"
    }
   ],
   "source": [
    "# Generar datos aleatorios que sigan una distribución normal\n",
    "np.random.seed(0)\n",
    "\n",
    "# generamos un array con media = 0, desviación estándar = 1, 1000 muestras\n",
    "data = np.random.normal(0, 1, 1000) \n",
    "\n",
    "# creamos un DataFrame con los datos normales creados previamente\n",
    "df_normal = pd.DataFrame({'Datos': data})\n",
    "\n",
    "# Crear un histograma para visualizar la distribución\n",
    "plt.hist(df_normal['Datos'], \n",
    "         bins=30, \n",
    "         density=True, \n",
    "         alpha=0.5)\n",
    "\n",
    "# ponemos título a la gráfica\n",
    "plt.title('Histograma de Datos')\n",
    "\n",
    "# cambiamos el nombre del eje x\n",
    "plt.xlabel('Valor')\n",
    "\n",
    "# cambiamos el nombre del eje y\n",
    "plt.ylabel('Frecuencia');\n",
    "\n",
    "# como podemos ver los datos generados tienen forma de campana de Gauss, por lo que podemos decir que es una distribución normal. "
   ]
  },
  {
   "cell_type": "markdown",
   "metadata": {},
   "source": [
    "Otra forma de identificar si una variable sigue una distribución normal o no podemos usar el test de Shapiro o el de Kolmogorov-Smirnov. \n",
    "\n",
    "**Interpretación de los resultados**\n",
    "\n",
    "\n",
    "- *Test de Shapiro-Wilk:*\n",
    "\n",
    "     - **Hipótesis Nula (H0):** La hipótesis nula asume que los datos provienen de una distribución normal.\n",
    "\n",
    "     - **Hipótesis Alternativa (H1):** La hipótesis alternativa afirma que los datos no provienen de una distribución normal.\n",
    "\n",
    "     - Interpretación: \n",
    "\n",
    "         - Si el p-value > 0.05, no se rechaza la hipótesis nula (H0). Esto significa que no hay suficiente evidencia para concluir que los datos no siguen una distribución normal. En otras palabras, los datos podrían considerarse aproximadamente normales.\n",
    "\n",
    "         - Si el p-value < 0.05, se rechaza la hipótesis nula. Esto indica que hay evidencia suficiente para concluir que los datos no siguen una distribución normal y que hay desviaciones significativas de la normalidad.\n",
    "\n",
    "- *Test de Kolmogorov-Smirnov:*\n",
    "\n",
    "     - **Hipótesis Nula (H0):** La hipótesis nula asume que los datos siguen la distribución teórica (o que las dos muestras provienen de la misma población).\n",
    "\n",
    "     - **Hipótesis Alternativa (H1):** La hipótesis alternativa afirma que los datos no siguen la distribución teórica (o que las dos muestras no provienen de la misma población).\n",
    "\n",
    "     - Interpretación:\n",
    "\n",
    "          - Si el p-valor > 0.05, no se rechaza la hipótesis nula (H0). Esto sugiere que los datos son consistentes con la distribución teórica o que las dos muestras provienen de la misma población.\n",
    "\n",
    "          - Si el p-valor < 0.05,  se rechaza la hipótesis nula. Esto indica que hay evidencia suficiente para concluir que los datos no siguen la distribución teórica (en el caso de una prueba de bondad de ajuste) o que las dos muestras no provienen de la misma población (en el caso de una prueba de comparación de muestras).\n",
    "\n",
    "En este notebook, veremos cómo realizar el test de Shapiro y el test de Kolmogorov-Smirnov en Python utilizando la biblioteca `scipy.stats`."
   ]
  },
  {
   "cell_type": "code",
   "execution_count": 4,
   "metadata": {},
   "outputs": [
    {
     "data": {
      "text/html": [
       "<div>\n",
       "<style scoped>\n",
       "    .dataframe tbody tr th:only-of-type {\n",
       "        vertical-align: middle;\n",
       "    }\n",
       "\n",
       "    .dataframe tbody tr th {\n",
       "        vertical-align: top;\n",
       "    }\n",
       "\n",
       "    .dataframe thead th {\n",
       "        text-align: right;\n",
       "    }\n",
       "</style>\n",
       "<table border=\"1\" class=\"dataframe\">\n",
       "  <thead>\n",
       "    <tr style=\"text-align: right;\">\n",
       "      <th></th>\n",
       "      <th>Datos</th>\n",
       "    </tr>\n",
       "  </thead>\n",
       "  <tbody>\n",
       "    <tr>\n",
       "      <th>0</th>\n",
       "      <td>1.764052</td>\n",
       "    </tr>\n",
       "    <tr>\n",
       "      <th>1</th>\n",
       "      <td>0.400157</td>\n",
       "    </tr>\n",
       "    <tr>\n",
       "      <th>2</th>\n",
       "      <td>0.978738</td>\n",
       "    </tr>\n",
       "    <tr>\n",
       "      <th>3</th>\n",
       "      <td>2.240893</td>\n",
       "    </tr>\n",
       "    <tr>\n",
       "      <th>4</th>\n",
       "      <td>1.867558</td>\n",
       "    </tr>\n",
       "  </tbody>\n",
       "</table>\n",
       "</div>"
      ],
      "text/plain": [
       "      Datos\n",
       "0  1.764052\n",
       "1  0.400157\n",
       "2  0.978738\n",
       "3  2.240893\n",
       "4  1.867558"
      ]
     },
     "execution_count": 4,
     "metadata": {},
     "output_type": "execute_result"
    }
   ],
   "source": [
    "df_normal.head()"
   ]
  },
  {
   "cell_type": "code",
   "execution_count": 5,
   "metadata": {},
   "outputs": [
    {
     "name": "stdout",
     "output_type": "stream",
     "text": [
      "Los datos se ajustan a una distribución normal (p-value = 0.5912267898687746 )\n"
     ]
    }
   ],
   "source": [
    "# Realizar una prueba de normalidad (usando la prueba de Shapiro-Wilk)\n",
    "p_value = shapiro(df_normal['Datos']).pvalue\n",
    "\n",
    "alpha = 0.05\n",
    "if p_value > alpha:\n",
    "    print(\"Los datos se ajustan a una distribución normal (p-value =\", p_value, \")\")\n",
    "else:\n",
    "    print(\"Los datos no se ajustan a una distribución normal (p-value =\", p_value, \")\")"
   ]
  },
  {
   "cell_type": "code",
   "execution_count": 6,
   "metadata": {},
   "outputs": [
    {
     "name": "stdout",
     "output_type": "stream",
     "text": [
      "Los datos se ajustan a una distribución normal (p-value = 0.11930823166569182 )\n"
     ]
    }
   ],
   "source": [
    "# Realizar una prueba de normalidad (usando la prueba de Kolmogorov)\n",
    "p_value = kstest(df_normal['Datos'], \"norm\").pvalue\n",
    "\n",
    "alpha = 0.05\n",
    "if p_value > alpha:\n",
    "    print(\"Los datos se ajustan a una distribución normal (p-value =\", p_value, \")\")\n",
    "else:\n",
    "    print(\"Los datos no se ajustan a una distribución normal (p-value =\", p_value, \")\")"
   ]
  }
 ],
 "metadata": {
  "kernelspec": {
   "display_name": "Python 3",
   "language": "python",
   "name": "python3"
  },
  "language_info": {
   "codemirror_mode": {
    "name": "ipython",
    "version": 3
   },
   "file_extension": ".py",
   "mimetype": "text/x-python",
   "name": "python",
   "nbconvert_exporter": "python",
   "pygments_lexer": "ipython3",
   "version": "3.13.0"
  },
  "toc": {
   "base_numbering": 1,
   "nav_menu": {},
   "number_sections": true,
   "sideBar": true,
   "skip_h1_title": false,
   "title_cell": "Table of Contents",
   "title_sidebar": "Contents",
   "toc_cell": true,
   "toc_position": {
    "height": "calc(100% - 180px)",
    "left": "10px",
    "top": "150px",
    "width": "384px"
   },
   "toc_section_display": true,
   "toc_window_display": true
  }
 },
 "nbformat": 4,
 "nbformat_minor": 2
}

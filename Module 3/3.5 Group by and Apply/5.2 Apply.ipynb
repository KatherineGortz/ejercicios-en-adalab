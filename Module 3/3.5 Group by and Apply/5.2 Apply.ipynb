{
 "cells": [
  {
   "cell_type": "markdown",
   "metadata": {},
   "source": [
    "# Apply\n",
    "\n"
   ]
  },
  {
   "cell_type": "markdown",
   "metadata": {},
   "source": [
    "## Apply es otra función de pandas que se usa para:\n",
    "\n",
    "- Aplicar una función a lo largo de un DataFrame\n",
    "- Es decir, para hacer cálculos o transformaciones en muchos datos, sin necesidad de un bucle for"
   ]
  },
  {
   "cell_type": "code",
   "execution_count": 1,
   "metadata": {},
   "outputs": [],
   "source": [
    "# nuestras librerias a utilizar\n",
    "import pandas as pd\n",
    "import numpy as np\n",
    "\n",
    "\n",
    "# Configuración\n",
    "# -----------------------------------------------------------------------\n",
    "pd.set_option('display.max_columns', None) # para poder visualizar todas las columnas de los DataFrames"
   ]
  },
  {
   "cell_type": "markdown",
   "metadata": {},
   "source": [
    "## Funciones sin apply a todas las filas de un data frame"
   ]
  },
  {
   "cell_type": "code",
   "execution_count": null,
   "metadata": {},
   "outputs": [],
   "source": [
    "# Ejemplo 1\n",
    "\n",
    "\n",
    "# Crear un DataFrame\n",
    "data = {'A': [1, 2, 3, 4]}\n",
    "df = pd.DataFrame(data)\n",
    "df\n"
   ]
  },
  {
   "cell_type": "code",
   "execution_count": 3,
   "metadata": {},
   "outputs": [
    {
     "data": {
      "text/html": [
       "<div>\n",
       "<style scoped>\n",
       "    .dataframe tbody tr th:only-of-type {\n",
       "        vertical-align: middle;\n",
       "    }\n",
       "\n",
       "    .dataframe tbody tr th {\n",
       "        vertical-align: top;\n",
       "    }\n",
       "\n",
       "    .dataframe thead th {\n",
       "        text-align: right;\n",
       "    }\n",
       "</style>\n",
       "<table border=\"1\" class=\"dataframe\">\n",
       "  <thead>\n",
       "    <tr style=\"text-align: right;\">\n",
       "      <th></th>\n",
       "      <th>A</th>\n",
       "      <th>Cuadrado</th>\n",
       "    </tr>\n",
       "  </thead>\n",
       "  <tbody>\n",
       "    <tr>\n",
       "      <th>0</th>\n",
       "      <td>1</td>\n",
       "      <td>1</td>\n",
       "    </tr>\n",
       "    <tr>\n",
       "      <th>1</th>\n",
       "      <td>2</td>\n",
       "      <td>4</td>\n",
       "    </tr>\n",
       "    <tr>\n",
       "      <th>2</th>\n",
       "      <td>3</td>\n",
       "      <td>9</td>\n",
       "    </tr>\n",
       "    <tr>\n",
       "      <th>3</th>\n",
       "      <td>4</td>\n",
       "      <td>16</td>\n",
       "    </tr>\n",
       "  </tbody>\n",
       "</table>\n",
       "</div>"
      ],
      "text/plain": [
       "   A  Cuadrado\n",
       "0  1         1\n",
       "1  2         4\n",
       "2  3         9\n",
       "3  4        16"
      ]
     },
     "execution_count": 3,
     "metadata": {},
     "output_type": "execute_result"
    }
   ],
   "source": [
    "\n",
    "# Elevar todos los valores de la columna 'A' al cuadrado\n",
    "df['Cuadrado'] = df['A'] ** 2\n",
    "df"
   ]
  },
  {
   "cell_type": "code",
   "execution_count": null,
   "metadata": {},
   "outputs": [],
   "source": [
    "# Ejemplo 2\n",
    "\n",
    "data = {'Nombres': ['Juan', 'Ana', 'Luis']}\n",
    "df = pd.DataFrame(data)\n",
    "df\n",
    "\n"
   ]
  },
  {
   "cell_type": "code",
   "execution_count": null,
   "metadata": {},
   "outputs": [],
   "source": [
    "# Convertir todos los nombres a mayúsculas\n",
    "df['Mayúsculas'] = df['Nombres'].str.upper()\n",
    "df\n"
   ]
  },
  {
   "cell_type": "markdown",
   "metadata": {},
   "source": [
    "## Pero a veces vamos a tener que hacer cambios más complejos, para ello, necesitaremos el apply\n",
    "\n",
    "### Receta\n",
    "- Creamos una función para encapsular el cambio que queramos hacer en cada fila -> def func('columna')\n",
    "- Aplicamos la función a una o varias columnas, para todas las filas -> df['new_colum'] = df['column'].apply(func) \n",
    "\n",
    "#### En este caso, 'column', actuará como argumento de entrada a la función"
   ]
  },
  {
   "cell_type": "code",
   "execution_count": null,
   "metadata": {},
   "outputs": [],
   "source": [
    "df = pd.read_csv(\"bank-additional.csv\", index_col = 0)\n",
    "df.head()"
   ]
  },
  {
   "cell_type": "markdown",
   "metadata": {},
   "source": [
    "### Clasifica a los clientes en diferentes categorías dependiendo de su edad:\n",
    "\n",
    "- Jóvenes adultos: 17 a 25 años\n",
    "\n",
    "- Adultos jóvenes: 26 a 39 años\n",
    "\n",
    "- Mediana edad: 40 a 59 años\n",
    "\n",
    "- Adultos mayores: 60 en adelante\n"
   ]
  },
  {
   "cell_type": "code",
   "execution_count": 6,
   "metadata": {},
   "outputs": [],
   "source": [
    "# Voy a crear una función personalizada llamada 'categorizar_edad'\n",
    "\n",
    "\n",
    "def categorizar_edad(numero):\n",
    "\n",
    "    if numero >=17 and numero <= 25:\n",
    "        return \"Jóvenes adultos\"\n",
    "    \n",
    "    elif numero >= 26 and numero <= 39:\n",
    "        return \"Adultos jóvenes\"\n",
    "\n",
    "    elif numero >= 40 and numero <= 59:\n",
    "        return \"Mediana edad\"\n",
    "    \n",
    "    else:\n",
    "        return \"Adultos mayores\"\n"
   ]
  },
  {
   "cell_type": "code",
   "execution_count": null,
   "metadata": {},
   "outputs": [],
   "source": [
    "# Aplicación de la función customizada con apply\n",
    "\n",
    "# df[nuevo_nombre_co] = df[columna_a_modificar].apply(funcion_personalizada)\n",
    "# El df tendrá una nueva columna con ese nuevo nombre y el resultado de la función por cada fila\n",
    "# A veces querré borrar la columna original\n",
    "\n",
    "df[\"age_cat\"] = df[\"age\"].apply(categorizar_edad)\n",
    "\n",
    "df.head()"
   ]
  },
  {
   "cell_type": "code",
   "execution_count": null,
   "metadata": {},
   "outputs": [],
   "source": [
    "### Ahora quiero reemplazar , por . y cambiar a float las siguientes columnas: 'cons.price.idx''consconfidx', 'euribor3m'\n",
    "\n",
    "\n",
    "#### El objetivo será poder poder hacer cálculos con ellas posteriormente."
   ]
  },
  {
   "cell_type": "code",
   "execution_count": null,
   "metadata": {},
   "outputs": [],
   "source": [
    "df.dtypes"
   ]
  },
  {
   "cell_type": "code",
   "execution_count": 10,
   "metadata": {},
   "outputs": [],
   "source": [
    "# Creación de la función customizada \n",
    "\n",
    "def cambiar_comas(cadena):\n",
    "    try:\n",
    "    # Reemplazar las comas por puntos en la cadena\n",
    "        return float(cadena.replace(\",\", \".\"))\n",
    "    \n",
    "    except:\n",
    "        # Si ocurre algún error (por ejemplo, si el argumento no es una cadena),\n",
    "        # devolver np.nan (valor Not a Number, vamos, un NULL de toda la vida)\n",
    "        return np.nan"
   ]
  },
  {
   "cell_type": "code",
   "execution_count": 11,
   "metadata": {},
   "outputs": [],
   "source": [
    "df['cons.price.idx'] = df['cons.price.idx'].apply(cambiar_comas)\n",
    "df['cons.conf.idx'] = df['cons.conf.idx'].apply(cambiar_comas)\n",
    "df['euribor3m'] = df['euribor3m'].apply(cambiar_comas)"
   ]
  },
  {
   "cell_type": "code",
   "execution_count": null,
   "metadata": {},
   "outputs": [],
   "source": [
    "# Aplicación de la función customizada con apply\n",
    "# Esto es equivalente a lo de arriba\n",
    "\n",
    "lista_columnas = ['cons.price.idx', 'cons.conf.idx', 'euribor3m']\n",
    "\n",
    "\n",
    "for col in lista_columnas:\n",
    "    df[col] = df[col].apply(cambiar_comas)\n"
   ]
  },
  {
   "cell_type": "code",
   "execution_count": null,
   "metadata": {},
   "outputs": [],
   "source": [
    "df.dtypes"
   ]
  }
 ],
 "metadata": {
  "kernelspec": {
   "display_name": "base",
   "language": "python",
   "name": "python3"
  },
  "language_info": {
   "codemirror_mode": {
    "name": "ipython",
    "version": 3
   },
   "file_extension": ".py",
   "mimetype": "text/x-python",
   "name": "python",
   "nbconvert_exporter": "python",
   "pygments_lexer": "ipython3",
   "version": "3.11.7"
  },
  "toc": {
   "base_numbering": 1,
   "nav_menu": {},
   "number_sections": true,
   "sideBar": true,
   "skip_h1_title": false,
   "title_cell": "Table of Contents",
   "title_sidebar": "Contents",
   "toc_cell": true,
   "toc_position": {
    "height": "calc(100% - 180px)",
    "left": "10px",
    "top": "150px",
    "width": "384px"
   },
   "toc_section_display": true,
   "toc_window_display": true
  }
 },
 "nbformat": 4,
 "nbformat_minor": 2
}

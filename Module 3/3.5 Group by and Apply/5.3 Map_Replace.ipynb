{
 "cells": [
  {
   "cell_type": "markdown",
   "metadata": {},
   "source": [
    "# Otros métodos de limpieza\n",
    "\n",
    "- `.map()`:  Se utiliza para aplicar una transformación o reemplazo a cada elemento de una Serie, y devuelve una nueva Serie con los valores transformados o reemplazados.\n",
    "\n",
    "- `.replace()`: Se utiliza para reemplazar valores en un DataFrame o Serie con otros valores especificados.\n"
   ]
  },
  {
   "cell_type": "code",
   "execution_count": 21,
   "metadata": {},
   "outputs": [],
   "source": [
    "\n",
    "########minuto 1:02\n",
    "import pandas as pd\n",
    "import numpy as np\n",
    "\n",
    "\n",
    "# Configuración\n",
    "# -----------------------------------------------------------------------\n",
    "pd.set_option('display.max_columns', None) # para poder visualizar todas las columnas de los DataFrames"
   ]
  },
  {
   "cell_type": "code",
   "execution_count": null,
   "metadata": {},
   "outputs": [],
   "source": [
    "\n",
    "df = pd.read_csv(\"bank-additional.csv\", index_col = 0)\n",
    "df.head()"
   ]
  },
  {
   "cell_type": "code",
   "execution_count": 23,
   "metadata": {},
   "outputs": [
    {
     "data": {
      "text/plain": [
       "array([ 0.,  1., nan])"
      ]
     },
     "execution_count": 23,
     "metadata": {},
     "output_type": "execute_result"
    }
   ],
   "source": [
    "df['loan'].unique()"
   ]
  },
  {
   "cell_type": "markdown",
   "metadata": {},
   "source": [
    "### Receta:\n",
    "- Se crea un diccionario con claves de key-value, donde:\n",
    "  - key: valores que tenemos en la columna sobre la que queremos aplicar el map\n",
    "  - value: valores nuevos que queremos tener en la columna\n",
    "- Se aplica esta 'transformación' a la columna que necesitemos en el df"
   ]
  },
  {
   "cell_type": "markdown",
   "metadata": {},
   "source": [
    "Queremos cambiar los 0 por 'No' y los 1 por 'Si' en la columna 'loan'"
   ]
  },
  {
   "cell_type": "code",
   "execution_count": null,
   "metadata": {},
   "outputs": [],
   "source": [
    "df['loan'].unique()"
   ]
  },
  {
   "cell_type": "code",
   "execution_count": 24,
   "metadata": {},
   "outputs": [
    {
     "data": {
      "text/plain": [
       "array(['No', 'Si', nan], dtype=object)"
      ]
     },
     "execution_count": 24,
     "metadata": {},
     "output_type": "execute_result"
    }
   ],
   "source": [
    "# En nuestro caso queremos reemplazar los 0 por No y los 1 por Si\n",
    "\n",
    "diccionario_mapa = {0: \"No\", 1: \"Si\"} \n",
    "df[\"loan\"] = df[\"loan\"].map(diccionario_mapa)\n",
    "df['loan'].unique()"
   ]
  },
  {
   "cell_type": "code",
   "execution_count": 25,
   "metadata": {},
   "outputs": [],
   "source": [
    "# hacemos lo mismo para la columna de 'housing' y 'default', para la cual nos vale el mismo diccionario que hemos creado antes. \n",
    "df[\"housing\"] = df[\"housing\"].map(diccionario_mapa)\n",
    "df[\"default\"] = df[\"default\"].map(diccionario_mapa)\n"
   ]
  },
  {
   "cell_type": "markdown",
   "metadata": {},
   "source": [
    "- Usa map para operaciones simples y directas en Series.\n",
    "- Usa apply para operaciones más complejas o cuando trabajas con DataFrames."
   ]
  },
  {
   "cell_type": "markdown",
   "metadata": {},
   "source": [
    "## `.replace()`\n",
    "\n",
    "\n",
    "El método `replace()` se utiliza para reemplazar valores en un *DataFrame* o una *Serie* con otros valores específicos que proporcionamos. Puedes utilizar este método para realizar cambios en los datos de manera eficiente y fácil.\n"
   ]
  },
  {
   "cell_type": "code",
   "execution_count": null,
   "metadata": {},
   "outputs": [],
   "source": [
    "df['pdays'].unique()"
   ]
  },
  {
   "cell_type": "code",
   "execution_count": null,
   "metadata": {},
   "outputs": [],
   "source": [
    "# aplicamos el método '.replace()' sobre la columna  para reemplazar los valores 999 por nulos de numpy (np.nan)\n",
    "df[\"pdays\"] = df[\"pdays\"].replace(999, np.nan)\n",
    "df['pdays'].unique()"
   ]
  }
 ],
 "metadata": {
  "kernelspec": {
   "display_name": "Python 3",
   "language": "python",
   "name": "python3"
  },
  "language_info": {
   "codemirror_mode": {
    "name": "ipython",
    "version": 3
   },
   "file_extension": ".py",
   "mimetype": "text/x-python",
   "name": "python",
   "nbconvert_exporter": "python",
   "pygments_lexer": "ipython3",
   "version": "3.12.6"
  },
  "toc": {
   "base_numbering": 1,
   "nav_menu": {},
   "number_sections": true,
   "sideBar": true,
   "skip_h1_title": false,
   "title_cell": "Table of Contents",
   "title_sidebar": "Contents",
   "toc_cell": true,
   "toc_position": {
    "height": "calc(100% - 180px)",
    "left": "10px",
    "top": "150px",
    "width": "384px"
   },
   "toc_section_display": true,
   "toc_window_display": true
  }
 },
 "nbformat": 4,
 "nbformat_minor": 2
}

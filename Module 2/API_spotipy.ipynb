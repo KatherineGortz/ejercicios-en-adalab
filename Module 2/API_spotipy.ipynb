{
 "cells": [
  {
   "cell_type": "markdown",
   "metadata": {},
   "source": [
    "- Spotify \n",
    "    *   Documentacion Oficial - (https://developer.spotify.com/documentation/web-api)\n",
    "    *   Libreria de Spotipy - https://spotipy.readthedocs.io/en/2.24.0/ \n",
    "- Last.fm (https://www.last.fm/home)\n"
   ]
  },
  {
   "cell_type": "code",
   "execution_count": null,
   "metadata": {},
   "outputs": [],
   "source": [
    "# Importar librería para la conexión con MySQL\n",
    "# -----------------------------------------------------------------------\n",
    "#pip install mysql-connector -> en caso de no tenerla\n",
    "import mysql.connector\n",
    "from mysql.connector import errorcode\n",
    "\n",
    "# Importar librerías para manipulación y análisis de datos\n",
    "# -----------------------------------------------------------------------\n",
    "#pip install requests-> en caso de no tenerla\n",
    "#pip install pandas-> en caso de no tenerla\n",
    "#pip install numpy-> en caso de no tenerla\n",
    "import requests\n",
    "import pandas as pd\n",
    "\n",
    "# conexion a spotify\n",
    "# -----------------------------------------------------------------------\n",
    "\n",
    "!pip install spotipy --upgrade\n",
    "import spotipy\n",
    "from spotipy.oauth2 import SpotifyClientCredentials"
   ]
  },
  {
   "cell_type": "code",
   "execution_count": null,
   "metadata": {},
   "outputs": [],
   "source": [
    "# Esta API necesita autenticación. Para ello debemos ir a la página web de https://developer.spotify.com/ y entrar con nuestra cuenta de spotify\n",
    "# Vamos a dashboard y creamos una app\n",
    "# Una vez creada, tendremos nuestro client id y client secret en settings"
   ]
  },
  {
   "cell_type": "code",
   "execution_count": 42,
   "metadata": {},
   "outputs": [],
   "source": [
    "#Nuestras credenciales\n",
    "client_id = \"e84e90708eb24cd2b5ce98f60ddc387c\"\n",
    "client_secret = \"de75d14af7cc43cd886b198fc0bc34fd\""
   ]
  },
  {
   "cell_type": "code",
   "execution_count": 43,
   "metadata": {},
   "outputs": [],
   "source": [
    "# Autenticación\n",
    "auth_manager = SpotifyClientCredentials(client_id=client_id, client_secret=client_secret)\n",
    "sp = spotipy.Spotify(auth_manager=auth_manager)"
   ]
  },
  {
   "cell_type": "code",
   "execution_count": null,
   "metadata": {},
   "outputs": [],
   "source": [
    "# En la query vamos a buscar elementos como artist, genre, track, year\n",
    " #Ej: artist:Coldplay genre:pop\n",
    "\n",
    "#En type podemos decirle la entidad que queremos buscar\n",
    " #type='artist'\n",
    "\n",
    "#limit: le pasamos el número de resultados que queremos obtener"
   ]
  },
  {
   "cell_type": "code",
   "execution_count": null,
   "metadata": {},
   "outputs": [],
   "source": [
    "results = sp.search(q=\"artist:Coldplay\")\n",
    "\n",
    "results"
   ]
  },
  {
   "cell_type": "code",
   "execution_count": 45,
   "metadata": {},
   "outputs": [
    {
     "name": "stdout",
     "output_type": "stream",
     "text": [
      "Canción: Someone Like You, Artista: Adele, Álbum: 21\n",
      "Canción: Set Fire to the Rain, Artista: Adele, Álbum: 21\n",
      "Canción: Rolling in the Deep, Artista: Adele, Álbum: 21\n",
      "Canción: Skyfall, Artista: Adele, Álbum: Skyfall\n",
      "Canción: Love In The Dark, Artista: Adele, Álbum: 25\n"
     ]
    }
   ],
   "source": [
    "results_adele = sp.search(q=\"artist:Adele genre:pop year:2010-2020\", type=\"track\", limit=5)\n",
    "\n",
    "\n",
    "\n",
    "for track in results_adele['tracks']['items']:\n",
    "    print(f\"Canción: {track['name']}, Artista: {track['artists'][0]['name']}, Álbum: {track['album']['name']}\")"
   ]
  },
  {
   "cell_type": "code",
   "execution_count": null,
   "metadata": {},
   "outputs": [],
   "source": [
    "results_adele"
   ]
  },
  {
   "cell_type": "code",
   "execution_count": 47,
   "metadata": {},
   "outputs": [
    {
     "data": {
      "text/plain": [
       "dict_keys(['tracks'])"
      ]
     },
     "execution_count": 47,
     "metadata": {},
     "output_type": "execute_result"
    }
   ],
   "source": [
    "results_adele.keys()"
   ]
  },
  {
   "cell_type": "code",
   "execution_count": null,
   "metadata": {},
   "outputs": [],
   "source": [
    "results['tracks']"
   ]
  },
  {
   "cell_type": "code",
   "execution_count": 48,
   "metadata": {},
   "outputs": [
    {
     "data": {
      "text/plain": [
       "dict_keys(['href', 'limit', 'next', 'offset', 'previous', 'total', 'items'])"
      ]
     },
     "execution_count": 48,
     "metadata": {},
     "output_type": "execute_result"
    }
   ],
   "source": [
    "results['tracks'].keys()"
   ]
  },
  {
   "cell_type": "code",
   "execution_count": null,
   "metadata": {},
   "outputs": [],
   "source": [
    "results['tracks']['items'] #Vemos que es una lista de canciones y cada elemento de la lista es un diccionario con info de una canción\n",
    "#Tiene las claves: album, name, artists"
   ]
  },
  {
   "cell_type": "code",
   "execution_count": null,
   "metadata": {},
   "outputs": [],
   "source": [
    "for item in results['tracks']['items']:\n",
    "    print(item.keys())"
   ]
  },
  {
   "cell_type": "code",
   "execution_count": null,
   "metadata": {},
   "outputs": [],
   "source": [
    "results['tracks']['items'][1]"
   ]
  },
  {
   "cell_type": "code",
   "execution_count": null,
   "metadata": {},
   "outputs": [],
   "source": [
    "results = sp.search(q=\"genre:pop year:2000\", type=\"track\", limit=10)\n",
    "\n",
    "for track in results['tracks']['items']:\n",
    "    print(f\"Canción: {track['name']}, Artista: {track['artists'][0]['name']}, Álbum: {track['album']['name']}\")"
   ]
  },
  {
   "cell_type": "code",
   "execution_count": 27,
   "metadata": {},
   "outputs": [],
   "source": [
    "query = \"genre:pop year:2000\"\n",
    "offset = 0\n",
    "total_results = 0\n",
    "resultados_pop = sp.search(q=query, type='track,album', limit=50, offset=offset)"
   ]
  },
  {
   "cell_type": "code",
   "execution_count": null,
   "metadata": {},
   "outputs": [],
   "source": [
    "resultados_pop"
   ]
  },
  {
   "cell_type": "code",
   "execution_count": 35,
   "metadata": {},
   "outputs": [],
   "source": [
    "resultados_totales = []"
   ]
  },
  {
   "cell_type": "code",
   "execution_count": 51,
   "metadata": {},
   "outputs": [],
   "source": [
    "for item in resultados_pop['tracks']['items']:\n",
    "    resultados_totales.append({\n",
    "            'artista': item['artists'][0]['name'], #para obtener el nombre del primer artista\n",
    "            'genero': \"pop\",\n",
    "            'tipo': 'canción',\n",
    "            'nombre': item['name'] if item['name'] else \"Sin Datos\",\n",
    "            'anio_lanzamiento': item['album']['release_date'][:4] if item['album']['release_date'] else \"Sin Datos\"\n",
    "                        })\n",
    "    "
   ]
  },
  {
   "cell_type": "code",
   "execution_count": null,
   "metadata": {},
   "outputs": [],
   "source": [
    "resultados_totales"
   ]
  },
  {
   "cell_type": "code",
   "execution_count": 53,
   "metadata": {},
   "outputs": [],
   "source": [
    "df_pop = pd.DataFrame(resultados_totales)\n"
   ]
  },
  {
   "cell_type": "code",
   "execution_count": 54,
   "metadata": {},
   "outputs": [
    {
     "data": {
      "text/html": [
       "<div>\n",
       "<style scoped>\n",
       "    .dataframe tbody tr th:only-of-type {\n",
       "        vertical-align: middle;\n",
       "    }\n",
       "\n",
       "    .dataframe tbody tr th {\n",
       "        vertical-align: top;\n",
       "    }\n",
       "\n",
       "    .dataframe thead th {\n",
       "        text-align: right;\n",
       "    }\n",
       "</style>\n",
       "<table border=\"1\" class=\"dataframe\">\n",
       "  <thead>\n",
       "    <tr style=\"text-align: right;\">\n",
       "      <th></th>\n",
       "      <th>artista</th>\n",
       "      <th>genero</th>\n",
       "      <th>tipo</th>\n",
       "      <th>nombre</th>\n",
       "      <th>anio_lanzamiento</th>\n",
       "    </tr>\n",
       "  </thead>\n",
       "  <tbody>\n",
       "    <tr>\n",
       "      <th>0</th>\n",
       "      <td>Coldplay</td>\n",
       "      <td>pop</td>\n",
       "      <td>canción</td>\n",
       "      <td>Yellow</td>\n",
       "      <td>2000</td>\n",
       "    </tr>\n",
       "    <tr>\n",
       "      <th>1</th>\n",
       "      <td>Amaral</td>\n",
       "      <td>pop</td>\n",
       "      <td>canción</td>\n",
       "      <td>Cómo hablar</td>\n",
       "      <td>2000</td>\n",
       "    </tr>\n",
       "    <tr>\n",
       "      <th>2</th>\n",
       "      <td>La Oreja de Van Gogh</td>\n",
       "      <td>pop</td>\n",
       "      <td>canción</td>\n",
       "      <td>La Playa</td>\n",
       "      <td>2000</td>\n",
       "    </tr>\n",
       "    <tr>\n",
       "      <th>3</th>\n",
       "      <td>La Oreja de Van Gogh</td>\n",
       "      <td>pop</td>\n",
       "      <td>canción</td>\n",
       "      <td>Cuídate</td>\n",
       "      <td>2000</td>\n",
       "    </tr>\n",
       "    <tr>\n",
       "      <th>4</th>\n",
       "      <td>*NSYNC</td>\n",
       "      <td>pop</td>\n",
       "      <td>canción</td>\n",
       "      <td>Bye Bye Bye - From Deadpool and Wolverine Soun...</td>\n",
       "      <td>2000</td>\n",
       "    </tr>\n",
       "    <tr>\n",
       "      <th>...</th>\n",
       "      <td>...</td>\n",
       "      <td>...</td>\n",
       "      <td>...</td>\n",
       "      <td>...</td>\n",
       "      <td>...</td>\n",
       "    </tr>\n",
       "    <tr>\n",
       "      <th>95</th>\n",
       "      <td>Mikel Erentxun</td>\n",
       "      <td>pop</td>\n",
       "      <td>canción</td>\n",
       "      <td>Mañana</td>\n",
       "      <td>2000</td>\n",
       "    </tr>\n",
       "    <tr>\n",
       "      <th>96</th>\n",
       "      <td>Backstreet Boys</td>\n",
       "      <td>pop</td>\n",
       "      <td>canción</td>\n",
       "      <td>Shape of My Heart</td>\n",
       "      <td>2000</td>\n",
       "    </tr>\n",
       "    <tr>\n",
       "      <th>97</th>\n",
       "      <td>Christina Aguilera</td>\n",
       "      <td>pop</td>\n",
       "      <td>canción</td>\n",
       "      <td>Pero Me Acuerdo de Tí</td>\n",
       "      <td>2000</td>\n",
       "    </tr>\n",
       "    <tr>\n",
       "      <th>98</th>\n",
       "      <td>The Offspring</td>\n",
       "      <td>pop</td>\n",
       "      <td>canción</td>\n",
       "      <td>Original Prankster</td>\n",
       "      <td>2000</td>\n",
       "    </tr>\n",
       "    <tr>\n",
       "      <th>99</th>\n",
       "      <td>Wham!</td>\n",
       "      <td>pop</td>\n",
       "      <td>canción</td>\n",
       "      <td>Last Christmas - Single Version</td>\n",
       "      <td>2000</td>\n",
       "    </tr>\n",
       "  </tbody>\n",
       "</table>\n",
       "<p>100 rows × 5 columns</p>\n",
       "</div>"
      ],
      "text/plain": [
       "                 artista genero     tipo  \\\n",
       "0               Coldplay    pop  canción   \n",
       "1                 Amaral    pop  canción   \n",
       "2   La Oreja de Van Gogh    pop  canción   \n",
       "3   La Oreja de Van Gogh    pop  canción   \n",
       "4                 *NSYNC    pop  canción   \n",
       "..                   ...    ...      ...   \n",
       "95        Mikel Erentxun    pop  canción   \n",
       "96       Backstreet Boys    pop  canción   \n",
       "97    Christina Aguilera    pop  canción   \n",
       "98         The Offspring    pop  canción   \n",
       "99                 Wham!    pop  canción   \n",
       "\n",
       "                                               nombre anio_lanzamiento  \n",
       "0                                              Yellow             2000  \n",
       "1                                         Cómo hablar             2000  \n",
       "2                                            La Playa             2000  \n",
       "3                                             Cuídate             2000  \n",
       "4   Bye Bye Bye - From Deadpool and Wolverine Soun...             2000  \n",
       "..                                                ...              ...  \n",
       "95                                             Mañana             2000  \n",
       "96                                  Shape of My Heart             2000  \n",
       "97                              Pero Me Acuerdo de Tí             2000  \n",
       "98                                 Original Prankster             2000  \n",
       "99                    Last Christmas - Single Version             2000  \n",
       "\n",
       "[100 rows x 5 columns]"
      ]
     },
     "execution_count": 54,
     "metadata": {},
     "output_type": "execute_result"
    }
   ],
   "source": [
    "df_pop"
   ]
  }
 ],
 "metadata": {
  "kernelspec": {
   "display_name": "Python 3",
   "language": "python",
   "name": "python3"
  },
  "language_info": {
   "codemirror_mode": {
    "name": "ipython",
    "version": 3
   },
   "file_extension": ".py",
   "mimetype": "text/x-python",
   "name": "python",
   "nbconvert_exporter": "python",
   "pygments_lexer": "ipython3",
   "version": "3.9.5"
  }
 },
 "nbformat": 4,
 "nbformat_minor": 2
}

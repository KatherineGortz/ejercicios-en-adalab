{
 "cells": [
  {
   "cell_type": "markdown",
   "metadata": {},
   "source": [
    "# Apertura de xml con Python:"
   ]
  },
  {
   "cell_type": "markdown",
   "metadata": {},
   "source": [
    "Para acceder a un archivo xml necesitamos importar la librería xml con algunos submódulos. Le asignamos el alias ET y usamos parse() para leer y interpretar los contenidos:"
   ]
  },
  {
   "cell_type": "code",
   "execution_count": 1,
   "metadata": {},
   "outputs": [],
   "source": [
    "import xml.etree.ElementTree as ET"
   ]
  },
  {
   "cell_type": "code",
   "execution_count": 2,
   "metadata": {},
   "outputs": [],
   "source": [
    "# abrimos el fichero\n",
    "tree = ET.parse('contacto.xml') # dentro del método parse incluimos el archivo a leer"
   ]
  },
  {
   "cell_type": "markdown",
   "metadata": {},
   "source": [
    "El método .getroot() nos saca el elemento que envuelve todo, como <contact-info> en este archivo."
   ]
  },
  {
   "cell_type": "code",
   "execution_count": 3,
   "metadata": {},
   "outputs": [],
   "source": [
    "root = tree.getroot()"
   ]
  },
  {
   "cell_type": "code",
   "execution_count": 4,
   "metadata": {},
   "outputs": [
    {
     "data": {
      "text/plain": [
       "<Element 'contact-info' at 0x000001832F3BA2F0>"
      ]
     },
     "execution_count": 4,
     "metadata": {},
     "output_type": "execute_result"
    }
   ],
   "source": [
    "root"
   ]
  },
  {
   "cell_type": "markdown",
   "metadata": {},
   "source": [
    "Cada elemento, incluyendo el elemento root tiene un tag y puede tener unos atributos. En este caso el elemento a la raíz de todo le acabamos de asignar el nombre root, y su nombre (tag) y atributos los accedemos entonces de esta manera:"
   ]
  },
  {
   "cell_type": "code",
   "execution_count": 5,
   "metadata": {},
   "outputs": [
    {
     "name": "stdout",
     "output_type": "stream",
     "text": [
      "contact-info\n"
     ]
    }
   ],
   "source": [
    "# imprimimos cuál es la raíz, el padre de nuestro archivo xml\n",
    "print(root.tag)"
   ]
  },
  {
   "cell_type": "code",
   "execution_count": 6,
   "metadata": {},
   "outputs": [
    {
     "name": "stdout",
     "output_type": "stream",
     "text": [
      "{}\n"
     ]
    }
   ],
   "source": [
    "# sacamos los atributos de nuestro fichero\n",
    "print(root.attrib)"
   ]
  },
  {
   "cell_type": "code",
   "execution_count": 7,
   "metadata": {},
   "outputs": [
    {
     "name": "stdout",
     "output_type": "stream",
     "text": [
      "Website\n"
     ]
    }
   ],
   "source": [
    "print(root.find('contact').find('type').text)"
   ]
  },
  {
   "cell_type": "markdown",
   "metadata": {},
   "source": [
    "Puedes iterar por cada hijo de root y ver la estructura del xml de la siguiente manera:"
   ]
  },
  {
   "cell_type": "code",
   "execution_count": 7,
   "metadata": {},
   "outputs": [
    {
     "name": "stdout",
     "output_type": "stream",
     "text": [
      "contact: Es un hijo de nuestra raiz 'contact-info'\n",
      "type: Es un nieto de nuestra raiz 'contact-info'\n",
      "url: Es un nieto de nuestra raiz 'contact-info'\n",
      "contact: Es un hijo de nuestra raiz 'contact-info'\n",
      "type: Es un nieto de nuestra raiz 'contact-info'\n",
      "address: Es un nieto de nuestra raiz 'contact-info'\n",
      "socialmedia: Es un hijo de nuestra raiz 'contact-info'\n",
      "profile: Es un nieto de nuestra raiz 'contact-info'\n",
      "profile: Es un nieto de nuestra raiz 'contact-info'\n",
      "profile: Es un nieto de nuestra raiz 'contact-info'\n",
      "profile: Es un nieto de nuestra raiz 'contact-info'\n",
      "profile: Es un nieto de nuestra raiz 'contact-info'\n"
     ]
    }
   ],
   "source": [
    "for child in root:\n",
    "    print(f\"{child.tag}: Es un hijo de nuestra raíz 'contact-info'\" )\n",
    "    for subchild in child:\n",
    "        print(f\"{subchild.tag}: Es un nieto de nuestra raíz 'contact-info'\" )"
   ]
  },
  {
   "cell_type": "markdown",
   "metadata": {},
   "source": [
    "Si vas chequeando el archivo xml ves que sigue una estructura de árbol, tiene una rama principal que es contact-info del que salen dos ramas contact y socialmedia. De estos, a su vez salen más ramas:\n",
    "\n",
    "- De la subrama contact salen las siguientes ramas: type, url y address\n",
    "\n",
    "- De la subrama socialmedia sale solo profile"
   ]
  },
  {
   "cell_type": "markdown",
   "metadata": {},
   "source": [
    "Ahora que sabes cómo se llaman los campos puedes sacar su contenido uno por uno. Con .find() extraes la primera ocasión en que el tag de un elemento coincida con el string. Recuerda que puedes tener múltiples elementos con el mismo nombre."
   ]
  },
  {
   "cell_type": "code",
   "execution_count": 8,
   "metadata": {},
   "outputs": [
    {
     "name": "stdout",
     "output_type": "stream",
     "text": [
      "Website\n"
     ]
    }
   ],
   "source": [
    "print(root.find('contact').find('type').text)"
   ]
  },
  {
   "cell_type": "code",
   "execution_count": 9,
   "metadata": {},
   "outputs": [
    {
     "name": "stdout",
     "output_type": "stream",
     "text": [
      "https://adalab.es/\n"
     ]
    }
   ],
   "source": [
    "print(root.find('contact').find('url').text)"
   ]
  },
  {
   "cell_type": "markdown",
   "metadata": {},
   "source": [
    "Genial!!! Hasta ahora hemos visto como acceder al contenido, pero... 🤔 solo estaba devolviendo el contenido de una etiqueta. ¿Cómo podríamos hacer para que nos devolviera el contenido de todas las etiquetas con el mismo nombre? Usando .findall() que nos da una lista de todos los elementos cuyo tag coincide con el string dado. Para cada contacto sacamos el subelemento que se llama type y accedemos a su texto:"
   ]
  },
  {
   "cell_type": "code",
   "execution_count": 10,
   "metadata": {},
   "outputs": [
    {
     "name": "stdout",
     "output_type": "stream",
     "text": [
      "Website\n",
      "Mail\n"
     ]
    }
   ],
   "source": [
    "# iteramos por el hijo \"contact\" y accedemos a todos\n",
    "for contact in root.findall('contact'):\n",
    "    # dentro de este sacamos su contenido\n",
    "    print(contact.find('type').text)"
   ]
  },
  {
   "cell_type": "code",
   "execution_count": 11,
   "metadata": {},
   "outputs": [
    {
     "name": "stdout",
     "output_type": "stream",
     "text": [
      "Twitter\n",
      "Facebook\n",
      "Linkedin\n",
      "Instagram\n",
      "Youtube\n"
     ]
    }
   ],
   "source": [
    "# como lo haríamos para el otro elemento que teníamos\n",
    "for subelement in root.find('socialmedia').findall('profile'):\n",
    "    print(subelement.find('name').text)"
   ]
  }
 ],
 "metadata": {
  "kernelspec": {
   "display_name": "Python 3",
   "language": "python",
   "name": "python3"
  },
  "language_info": {
   "codemirror_mode": {
    "name": "ipython",
    "version": 3
   },
   "file_extension": ".py",
   "mimetype": "text/x-python",
   "name": "python",
   "nbconvert_exporter": "python",
   "pygments_lexer": "ipython3",
   "version": "3.13.0"
  },
  "toc": {
   "base_numbering": 1,
   "nav_menu": {},
   "number_sections": true,
   "sideBar": true,
   "skip_h1_title": false,
   "title_cell": "Table of Contents",
   "title_sidebar": "Contents",
   "toc_cell": true,
   "toc_position": {
    "height": "calc(100% - 180px)",
    "left": "10px",
    "top": "150px",
    "width": "384px"
   },
   "toc_section_display": true,
   "toc_window_display": true
  }
 },
 "nbformat": 4,
 "nbformat_minor": 2
}

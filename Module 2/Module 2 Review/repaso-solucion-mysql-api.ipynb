{
 "cells": [
  {
   "cell_type": "code",
   "execution_count": 1,
   "metadata": {},
   "outputs": [],
   "source": [
    "import requests\n",
    "import mysql.connector\n",
    "\n",
    "# URL de la API\n",
    "API_URL = \"https://beta.adalab.es/curso-intensivo-fullstack-recursos/apis/alumnos-v1/alumnos.json\"\n",
    "\n",
    "# Conexión a la base de datos MySQL\n",
    "cnx = mysql.connector.connect(user='root', password='AlumnaAdalab', host='127.0.0.1', database='instituto')  \n",
    "\n",
    "# Obtener datos de la API\n",
    "def alumnos_from_api(url):\n",
    "    response = requests.get(url)\n",
    "    if response.status_code == 200:\n",
    "        return response.json()  \n",
    "    else:\n",
    "        raise Exception(f\"Error al obtener datos de la API: {response.status_code}\")"
   ]
  },
  {
   "cell_type": "code",
   "execution_count": 2,
   "metadata": {},
   "outputs": [],
   "source": [
    "alumnos = alumnos_from_api(API_URL)"
   ]
  },
  {
   "cell_type": "code",
   "execution_count": null,
   "metadata": {},
   "outputs": [],
   "source": [
    "alumnos"
   ]
  },
  {
   "cell_type": "code",
   "execution_count": 3,
   "metadata": {},
   "outputs": [],
   "source": [
    "# Insertar datos en la tabla alumnos\n",
    "def insert_alumnos_in_db(db_connection, alumnos):\n",
    "    cursor = db_connection.cursor()\n",
    "    query = \"\"\"\n",
    "        INSERT INTO alumnos (num_expediente, nombre, apellidos, fecha_nacimiento)\n",
    "        VALUES (%s, %s, %s, %s)\n",
    "    \"\"\"\n",
    "    lista_alumnos = alumnos.get(\"results\")\n",
    "\n",
    "    for alumno in lista_alumnos:\n",
    "\n",
    "        try:\n",
    "            # Extraer datos del JSON\n",
    "            num_expediente = alumno.get(\"num_expediente\")\n",
    "            nombre = alumno.get(\"nombre\")\n",
    "            apellidos = alumno.get(\"apellidos\")\n",
    "            fecha_nacimiento = alumno.get(\"fecha_nacimiento\")\n",
    "            \n",
    "            # Ejecutar la consulta\n",
    "            cursor.execute(query, (num_expediente, nombre, apellidos, fecha_nacimiento))\n",
    "        except Exception as e:\n",
    "            print(f\"Error al insertar el alumno {alumno.get('nombre', 'Desconocido')} {alumno.get('apellidos', 'Desconocido')}: {e}\")\n",
    "    db_connection.commit()\n",
    "    cursor.close()"
   ]
  },
  {
   "cell_type": "code",
   "execution_count": 4,
   "metadata": {},
   "outputs": [],
   "source": [
    "insert_alumnos_in_db(cnx, alumnos)"
   ]
  },
  {
   "cell_type": "code",
   "execution_count": 5,
   "metadata": {},
   "outputs": [],
   "source": [
    "def mostrar_alumnos(db_connection):\n",
    "    cursor = db_connection.cursor()\n",
    "    query = \"SELECT * FROM alumnos\"\n",
    "    cursor.execute(query)\n",
    "    for row in cursor.fetchall():\n",
    "        print(row)\n",
    "    cursor.close()\n"
   ]
  },
  {
   "cell_type": "code",
   "execution_count": null,
   "metadata": {},
   "outputs": [],
   "source": [
    "mostrar_alumnos(cnx)"
   ]
  }
 ],
 "metadata": {
  "kernelspec": {
   "display_name": "Python 3",
   "language": "python",
   "name": "python3"
  },
  "language_info": {
   "codemirror_mode": {
    "name": "ipython",
    "version": 3
   },
   "file_extension": ".py",
   "mimetype": "text/x-python",
   "name": "python",
   "nbconvert_exporter": "python",
   "pygments_lexer": "ipython3",
   "version": "3.11.9"
  }
 },
 "nbformat": 4,
 "nbformat_minor": 2
}

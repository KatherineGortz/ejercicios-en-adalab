{
 "cells": [
  {
   "cell_type": "code",
   "execution_count": 5,
   "metadata": {},
   "outputs": [],
   "source": [
    "api_key = 'kZV1d97CmvMiVKnxHBMivA1ErgUWhKQm'\n",
    "api_secret = 'tcxrFXu2Ho5GCI31'"
   ]
  },
  {
   "cell_type": "code",
   "execution_count": 6,
   "metadata": {},
   "outputs": [],
   "source": [
    "url = f'https://api.nytimes.com/svc/books/v3/reviews.json?author=Stephen+King&api-key={api_key}'"
   ]
  },
  {
   "cell_type": "code",
   "execution_count": 7,
   "metadata": {},
   "outputs": [],
   "source": [
    "import pandas as pd\n",
    "\n",
    "import requests\n",
    "\n",
    "import re"
   ]
  },
  {
   "cell_type": "code",
   "execution_count": 8,
   "metadata": {},
   "outputs": [],
   "source": [
    "llamada = requests.get(url)"
   ]
  },
  {
   "cell_type": "code",
   "execution_count": 9,
   "metadata": {},
   "outputs": [
    {
     "data": {
      "text/plain": [
       "<Response [200]>"
      ]
     },
     "execution_count": 9,
     "metadata": {},
     "output_type": "execute_result"
    }
   ],
   "source": [
    "llamada"
   ]
  },
  {
   "cell_type": "code",
   "execution_count": 12,
   "metadata": {},
   "outputs": [
    {
     "data": {
      "text/plain": [
       "requests.models.Response"
      ]
     },
     "execution_count": 12,
     "metadata": {},
     "output_type": "execute_result"
    }
   ],
   "source": [
    "type(llamada)"
   ]
  },
  {
   "cell_type": "code",
   "execution_count": 14,
   "metadata": {},
   "outputs": [],
   "source": [
    "data = llamada.json()"
   ]
  },
  {
   "cell_type": "code",
   "execution_count": 15,
   "metadata": {},
   "outputs": [],
   "source": [
    "df = pd.DataFrame(data)"
   ]
  },
  {
   "cell_type": "code",
   "execution_count": 16,
   "metadata": {},
   "outputs": [
    {
     "data": {
      "text/html": [
       "<div>\n",
       "<style scoped>\n",
       "    .dataframe tbody tr th:only-of-type {\n",
       "        vertical-align: middle;\n",
       "    }\n",
       "\n",
       "    .dataframe tbody tr th {\n",
       "        vertical-align: top;\n",
       "    }\n",
       "\n",
       "    .dataframe thead th {\n",
       "        text-align: right;\n",
       "    }\n",
       "</style>\n",
       "<table border=\"1\" class=\"dataframe\">\n",
       "  <thead>\n",
       "    <tr style=\"text-align: right;\">\n",
       "      <th></th>\n",
       "      <th>status</th>\n",
       "      <th>copyright</th>\n",
       "      <th>num_results</th>\n",
       "      <th>results</th>\n",
       "    </tr>\n",
       "  </thead>\n",
       "  <tbody>\n",
       "    <tr>\n",
       "      <th>0</th>\n",
       "      <td>OK</td>\n",
       "      <td>Copyright (c) 2025 The New York Times Company....</td>\n",
       "      <td>66</td>\n",
       "      <td>{'url': 'http://www.nytimes.com/2011/11/13/boo...</td>\n",
       "    </tr>\n",
       "    <tr>\n",
       "      <th>1</th>\n",
       "      <td>OK</td>\n",
       "      <td>Copyright (c) 2025 The New York Times Company....</td>\n",
       "      <td>66</td>\n",
       "      <td>{'url': 'http://www.nytimes.com/2011/10/31/boo...</td>\n",
       "    </tr>\n",
       "    <tr>\n",
       "      <th>2</th>\n",
       "      <td>OK</td>\n",
       "      <td>Copyright (c) 2025 The New York Times Company....</td>\n",
       "      <td>66</td>\n",
       "      <td>{'url': 'http://www.nytimes.com/2004/01/04/boo...</td>\n",
       "    </tr>\n",
       "    <tr>\n",
       "      <th>3</th>\n",
       "      <td>OK</td>\n",
       "      <td>Copyright (c) 2025 The New York Times Company....</td>\n",
       "      <td>66</td>\n",
       "      <td>{'url': 'http://www.nytimes.com/1993/10/24/boo...</td>\n",
       "    </tr>\n",
       "    <tr>\n",
       "      <th>4</th>\n",
       "      <td>OK</td>\n",
       "      <td>Copyright (c) 2025 The New York Times Company....</td>\n",
       "      <td>66</td>\n",
       "      <td>{'url': 'http://www.nytimes.com/2001/11/04/boo...</td>\n",
       "    </tr>\n",
       "    <tr>\n",
       "      <th>...</th>\n",
       "      <td>...</td>\n",
       "      <td>...</td>\n",
       "      <td>...</td>\n",
       "      <td>...</td>\n",
       "    </tr>\n",
       "    <tr>\n",
       "      <th>61</th>\n",
       "      <td>OK</td>\n",
       "      <td>Copyright (c) 2025 The New York Times Company....</td>\n",
       "      <td>66</td>\n",
       "      <td>{'url': 'http://www.nytimes.com/2016/06/12/boo...</td>\n",
       "    </tr>\n",
       "    <tr>\n",
       "      <th>62</th>\n",
       "      <td>OK</td>\n",
       "      <td>Copyright (c) 2025 The New York Times Company....</td>\n",
       "      <td>66</td>\n",
       "      <td>{'url': 'https://www.nytimes.com/2018/05/22/bo...</td>\n",
       "    </tr>\n",
       "    <tr>\n",
       "      <th>63</th>\n",
       "      <td>OK</td>\n",
       "      <td>Copyright (c) 2025 The New York Times Company....</td>\n",
       "      <td>66</td>\n",
       "      <td>{'url': 'https://www.nytimes.com/2018/10/26/bo...</td>\n",
       "    </tr>\n",
       "    <tr>\n",
       "      <th>64</th>\n",
       "      <td>OK</td>\n",
       "      <td>Copyright (c) 2025 The New York Times Company....</td>\n",
       "      <td>66</td>\n",
       "      <td>{'url': 'https://www.nytimes.com/2019/09/08/bo...</td>\n",
       "    </tr>\n",
       "    <tr>\n",
       "      <th>65</th>\n",
       "      <td>OK</td>\n",
       "      <td>Copyright (c) 2025 The New York Times Company....</td>\n",
       "      <td>66</td>\n",
       "      <td>{'url': 'https://www.nytimes.com/2019/09/10/bo...</td>\n",
       "    </tr>\n",
       "  </tbody>\n",
       "</table>\n",
       "<p>66 rows × 4 columns</p>\n",
       "</div>"
      ],
      "text/plain": [
       "   status                                          copyright  num_results  \\\n",
       "0      OK  Copyright (c) 2025 The New York Times Company....           66   \n",
       "1      OK  Copyright (c) 2025 The New York Times Company....           66   \n",
       "2      OK  Copyright (c) 2025 The New York Times Company....           66   \n",
       "3      OK  Copyright (c) 2025 The New York Times Company....           66   \n",
       "4      OK  Copyright (c) 2025 The New York Times Company....           66   \n",
       "..    ...                                                ...          ...   \n",
       "61     OK  Copyright (c) 2025 The New York Times Company....           66   \n",
       "62     OK  Copyright (c) 2025 The New York Times Company....           66   \n",
       "63     OK  Copyright (c) 2025 The New York Times Company....           66   \n",
       "64     OK  Copyright (c) 2025 The New York Times Company....           66   \n",
       "65     OK  Copyright (c) 2025 The New York Times Company....           66   \n",
       "\n",
       "                                              results  \n",
       "0   {'url': 'http://www.nytimes.com/2011/11/13/boo...  \n",
       "1   {'url': 'http://www.nytimes.com/2011/10/31/boo...  \n",
       "2   {'url': 'http://www.nytimes.com/2004/01/04/boo...  \n",
       "3   {'url': 'http://www.nytimes.com/1993/10/24/boo...  \n",
       "4   {'url': 'http://www.nytimes.com/2001/11/04/boo...  \n",
       "..                                                ...  \n",
       "61  {'url': 'http://www.nytimes.com/2016/06/12/boo...  \n",
       "62  {'url': 'https://www.nytimes.com/2018/05/22/bo...  \n",
       "63  {'url': 'https://www.nytimes.com/2018/10/26/bo...  \n",
       "64  {'url': 'https://www.nytimes.com/2019/09/08/bo...  \n",
       "65  {'url': 'https://www.nytimes.com/2019/09/10/bo...  \n",
       "\n",
       "[66 rows x 4 columns]"
      ]
     },
     "execution_count": 16,
     "metadata": {},
     "output_type": "execute_result"
    }
   ],
   "source": [
    "df"
   ]
  },
  {
   "cell_type": "code",
   "execution_count": 17,
   "metadata": {},
   "outputs": [],
   "source": [
    "df.to_excel('libros_SK.xlsx')"
   ]
  }
 ],
 "metadata": {
  "kernelspec": {
   "display_name": "Python 3",
   "language": "python",
   "name": "python3"
  },
  "language_info": {
   "codemirror_mode": {
    "name": "ipython",
    "version": 3
   },
   "file_extension": ".py",
   "mimetype": "text/x-python",
   "name": "python",
   "nbconvert_exporter": "python",
   "pygments_lexer": "ipython3",
   "version": "3.13.0"
  }
 },
 "nbformat": 4,
 "nbformat_minor": 2
}

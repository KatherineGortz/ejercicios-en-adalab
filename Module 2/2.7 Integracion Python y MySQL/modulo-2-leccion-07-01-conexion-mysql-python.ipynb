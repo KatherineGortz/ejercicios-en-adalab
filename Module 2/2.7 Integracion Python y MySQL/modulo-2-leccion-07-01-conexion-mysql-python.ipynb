{
 "cells": [
  {
   "cell_type": "markdown",
   "metadata": {},
   "source": [
    "#  Conexión a una Base de Datos MySQL desde Python:\n",
    "\n",
    "**🚨NOTA IMPORTANTE: 🚨**\n",
    "\n",
    "Al comenzar esta lección e ir ejecutando las diferentes celdas de Python, te recomendamos que tengas abierto tambien MySQL para ir viendo paso a paso como se van ejecutando las ordenes desde este notebook en MySQL.😊\n",
    "\n",
    "En esta lección, aprenderemos cómo establecer una conexión con una base de datos MySQL existente desde un script de Python utilizando el constructor de la clase `connect()`.\n",
    "\n",
    "El constructor `connect()` es esencial para crear una conexión con un servidor MySQL y devuelve un objeto de tipo `MySQLConnection`. A través de un ejemplo práctico, exploraremos cómo utilizarlo de manera efectiva.\n",
    "\n",
    "🚨🚨 **NOTA IMPORTANTE** 🚨🚨 Probablemente no tengas instaladas estas librerías que vamos a utilizar, asi que si encuentras un error al ejecutar la celda de Python que esta debajo deberías ejecutar las instalaciones que se muestran a continuación, sigue estos pasos en tu terminal:\n",
    "\n",
    "1. Ejecuta `pip install mysql-connector`.\n",
    "\n",
    "2. Luego, ejecuta `pip install mysql-connector-python`.\n",
    "\n",
    "Asegúrate de que la terminal muestra \"base\" y que en Jupyter, en la parte superior derecha, se muestra \"base (y la versión de Python)\". Después de estos pasos, vuelve a ejecutar la celda."
   ]
  },
  {
   "cell_type": "markdown",
   "metadata": {},
   "source": [
    "## Descripción de los Argumentos de *`connect()`:*\n",
    "\n",
    "Antes de comenzar, exploremos algunos de los argumentos clave que utilizaremos al conectar a una base de datos utilizando el constructor `connect()`.\n",
    "\n",
    "- `user`: Este argumento se refiere al nombre de usuario que se utilizará para autenticarse en el servidor MySQL.\n",
    "\n",
    "- `password`: Aquí debemos proporcionar la contraseña correspondiente al usuario para la autenticación en el servidor MySQL.\n",
    "\n",
    "- `database`: Es el nombre de la base de datos a la que deseamos conectarnos.\n",
    "\n",
    "- `host`: Este argumento se utiliza para especificar el nombre del servidor MySQL o la dirección IP a la que nos conectaremos. Por defecto, este valor es \"localhost\", que se refiere a la misma máquina en la que se ejecuta el código (127.0.0.1 es la dirección IP equivalente).\n",
    "\n",
    "- `port`: El puerto TCP/IP del servidor MySQL. Debe ser un número entero y, por defecto, se establece en 3306.\n",
    "\n",
    "\n",
    "Existen más argumentos que son opcionales o que se usarán cuando queramos configurar la conexión de una manera muy concreta. Podéis consultar la descripción de todos los parámetros [aquí](https://dev.mysql.com/doc/connector-python/en/connector-python-connectargs.html). "
   ]
  },
  {
   "cell_type": "code",
   "execution_count": 5,
   "metadata": {},
   "outputs": [
    {
     "name": "stdout",
     "output_type": "stream",
     "text": [
      "Collecting mysql-connector\n",
      "  Downloading mysql-connector-2.2.9.tar.gz (11.9 MB)\n",
      "     ---------------------------------------- 0.0/11.9 MB ? eta -:--:--\n",
      "     ------------------- -------------------- 5.8/11.9 MB 32.2 MB/s eta 0:00:01\n",
      "     --------------------------------------- 11.9/11.9 MB 30.8 MB/s eta 0:00:00\n",
      "  Installing build dependencies: started\n",
      "  Installing build dependencies: finished with status 'done'\n",
      "  Getting requirements to build wheel: started\n",
      "  Getting requirements to build wheel: finished with status 'done'\n",
      "  Preparing metadata (pyproject.toml): started\n",
      "  Preparing metadata (pyproject.toml): finished with status 'done'\n",
      "Building wheels for collected packages: mysql-connector\n",
      "  Building wheel for mysql-connector (pyproject.toml): started\n",
      "  Building wheel for mysql-connector (pyproject.toml): finished with status 'done'\n",
      "  Created wheel for mysql-connector: filename=mysql_connector-2.2.9-cp313-cp313-win_amd64.whl size=248023 sha256=e999cfb78e2ef814be7f7d97855529574d917b6a34bc37f874d71b518e6f0ca0\n",
      "  Stored in directory: c:\\users\\kathe\\appdata\\local\\pip\\cache\\wheels\\4e\\c1\\23\\9423c444a75266a05275c80ebf5c6efe2368388e976b690a0f\n",
      "Successfully built mysql-connector\n",
      "Installing collected packages: mysql-connector\n",
      "Successfully installed mysql-connector-2.2.9\n",
      "Note: you may need to restart the kernel to use updated packages.\n"
     ]
    }
   ],
   "source": [
    "pip install mysql-connector"
   ]
  },
  {
   "cell_type": "code",
   "execution_count": 6,
   "metadata": {},
   "outputs": [
    {
     "name": "stdout",
     "output_type": "stream",
     "text": [
      "Requirement already satisfied: mysql-connector-python in c:\\users\\kathe\\appdata\\local\\programs\\python\\python313\\lib\\site-packages (9.1.0)\n",
      "Note: you may need to restart the kernel to use updated packages.\n"
     ]
    }
   ],
   "source": [
    "pip install mysql-connector-python\n"
   ]
  },
  {
   "cell_type": "code",
   "execution_count": 1,
   "metadata": {},
   "outputs": [],
   "source": [
    "# Importar librería para la conexión con MySQL\n",
    "# -----------------------------------------------------------------------\n",
    "import mysql.connector\n",
    "from mysql.connector import errorcode"
   ]
  },
  {
   "cell_type": "code",
   "execution_count": 3,
   "metadata": {},
   "outputs": [
    {
     "name": "stdout",
     "output_type": "stream",
     "text": [
      "Name: mysql-connector-python\n",
      "Version: 9.1.0\n",
      "Summary: A self-contained Python driver for communicating with MySQL servers, using an API that is compliant with the Python Database API Specification v2.0 (PEP 249).\n",
      "Home-page: https://dev.mysql.com/doc/connector-python/en/\n",
      "Author: Oracle and/or its affiliates\n",
      "Author-email: \n",
      "License: GNU GPLv2 (with FOSS License Exception)\n",
      "Location: c:\\Users\\Kathe\\AppData\\Local\\Programs\\Python\\Python313\\Lib\\site-packages\n",
      "Requires: \n",
      "Required-by: \n",
      "Note: you may need to restart the kernel to use updated packages.\n"
     ]
    }
   ],
   "source": [
    "pip show mysql-connector-python"
   ]
  },
  {
   "cell_type": "code",
   "execution_count": 4,
   "metadata": {},
   "outputs": [
    {
     "name": "stdout",
     "output_type": "stream",
     "text": [
      "Requirement already satisfied: mysql-connector-python in c:\\users\\kathe\\appdata\\local\\programs\\python\\python313\\lib\\site-packages (9.1.0)Note: you may need to restart the kernel to use updated packages.\n",
      "\n"
     ]
    }
   ],
   "source": [
    "pip install --upgrade mysql-connector-python\n"
   ]
  },
  {
   "cell_type": "code",
   "execution_count": 5,
   "metadata": {},
   "outputs": [
    {
     "name": "stdout",
     "output_type": "stream",
     "text": [
      "^C\n",
      "Note: you may need to restart the kernel to use updated packages.\n"
     ]
    }
   ],
   "source": [
    "pip uninstall mysql-connector"
   ]
  },
  {
   "cell_type": "code",
   "execution_count": null,
   "metadata": {},
   "outputs": [],
   "source": [
    "pip install mysql-connector-python"
   ]
  },
  {
   "cell_type": "code",
   "execution_count": 1,
   "metadata": {},
   "outputs": [
    {
     "name": "stdout",
     "output_type": "stream",
     "text": [
      "<mysql.connector.connection_cext.CMySQLConnection object at 0x000001C75956F230>\n"
     ]
    }
   ],
   "source": [
    "# ahora creamos la conexión con los argumentos:\n",
    "import mysql.connector\n",
    "from mysql.connector import Error\n",
    "cnx = mysql.connector.connect(user='root', password='AlumnaAdalab',\n",
    "                              host='127.0.0.1',\n",
    "                              database='tienda')\n",
    "\n",
    "print(cnx)\n",
    "cnx.close()"
   ]
  },
  {
   "cell_type": "markdown",
   "metadata": {},
   "source": [
    "En ocasiones podemos sufrir errores de conexión, por lo que es interesante añadir manejo de excepciones al código anterior. Usando *errorcode* podemos crear casos para cada tipo de error posible:"
   ]
  },
  {
   "cell_type": "code",
   "execution_count": 2,
   "metadata": {},
   "outputs": [],
   "source": [
    "# En este código estamos haciendo un try except. Si recordamos esto nos permitía hacer un manejo de los errores, para evitar que nuestro código se pare. Para eso lo que estamos haciendo es\n",
    "## intenta hacer la conexión son la base de datos de tienda \n",
    "try:\n",
    "  cnx = mysql.connector.connect(user='root', password='AlumnaAdalab',\n",
    "                              host='127.0.0.1',\n",
    "                              database='tienda')\n",
    "# en caso de que no lo consigas por que hay algún error entonces ...\n",
    "except mysql.connector.Error as err:\n",
    "\n",
    "  # si es un error con la contraseña devuelveme un mensaje de acceso denegado ya que tenemos problemas con la contraseña\n",
    "  if err.errno == errorcode.ER_ACCESS_DENIED_ERROR:\n",
    "    print(\"Something is wrong with your user name or password\")\n",
    "  \n",
    "  # si el error no tiene que ver con la contraseña, puede ser porque la base de datos no exista, devuelveme un mensaje de que la base de datos no existe\n",
    "  elif err.errno == errorcode.ER_BAD_DB_ERROR:\n",
    "    print(\"Database does not exist\")\n",
    "  \n",
    "  # si no es por ninguno de los errores anteriores, printeame cual es el error que estoy teniendo en mi conexión\n",
    "  else:\n",
    "    print(err)\n",
    "else:\n",
    "  cnx.close()"
   ]
  },
  {
   "cell_type": "markdown",
   "metadata": {},
   "source": [
    "## Desconexión de la base de datos usando MySQLConnector\n",
    "\n",
    "Una vez hayamos terminado de realizar las consultas o trabajar de cualquier modo con la base de datos a la que nos hemos conectado con el connector, tendremos que desconectarnos usando el método *close()*:"
   ]
  },
  {
   "cell_type": "code",
   "execution_count": 4,
   "metadata": {},
   "outputs": [],
   "source": [
    "# En este caso vamos a pasarle los atributos al conector usando un diccionario:\n",
    "\n",
    "config = {\n",
    "  'user': 'root',\n",
    "  'password': 'AlumnaAdalab',\n",
    "  'host': '127.0.0.1',\n",
    "  'database': 'tienda',\n",
    "  'raise_on_warnings': True\n",
    "}\n",
    "\n",
    "cnx = mysql.connector.connect(**config)\n",
    "\n",
    "cnx.close()"
   ]
  },
  {
   "cell_type": "markdown",
   "metadata": {},
   "source": [
    "En este fragmento de código, hemos establecido la conexión `cnx` con la base de datos \"tienda\". Con esta conexión, podemos llevar a cabo consultas sobre los datos almacenados en sus tablas (más adelante exploraremos cómo hacerlo). Cuando hayamos finalizado nuestras operaciones y deseemos desconectarnos, será necesario utilizar el método `close()` del objeto connector que hemos definido, en este caso llamado `cnx`. Es importante destacar que este método no requiere argumentos, lo que lo hace de uso sencillo."
   ]
  },
  {
   "cell_type": "markdown",
   "metadata": {},
   "source": [
    "# Realización de queries usando MySQLConnector:"
   ]
  },
  {
   "cell_type": "markdown",
   "metadata": {},
   "source": [
    "Una vez que creamos la conexión con mysql, vamos a usar el método *cursor()* y *execute()* para poder realizar las queries.\n",
    "\n",
    "El método cursor() se utiliza para crear un objeto de cursor, que es esencial para ejecutar consultas SQL en una conexión de base de datos. Una vez que tienes un objeto de cursor, puedes utilizar el método execute() para enviar una consulta SQL al servidor MySQL y ejecutarla."
   ]
  },
  {
   "cell_type": "code",
   "execution_count": 5,
   "metadata": {},
   "outputs": [],
   "source": [
    "# realizamos la conexión con la BBDD que queremos\n",
    "cnx = mysql.connector.connect(user='root', password='AlumnaAdalab',\n",
    "                              host='127.0.0.1',\n",
    "                              database='tienda')\n",
    "\n",
    "# iniciamos el cursor                               \n",
    "mycursor = cnx.cursor()\n",
    "\n",
    "# query de ejemplo:\n",
    "\n",
    "query = (\"\"\"SELECT city, state FROM customers \n",
    "         WHERE customer_number BETWEEN 121 AND 124\"\"\")\n",
    "\n",
    "# luego llamamos al método execute() del cursor, al que pasamos como argumento el string que contiene la consulta.\n",
    "## De esta manera se ejecuta la consulta en la base de datos y si todo va correctamente, el resultado se almacenará en el cursor.\n",
    "mycursor.execute(query)"
   ]
  },
  {
   "cell_type": "markdown",
   "metadata": {},
   "source": [
    "En el *execute()* podemos pasar cualquier tipo de query: crear tablas, alterar tablas, insertar datos,... vamos a verlo con unos ejemplos."
   ]
  },
  {
   "cell_type": "markdown",
   "metadata": {},
   "source": [
    "Vamos a aprovechar para introducir el manejo de excepciones a la hora de trabajar con MySQL Connector/Python."
   ]
  },
  {
   "cell_type": "markdown",
   "metadata": {},
   "source": [
    "- Crear Bases de Datos:"
   ]
  },
  {
   "cell_type": "code",
   "execution_count": 7,
   "metadata": {},
   "outputs": [
    {
     "name": "stdout",
     "output_type": "stream",
     "text": [
      "CMySQLCursor: CREATE DATABASE BD_pruebas\n"
     ]
    }
   ],
   "source": [
    "cnx = mysql.connector.connect(user='root', password='AlumnaAdalab',\n",
    "                              host='127.0.0.1')\n",
    "\n",
    "\n",
    "mycursor = cnx.cursor()\n",
    "try:\n",
    "    mycursor.execute(\"CREATE DATABASE BD_pruebas\")\n",
    "    print(mycursor)\n",
    "except mysql.connector.Error as err:\n",
    "    print(err)\n",
    "    print(\"Error Code:\", err.errno)\n",
    "    print(\"SQLSTATE\", err.sqlstate)\n",
    "    print(\"Message\", err.msg)"
   ]
  },
  {
   "cell_type": "markdown",
   "metadata": {},
   "source": [
    "**Ojo:** al realizar la conexión, no le hemos indicado ninguna bases de datos, ya que la estamos creando.\n",
    "\n",
    "En este ejemplo, estamos estableciendo la conexión y creando el *cursor*, después intentamos crear la base de datos \"BD_pruebas\". Si no se puede crear, nos dará un mensaje con el error que ha ocurrido.\n",
    "\n",
    "En este momento, notaras que en MySQL existe una nueva base de datos llamada BD_pruebas (puedes verla en MySQL junto a los demas SCHEMAS)\n",
    "\n",
    "Si ejecutamos dos veces esta celda, nos dará un aviso diendo que la base de datos ya existe."
   ]
  },
  {
   "cell_type": "markdown",
   "metadata": {},
   "source": [
    "- Creación de tablas:\n",
    "\n",
    "Ya tenemos una base de datos creada, pero seguramente sabes que no tiene nada, ni siquiera su unidad basica que son las tablas, asi que comenzaremos creando una llama \"customers\"."
   ]
  },
  {
   "cell_type": "code",
   "execution_count": 8,
   "metadata": {},
   "outputs": [
    {
     "name": "stdout",
     "output_type": "stream",
     "text": [
      "CMySQLCursor: CREATE TABLE customers (name VARCHAR(255..\n"
     ]
    }
   ],
   "source": [
    "cnx = mysql.connector.connect(user='root', password='AlumnaAdalab',\n",
    "                              host='127.0.0.1', database='BD_pruebas')\n",
    "\n",
    "\n",
    "mycursor = cnx.cursor()\n",
    "try:\n",
    "    mycursor.execute(\"CREATE TABLE customers (name VARCHAR(255), address VARCHAR(255))\")\n",
    "    print(mycursor)\n",
    "except mysql.connector.Error as err:\n",
    "    print(err)\n",
    "    print(\"Error Code:\", err.errno)\n",
    "    print(\"SQLSTATE\", err.sqlstate)\n",
    "    print(\"Message\", err.msg)"
   ]
  },
  {
   "cell_type": "markdown",
   "metadata": {},
   "source": [
    "Ahora sí hemos establecido la base de datos sobre la que estamos trabajando, por lo demás, este código es igual que el anterior, cambiando la query para crear una tabla en nuestra base de datos."
   ]
  },
  {
   "cell_type": "markdown",
   "metadata": {},
   "source": [
    "- Inserción de datos:"
   ]
  },
  {
   "cell_type": "markdown",
   "metadata": {},
   "source": [
    "Ahora que hemos completado la creación de una base de datos, hemos definido una tabla con sus columnas y restricciones correspondientes, estamos listas para comenzar a agregar registros a esta tabla."
   ]
  },
  {
   "cell_type": "code",
   "execution_count": 9,
   "metadata": {},
   "outputs": [
    {
     "name": "stdout",
     "output_type": "stream",
     "text": [
      "1 registro insertado.\n"
     ]
    }
   ],
   "source": [
    "cnx = mysql.connector.connect(user='root', password='AlumnaAdalab',\n",
    "                              host='127.0.0.1', database='BD_pruebas')\n",
    "\n",
    "\n",
    "mycursor = cnx.cursor()\n",
    "query = \"INSERT INTO customers (name, address) VALUES (%s, %s)\"\n",
    "val = (\"Ana\", \"Calle 21\")\n",
    "try: \n",
    "    mycursor.execute(query, val)\n",
    "    cnx.commit()\n",
    "    print(mycursor.rowcount, \"registro insertado.\")\n",
    "\n",
    "except mysql.connector.Error as err:\n",
    "    print(err)\n",
    "    print(\"Error Code:\", err.errno)\n",
    "    print(\"SQLSTATE\", err.sqlstate)\n",
    "    print(\"Message\", err.msg)"
   ]
  },
  {
   "cell_type": "markdown",
   "metadata": {},
   "source": [
    "Seguimos trabajando sobre BD_pruebas. Ahora hemos definido nuestra query para la inserción de datos en la que hemos incluido `%s` por cada uno de los valores que vamos a introducir. Después, definimos una variable en la que van los datos que queremos insertar en forma de tupla.\n",
    "\n",
    "Esta vez, en el *execute()* hemos pasado dos argumentos: el primero con la query y el segundo con los valores."
   ]
  },
  {
   "cell_type": "markdown",
   "metadata": {},
   "source": [
    "**Uso de commit:** A la hora de trabajar con sentencias INSERT es necesario el uso de *commit()* para que los cambios se efectuen en la base de datos. De no llamar a ese método, las inserciones no se llevarán a cabo."
   ]
  },
  {
   "cell_type": "markdown",
   "metadata": {},
   "source": [
    "- Inserción de múltiples registros:"
   ]
  },
  {
   "cell_type": "markdown",
   "metadata": {},
   "source": [
    "En el ejemplo anterior hemos introducido una única fila en nuestra base de datos. Si queremos insertar múltiples filas tenemos que usar *executemany()* y definir una variable con todos los datos que queremos insertar en forma de lista de tuplas."
   ]
  },
  {
   "cell_type": "code",
   "execution_count": 10,
   "metadata": {},
   "outputs": [
    {
     "name": "stdout",
     "output_type": "stream",
     "text": [
      "4 registro/s insertado/s.\n"
     ]
    }
   ],
   "source": [
    "cnx = mysql.connector.connect(user='root', password='AlumnaAdalab',\n",
    "                              host='127.0.0.1', database='BD_pruebas')\n",
    "\n",
    "\n",
    "mycursor = cnx.cursor()\n",
    "sql = \"INSERT INTO customers (name, address) VALUES (%s, %s)\"\n",
    "val = [\n",
    "  ('Ana', 'Lowstreet 4'),\n",
    "  ('Rocio', 'Apple st 652'),\n",
    "  ('Juana', 'Mountain 21'),\n",
    "  ('Pedro', 'Valley 345')\n",
    "]\n",
    "\n",
    "try: \n",
    "    mycursor.executemany(sql, val)\n",
    "    cnx.commit()\n",
    "    print(mycursor.rowcount, \"registro/s insertado/s.\")\n",
    "\n",
    "except mysql.connector.Error as err:\n",
    "    print(err)\n",
    "    print(\"Error Code:\", err.errno)\n",
    "    print(\"SQLSTATE\", err.sqlstate)\n",
    "    print(\"Message\", err.msg)"
   ]
  },
  {
   "cell_type": "markdown",
   "metadata": {},
   "source": [
    "- Eliminar registros de una tabla:"
   ]
  },
  {
   "cell_type": "markdown",
   "metadata": {},
   "source": [
    "**Uso de rollback:** Si después de haber realizado una transacción con *execute()* nos diésemos cuenta de que los datos que hemos introducido son incorrectos en alguna manera, si aún no hemos ejecutado *commit()* podríamos dar marcha atrás y desestimar los cambios usando *rollback()*:"
   ]
  },
  {
   "cell_type": "code",
   "execution_count": 11,
   "metadata": {},
   "outputs": [
    {
     "name": "stdout",
     "output_type": "stream",
     "text": [
      "1 registro no insertado.\n",
      "[('Ana', 'Calle 21'), ('Ana', 'Lowstreet 4'), ('Rocio', 'Apple st 652'), ('Juana', 'Mountain 21'), ('Pedro', 'Valley 345')]\n"
     ]
    }
   ],
   "source": [
    "cnx = mysql.connector.connect(user='root', password='AlumnaAdalab',\n",
    "                              host='127.0.0.1', database='BD_pruebas')\n",
    "\n",
    "\n",
    "mycursor = cnx.cursor()\n",
    "sql = \"INSERT INTO customers (name, address) VALUES (%s, %s)\"\n",
    "val = (\"Lucia\", \"Plaza 22\")\n",
    "try:\n",
    "    mycursor.execute(sql, val)\n",
    "    cnx.rollback()\n",
    "    print(mycursor.rowcount, \"registro no insertado.\")\n",
    "\n",
    "except mysql.connector.Error as err:\n",
    "    print(err)\n",
    "    print(\"Error Code:\", err.errno)\n",
    "    print(\"SQLSTATE\", err.sqlstate)\n",
    "    print(\"Message\", err.msg)\n",
    "\n",
    "mycursor.execute(\"SELECT * FROM customers\")  \n",
    "results = mycursor.fetchall()\n",
    "print(results)"
   ]
  },
  {
   "cell_type": "markdown",
   "metadata": {},
   "source": [
    "Si ya hemos ejecutado *commit()* y queremos eliminar un registro de una tabla existente, usaremos *execute()* con la sentencia \"DELETE FROM\" de la siguiente manera:"
   ]
  },
  {
   "cell_type": "code",
   "execution_count": 12,
   "metadata": {},
   "outputs": [
    {
     "name": "stdout",
     "output_type": "stream",
     "text": [
      "1 registro/s eliminado/s\n"
     ]
    }
   ],
   "source": [
    "cnx = mysql.connector.connect(user='root', password='AlumnaAdalab',\n",
    "                              host='127.0.0.1', database='BD_pruebas')\n",
    "\n",
    "\n",
    "mycursor = cnx.cursor()\n",
    "sql = \"DELETE FROM customers WHERE address = 'Calle 21'\"\n",
    "try:\n",
    "    mycursor.execute(sql)\n",
    "    cnx.commit()\n",
    "    print(mycursor.rowcount, \"registro/s eliminado/s\")\n",
    "\n",
    "except mysql.connector.Error as err:\n",
    "    print(err)\n",
    "    print(\"Error Code:\", err.errno)\n",
    "    print(\"SQLSTATE\", err.sqlstate)\n",
    "    print(\"Message\", err.msg)"
   ]
  },
  {
   "cell_type": "markdown",
   "metadata": {},
   "source": [
    "- Actualizar una tabla:"
   ]
  },
  {
   "cell_type": "markdown",
   "metadata": {},
   "source": [
    "También podemos actualizar registros de la misma forma que lo haríamos en SQL con la sentencia \"UPDATE\":"
   ]
  },
  {
   "cell_type": "code",
   "execution_count": 13,
   "metadata": {},
   "outputs": [
    {
     "name": "stdout",
     "output_type": "stream",
     "text": [
      "1 registro/s modificado/s.\n"
     ]
    }
   ],
   "source": [
    "cnx = mysql.connector.connect(user='root', password='AlumnaAdalab',\n",
    "                              host='127.0.0.1', database='BD_pruebas')\n",
    "\n",
    "\n",
    "mycursor = cnx.cursor()\n",
    "sql = \"UPDATE customers SET address = 'Canyon 123' WHERE address = 'Valley 345'\"\n",
    "try:\n",
    "    mycursor.execute(sql)\n",
    "    cnx.commit()\n",
    "    print(mycursor.rowcount, \"registro/s modificado/s.\")\n",
    "\n",
    "except mysql.connector.Error as err:\n",
    "    print(err)\n",
    "    print(\"Error Code:\", err.errno)\n",
    "    print(\"SQLSTATE\", err.sqlstate)\n",
    "    print(\"Message\", err.msg)"
   ]
  },
  {
   "cell_type": "markdown",
   "metadata": {},
   "source": [
    "**NOTA:** siempre que hagamos cualquier modificación sobre los registros tenemos que usar *commit()* para que esos cambios se hagan efectivos."
   ]
  },
  {
   "cell_type": "markdown",
   "metadata": {},
   "source": [
    "Hemos llegado al final de esta lección sobre cómo conectar **MySQL** con **Python**. 🚀 Hoy hemos cubierto un tema clave como es la conexión a bases de datos desde Python\n",
    "\n",
    "Con esta base sólida, ya tienes las herramientas necesarias para empezar a trabajar con bases de datos de manera más dinámica y eficiente, integrando Python en el proceso. 💻⚙️\n",
    "\n",
    "Recuerda que la práctica es clave 🔑. Te animo a seguir experimentando con diferentes consultas, datasets y conexiones. ¡Cuanto más practiques, más dominarás esta poderosa combinación!\n",
    "\n",
    "¡Hasta pronto y sigue con ese gran espíritu de aprendizaje! 💪\n"
   ]
  }
 ],
 "metadata": {
  "kernelspec": {
   "display_name": "Python 3",
   "language": "python",
   "name": "python3"
  },
  "language_info": {
   "codemirror_mode": {
    "name": "ipython",
    "version": 3
   },
   "file_extension": ".py",
   "mimetype": "text/x-python",
   "name": "python",
   "nbconvert_exporter": "python",
   "pygments_lexer": "ipython3",
   "version": "3.13.0"
  },
  "toc": {
   "base_numbering": 1,
   "nav_menu": {},
   "number_sections": true,
   "sideBar": true,
   "skip_h1_title": false,
   "title_cell": "Table of Contents",
   "title_sidebar": "Contents",
   "toc_cell": false,
   "toc_position": {
    "height": "calc(100% - 180px)",
    "left": "10px",
    "top": "150px",
    "width": "384px"
   },
   "toc_section_display": true,
   "toc_window_display": true
  }
 },
 "nbformat": 4,
 "nbformat_minor": 2
}

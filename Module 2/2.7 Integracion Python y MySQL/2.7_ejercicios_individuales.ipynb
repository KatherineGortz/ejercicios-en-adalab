{
 "cells": [
  {
   "cell_type": "code",
   "execution_count": 1,
   "metadata": {},
   "outputs": [],
   "source": [
    "#1. Import the necesarry elements to establish connection\n",
    "\n",
    "import mysql.connector\n",
    "from mysql.connector import Error"
   ]
  },
  {
   "cell_type": "code",
   "execution_count": 2,
   "metadata": {},
   "outputs": [],
   "source": [
    "#1. establish connection with try/except\n",
    "\n",
    "try:\n",
    "  cnx = mysql.connector.connect(user='root', password='AlumnaAdalab',\n",
    "                              host='127.0.0.1')\n",
    "\n",
    "except mysql.connector.Error as err:\n",
    "\n",
    "\n",
    "  if err.errno == errorcode.ER_ACCESS_DENIED_ERROR:\n",
    "    print(\"Something is wrong with your user name or password\")\n",
    "  \n",
    "  # si el error no tiene que ver con la contraseña, puede ser porque la base de datos no exista, devuelveme un mensaje de que la base de datos no existe\n",
    "  elif err.errno == errorcode.ER_BAD_DB_ERROR:\n",
    "    print(\"Database does not exist\")\n",
    "  \n",
    "  # si no es por ninguno de los errores anteriores, printeame cual es el error que estoy teniendo en mi conexión\n",
    "  else:\n",
    "    print(err)"
   ]
  },
  {
   "cell_type": "code",
   "execution_count": 5,
   "metadata": {},
   "outputs": [
    {
     "name": "stdout",
     "output_type": "stream",
     "text": [
      "Connection to MySQL is successful!\n"
     ]
    }
   ],
   "source": [
    "#1. Confirm that connection was established correctly.\n",
    "\n",
    "if cnx.is_connected():\n",
    "    print(\"Connection to MySQL is successful!\")\n",
    "else:\n",
    "    print(\"Connection failed.\")"
   ]
  },
  {
   "cell_type": "code",
   "execution_count": 8,
   "metadata": {},
   "outputs": [
    {
     "name": "stdout",
     "output_type": "stream",
     "text": [
      "('bbdd_alumnas',)\n",
      "('biblioteca_adalab',)\n",
      "('information_schema',)\n",
      "('leccion-1-sql',)\n",
      "('leccion-10-sql',)\n",
      "('leccion-11-sql',)\n",
      "('leccion-12-sql',)\n",
      "('leccion-13-sql',)\n",
      "('leccion-14-sql',)\n",
      "('leccion-2-sql',)\n",
      "('leccion-3-sql',)\n",
      "('leccion-4-sql',)\n",
      "('leccion-5-sql',)\n",
      "('leccion-6-sql',)\n",
      "('leccion-7-sql',)\n",
      "('leccion-8-sql',)\n",
      "('leccion-9-sql',)\n",
      "('mi_ejercicio',)\n",
      "('mydb',)\n",
      "('mysql',)\n",
      "('northwind',)\n",
      "('performance_schema',)\n",
      "('sakila',)\n",
      "('sys',)\n",
      "('tienda',)\n",
      "('tienda_nueva',)\n",
      "('tienda_zapatillas',)\n",
      "('world',)\n"
     ]
    }
   ],
   "source": [
    "mycursor.execute(\"SHOW DATABASES\")\n",
    "for db in mycursor:\n",
    "    print(db)"
   ]
  },
  {
   "cell_type": "code",
   "execution_count": 11,
   "metadata": {},
   "outputs": [
    {
     "name": "stdout",
     "output_type": "stream",
     "text": [
      "CMySQLCursor: CREATE DATABASE alumnas_promo_X\n"
     ]
    }
   ],
   "source": [
    "#2. Create a new database\n",
    "\n",
    "mycursor = cnx.cursor()\n",
    "mycursor.execute(\"CREATE DATABASE alumnas_promo_X\")\n",
    "print(mycursor)"
   ]
  },
  {
   "cell_type": "code",
   "execution_count": 18,
   "metadata": {},
   "outputs": [
    {
     "name": "stdout",
     "output_type": "stream",
     "text": [
      "CMySQLCursor: \n",
      "    CREATE TABLE alumnas (\n",
      "    id_alumn..\n"
     ]
    }
   ],
   "source": [
    "#create a new table in that database \n",
    "\n",
    "mycursor = cnx.cursor()\n",
    "\n",
    "mycursor.execute(\"USE alumnas_promo_X\")\n",
    "\n",
    "\n",
    "mycursor.execute(\"\"\"\n",
    "    CREATE TABLE alumnas (\n",
    "    id_alumna INT AUTO_INCREMENT PRIMARY KEY,\n",
    "    name VARCHAR(255) NOT NULL,\n",
    "    apellido VARCHAR(255) NOT NULL,\n",
    "    ciudad VARCHAR(100) DEFAULT NULL,\n",
    "    telefono VARCHAR(15) DEFAULT NULL)\n",
    "    \"\"\")\n",
    "\n",
    "print(mycursor)"
   ]
  },
  {
   "cell_type": "code",
   "execution_count": 21,
   "metadata": {},
   "outputs": [],
   "source": [
    "#Insert 10 registros into the table alumnas\n",
    "\n",
    "mycursor = cnx.cursor()\n",
    "query = \"INSERT INTO alumnas (id_alumna, name, apellido, ciudad, telefono) VALUES (%s, %s, %s, %s, %s)\"\n",
    "val = (1, \"Ana\", \"Apple\", \"Madrid\", \"123456789\")\n",
    "mycursor.execute(query, val)\n",
    "cnx.commit()"
   ]
  },
  {
   "cell_type": "code",
   "execution_count": 24,
   "metadata": {},
   "outputs": [],
   "source": [
    "query = \"INSERT INTO alumnas (name, apellido, ciudad, telefono) VALUES (%s, %s, %s, %s)\"\n",
    "val = (\"Sara\", \"Lopez\", \"Paris\", \"203762205\")\n",
    "mycursor.execute(query, val)\n",
    "cnx.commit()"
   ]
  },
  {
   "cell_type": "code",
   "execution_count": null,
   "metadata": {},
   "outputs": [],
   "source": [
    "query = \"INSERT INTO alumnas (name, apellido, ciudad, telefono) VALUES (%s, %s, %s, %s)\"\n",
    "val = [\n",
    "(\"Elena\", \"Jones\", \"Paris\", \"20376789\"),\n",
    "(\"Joy\", \"Garcia\", \"Paris\", \"20376657\"),\n",
    "(\"Madison\", \"Rodriguez\", \"Paris\", \"567893203\"),\n",
    "(\"Libby\", \"Harris\", \"Paris\", \"675204729\"),\n",
    "(\"Cindy\", \"Taylor\", \"Paris\", \"879376240\"),\n",
    "(\"Erica\", \"Swift\", \"Paris\", \"656483202\"),\n",
    "(\"Emily\", \"Rogers\", \"Paris\", \"789043254\"),\n",
    "(\"Lenssa\", \"Trump\", \"Paris\", \"6783208432\")\n",
    "]\n",
    "mycursor.executemany(query, val)\n",
    "cnx.commit()"
   ]
  },
  {
   "cell_type": "code",
   "execution_count": 27,
   "metadata": {},
   "outputs": [
    {
     "name": "stdout",
     "output_type": "stream",
     "text": [
      "[(1, 'Ana', 'Apple', 'Madrid', '123456789'), (2, 'Sara', 'Lopez', 'Paris', '203762205'), (3, 'Elena', 'Jones', 'Paris', '20376789'), (4, 'Joy', 'Garcia', 'Paris', '20376657'), (5, 'Madison', 'Rodriguez', 'Paris', '567893203'), (6, 'Libby', 'Harris', 'Paris', '675204729'), (7, 'Cindy', 'Taylor', 'Paris', '879376240'), (8, 'Erica', 'Swift', 'Paris', '656483202'), (9, 'Emily', 'Rogers', 'Paris', '789043254'), (10, 'Lenssa', 'Trump', 'Paris', '6783208432')]\n"
     ]
    }
   ],
   "source": [
    "#5 show all results\n",
    "\n",
    "mycursor = cnx.cursor()\n",
    "mycursor.execute(\"SELECT * FROM alumnas\")\n",
    "myresult = mycursor.fetchall()\n",
    "print(myresult)"
   ]
  },
  {
   "cell_type": "code",
   "execution_count": 29,
   "metadata": {},
   "outputs": [
    {
     "name": "stdout",
     "output_type": "stream",
     "text": [
      "(1, 'Ana', 'Apple', 'Madrid', '123456789')\n",
      "(2, 'Sara', 'Lopez', 'Paris', '203762205')\n",
      "(3, 'Elena', 'Jones', 'Paris', '20376789')\n",
      "(4, 'Joy', 'Garcia', 'Paris', '20376657')\n",
      "(5, 'Madison', 'Rodriguez', 'Paris', '567893203')\n",
      "(6, 'Libby', 'Harris', 'Paris', '675204729')\n",
      "(7, 'Cindy', 'Taylor', 'Paris', '879376240')\n",
      "(8, 'Erica', 'Swift', 'Paris', '656483202')\n",
      "(9, 'Emily', 'Rogers', 'Paris', '789043254')\n",
      "(10, 'Lenssa', 'Trump', 'Paris', '6783208432')\n"
     ]
    }
   ],
   "source": [
    "mycursor = cnx.cursor()\n",
    "mycursor.execute(\"SELECT * FROM alumnas\")\n",
    "myresult = mycursor.fetchall()\n",
    "\n",
    "for x in myresult:\n",
    "  print(x)"
   ]
  },
  {
   "cell_type": "code",
   "execution_count": 30,
   "metadata": {},
   "outputs": [],
   "source": [
    "import pandas as pd"
   ]
  },
  {
   "cell_type": "code",
   "execution_count": 33,
   "metadata": {},
   "outputs": [],
   "source": [
    "#show all results as a DataFrame, don't forget column names\n",
    "\n",
    "df = pd.DataFrame(myresult, columns = [\"id_alumna\", \"name\", \"apellido\", \"ciudad\", \"telefono\"])"
   ]
  },
  {
   "cell_type": "code",
   "execution_count": 34,
   "metadata": {},
   "outputs": [
    {
     "data": {
      "text/html": [
       "<div>\n",
       "<style scoped>\n",
       "    .dataframe tbody tr th:only-of-type {\n",
       "        vertical-align: middle;\n",
       "    }\n",
       "\n",
       "    .dataframe tbody tr th {\n",
       "        vertical-align: top;\n",
       "    }\n",
       "\n",
       "    .dataframe thead th {\n",
       "        text-align: right;\n",
       "    }\n",
       "</style>\n",
       "<table border=\"1\" class=\"dataframe\">\n",
       "  <thead>\n",
       "    <tr style=\"text-align: right;\">\n",
       "      <th></th>\n",
       "      <th>id_alumna</th>\n",
       "      <th>name</th>\n",
       "      <th>apellido</th>\n",
       "      <th>ciudad</th>\n",
       "      <th>telefono</th>\n",
       "    </tr>\n",
       "  </thead>\n",
       "  <tbody>\n",
       "    <tr>\n",
       "      <th>0</th>\n",
       "      <td>1</td>\n",
       "      <td>Ana</td>\n",
       "      <td>Apple</td>\n",
       "      <td>Madrid</td>\n",
       "      <td>123456789</td>\n",
       "    </tr>\n",
       "    <tr>\n",
       "      <th>1</th>\n",
       "      <td>2</td>\n",
       "      <td>Sara</td>\n",
       "      <td>Lopez</td>\n",
       "      <td>Paris</td>\n",
       "      <td>203762205</td>\n",
       "    </tr>\n",
       "    <tr>\n",
       "      <th>2</th>\n",
       "      <td>3</td>\n",
       "      <td>Elena</td>\n",
       "      <td>Jones</td>\n",
       "      <td>Paris</td>\n",
       "      <td>20376789</td>\n",
       "    </tr>\n",
       "    <tr>\n",
       "      <th>3</th>\n",
       "      <td>4</td>\n",
       "      <td>Joy</td>\n",
       "      <td>Garcia</td>\n",
       "      <td>Paris</td>\n",
       "      <td>20376657</td>\n",
       "    </tr>\n",
       "    <tr>\n",
       "      <th>4</th>\n",
       "      <td>5</td>\n",
       "      <td>Madison</td>\n",
       "      <td>Rodriguez</td>\n",
       "      <td>Paris</td>\n",
       "      <td>567893203</td>\n",
       "    </tr>\n",
       "    <tr>\n",
       "      <th>5</th>\n",
       "      <td>6</td>\n",
       "      <td>Libby</td>\n",
       "      <td>Harris</td>\n",
       "      <td>Paris</td>\n",
       "      <td>675204729</td>\n",
       "    </tr>\n",
       "    <tr>\n",
       "      <th>6</th>\n",
       "      <td>7</td>\n",
       "      <td>Cindy</td>\n",
       "      <td>Taylor</td>\n",
       "      <td>Paris</td>\n",
       "      <td>879376240</td>\n",
       "    </tr>\n",
       "    <tr>\n",
       "      <th>7</th>\n",
       "      <td>8</td>\n",
       "      <td>Erica</td>\n",
       "      <td>Swift</td>\n",
       "      <td>Paris</td>\n",
       "      <td>656483202</td>\n",
       "    </tr>\n",
       "    <tr>\n",
       "      <th>8</th>\n",
       "      <td>9</td>\n",
       "      <td>Emily</td>\n",
       "      <td>Rogers</td>\n",
       "      <td>Paris</td>\n",
       "      <td>789043254</td>\n",
       "    </tr>\n",
       "    <tr>\n",
       "      <th>9</th>\n",
       "      <td>10</td>\n",
       "      <td>Lenssa</td>\n",
       "      <td>Trump</td>\n",
       "      <td>Paris</td>\n",
       "      <td>6783208432</td>\n",
       "    </tr>\n",
       "  </tbody>\n",
       "</table>\n",
       "</div>"
      ],
      "text/plain": [
       "   id_alumna     name   apellido  ciudad    telefono\n",
       "0          1      Ana      Apple  Madrid   123456789\n",
       "1          2     Sara      Lopez   Paris   203762205\n",
       "2          3    Elena      Jones   Paris    20376789\n",
       "3          4      Joy     Garcia   Paris    20376657\n",
       "4          5  Madison  Rodriguez   Paris   567893203\n",
       "5          6    Libby     Harris   Paris   675204729\n",
       "6          7    Cindy     Taylor   Paris   879376240\n",
       "7          8    Erica      Swift   Paris   656483202\n",
       "8          9    Emily     Rogers   Paris   789043254\n",
       "9         10   Lenssa      Trump   Paris  6783208432"
      ]
     },
     "execution_count": 34,
     "metadata": {},
     "output_type": "execute_result"
    }
   ],
   "source": [
    "df"
   ]
  },
  {
   "cell_type": "code",
   "execution_count": 35,
   "metadata": {},
   "outputs": [
    {
     "data": {
      "text/html": [
       "<div>\n",
       "<style scoped>\n",
       "    .dataframe tbody tr th:only-of-type {\n",
       "        vertical-align: middle;\n",
       "    }\n",
       "\n",
       "    .dataframe tbody tr th {\n",
       "        vertical-align: top;\n",
       "    }\n",
       "\n",
       "    .dataframe thead th {\n",
       "        text-align: right;\n",
       "    }\n",
       "</style>\n",
       "<table border=\"1\" class=\"dataframe\">\n",
       "  <thead>\n",
       "    <tr style=\"text-align: right;\">\n",
       "      <th></th>\n",
       "      <th>id_alumna</th>\n",
       "      <th>name</th>\n",
       "      <th>apellido</th>\n",
       "      <th>ciudad</th>\n",
       "      <th>telefono</th>\n",
       "    </tr>\n",
       "  </thead>\n",
       "  <tbody>\n",
       "    <tr>\n",
       "      <th>0</th>\n",
       "      <td>1</td>\n",
       "      <td>Ana</td>\n",
       "      <td>Apple</td>\n",
       "      <td>Madrid</td>\n",
       "      <td>123456789</td>\n",
       "    </tr>\n",
       "    <tr>\n",
       "      <th>1</th>\n",
       "      <td>2</td>\n",
       "      <td>Sara</td>\n",
       "      <td>Lopez</td>\n",
       "      <td>Paris</td>\n",
       "      <td>203762205</td>\n",
       "    </tr>\n",
       "    <tr>\n",
       "      <th>2</th>\n",
       "      <td>3</td>\n",
       "      <td>Elena</td>\n",
       "      <td>Jones</td>\n",
       "      <td>Paris</td>\n",
       "      <td>20376789</td>\n",
       "    </tr>\n",
       "  </tbody>\n",
       "</table>\n",
       "</div>"
      ],
      "text/plain": [
       "   id_alumna   name apellido  ciudad   telefono\n",
       "0          1    Ana    Apple  Madrid  123456789\n",
       "1          2   Sara    Lopez   Paris  203762205\n",
       "2          3  Elena    Jones   Paris   20376789"
      ]
     },
     "execution_count": 35,
     "metadata": {},
     "output_type": "execute_result"
    }
   ],
   "source": [
    "#Muestra los primeros y últimos 3 en un DataFrame\n",
    "\n",
    "df.head(3)"
   ]
  },
  {
   "cell_type": "code",
   "execution_count": 36,
   "metadata": {},
   "outputs": [
    {
     "data": {
      "text/html": [
       "<div>\n",
       "<style scoped>\n",
       "    .dataframe tbody tr th:only-of-type {\n",
       "        vertical-align: middle;\n",
       "    }\n",
       "\n",
       "    .dataframe tbody tr th {\n",
       "        vertical-align: top;\n",
       "    }\n",
       "\n",
       "    .dataframe thead th {\n",
       "        text-align: right;\n",
       "    }\n",
       "</style>\n",
       "<table border=\"1\" class=\"dataframe\">\n",
       "  <thead>\n",
       "    <tr style=\"text-align: right;\">\n",
       "      <th></th>\n",
       "      <th>id_alumna</th>\n",
       "      <th>name</th>\n",
       "      <th>apellido</th>\n",
       "      <th>ciudad</th>\n",
       "      <th>telefono</th>\n",
       "    </tr>\n",
       "  </thead>\n",
       "  <tbody>\n",
       "    <tr>\n",
       "      <th>7</th>\n",
       "      <td>8</td>\n",
       "      <td>Erica</td>\n",
       "      <td>Swift</td>\n",
       "      <td>Paris</td>\n",
       "      <td>656483202</td>\n",
       "    </tr>\n",
       "    <tr>\n",
       "      <th>8</th>\n",
       "      <td>9</td>\n",
       "      <td>Emily</td>\n",
       "      <td>Rogers</td>\n",
       "      <td>Paris</td>\n",
       "      <td>789043254</td>\n",
       "    </tr>\n",
       "    <tr>\n",
       "      <th>9</th>\n",
       "      <td>10</td>\n",
       "      <td>Lenssa</td>\n",
       "      <td>Trump</td>\n",
       "      <td>Paris</td>\n",
       "      <td>6783208432</td>\n",
       "    </tr>\n",
       "  </tbody>\n",
       "</table>\n",
       "</div>"
      ],
      "text/plain": [
       "   id_alumna    name apellido ciudad    telefono\n",
       "7          8   Erica    Swift  Paris   656483202\n",
       "8          9   Emily   Rogers  Paris   789043254\n",
       "9         10  Lenssa    Trump  Paris  6783208432"
      ]
     },
     "execution_count": 36,
     "metadata": {},
     "output_type": "execute_result"
    }
   ],
   "source": [
    "df.tail(3)"
   ]
  },
  {
   "cell_type": "code",
   "execution_count": 38,
   "metadata": {},
   "outputs": [
    {
     "name": "stdout",
     "output_type": "stream",
     "text": [
      "   id_alumna    name apellido  ciudad    telefono\n",
      "0          1     Ana    Apple  Madrid   123456789\n",
      "1          2    Sara    Lopez   Paris   203762205\n",
      "2          3   Elena    Jones   Paris    20376789\n",
      "7          8   Erica    Swift   Paris   656483202\n",
      "8          9   Emily   Rogers   Paris   789043254\n",
      "9         10  Lenssa    Trump   Paris  6783208432\n"
     ]
    }
   ],
   "source": [
    "head = df.head(3)\n",
    "tail = df.tail(3)\n",
    "\n",
    "result = pd.concat([head, tail])\n",
    "\n",
    "print(result)"
   ]
  }
 ],
 "metadata": {
  "kernelspec": {
   "display_name": "Python 3",
   "language": "python",
   "name": "python3"
  },
  "language_info": {
   "codemirror_mode": {
    "name": "ipython",
    "version": 3
   },
   "file_extension": ".py",
   "mimetype": "text/x-python",
   "name": "python",
   "nbconvert_exporter": "python",
   "pygments_lexer": "ipython3",
   "version": "3.13.0"
  }
 },
 "nbformat": 4,
 "nbformat_minor": 2
}

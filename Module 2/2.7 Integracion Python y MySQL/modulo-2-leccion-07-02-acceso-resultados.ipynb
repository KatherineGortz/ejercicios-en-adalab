{
 "cells": [
  {
   "cell_type": "markdown",
   "metadata": {},
   "source": [
    "# Modos de acceso a los resultados de la consulta 📋\n",
    "\n",
    "**🚨NOTA IMPORTANTE: 🚨**\n",
    "\n",
    "Al comenzar esta lección e ir ejecutando las diferentes celdas de Python, te recomendamos que tengas abierto tambien MySQL para ir viendo paso a paso como se van ejecutando las ordenes desde este notebook en MySQL.😊\n",
    "\n",
    "Una vez que hemos logrado ejecutar nuestras consultas a la base de datos, es momento de aprender cómo acceder a los resultados de manera eficiente. En esta lección, exploraremos cómo utilizar el método `cursor()` para obtener y manipular los datos de nuestras consultas en MySQL desde Python. Veremos diferentes formas de acceder a estos resultados, ya sea obteniendo una fila a la vez o todas las filas juntas.\n",
    "\n",
    "¡Vamos a descubrir cómo manejar la información que extraemos para hacer análisis más profundos! 🚀"
   ]
  },
  {
   "cell_type": "markdown",
   "metadata": {},
   "source": [
    "No olvides que cada vez que queremos trabajar con librerias, en el caso que no se hayan cargado previamente debemos hacerlo, asi que como primer paso vamos a importar las librerias necesarias para poder trabajar con MySQL y Python."
   ]
  },
  {
   "cell_type": "code",
   "execution_count": 1,
   "metadata": {},
   "outputs": [],
   "source": [
    "# Importar librería para la conexión con MySQL\n",
    "# -----------------------------------------------------------------------\n",
    "import mysql.connector\n",
    "from mysql.connector import errorcode"
   ]
  },
  {
   "cell_type": "markdown",
   "metadata": {},
   "source": [
    "Ya con nuestras librerias correctas, vamos por la conexion a la base de datos, en este caso \"tienda\". Paso siguiente sera crear nuestro cursor que es como la llave para poder interactuar entre Python y MySQL. Por último haremos una consulta simple, queremos saber que tablas tiene la base de datos \"tienda\"."
   ]
  },
  {
   "cell_type": "markdown",
   "metadata": {},
   "source": [
    "El uso de *execute()* convierte el *cursor* en un iterable al que podemos acceder de varias maneras. Podemos recorrer sus elementos uno por uno como si fuera una lista utilizando un bucle for. "
   ]
  },
  {
   "cell_type": "code",
   "execution_count": 2,
   "metadata": {},
   "outputs": [
    {
     "name": "stdout",
     "output_type": "stream",
     "text": [
      "('customers',)\n",
      "('employees',)\n",
      "('offices',)\n",
      "('order_details',)\n",
      "('orders',)\n",
      "('payments',)\n",
      "('product_lines',)\n",
      "('products',)\n"
     ]
    }
   ],
   "source": [
    "# conectamos con el servidor\n",
    "cnx = mysql.connector.connect(\n",
    "              user='root', password='AlumnaAdalab',\n",
    "              host='127.0.0.1',\n",
    "              database='tienda'\n",
    ")\n",
    "\n",
    "# creamos el cursor\n",
    "mycursor = cnx.cursor()\n",
    "\n",
    "# ejecutamos la query para ver las tablas de la BBDD que hemos indicado en la conexión\n",
    "mycursor.execute(\"SHOW TABLES\")\n",
    "\n",
    "for x in mycursor:\n",
    "  print(x)"
   ]
  },
  {
   "cell_type": "markdown",
   "metadata": {},
   "source": [
    "En el ejemplo vemos como iterando por el *cursor* hemos accedido a todos los resultados de la query uno por uno y nos lo devuelve en forma de tupla.\n",
    "Sin embargo, MySQL Connector/Python también proporciona formas específicas de hacerlo de manera más eficiente y conveniente.\n",
    "\n",
    "## Método fetchone()\n",
    "\n",
    "Si deseamos acceder a la primera fila del resultado, podemos utilizar el método *fetchone()*. \n",
    "\n",
    "Este método recuperará la primera fila del resultado de la consulta y avanzará el cursor al siguiente registro. \n",
    "\n",
    "Como resultado, la próxima vez que utilicemos el método *fetchone()* en el mismo cursor, se mostrarán datos diferentes. Veámoslo con un ejemplo:"
   ]
  },
  {
   "cell_type": "code",
   "execution_count": 3,
   "metadata": {},
   "outputs": [
    {
     "name": "stdout",
     "output_type": "stream",
     "text": [
      "el resultado 1 es:  (1002, 'Murphy', 'Diane', 'x5800', 'dmurphy@classicmodelcars.com', '1', None, 'President')\n",
      "el resultado 2 es:  (1056, 'Patterson', 'Mary', 'x4611', 'mpatterso@classicmodelcars.com', '1', 1002, 'VP Sales')\n"
     ]
    }
   ],
   "source": [
    "# conectamos con el servidor\n",
    "cnx = mysql.connector.connect(\n",
    "  host=\"localhost\",\n",
    "  user=\"root\",\n",
    "  password=\"AlumnaAdalab\",\n",
    "  database=\"tienda\"\n",
    ")\n",
    "\n",
    "# iniciamos el cursor\n",
    "mycursor = cnx.cursor()\n",
    "\n",
    "# ejecutamos nuestra query\n",
    "mycursor.execute(\"SELECT * FROM employees\")\n",
    "\n",
    "# en este caso solo nos interesa el primer resultado de nuestra query, por lo que usaremos el método fetchone, para que python solo nos devuelva el primero y después printemos el resultado\n",
    "myresult = mycursor.fetchone()\n",
    "print(\"el resultado 1 es: \", myresult)\n",
    "\n",
    "# volvemos a ejecutar el método fetchone, como ya nos mostró el primer resultado, y no hemos cerrado la conexión, al volver a ejecutarlo, nos mostrará el segundo resultado. Pero si nos fijamos, lo hace de uno en uno. \n",
    "myresult = mycursor.fetchone()\n",
    "print(\"el resultado 2 es: \",myresult)"
   ]
  },
  {
   "cell_type": "markdown",
   "metadata": {},
   "source": [
    "**Ojo:** si no cerramos la conexión, cada vez que ejecutemos *fetchone()* pasará al siguiente registro y nos irá devolviendo los datos uno a uno."
   ]
  },
  {
   "cell_type": "markdown",
   "metadata": {},
   "source": [
    "## Método fetchall()\n",
    "\n",
    "En cambio, si deseamos seleccionar todos los resultados devueltos por una consulta SQL, podemos utilizar el método *fetchall()*:"
   ]
  },
  {
   "cell_type": "code",
   "execution_count": 4,
   "metadata": {},
   "outputs": [
    {
     "name": "stdout",
     "output_type": "stream",
     "text": [
      "[(1002, 'Murphy', 'Diane', 'x5800', 'dmurphy@classicmodelcars.com', '1', None, 'President'), (1056, 'Patterson', 'Mary', 'x4611', 'mpatterso@classicmodelcars.com', '1', 1002, 'VP Sales'), (1076, 'Firrelli', 'Jeff', 'x9273', 'jfirrelli@classicmodelcars.com', '1', 1002, 'VP Marketing'), (1088, 'Patterson', 'William', 'x4871', 'wpatterson@classicmodelcars.com', '6', 1056, 'Sales Manager (APAC)'), (1102, 'Bondur', 'Gerard', 'x5408', 'gbondur@classicmodelcars.com', '4', 1056, 'Sale Manager (EMEA)'), (1143, 'Bow', 'Anthony', 'x5428', 'abow@classicmodelcars.com', '1', 1056, 'Sales Manager (NA)'), (1165, 'Jennings', 'Leslie', 'x3291', 'ljennings@classicmodelcars.com', '1', 1143, 'Sales Rep'), (1166, 'Thompson', 'Leslie', 'x4065', 'lthompson@classicmodelcars.com', '1', 1143, 'Sales Rep'), (1188, 'Firrelli', 'Julie', 'x2173', 'jfirrelli@classicmodelcars.com', '2', 1143, 'Sales Rep'), (1216, 'Patterson', 'Steve', 'x4334', 'spatterson@classicmodelcars.com', '2', 1143, 'Sales Rep'), (1286, 'Tseng', 'Foon Yue', 'x2248', 'ftseng@classicmodelcars.com', '3', 1143, 'Sales Rep'), (1323, 'Vanauf', 'George', 'x4102', 'gvanauf@classicmodelcars.com', '3', 1143, 'Sales Rep'), (1337, 'Bondur', 'Loui', 'x6493', 'lbondur@classicmodelcars.com', '4', 1102, 'Sales Rep'), (1370, 'Hernandez', 'Gerard', 'x2028', 'ghernande@classicmodelcars.com', '4', 1102, 'Sales Rep'), (1401, 'Castillo', 'Pamela', 'x2759', 'pcastillo@classicmodelcars.com', '4', 1102, 'Sales Rep'), (1501, 'Bott', 'Larry', 'x2311', 'lbott@classicmodelcars.com', '7', 1102, 'Sales Rep'), (1504, 'Jones', 'Barry', 'x102', 'bjones@classicmodelcars.com', '7', 1102, 'Sales Rep'), (1611, 'Fixter', 'Andy', 'x101', 'afixter@classicmodelcars.com', '6', 1088, 'Sales Rep'), (1612, 'Marsh', 'Peter', 'x102', 'pmarsh@classicmodelcars.com', '6', 1088, 'Sales Rep'), (1619, 'King', 'Tom', 'x103', 'tking@classicmodelcars.com', '6', 1088, 'Sales Rep'), (1621, 'Nishi', 'Mami', 'x101', 'mnishi@classicmodelcars.com', '5', 1056, 'Sales Rep'), (1625, 'Kato', 'Yoshimi', 'x102', 'ykato@classicmodelcars.com', '5', 1621, 'Sales Rep'), (1702, 'Gerard', 'Martin', 'x2312', 'mgerard@classicmodelcars.com', '4', 1102, 'Sales Rep')]\n"
     ]
    }
   ],
   "source": [
    "# conectamos con el servidor\n",
    "cnx = mysql.connector.connect(\n",
    "  host=\"localhost\",\n",
    "  user=\"root\",\n",
    "  password=\"AlumnaAdalab\",\n",
    "  database=\"tienda\"\n",
    ")\n",
    "\n",
    "# iniciamos el cursor\n",
    "mycursor = cnx.cursor()\n",
    "\n",
    "# realizamos nuestra query\n",
    "mycursor.execute(\"SELECT * FROM employees\")\n",
    "\n",
    "# le decimos a Python que nos devuelva todos los resultados de la query usando el método fetchall\n",
    "myresult = mycursor.fetchall()\n",
    "print(myresult)"
   ]
  },
  {
   "cell_type": "markdown",
   "metadata": {},
   "source": [
    "Podemos ver que nos devuelve una lista de tuplas, en la que cada tupla es una fila de nuestra consulta."
   ]
  },
  {
   "cell_type": "markdown",
   "metadata": {},
   "source": [
    "Si quisieramos acceder a cada registro de los resultados, podemos hacerlo usando myresult como un iterable. Esto nos devolverá cada fila resultado como una tupla:"
   ]
  },
  {
   "cell_type": "code",
   "execution_count": 5,
   "metadata": {},
   "outputs": [
    {
     "name": "stdout",
     "output_type": "stream",
     "text": [
      "(1002, 'Murphy', 'Diane', 'x5800', 'dmurphy@classicmodelcars.com', '1', None, 'President')\n",
      "(1056, 'Patterson', 'Mary', 'x4611', 'mpatterso@classicmodelcars.com', '1', 1002, 'VP Sales')\n",
      "(1076, 'Firrelli', 'Jeff', 'x9273', 'jfirrelli@classicmodelcars.com', '1', 1002, 'VP Marketing')\n",
      "(1088, 'Patterson', 'William', 'x4871', 'wpatterson@classicmodelcars.com', '6', 1056, 'Sales Manager (APAC)')\n",
      "(1102, 'Bondur', 'Gerard', 'x5408', 'gbondur@classicmodelcars.com', '4', 1056, 'Sale Manager (EMEA)')\n",
      "(1143, 'Bow', 'Anthony', 'x5428', 'abow@classicmodelcars.com', '1', 1056, 'Sales Manager (NA)')\n",
      "(1165, 'Jennings', 'Leslie', 'x3291', 'ljennings@classicmodelcars.com', '1', 1143, 'Sales Rep')\n",
      "(1166, 'Thompson', 'Leslie', 'x4065', 'lthompson@classicmodelcars.com', '1', 1143, 'Sales Rep')\n",
      "(1188, 'Firrelli', 'Julie', 'x2173', 'jfirrelli@classicmodelcars.com', '2', 1143, 'Sales Rep')\n",
      "(1216, 'Patterson', 'Steve', 'x4334', 'spatterson@classicmodelcars.com', '2', 1143, 'Sales Rep')\n",
      "(1286, 'Tseng', 'Foon Yue', 'x2248', 'ftseng@classicmodelcars.com', '3', 1143, 'Sales Rep')\n",
      "(1323, 'Vanauf', 'George', 'x4102', 'gvanauf@classicmodelcars.com', '3', 1143, 'Sales Rep')\n",
      "(1337, 'Bondur', 'Loui', 'x6493', 'lbondur@classicmodelcars.com', '4', 1102, 'Sales Rep')\n",
      "(1370, 'Hernandez', 'Gerard', 'x2028', 'ghernande@classicmodelcars.com', '4', 1102, 'Sales Rep')\n",
      "(1401, 'Castillo', 'Pamela', 'x2759', 'pcastillo@classicmodelcars.com', '4', 1102, 'Sales Rep')\n",
      "(1501, 'Bott', 'Larry', 'x2311', 'lbott@classicmodelcars.com', '7', 1102, 'Sales Rep')\n",
      "(1504, 'Jones', 'Barry', 'x102', 'bjones@classicmodelcars.com', '7', 1102, 'Sales Rep')\n",
      "(1611, 'Fixter', 'Andy', 'x101', 'afixter@classicmodelcars.com', '6', 1088, 'Sales Rep')\n",
      "(1612, 'Marsh', 'Peter', 'x102', 'pmarsh@classicmodelcars.com', '6', 1088, 'Sales Rep')\n",
      "(1619, 'King', 'Tom', 'x103', 'tking@classicmodelcars.com', '6', 1088, 'Sales Rep')\n",
      "(1621, 'Nishi', 'Mami', 'x101', 'mnishi@classicmodelcars.com', '5', 1056, 'Sales Rep')\n",
      "(1625, 'Kato', 'Yoshimi', 'x102', 'ykato@classicmodelcars.com', '5', 1621, 'Sales Rep')\n",
      "(1702, 'Gerard', 'Martin', 'x2312', 'mgerard@classicmodelcars.com', '4', 1102, 'Sales Rep')\n"
     ]
    }
   ],
   "source": [
    "# conectamos con el servidor\n",
    "cnx = mysql.connector.connect(\n",
    "  host=\"localhost\",\n",
    "  user=\"root\",\n",
    "  password=\"AlumnaAdalab\",\n",
    "  database=\"tienda\"\n",
    ")\n",
    "\n",
    "# iniciamos el cursor\n",
    "mycursor = cnx.cursor()\n",
    "\n",
    "# realizamos la query\n",
    "mycursor.execute(\"SELECT * FROM employees\")\n",
    "\n",
    "# le pedimos que almacene todos los resultados\n",
    "myresult = mycursor.fetchall()\n",
    "\n",
    "# accedemos a cada fila de una en una usando un bucle for. Fijaos que nos devuelve tuplas!!!\n",
    "for x in myresult:\n",
    "  print(x)"
   ]
  },
  {
   "cell_type": "markdown",
   "metadata": {},
   "source": [
    "¡Felicidades por completar esta lección! 🎉 Ahora ya sabes cómo acceder a los resultados de tus consultas MySQL desde Python y manejarlos de manera efectiva. Hemos visto las diferentes formas en que puedes obtener los datos y cómo utilizarlos en tus proyectos, ¡un paso esencial en el camino hacia la creación de aplicaciones más robustas y útiles!\n",
    "\n",
    "Recuerda que el acceso a los datos es clave en cualquier análisis, y ahora tienes las herramientas para hacerlo de manera eficiente. Sigue practicando, ¡estás cada vez más cerca de convertirte en una experta en SQL y Python! 🚀\n",
    "\n",
    "¡Nos vemos en la próxima lección!\n"
   ]
  }
 ],
 "metadata": {
  "kernelspec": {
   "display_name": "Python 3",
   "language": "python",
   "name": "python3"
  },
  "language_info": {
   "codemirror_mode": {
    "name": "ipython",
    "version": 3
   },
   "file_extension": ".py",
   "mimetype": "text/x-python",
   "name": "python",
   "nbconvert_exporter": "python",
   "pygments_lexer": "ipython3",
   "version": "3.13.0"
  },
  "toc": {
   "base_numbering": 1,
   "nav_menu": {},
   "number_sections": true,
   "sideBar": true,
   "skip_h1_title": false,
   "title_cell": "Table of Contents",
   "title_sidebar": "Contents",
   "toc_cell": false,
   "toc_position": {
    "height": "calc(100% - 180px)",
    "left": "10px",
    "top": "150px",
    "width": "384px"
   },
   "toc_section_display": true,
   "toc_window_display": true
  }
 },
 "nbformat": 4,
 "nbformat_minor": 2
}

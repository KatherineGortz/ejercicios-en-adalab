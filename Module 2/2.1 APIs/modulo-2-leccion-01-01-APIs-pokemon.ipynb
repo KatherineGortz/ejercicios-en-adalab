{
 "cells": [
  {
   "cell_type": "markdown",
   "metadata": {},
   "source": [
    "# API POKEMON\n"
   ]
  },
  {
   "cell_type": "code",
   "execution_count": 5,
   "metadata": {},
   "outputs": [],
   "source": [
    "# para poder usar las API's necesitaremos usar la librería request, por lo que lo que tendremos que hacer en primer lugar es instalar la librería (según el caso que corresponda abajo)\n",
    "\n",
    "# CASO 1: Las que tenéis una versión de python igual o anterior a 3.10 o menos, usad los pips con la exclamación !               \n",
    "# Así (quitando la almohadilla de abajo):\n",
    "\n",
    "#!pip install requests\n",
    "\n",
    "\n",
    "# CASO 2: las que tenéis una versión de python igual o superior a 3.11, haced esos pip sin exclamación.\n",
    "# Así (quitando la almohadilla de abajo):\n",
    "\n",
    "#pip install requests"
   ]
  },
  {
   "cell_type": "code",
   "execution_count": 2,
   "metadata": {},
   "outputs": [
    {
     "name": "stdout",
     "output_type": "stream",
     "text": [
      "Requirement already satisfied: requests in c:\\users\\kathe\\appdata\\local\\programs\\python\\python313\\lib\\site-packages (2.32.3)\n",
      "Requirement already satisfied: charset-normalizer<4,>=2 in c:\\users\\kathe\\appdata\\local\\programs\\python\\python313\\lib\\site-packages (from requests) (3.4.1)\n",
      "Requirement already satisfied: idna<4,>=2.5 in c:\\users\\kathe\\appdata\\local\\programs\\python\\python313\\lib\\site-packages (from requests) (3.10)\n",
      "Requirement already satisfied: urllib3<3,>=1.21.1 in c:\\users\\kathe\\appdata\\local\\programs\\python\\python313\\lib\\site-packages (from requests) (2.3.0)\n",
      "Requirement already satisfied: certifi>=2017.4.17 in c:\\users\\kathe\\appdata\\local\\programs\\python\\python313\\lib\\site-packages (from requests) (2024.12.14)\n",
      "Note: you may need to restart the kernel to use updated packages.\n"
     ]
    }
   ],
   "source": [
    "pip install requests"
   ]
  },
  {
   "cell_type": "code",
   "execution_count": 3,
   "metadata": {},
   "outputs": [
    {
     "name": "stdout",
     "output_type": "stream",
     "text": [
      "Requirement already satisfied: pandas in c:\\users\\kathe\\appdata\\local\\programs\\python\\python313\\lib\\site-packages (2.2.3)\n",
      "Requirement already satisfied: numpy>=1.26.0 in c:\\users\\kathe\\appdata\\local\\programs\\python\\python313\\lib\\site-packages (from pandas) (2.2.1)\n",
      "Requirement already satisfied: python-dateutil>=2.8.2 in c:\\users\\kathe\\appdata\\roaming\\python\\python313\\site-packages (from pandas) (2.9.0.post0)\n",
      "Requirement already satisfied: pytz>=2020.1 in c:\\users\\kathe\\appdata\\local\\programs\\python\\python313\\lib\\site-packages (from pandas) (2024.2)\n",
      "Requirement already satisfied: tzdata>=2022.7 in c:\\users\\kathe\\appdata\\local\\programs\\python\\python313\\lib\\site-packages (from pandas) (2024.2)\n",
      "Requirement already satisfied: six>=1.5 in c:\\users\\kathe\\appdata\\roaming\\python\\python313\\site-packages (from python-dateutil>=2.8.2->pandas) (1.16.0)\n",
      "Note: you may need to restart the kernel to use updated packages.\n"
     ]
    }
   ],
   "source": [
    "pip install pandas"
   ]
  },
  {
   "cell_type": "code",
   "execution_count": 1,
   "metadata": {},
   "outputs": [],
   "source": [
    "# importamos las librerías que necesitamos\n",
    "\n",
    "# Tratamiento de datos\n",
    "# -----------------------------------------------------------------------\n",
    "import pandas as pd\n",
    "\n",
    "# Uso de API's\n",
    "# -----------------------------------------------------------------------\n",
    "import requests\n",
    "\n",
    "# Importar librerías para procesamiento de texto\n",
    "# -----------------------------------------------------------------------\n",
    "import re\n",
    "\n",
    "# Configuración\n",
    "# -----------------------------------------------------------------------\n",
    "pd.set_option('display.max_columns', None) # para poder visualizar todas las columnas de los DataFrames"
   ]
  },
  {
   "cell_type": "markdown",
   "metadata": {},
   "source": [
    "\n",
    "La API de Pokémon es una fuente de datos para las analistas de datos que desean explorar y analizar información relacionada con el mundo de Pokémon. Esta API ofrece acceso a una gran cantidad de datos estructurados y detallados sobre Pokémon y sus atributos, lo que permite a los analistas llevar a cabo diversas tareas de análisis de datos y generación de *insights*. Algunos de los endpoints más importantes de la API de Pokémon incluyen:\n",
    "\n",
    "1. **Color (color)**: Proporciona información sobre los pokemon que hay de un determinado color.\n",
    "\n",
    "   Endpoint: `/color/{nombre-o-id}`\n",
    "\n",
    "2. **Pokedex**: Permite obtener información detallada sobre Pokémon, como su nombre, número de Pokedex, tipos, estadísticas, habilidades, etc.\n",
    "\n",
    "   Endpoint: `/pokemon/{nombre-o-id}`\n",
    "\n",
    "- [Documentación de la API](https://pokeapi.co/docs/v2)\n",
    "\n",
    "- [Video para ver la parte de la lección](https://www.youtube.com/watch?v=Wwmyx5pOP1M&list=PLhQe2VhfFLJ2pWfdeaAuX0pfhzokrEpuV&index=5)"
   ]
  },
  {
   "cell_type": "markdown",
   "metadata": {},
   "source": [
    "## Color\n",
    "\n",
    "Este endpoint nos devuelve: \n",
    "\n",
    "1. `'id'`: Este es el ID numérico único del movimiento en la base de datos de la PokeAPI. Puede utilizarse para identificar de manera única un movimiento específico.\n",
    "\n",
    "2. `'name'`: Esta clave contiene el nombre del movimiento. Es el nombre del movimiento en inglés en minúsculas.\n",
    "\n",
    "3. `'names'`: Esta clave almacena una lista de nombres del movimiento en diferentes idiomas y puede contener traducciones del nombre del movimiento en varios idiomas. Cada entrada en la lista suele tener el nombre del idioma y el nombre traducido del movimiento.\n",
    "\n",
    "4. `'pokemon_species'`: Esta clave contiene información sobre las especies de Pokémon que pueden aprender el movimiento. Puede ser una lista de especies de Pokémon que tienen acceso a ese movimiento específico.\n"
   ]
  },
  {
   "cell_type": "code",
   "execution_count": 7,
   "metadata": {},
   "outputs": [],
   "source": [
    "def llamar_api(url):\n",
    "    \"\"\"\n",
    "    Realiza una llamada a una API utilizando la URL proporcionada.\n",
    "\n",
    "    Parameters:\n",
    "    -----------\n",
    "    url (str): La URL de la API que se va a llamar.\n",
    "\n",
    "    Returns:\n",
    "    --------\n",
    "    dict or None: Un diccionario con los datos de respuesta de la API si la llamada fue exitosa (código de estado 200).\n",
    "                  None si la llamada falló o no se pudo autenticar correctamente.\n",
    "    \"\"\"\n",
    "    llamada = requests.get(url)  # Realiza una solicitud GET a la URL proporcionada y almacena la respuesta en 'llamada'.\n",
    "\n",
    "    print(f\"La llamada a la API nos ha dado una respuesta de tipo: {llamada.status_code}\")  # Imprime el código de estado de la respuesta.\n",
    "\n",
    "    if llamada.status_code != 200:  # Comprueba si la respuesta no fue exitosa (código de estado distinto de 200).\n",
    "        print(f\"El motivo por el que la llamada falló es {llamada.reason}\")  # Imprime la razón de la falla.\n",
    "    else:\n",
    "        return llamada.json()  # Si la llamada fue exitosa, devuelve los datos de respuesta en formato JSON.\n"
   ]
  },
  {
   "cell_type": "code",
   "execution_count": 8,
   "metadata": {},
   "outputs": [
    {
     "name": "stdout",
     "output_type": "stream",
     "text": [
      "La llamada a la API nos ha dado una respuesta de tipo: 200\n"
     ]
    }
   ],
   "source": [
    "# definir la url o endpoint a la que ha haremos la llamada\n",
    "url_color = f\"https://pokeapi.co/api/v2/pokemon-color/black/\"\n",
    "resultados_color = llamar_api(url_color)"
   ]
  },
  {
   "cell_type": "code",
   "execution_count": 6,
   "metadata": {},
   "outputs": [
    {
     "data": {
      "text/plain": [
       "{'color': ['black'],\n",
       " 'especies': [['snorlax',\n",
       "   'murkrow',\n",
       "   'unown',\n",
       "   'sneasel',\n",
       "   'umbreon',\n",
       "   'houndour',\n",
       "   'houndoom',\n",
       "   'mawile',\n",
       "   'spoink',\n",
       "   'seviper',\n",
       "   'shuppet',\n",
       "   'duskull',\n",
       "   'claydol',\n",
       "   'banette',\n",
       "   'dusclops',\n",
       "   'chatot',\n",
       "   'munchlax',\n",
       "   'honchkrow',\n",
       "   'giratina',\n",
       "   'darkrai',\n",
       "   'blitzle',\n",
       "   'weavile',\n",
       "   'dusknoir',\n",
       "   'zebstrika',\n",
       "   'sigilyph',\n",
       "   'yamask',\n",
       "   'lampent',\n",
       "   'zekrom',\n",
       "   'scatterbug',\n",
       "   'spewpa',\n",
       "   'pikipek',\n",
       "   'salandit',\n",
       "   'trumbeak',\n",
       "   'toucannon',\n",
       "   'salazzle',\n",
       "   'pyukumuku',\n",
       "   'xurkitree',\n",
       "   'guzzlord',\n",
       "   'necrozma',\n",
       "   'rolycoly',\n",
       "   'carkol',\n",
       "   'coalossal',\n",
       "   'spectrier',\n",
       "   'overqwil',\n",
       "   'wattrel',\n",
       "   'toedscruel',\n",
       "   'kingambit',\n",
       "   'okidogi',\n",
       "   'munkidori',\n",
       "   'fezandipiti',\n",
       "   'chandelure']]}"
      ]
     },
     "execution_count": 6,
     "metadata": {},
     "output_type": "execute_result"
    }
   ],
   "source": [
    "def limpiar_color_pokemon(resultados_json, diccionario_resultados_color):\n",
    "    \"\"\"\n",
    "    Esta función toma resultados JSON de un color de Pokémon y los organiza en un diccionario de resultados de color.\n",
    "\n",
    "    Args:\n",
    "    - resultados_json (dict): Los resultados JSON que contienen información sobre el color y las especies asociadas.\n",
    "    - diccionario_resultados_color (dict): Un diccionario que almacena los resultados de color.\n",
    "\n",
    "    Returns:\n",
    "    - diccionario_resultados_color (dict): Un diccionario actualizado que contiene el nombre del color y las especies asociadas.\n",
    "    \"\"\"\n",
    "    \n",
    "    # Agregar el nombre del color de Pokémon a la lista correspondiente en el diccionario de resultados color.\n",
    "    diccionario_resultados_color[\"color\"].append(resultados_json[\"name\"])\n",
    "    \n",
    "    # Crear una lista llamada 'lista_especies' para almacenar nombres de especies de Pokémon asociados con este color.\n",
    "    lista_especies = []\n",
    "    \n",
    "    # Iterar a través de las especies de Pokémon en la respuesta JSON y agregar sus nombres a la lista 'lista_especies'.\n",
    "    for especie in resultados_json[\"pokemon_species\"]:\n",
    "        lista_especies.append(especie[\"name\"])\n",
    "    \n",
    "    # Agregar la lista de nombres de especies al diccionario de resultados color bajo la clave \"especies\".\n",
    "    diccionario_resultados_color[\"especies\"].append(lista_especies)\n",
    "    \n",
    "    # Devolver el diccionario de resultados color actualizado.\n",
    "    return diccionario_resultados_color\n",
    "\n",
    "# Crear un diccionario llamado 'diccionario_color' con listas vacías como valores para el nombre del color y las especies asociadas.\n",
    "diccionario_color = {\"color\": [], \"especies\": []}\n",
    "\n",
    "# Llamar a la función 'limpiar_color_pokemon' con los resultados JSON y el diccionario de resultados color, y almacenar el resultado en 'diccionario_color'.\n",
    "diccionario_color = limpiar_color_pokemon(resultados_color, diccionario_color)\n",
    "\n",
    "# Mostrar el diccionario de resultados color que contiene el nombre del color y las especies asociadas.\n",
    "diccionario_color"
   ]
  },
  {
   "cell_type": "markdown",
   "metadata": {},
   "source": [
    "Lo hemos hecho con un color porque así lo definimos en el endpoint anteriormente, hagámoslo con más de un color!. "
   ]
  },
  {
   "cell_type": "code",
   "execution_count": 8,
   "metadata": {},
   "outputs": [
    {
     "name": "stdout",
     "output_type": "stream",
     "text": [
      "La llamada a la API nos ha dado una respuesta de tipo: 200\n",
      "La llamada a la API nos ha dado una respuesta de tipo: 200\n",
      "La llamada a la API nos ha dado una respuesta de tipo: 200\n",
      "La llamada a la API nos ha dado una respuesta de tipo: 404\n",
      "El motivo por el que la llamada falló es Not Found\n",
      "Estamos teniendo problemas con el siguiente color: orange\n",
      "La llamada a la API nos ha dado una respuesta de tipo: 200\n"
     ]
    },
    {
     "data": {
      "text/html": [
       "<div>\n",
       "<style scoped>\n",
       "    .dataframe tbody tr th:only-of-type {\n",
       "        vertical-align: middle;\n",
       "    }\n",
       "\n",
       "    .dataframe tbody tr th {\n",
       "        vertical-align: top;\n",
       "    }\n",
       "\n",
       "    .dataframe thead th {\n",
       "        text-align: right;\n",
       "    }\n",
       "</style>\n",
       "<table border=\"1\" class=\"dataframe\">\n",
       "  <thead>\n",
       "    <tr style=\"text-align: right;\">\n",
       "      <th></th>\n",
       "      <th>color</th>\n",
       "      <th>especies</th>\n",
       "    </tr>\n",
       "  </thead>\n",
       "  <tbody>\n",
       "    <tr>\n",
       "      <th>0</th>\n",
       "      <td>black</td>\n",
       "      <td>[snorlax, murkrow, unown, sneasel, umbreon, ho...</td>\n",
       "    </tr>\n",
       "    <tr>\n",
       "      <th>1</th>\n",
       "      <td>red</td>\n",
       "      <td>[charmander, paras, charmeleon, charizard, vil...</td>\n",
       "    </tr>\n",
       "    <tr>\n",
       "      <th>2</th>\n",
       "      <td>yellow</td>\n",
       "      <td>[sandshrew, meowth, psyduck, kakuna, beedrill,...</td>\n",
       "    </tr>\n",
       "    <tr>\n",
       "      <th>3</th>\n",
       "      <td>blue</td>\n",
       "      <td>[squirtle, nidoran-f, oddish, poliwag, tentaco...</td>\n",
       "    </tr>\n",
       "  </tbody>\n",
       "</table>\n",
       "</div>"
      ],
      "text/plain": [
       "    color                                           especies\n",
       "0   black  [snorlax, murkrow, unown, sneasel, umbreon, ho...\n",
       "1     red  [charmander, paras, charmeleon, charizard, vil...\n",
       "2  yellow  [sandshrew, meowth, psyduck, kakuna, beedrill,...\n",
       "3    blue  [squirtle, nidoran-f, oddish, poliwag, tentaco..."
      ]
     },
     "execution_count": 8,
     "metadata": {},
     "output_type": "execute_result"
    }
   ],
   "source": [
    "# Definir una lista de nombres de colores que se desean consultar.\n",
    "lista_colores = [\"black\", \"red\", \"yellow\", \"orange\", \"blue\"]\n",
    "\n",
    "# Crear un diccionario llamado 'diccionario_todos_color' con listas vacías como valores para el nombre del color y las especies asociadas.\n",
    "diccionario_todos_color = {\"color\": [], \"especies\": []}\n",
    "\n",
    "# Iterar a través de la lista de nombres de colores.\n",
    "for color in lista_colores:\n",
    "    try:\n",
    "        # Construir la URL para llamar a la API de Pokémon con el nombre del color.\n",
    "        url_colores = f\"https://pokeapi.co/api/v2/pokemon-color/{color}/\"\n",
    "        \n",
    "        # Llamar a la función 'llamar_api' para obtener datos del color de Pokémon desde la API.\n",
    "        json_color = llamar_api(url_colores)\n",
    "        \n",
    "        # Llamar a la función 'limpiar_color_pokemon' para organizar los datos del color y actualizar 'diccionario_todos_color'.\n",
    "        diccionarios_todos_color = limpiar_color_pokemon(json_color, diccionario_todos_color)\n",
    "    \n",
    "    except:\n",
    "        # Manejar excepciones en caso de que ocurra un error al consultar un color específico.\n",
    "        print(f\"Estamos teniendo problemas con el siguiente color: {color}\")\n",
    "        \n",
    "# Crear un DataFrame de Pandas llamado 'df_colores' a partir de 'diccionario_todos_color'.\n",
    "df_colores = pd.DataFrame(diccionarios_todos_color)\n",
    "\n",
    "# Mostrar el DataFrame 'df_colores' que contiene información de colores de Pokémon y especies asociadas.\n",
    "df_colores\n"
   ]
  },
  {
   "cell_type": "markdown",
   "metadata": {},
   "source": [
    "## Pokedex\n",
    "\n",
    "Este endpoint nos va a devolver la siguiente información: \n",
    "\n",
    "1. **abilities**: Este campo contiene una lista de las habilidades (capacidades especiales) que el Pokémon puede tener. Las habilidades afectan las interacciones del Pokémon en batallas y otras situaciones.\n",
    "\n",
    "2. **base_experience**: Indica la cantidad de experiencia base que se obtiene al derrotar este Pokémon en una batalla. Es un valor numérico.\n",
    "\n",
    "3. **forms**: Si el Pokémon tiene diferentes formas o variantes, este campo contendrá información sobre esas formas.\n",
    "\n",
    "4. **game_indices**: Proporciona información sobre en qué juegos de Pokémon ha aparecido este Pokémon en particular.\n",
    "\n",
    "5. **height**: Indica la altura del Pokémon, generalmente en decímetros (dm) o metros (m).\n",
    "\n",
    "6. **held_items**: Lista de objetos que el Pokémon puede sostener o llevar consigo.\n",
    "\n",
    "7. **id**: Es el número de identificación único del Pokémon en la base de datos de la Pokédex.\n",
    "\n",
    "8. **is_default**: Un valor booleano que indica si este Pokémon es la forma predeterminada de su especie.\n",
    "\n",
    "9. **location_area_encounters**: Contiene información sobre las áreas donde se puede encontrar a este Pokémon en el juego.\n",
    "\n",
    "10. **moves**: Lista de movimientos que el Pokémon puede aprender y usar en batalla.\n",
    "\n",
    "11. **name**: El nombre del Pokémon.\n",
    "\n",
    "12. **order**: Un número que indica el orden en el que este Pokémon aparece en la Pokédex regional.\n",
    "\n",
    "13. **species**: Información sobre la especie a la que pertenece el Pokémon, incluyendo su nombre y otras características.\n",
    "\n",
    "14. **sprites**: Contiene enlaces a imágenes o sprites del Pokémon en diversas formas y poses.\n",
    "\n",
    "15. **stats**: Datos sobre las estadísticas base del Pokémon, como HP (puntos de salud), ataque, defensa, velocidad, etc.\n",
    "\n",
    "16. **types**: Lista de los tipos de este Pokémon, como agua, fuego, hierba, etc. Los tipos influyen en su resistencia y debilidades en batalla.\n",
    "\n",
    "17. **weight**: Indica el peso del Pokémon, generalmente en hectogramos (hg) o kilogramos (kg).\n"
   ]
  },
  {
   "cell_type": "code",
   "execution_count": 9,
   "metadata": {},
   "outputs": [
    {
     "name": "stdout",
     "output_type": "stream",
     "text": [
      "La llamada a la API nos ha dado una respuesta de tipo: 200\n"
     ]
    }
   ],
   "source": [
    "# definir la url a la que queremos hacer la llamada a la API\n",
    "url_pokemon = \"https://pokeapi.co/api/v2/pokemon/pikachu/\"\n",
    "\n",
    "# llamar a la función para obtener los datos de pikachu\n",
    "resultados_pikachu = llamar_api(url_pokemon)"
   ]
  },
  {
   "cell_type": "markdown",
   "metadata": {},
   "source": [
    "Aplicamos nuevamente la función de limpiar datos y veamos cual es el resultado."
   ]
  },
  {
   "cell_type": "code",
   "execution_count": 10,
   "metadata": {},
   "outputs": [
    {
     "name": "stdout",
     "output_type": "stream",
     "text": [
      "La llamada a la API nos ha dado una respuesta de tipo: 200\n"
     ]
    },
    {
     "data": {
      "text/plain": [
       "{'nombre': ['pikachu'],\n",
       " 'altura': [4],\n",
       " 'peso': [60],\n",
       " 'tipo': ['electric'],\n",
       " 'habilidades': [['static', 'lightning-rod']],\n",
       " 'localizacion': [['trophy-garden-area',\n",
       "   'pallet-town-area',\n",
       "   'kanto-route-2-south-towards-viridian-city',\n",
       "   'viridian-forest-area',\n",
       "   'power-plant-area',\n",
       "   'hoenn-safari-zone-sw',\n",
       "   'hoenn-safari-zone-se',\n",
       "   'kalos-route-3-area',\n",
       "   'santalune-forest-area',\n",
       "   'slateport-city-contest-hall',\n",
       "   'verdanturf-town-contest-hall',\n",
       "   'fallarbor-town-contest-hall',\n",
       "   'lilycove-city-contest-hall',\n",
       "   'alola-route-1-east',\n",
       "   'alola-route-1-west',\n",
       "   'hauoli-city-shopping-district',\n",
       "   'heahea-city-surf-association']]}"
      ]
     },
     "execution_count": 10,
     "metadata": {},
     "output_type": "execute_result"
    }
   ],
   "source": [
    "def limpiar_datos_pokemon(datos_json, diccionario_resultados):\n",
    "    \"\"\"\n",
    "    Esta función toma datos en formato JSON de un Pokémon y los organiza en un diccionario de resultados.\n",
    "\n",
    "    Args:\n",
    "    - datos_json (dict): Los datos JSON del Pokémon que se van a procesar.\n",
    "    - diccionario_resultados (dict): Un diccionario que almacena los resultados.\n",
    "\n",
    "    Returns:\n",
    "    - diccionario_resultados (dict): Un diccionario actualizado que contiene información sobre el Pokémon.\n",
    "    \"\"\"\n",
    "    \n",
    "    # Agregar el nombre de Pikachu a la lista correspondiente en el diccionario.\n",
    "    diccionario_resultados[\"nombre\"].append(datos_json[\"name\"])\n",
    "\n",
    "    # Agregar la altura de Pikachu a la lista correspondiente en el diccionario.\n",
    "    diccionario_resultados[\"altura\"].append(datos_json[\"height\"])\n",
    "\n",
    "    # Agregar el peso de Pikachu a la lista correspondiente en el diccionario.\n",
    "    diccionario_resultados[\"peso\"].append(datos_json[\"weight\"])\n",
    "\n",
    "    # Agregar el tipo principal de Pikachu a la lista correspondiente en el diccionario.\n",
    "    diccionario_resultados[\"tipo\"].append(datos_json[\"types\"][0][\"type\"][\"name\"])\n",
    "\n",
    "    # Extraer las habilidades de Pikachu y agregarlas a una lista llamada 'lista_habilidades'.\n",
    "    lista_habilidades = []\n",
    "    for habilidad in datos_json[\"abilities\"]:\n",
    "        lista_habilidades.append(habilidad[\"ability\"][\"name\"])\n",
    "\n",
    "    # Agregar la lista de habilidades al diccionario bajo la clave \"habilidades\".\n",
    "    diccionario_resultados[\"habilidades\"].append(lista_habilidades)\n",
    "\n",
    "    # Llamar a una función llamada 'llamar_api' con la información de ubicación de Pikachu y almacenar el resultado en 'localizaciones'.\n",
    "    localizaciones = llamar_api(datos_json[\"location_area_encounters\"])\n",
    "\n",
    "    # Crear una lista llamada 'lista_localizaciones' y agregar nombres de ubicaciones de 'localizaciones'.\n",
    "    lista_localizaciones = []\n",
    "    for localizacion in localizaciones: \n",
    "        lista_localizaciones.append(localizacion[\"location_area\"][\"name\"])\n",
    "\n",
    "    # Agregar la lista de ubicaciones al diccionario bajo la clave \"localizacion\".\n",
    "    diccionario_resultados[\"localizacion\"].append(lista_localizaciones)\n",
    "\n",
    "    return diccionario_resultados\n",
    "\n",
    "# Crear un diccionario llamado 'diccionario_informacion' con listas vacías como valores para diferentes atributos de Pikachu.\n",
    "diccionario_informacion = {\"nombre\": [], \n",
    "                    \"altura\": [], \n",
    "                    \"peso\": [], \n",
    "                    \"tipo\": [], \n",
    "                    \"habilidades\": [], \n",
    "                    \"localizacion\": []}\n",
    "\n",
    "# Llamar a la función 'limpiar_datos_pokemon' con los datos del Pokémon y el diccionario de resultados, y almacenar el resultado en 'diccionario_pikachu'.\n",
    "diccionario_pikachu = limpiar_datos_pokemon(resultados_pikachu, diccionario_informacion)\n",
    "\n",
    "# Mostrar el diccionario de resultados 'diccionario_pikachu'.\n",
    "diccionario_pikachu\n"
   ]
  },
  {
   "cell_type": "markdown",
   "metadata": {},
   "source": [
    "Lo hemos hecho para un solo Pokemon, ahora lo haremos para una lista de Pokemons diferentes. "
   ]
  },
  {
   "cell_type": "code",
   "execution_count": 11,
   "metadata": {},
   "outputs": [
    {
     "name": "stdout",
     "output_type": "stream",
     "text": [
      "La llamada a la API nos ha dado una respuesta de tipo: 200\n",
      "La llamada a la API nos ha dado una respuesta de tipo: 200\n",
      "La llamada a la API nos ha dado una respuesta de tipo: 200\n",
      "La llamada a la API nos ha dado una respuesta de tipo: 200\n",
      "La llamada a la API nos ha dado una respuesta de tipo: 200\n",
      "La llamada a la API nos ha dado una respuesta de tipo: 200\n",
      "La llamada a la API nos ha dado una respuesta de tipo: 200\n",
      "La llamada a la API nos ha dado una respuesta de tipo: 200\n",
      "La llamada a la API nos ha dado una respuesta de tipo: 200\n",
      "La llamada a la API nos ha dado una respuesta de tipo: 200\n"
     ]
    },
    {
     "data": {
      "text/html": [
       "<div>\n",
       "<style scoped>\n",
       "    .dataframe tbody tr th:only-of-type {\n",
       "        vertical-align: middle;\n",
       "    }\n",
       "\n",
       "    .dataframe tbody tr th {\n",
       "        vertical-align: top;\n",
       "    }\n",
       "\n",
       "    .dataframe thead th {\n",
       "        text-align: right;\n",
       "    }\n",
       "</style>\n",
       "<table border=\"1\" class=\"dataframe\">\n",
       "  <thead>\n",
       "    <tr style=\"text-align: right;\">\n",
       "      <th></th>\n",
       "      <th>nombre</th>\n",
       "      <th>altura</th>\n",
       "      <th>peso</th>\n",
       "      <th>tipo</th>\n",
       "      <th>habilidades</th>\n",
       "      <th>localizacion</th>\n",
       "    </tr>\n",
       "  </thead>\n",
       "  <tbody>\n",
       "    <tr>\n",
       "      <th>0</th>\n",
       "      <td>pikachu</td>\n",
       "      <td>4</td>\n",
       "      <td>60</td>\n",
       "      <td>electric</td>\n",
       "      <td>[static, lightning-rod]</td>\n",
       "      <td>[trophy-garden-area, pallet-town-area, kanto-r...</td>\n",
       "    </tr>\n",
       "    <tr>\n",
       "      <th>1</th>\n",
       "      <td>charizard</td>\n",
       "      <td>17</td>\n",
       "      <td>905</td>\n",
       "      <td>fire</td>\n",
       "      <td>[blaze, solar-power]</td>\n",
       "      <td>[]</td>\n",
       "    </tr>\n",
       "    <tr>\n",
       "      <th>2</th>\n",
       "      <td>bulbasaur</td>\n",
       "      <td>7</td>\n",
       "      <td>69</td>\n",
       "      <td>grass</td>\n",
       "      <td>[overgrow, chlorophyll]</td>\n",
       "      <td>[cerulean-city-area, pallet-town-area, lumiose...</td>\n",
       "    </tr>\n",
       "    <tr>\n",
       "      <th>3</th>\n",
       "      <td>eevee</td>\n",
       "      <td>3</td>\n",
       "      <td>65</td>\n",
       "      <td>normal</td>\n",
       "      <td>[run-away, adaptability, anticipation]</td>\n",
       "      <td>[castelia-city-area, kalos-route-10-area, cela...</td>\n",
       "    </tr>\n",
       "    <tr>\n",
       "      <th>4</th>\n",
       "      <td>snorlax</td>\n",
       "      <td>21</td>\n",
       "      <td>4600</td>\n",
       "      <td>normal</td>\n",
       "      <td>[immunity, thick-fat, gluttony]</td>\n",
       "      <td>[kanto-route-12-area, vermilion-city-area, kan...</td>\n",
       "    </tr>\n",
       "  </tbody>\n",
       "</table>\n",
       "</div>"
      ],
      "text/plain": [
       "      nombre  altura  peso      tipo                             habilidades  \\\n",
       "0    pikachu       4    60  electric                 [static, lightning-rod]   \n",
       "1  charizard      17   905      fire                    [blaze, solar-power]   \n",
       "2  bulbasaur       7    69     grass                 [overgrow, chlorophyll]   \n",
       "3      eevee       3    65    normal  [run-away, adaptability, anticipation]   \n",
       "4    snorlax      21  4600    normal         [immunity, thick-fat, gluttony]   \n",
       "\n",
       "                                        localizacion  \n",
       "0  [trophy-garden-area, pallet-town-area, kanto-r...  \n",
       "1                                                 []  \n",
       "2  [cerulean-city-area, pallet-town-area, lumiose...  \n",
       "3  [castelia-city-area, kalos-route-10-area, cela...  \n",
       "4  [kanto-route-12-area, vermilion-city-area, kan...  "
      ]
     },
     "execution_count": 11,
     "metadata": {},
     "output_type": "execute_result"
    }
   ],
   "source": [
    "# Definir una lista de nombres de Pokémon que se desean consultar.\n",
    "lista_pokemon = ['Pikachu', 'Charizard', 'Bulbasaur', 'Eevee', 'Snorlax']\n",
    "\n",
    "# Crear un diccionario llamado 'diccionario_todos_pokemon' con listas vacías como valores para diferentes atributos de Pokémon.\n",
    "diccionario_todos_pokemon = {\"nombre\": [], \n",
    "                    \"altura\": [], \n",
    "                    \"peso\": [], \n",
    "                    \"tipo\": [], \n",
    "                    \"habilidades\": [], \n",
    "                    \"localizacion\": []}\n",
    "\n",
    "# Iterar a través de la lista de nombres de Pokémon.\n",
    "for pokemon in lista_pokemon:\n",
    "    # Crear la URL para llamar a la API de Pokémon con el nombre del Pokémon en minúsculas.\n",
    "    url_pokemon = f\"https://pokeapi.co/api/v2/pokemon/{pokemon.lower()}/\"\n",
    "    \n",
    "    # Llamar a la función 'llamar_api' para obtener datos del Pokémon desde la API.\n",
    "    resultado_api = llamar_api(url_pokemon)\n",
    "    \n",
    "    # Llamar a la función 'limpiar_datos_pokemon' para organizar los datos del Pokémon y actualizar 'diccionario_todos_pokemon'.\n",
    "    resultados_finales = limpiar_datos_pokemon(resultado_api, diccionario_todos_pokemon)\n",
    "\n",
    "# Crear un DataFrame de Pandas llamado 'df_pokemons' a partir de 'resultados_finales'.\n",
    "df_pokemons = pd.DataFrame(resultados_finales)\n",
    "\n",
    "# Mostrar el DataFrame 'df_pokemons' que contiene información de varios Pokémon.\n",
    "df_pokemons\n"
   ]
  }
 ],
 "metadata": {
  "kernelspec": {
   "display_name": "Python 3",
   "language": "python",
   "name": "python3"
  },
  "language_info": {
   "codemirror_mode": {
    "name": "ipython",
    "version": 3
   },
   "file_extension": ".py",
   "mimetype": "text/x-python",
   "name": "python",
   "nbconvert_exporter": "python",
   "pygments_lexer": "ipython3",
   "version": "3.13.0"
  },
  "toc": {
   "base_numbering": 1,
   "nav_menu": {},
   "number_sections": true,
   "sideBar": true,
   "skip_h1_title": false,
   "title_cell": "Table of Contents",
   "title_sidebar": "Contents",
   "toc_cell": true,
   "toc_position": {},
   "toc_section_display": true,
   "toc_window_display": true
  }
 },
 "nbformat": 4,
 "nbformat_minor": 2
}

{
 "cells": [
  {
   "cell_type": "code",
   "execution_count": 4,
   "metadata": {},
   "outputs": [
    {
     "name": "stdout",
     "output_type": "stream",
     "text": [
      "8\n",
      "cuatro\n",
      "cuatro más perros\n",
      "perros: cuatro más cuatro es igual a 8\n",
      "cuatro más cuatro = 8\n"
     ]
    }
   ],
   "source": [
    "#Ex. 1\n",
    "gatos= 8\n",
    "\n",
    "#Ex. 2\n",
    "perros =\"cuatro\"\n",
    "\n",
    "#Ex. 3\n",
    "print(gatos)\n",
    "\n",
    "#Ex. 4\n",
    "print(perros)\n",
    "\n",
    "#Ex. 5\n",
    "print (perros, \"más\", \"perros\")\n",
    "\n",
    "#Ex. 6\n",
    "print (\"perros:\", perros, \"más\", perros, \"es igual a\", gatos)\n",
    "\n",
    "#Ex. 7\n",
    "print (perros, \"más\", perros, \"=\", \"8\")\n"
   ]
  },
  {
   "cell_type": "code",
   "execution_count": 5,
   "metadata": {},
   "outputs": [
    {
     "name": "stdout",
     "output_type": "stream",
     "text": [
      "<class 'float'>\n",
      "True\n",
      "10.0\n",
      "6.0\n",
      "16\n"
     ]
    }
   ],
   "source": [
    "#Ex. 8\n",
    "pizza = float(2)\n",
    "\n",
    "#Ex. 9\n",
    "magdalena = \"2\"\n",
    "\n",
    "#Ex. 10\n",
    "postres = int(0)\n",
    "\n",
    "#Ex. 11\n",
    "print(type(pizza))\n",
    "\n",
    "#Ex. 12\n",
    "print(isinstance(magdalena, str))\n",
    "\n",
    "#Ex. 13\n",
    "postres = 0\n",
    "\n",
    "#Ex. 14\n",
    "print (gatos + pizza)\n",
    "\n",
    "#Ex. 15\n",
    "print (gatos - pizza)\n",
    "\n",
    "#Ex. 16\n",
    "print (gatos * 2)\n"
   ]
  },
  {
   "cell_type": "code",
   "execution_count": 6,
   "metadata": {},
   "outputs": [
    {
     "name": "stdout",
     "output_type": "stream",
     "text": [
      "10.125\n",
      "2.0\n",
      "19.0\n",
      "10.1\n"
     ]
    }
   ],
   "source": [
    "#Ex. 17\n",
    "piezas = pizza * 8\n",
    "\n",
    "#Ex. 18\n",
    "piezas_add = piezas + 3\n",
    "piezas_multiply = piezas * 3\n",
    "\n",
    "#Ex. 19\n",
    "superficie = 9 ** 2\n",
    "\n",
    "#Ex. 20\n",
    "superficie_por_gato = superficie / gatos\n",
    "print(superficie_por_gato)\n",
    "\n",
    "#Ex. 21\n",
    "print(piezas // gatos)\n",
    "\n",
    "#Ex. 22 Cuántas piezas te quedan si cada gato se come 21 piezas?\n",
    "piezas_que_comen = gatos * 21\n",
    "piezas_que_quedan = piezas_add % piezas_que_comen\n",
    "print(piezas_que_quedan)\n",
    "\n",
    "#Ex. 23\n",
    "print(round(superficie_por_gato,1))\n",
    "\n",
    "\n"
   ]
  },
  {
   "cell_type": "code",
   "execution_count": 7,
   "metadata": {},
   "outputs": [
    {
     "name": "stdout",
     "output_type": "stream",
     "text": [
      "True\n",
      "True\n",
      "True\n",
      "False\n",
      "True\n",
      "True\n",
      "True\n"
     ]
    }
   ],
   "source": [
    "#Ex. 24\n",
    "print(gatos > pizza)\n",
    "\n",
    "#Ex. 25\n",
    "print(gatos < superficie)\n",
    "\n",
    "#Ex. 26 es verdad que 2 veces la cantidad de pizzas es distinto de la cantidad de gatos? CASO INT VS FLOAT. \n",
    "print (pizza * 2 != gatos)\n",
    "\n",
    "#Ex. 27\n",
    "print (pizza * 2 is gatos)\n",
    "\n",
    "#Ex. 28\n",
    "print(piezas >= pizza and superficie != 0)\n",
    "\n",
    "#Ex. 29\n",
    "print(piezas >= pizza and piezas < superficie)\n",
    "\n",
    "#Ex. 30\n",
    "print ((pizza > gatos) or (piezas % gatos == 0))\n",
    "\n"
   ]
  },
  {
   "cell_type": "code",
   "execution_count": null,
   "metadata": {},
   "outputs": [
    {
     "name": "stdout",
     "output_type": "stream",
     "text": [
      "True\n",
      "True\n"
     ]
    }
   ],
   "source": [
    "#Ex. 31: Comprueba las comparaciones de 29. en una sola línea, sin usar la variable piezas más que una sola vez.\n",
    "print (superficie > piezas >= pizza)\n",
    "\n",
    "#Ex. 32\n",
    "print(superficie is not int(0))\n",
    "\n",
    "#Ex. 33\n",
    "dia_cumple = input(\"Cuándo es tu cumpleaños? Ingresa el día:\")\n",
    "\n",
    "#Ex. 34\n",
    "mes_cumple = input(\"En cuál mes es tu cumpleaños? Ingresa un mes:\")\n",
    "\n",
    "#Ex. 35\n",
    "dia_cumple = dia_cumple.strip()\n",
    "mes_cumple = mes_cumple.strip()\n",
    "\n",
    "#Ex. 36\n",
    "fecha_cumple = \" \".join(dia_cumple, mes_cumple)\n",
    "print(fecha_cumple)\n",
    "\n"
   ]
  }
 ],
 "metadata": {
  "kernelspec": {
   "display_name": "Python 3",
   "language": "python",
   "name": "python3"
  },
  "language_info": {
   "codemirror_mode": {
    "name": "ipython",
    "version": 3
   },
   "file_extension": ".py",
   "mimetype": "text/x-python",
   "name": "python",
   "nbconvert_exporter": "python",
   "pygments_lexer": "ipython3",
   "version": "3.13.0"
  }
 },
 "nbformat": 4,
 "nbformat_minor": 2
}

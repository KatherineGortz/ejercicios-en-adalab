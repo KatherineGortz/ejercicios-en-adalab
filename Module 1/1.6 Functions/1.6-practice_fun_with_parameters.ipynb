{
 "cells": [
  {
   "cell_type": "markdown",
   "metadata": {},
   "source": [
    "Ex. 1\n",
    "\n",
    "Crea una función que tome un número arbitrario de cadenas de texto como argumentos y devuelva una cadena de texto que sea la concatenación de todas ellas."
   ]
  },
  {
   "cell_type": "code",
   "execution_count": 12,
   "metadata": {},
   "outputs": [
    {
     "name": "stdout",
     "output_type": "stream",
     "text": [
      "hello my name is Katie \n"
     ]
    }
   ],
   "source": [
    "\n",
    "def concatenate_strings(*args):\n",
    "    joined_string = \"\"\n",
    "    for arg in args:\n",
    "        joined_string += arg + \" \"\n",
    "    return joined_string\n",
    "\n",
    "print(concatenate_strings(\"hello\", \"my\", \"name\", \"is\", \"Katie\"))"
   ]
  },
  {
   "cell_type": "markdown",
   "metadata": {},
   "source": [
    "#Ex. 2\n",
    "\n",
    "Crea una función que tome un número arbitrario de argumentos y devuelva el producto de todos ellos."
   ]
  },
  {
   "cell_type": "code",
   "execution_count": 18,
   "metadata": {},
   "outputs": [
    {
     "name": "stdout",
     "output_type": "stream",
     "text": [
      "24\n"
     ]
    }
   ],
   "source": [
    "result = 1\n",
    "\n",
    "def productos (*args):\n",
    "    result = 1\n",
    "    \n",
    "    for arg in args:\n",
    "        result = result * arg\n",
    "    return result\n",
    "\n",
    "print(productos(1, 2, 3, 4))"
   ]
  },
  {
   "cell_type": "markdown",
   "metadata": {},
   "source": [
    "#Ex. 3\n",
    "\n",
    "\n",
    "Crea una función que tome un número arbitrario de diccionarios como argumentos y devuelva el valor mínimo entre todos los valores de los diccionarios."
   ]
  },
  {
   "cell_type": "code",
   "execution_count": 29,
   "metadata": {},
   "outputs": [
    {
     "name": "stdout",
     "output_type": "stream",
     "text": [
      "1\n"
     ]
    }
   ],
   "source": [
    "dict1 = {\"Monday\": 1, \"Tuesday\": 7, \"Wednesday\": 8}\n",
    "dict2 = {\"Thursday\": 10, \"Friday\": 4, \"Saturday\": 5, \"Sunday\": 7}\n",
    "\n",
    "\n",
    "\n",
    "def dictionary (*args):\n",
    "    lista_valores = []\n",
    "    for dict in args:\n",
    "        for v in dict.values():\n",
    "            lista_valores.append(v)\n",
    "    return min(lista_valores)\n",
    "\n",
    "print(dictionary(dict1, dict2))"
   ]
  },
  {
   "cell_type": "markdown",
   "metadata": {},
   "source": [
    "#Ex. 4\n",
    "\n",
    "Crea una función que tome un número arbitrario de listas y devuelva un diccionario donde las listas originales se combinan usando los índices como claves."
   ]
  },
  {
   "cell_type": "code",
   "execution_count": 48,
   "metadata": {},
   "outputs": [
    {
     "name": "stdout",
     "output_type": "stream",
     "text": [
      "{0: 'apple', 1: 'orange', 2: 'pear', 3: 'cat', 4: 'dog', 5: 'goat', 6: 'red', 7: 'orange', 8: 'yellow', 9: 'hello', 10: 'goodbye'}\n"
     ]
    }
   ],
   "source": [
    "\n",
    "list1 = [\"apple\",\"orange\", \"pear\"]\n",
    "list2= [\"cat\", \"dog\", \"goat\"]\n",
    "list3 = [\"red\", \"orange\", \"yellow\"]\n",
    "list4 =  [\"hello\", \"goodbye\"]\n",
    "\n",
    "def list_to_dict (*args):\n",
    "    dict_index_keys = {}\n",
    "    composite_list = []\n",
    "    for arg in args:\n",
    "        composite_list.extend(arg)\n",
    "        for index, value in enumerate(composite_list):\n",
    "            dict_index_keys[index] = value\n",
    "    return dict_index_keys\n",
    "\n",
    "print(list_to_dict(list1, list2, list3, list4))\n",
    "\n"
   ]
  },
  {
   "cell_type": "markdown",
   "metadata": {},
   "source": [
    "#Ex. 5\n",
    "\n",
    "Crea una función que tome el tipo de figura geométrica (por ejemplo, \"cuadrado\", \"triángulo\", \"círculo\") como argumento de palabra clave y los argumentos necesarios para calcular el área de esa figura. La función debe devolver el área calculada. Soluciona este ejercicio con kwargs Por ejemplo:\n",
    "\n",
    "Copy\n",
    "# esta función calcula el area de un cuadrado, para hacerlo solo necesitamos saber su lado  \n",
    "area_figura(tipo=\"cuadrado\", lado=5)\n",
    "\n",
    "# si quisieramos calcular la de un triángulo necesitaríamos su base y su altura, y si"
   ]
  },
  {
   "cell_type": "code",
   "execution_count": null,
   "metadata": {},
   "outputs": [],
   "source": []
  }
 ],
 "metadata": {
  "kernelspec": {
   "display_name": "Python 3",
   "language": "python",
   "name": "python3"
  },
  "language_info": {
   "codemirror_mode": {
    "name": "ipython",
    "version": 3
   },
   "file_extension": ".py",
   "mimetype": "text/x-python",
   "name": "python",
   "nbconvert_exporter": "python",
   "pygments_lexer": "ipython3",
   "version": "3.13.0"
  }
 },
 "nbformat": 4,
 "nbformat_minor": 2
}

{
 "cells": [
  {
   "cell_type": "markdown",
   "metadata": {},
   "source": [
    "Ex. 1\n",
    "\n",
    "Escribe una función que reciba una cadena de texto como parámetro y devuelva un diccionario con las frecuencias de cada letra en la cadena. Los espacios no deben ser considerados."
   ]
  },
  {
   "cell_type": "code",
   "execution_count": null,
   "metadata": {},
   "outputs": [],
   "source": [
    "frase = \"Sofia loves Taylor Swift\"\n",
    "frase2 = \"Things are getting really complicated\"\n",
    "\n",
    "def letter_count_fun(frase):\n",
    "    frecuencia_letras_dict ={}\n",
    "    frase_convertida = frase.replace(\" \", \"\").upper()\n",
    "\n",
    "    for letter in frase:\n",
    "        letter_count = frase_convertida.count(letter)\n",
    "        frecuencia_letras_dict[letter] = letter_count\n",
    "    return frecuencia_letras_dict\n",
    "\n",
    "print(letter_count_fun(frase))\n",
    "\n"
   ]
  },
  {
   "cell_type": "markdown",
   "metadata": {},
   "source": [
    "Ex. 2\n",
    "\n",
    "##Escribe una función que reciba una cadena de texto como parámetro y devuelva una lista con todas las palabras que tienen más de 5 letras."
   ]
  },
  {
   "cell_type": "code",
   "execution_count": null,
   "metadata": {},
   "outputs": [],
   "source": [
    "text =\"Two households, both alike in dignity, In fair Verona, where we lay our scene, From ancient grudge break to new mutiny, Where civil blood makes civil hands unclean.\"\n",
    "\n",
    "\n",
    "def word_count_5_letters(text):\n",
    "    text_split = text.split()\n",
    "    word_list_5_letters = []\n",
    "\n",
    "    for word in text_split:\n",
    "        if len(word) == 5:\n",
    "            word_list_5_letters.append(word)\n",
    "        \n",
    "        else:\n",
    "            continue\n",
    "\n",
    "    return word_list_5_letters\n",
    "    \n",
    "print(word_count_5_letters(text))"
   ]
  },
  {
   "cell_type": "markdown",
   "metadata": {},
   "source": [
    "Ex. 3\n",
    "\n",
    "Crea una función que tome una lista de palabras como entrada y devuelva una lista de palabras que contengan más de una vocal."
   ]
  },
  {
   "cell_type": "code",
   "execution_count": null,
   "metadata": {},
   "outputs": [],
   "source": [
    "lista_palabras = [\"pera\", \"manzana\", \"kiwi\", \"platano\", \"sun\", \"cat\", \"dog\"]\n",
    "\n",
    "def lista_multiples_vocales(lista_palabras):\n",
    "    lista_multiples_vocales = []\n",
    "    vocales = [\"a\", \"e\", \"i\", \"o\"]\n",
    "    \n",
    "\n",
    "    for palabra in lista_palabras:\n",
    "        vowel_count = 0\n",
    "        for letra in palabra:\n",
    "            if letra in vocales:\n",
    "                vowel_count += 1\n",
    "            if vowel_count > 1:\n",
    "                lista_multiples_vocales.append(palabra)\n",
    "\n",
    "    return lista_multiples_vocales\n",
    "\n",
    "print(lista_multiples_vocales(lista_palabras))\n",
    "            "
   ]
  },
  {
   "cell_type": "markdown",
   "metadata": {},
   "source": [
    "Ex. 4\n",
    "\n",
    "Crea una función que tome una lista de números y calcule la suma de todos los números pares en la lista."
   ]
  },
  {
   "cell_type": "code",
   "execution_count": null,
   "metadata": {},
   "outputs": [],
   "source": [
    "lista_numeros = list(range(1, 21))\n",
    "\n",
    "\n",
    "def suma_pares(lista_numeros):\n",
    "    lista_pares = []\n",
    "    for num in lista_numeros:\n",
    "        if num % 2 == 0:\n",
    "            lista_pares.append(num)\n",
    "    return sum(lista_pares)\n",
    "\n",
    "print(suma_pares(lista_numeros))"
   ]
  },
  {
   "cell_type": "markdown",
   "metadata": {},
   "source": [
    "#Ex. 5\n",
    "\n",
    "\n",
    "Escribe una función que tome una lista de números como entrada y calcule el promedio de esos números."
   ]
  },
  {
   "cell_type": "code",
   "execution_count": null,
   "metadata": {},
   "outputs": [],
   "source": [
    "lista_numeros = list(range(1, 21))\n",
    "\n",
    "def average(lista_numeros):\n",
    "    average_lista_numeros = sum(lista_numeros)/len(lista_numeros)\n",
    "    return average_lista_numeros\n",
    "\n",
    "print(average(lista_numeros))\n",
    "    "
   ]
  },
  {
   "cell_type": "markdown",
   "metadata": {},
   "source": [
    "#EX. 6\n",
    "\n",
    "\n",
    "Crea una función que determine el próximo año en el que las cifras del año de tu cumpleaños no se repitan. La función toma un año de tu cumpleaños como entrada y calcula el próximo año en el que las cifras no se repitan, es decir, todas las cifras en el año son diferentes entre sí."
   ]
  },
  {
   "cell_type": "code",
   "execution_count": 65,
   "metadata": {},
   "outputs": [
    {
     "name": "stdout",
     "output_type": "stream",
     "text": [
      "1982\n"
     ]
    }
   ],
   "source": [
    "birth_year = 1980\n",
    "\n",
    "def year_no_digit_repeat(birth_year):\n",
    "    birth_year = int(birth_year)\n",
    "\n",
    "    while True:\n",
    "        birth_year += 1\n",
    "        birth_year_string = str(birth_year)\n",
    "        if len(set(birth_year_string)) == len(birth_year_string):\n",
    "            return birth_year\n",
    "        \n",
    "print(year_no_digit_repeat(birth_year))"
   ]
  },
  {
   "cell_type": "markdown",
   "metadata": {},
   "source": [
    "#Ex 7\n",
    "\n",
    "\n",
    "Crea una función que determine cuántos pasteles puedes hornear según una receta y los ingredientes disponibles. La función toma dos diccionarios como entrada: receta, que contiene los ingredientes necesarios para un pastel, y disponible, que contiene la cantidad disponible de cada ingrediente. Sus parámetros de entrada son:\n",
    "\n",
    "receta: Un diccionario que representa los ingredientes necesarios para un pastel, donde las claves son los nombres de los ingredientes y los valores son las cantidades necesarias de cada ingrediente.\n",
    "\n",
    "disponible: Un diccionario que representa la cantidad disponible de cada ingrediente, donde las claves son los nombres de los ingredientes y los valores son las cantidades disponibles.\n"
   ]
  },
  {
   "cell_type": "code",
   "execution_count": 72,
   "metadata": {},
   "outputs": [
    {
     "name": "stdout",
     "output_type": "stream",
     "text": [
      "5\n"
     ]
    }
   ],
   "source": [
    "recipe_needs = {'flour': 500, 'sugar': 200, 'eggs': 1}\n",
    "ingredients_avail = {'flour': 5000, 'sugar': 1200, 'eggs': 5, 'milk': 200}\n",
    "\n",
    "def cakes(recipe_needs, ingredients_avail):\n",
    "\n",
    "    cakes_possible_per_ingredient = []\n",
    "\n",
    "    for key_avail, value_avail in ingredients_avail.items():\n",
    "        for key_need, value_need in recipe_needs.items():\n",
    "            if key_avail == key_need:\n",
    "                cake_made = value_avail // value_need\n",
    "                cakes_possible_per_ingredient.append(cake_made)\n",
    "\n",
    "    final_answer= min(cakes_possible_per_ingredient)\n",
    "\n",
    "    return final_answer\n",
    "    \n",
    "print(cakes(recipe_needs, ingredients_avail))\n",
    "\n",
    "\n",
    "\n",
    "\n"
   ]
  },
  {
   "cell_type": "code",
   "execution_count": 67,
   "metadata": {},
   "outputs": [
    {
     "data": {
      "text/plain": [
       "2"
      ]
     },
     "execution_count": 67,
     "metadata": {},
     "output_type": "execute_result"
    }
   ],
   "source": [
    "1200//500\n"
   ]
  }
 ],
 "metadata": {
  "kernelspec": {
   "display_name": "Python 3",
   "language": "python",
   "name": "python3"
  },
  "language_info": {
   "codemirror_mode": {
    "name": "ipython",
    "version": 3
   },
   "file_extension": ".py",
   "mimetype": "text/x-python",
   "name": "python",
   "nbconvert_exporter": "python",
   "pygments_lexer": "ipython3",
   "version": "3.13.0"
  }
 },
 "nbformat": 4,
 "nbformat_minor": 2
}

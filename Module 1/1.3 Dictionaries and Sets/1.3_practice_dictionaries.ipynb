{
 "cells": [
  {
   "cell_type": "code",
   "execution_count": null,
   "metadata": {},
   "outputs": [],
   "source": [
    "#Ex. 1\n",
    "festivos = {\"01/01\": \"Año Nuevo\", \"06/01\": \"Epifanía del Señor\", \"15/04\": \"Viernes Santo\", \"15/08\": \"Asunción de la Virgen\", \"12/10\": \"Fiesta Nacional de España\", \"01/11\": \"Todos los Santos\", \"06/12\": \"Día de la Constitución Española\", \"08/12\": \"Inmaculada Concepción\"}\n",
    "print(festivos)"
   ]
  },
  {
   "cell_type": "code",
   "execution_count": null,
   "metadata": {},
   "outputs": [],
   "source": [
    "#Ex. 2\n",
    "monarchas = {\"Bélgica\": \"Philippe\", \"Dinamarca\": \"Margrethe II\", \"Holanda\": \"Beatrix\", \"Noruega\": \"Harald V\", \"España\": \"Felipe VI\", \"Reino Unido\": \"Carlos III\"}"
   ]
  },
  {
   "cell_type": "code",
   "execution_count": 16,
   "metadata": {},
   "outputs": [
    {
     "name": "stdout",
     "output_type": "stream",
     "text": [
      "Viernes Santo\n"
     ]
    }
   ],
   "source": [
    "#Ex. 3\n",
    "print(festivos.get(\"15/04\"))"
   ]
  },
  {
   "cell_type": "code",
   "execution_count": null,
   "metadata": {},
   "outputs": [],
   "source": [
    "#Ex. 4\n",
    "monarchas.update({\"Holanda\" : \"Willem-Alexander\"})"
   ]
  },
  {
   "cell_type": "code",
   "execution_count": 20,
   "metadata": {},
   "outputs": [
    {
     "data": {
      "text/plain": [
       "{'Bélgica': 'Philippe',\n",
       " 'Dinamarca': 'Margrethe II',\n",
       " 'Holanda': 'Willem-Alexander',\n",
       " 'Noruega': 'Harald V',\n",
       " 'España': 'Felipe VI',\n",
       " 'Reino Unido': 'Carlos III'}"
      ]
     },
     "execution_count": 20,
     "metadata": {},
     "output_type": "execute_result"
    }
   ],
   "source": [
    "monarchas"
   ]
  },
  {
   "cell_type": "code",
   "execution_count": null,
   "metadata": {},
   "outputs": [
    {
     "name": "stdout",
     "output_type": "stream",
     "text": [
      "{'Bélgica': 'Philippe', 'Dinamarca': 'Margrethe II', 'Holanda': 'Willem-Alexander', 'Noruega': 'Harald V', 'España': 'Felipe VI', 'Reino Unido': 'Carlos III', 'Luxembourg': 'Henri'}\n"
     ]
    }
   ],
   "source": [
    "#Ex. 5\n",
    "monarchas.update({\"Luxembourg\": \"Henri\"})\n",
    "print(monarchas)"
   ]
  },
  {
   "cell_type": "code",
   "execution_count": 22,
   "metadata": {},
   "outputs": [
    {
     "data": {
      "text/plain": [
       "7"
      ]
     },
     "execution_count": 22,
     "metadata": {},
     "output_type": "execute_result"
    }
   ],
   "source": [
    "#Ex. 6\n",
    "len(monarchas)\n"
   ]
  },
  {
   "cell_type": "code",
   "execution_count": 23,
   "metadata": {},
   "outputs": [
    {
     "data": {
      "text/plain": [
       "False"
      ]
     },
     "execution_count": 23,
     "metadata": {},
     "output_type": "execute_result"
    }
   ],
   "source": [
    "#Ex. 7\n",
    "\"Monaco\" in monarchas"
   ]
  },
  {
   "cell_type": "code",
   "execution_count": 24,
   "metadata": {},
   "outputs": [
    {
     "data": {
      "text/plain": [
       "True"
      ]
     },
     "execution_count": 24,
     "metadata": {},
     "output_type": "execute_result"
    }
   ],
   "source": [
    "#Ex. 8\n",
    "\"Suecia\" not in monarchas"
   ]
  },
  {
   "cell_type": "code",
   "execution_count": null,
   "metadata": {},
   "outputs": [],
   "source": [
    "#Ex. 9\n",
    "list_monarchas = list(monarchas.keys())"
   ]
  },
  {
   "cell_type": "code",
   "execution_count": 31,
   "metadata": {},
   "outputs": [
    {
     "name": "stdout",
     "output_type": "stream",
     "text": [
      "['Bélgica', 'Dinamarca', 'Holanda', 'Noruega', 'España', 'Reino Unido', 'Luxembourg']\n"
     ]
    }
   ],
   "source": [
    "print(list_monarchas)"
   ]
  },
  {
   "cell_type": "code",
   "execution_count": null,
   "metadata": {},
   "outputs": [],
   "source": [
    "#Ex. 10\n",
    "list_festivos = list(festivos.values())"
   ]
  },
  {
   "cell_type": "code",
   "execution_count": null,
   "metadata": {},
   "outputs": [
    {
     "name": "stdout",
     "output_type": "stream",
     "text": [
      "['Año Nuevo', 'Epifanía del Señor', 'Viernes Santo', 'Asunción de la Virgen', 'Fiesta Nacional de España', 'Todos los Santos', 'Día de la Constitución Española', 'Inmaculada Concepción']\n"
     ]
    }
   ],
   "source": [
    "print(list_festivos)"
   ]
  },
  {
   "cell_type": "code",
   "execution_count": null,
   "metadata": {},
   "outputs": [
    {
     "data": {
      "text/plain": [
       "{'01/01': 'Año Nuevo',\n",
       " '06/01': 'Epifanía del Señor',\n",
       " '15/04': 'Viernes Santo',\n",
       " '15/08': 'Asunción de la Virgen',\n",
       " '12/10': 'Fiesta Nacional de España',\n",
       " '01/11': 'Todos los Santos',\n",
       " '06/12': 'Día de la Constitución Española',\n",
       " '08/12': 'Inmaculada Concepción'}"
      ]
     },
     "execution_count": 36,
     "metadata": {},
     "output_type": "execute_result"
    }
   ],
   "source": [
    "#Ex. 11\n",
    "festivos"
   ]
  },
  {
   "cell_type": "code",
   "execution_count": 38,
   "metadata": {},
   "outputs": [
    {
     "name": "stdout",
     "output_type": "stream",
     "text": [
      "dict_items([('01/01', 'Año Nuevo'), ('06/01', 'Epifanía del Señor'), ('15/04', 'Viernes Santo'), ('15/08', 'Asunción de la Virgen'), ('12/10', 'Fiesta Nacional de España'), ('01/11', 'Todos los Santos'), ('06/12', 'Día de la Constitución Española'), ('08/12', 'Inmaculada Concepción')])\n"
     ]
    }
   ],
   "source": [
    "#Ex. 12\n",
    "print(festivos.items())"
   ]
  },
  {
   "cell_type": "code",
   "execution_count": null,
   "metadata": {},
   "outputs": [],
   "source": [
    "#Ex. 13\n",
    "monarchas2010 = monarchas.copy()"
   ]
  },
  {
   "cell_type": "code",
   "execution_count": 40,
   "metadata": {},
   "outputs": [
    {
     "data": {
      "text/plain": [
       "'Felipe VI'"
      ]
     },
     "execution_count": 40,
     "metadata": {},
     "output_type": "execute_result"
    }
   ],
   "source": [
    "#Ex. 14\n",
    "monarchas2010.pop(\"España\")"
   ]
  },
  {
   "cell_type": "code",
   "execution_count": 41,
   "metadata": {},
   "outputs": [
    {
     "data": {
      "text/plain": [
       "{'Bélgica': 'Philippe',\n",
       " 'Dinamarca': 'Margrethe II',\n",
       " 'Holanda': 'Willem-Alexander',\n",
       " 'Noruega': 'Harald V',\n",
       " 'Reino Unido': 'Carlos III',\n",
       " 'Luxembourg': 'Henri'}"
      ]
     },
     "execution_count": 41,
     "metadata": {},
     "output_type": "execute_result"
    }
   ],
   "source": [
    "monarchas2010"
   ]
  },
  {
   "cell_type": "code",
   "execution_count": 42,
   "metadata": {},
   "outputs": [
    {
     "data": {
      "text/plain": [
       "('Luxembourg', 'Henri')"
      ]
     },
     "execution_count": 42,
     "metadata": {},
     "output_type": "execute_result"
    }
   ],
   "source": [
    "#Ex. 15\n",
    "monarchas2010.popitem()"
   ]
  },
  {
   "cell_type": "code",
   "execution_count": 43,
   "metadata": {},
   "outputs": [
    {
     "data": {
      "text/plain": [
       "{'Bélgica': 'Philippe',\n",
       " 'Dinamarca': 'Margrethe II',\n",
       " 'Holanda': 'Willem-Alexander',\n",
       " 'Noruega': 'Harald V',\n",
       " 'Reino Unido': 'Carlos III'}"
      ]
     },
     "execution_count": 43,
     "metadata": {},
     "output_type": "execute_result"
    }
   ],
   "source": [
    "monarchas2010"
   ]
  },
  {
   "cell_type": "code",
   "execution_count": null,
   "metadata": {},
   "outputs": [],
   "source": [
    "#Ex. 16\n",
    "monarchas2010.clear()"
   ]
  },
  {
   "cell_type": "code",
   "execution_count": null,
   "metadata": {},
   "outputs": [
    {
     "data": {
      "text/plain": [
       "'Epifanía del Señor'"
      ]
     },
     "execution_count": 45,
     "metadata": {},
     "output_type": "execute_result"
    }
   ],
   "source": [
    "#Ex. 17\n",
    "festivos.get(\"06/01\")"
   ]
  },
  {
   "cell_type": "code",
   "execution_count": 46,
   "metadata": {},
   "outputs": [
    {
     "data": {
      "text/plain": [
       "'Día Internacaional de la Mujer'"
      ]
     },
     "execution_count": 46,
     "metadata": {},
     "output_type": "execute_result"
    }
   ],
   "source": [
    "#Ex. 18\n",
    "festivos.get(\"08/03\", \"Día Internacaional de la Mujer\")"
   ]
  },
  {
   "cell_type": "code",
   "execution_count": 47,
   "metadata": {},
   "outputs": [
    {
     "data": {
      "text/plain": [
       "'Todos los Santos'"
      ]
     },
     "execution_count": 47,
     "metadata": {},
     "output_type": "execute_result"
    }
   ],
   "source": [
    "#Ex. 19\n",
    "festivos.setdefault(\"31/11\", \"Todos los Santos\")"
   ]
  },
  {
   "cell_type": "code",
   "execution_count": 48,
   "metadata": {},
   "outputs": [
    {
     "name": "stdout",
     "output_type": "stream",
     "text": [
      "{'01/01': 'Año Nuevo', '06/01': 'Epifanía del Señor', '15/04': 'Viernes Santo', '15/08': 'Asunción de la Virgen', '12/10': 'Fiesta Nacional de España', '01/11': 'Todos los Santos', '06/12': 'Día de la Constitución Española', '08/12': 'Inmaculada Concepción', '31/11': 'Todos los Santos'}\n"
     ]
    }
   ],
   "source": [
    "print(festivos)"
   ]
  }
 ],
 "metadata": {
  "kernelspec": {
   "display_name": "Python 3",
   "language": "python",
   "name": "python3"
  },
  "language_info": {
   "codemirror_mode": {
    "name": "ipython",
    "version": 3
   },
   "file_extension": ".py",
   "mimetype": "text/x-python",
   "name": "python",
   "nbconvert_exporter": "python",
   "pygments_lexer": "ipython3",
   "version": "3.13.0"
  }
 },
 "nbformat": 4,
 "nbformat_minor": 2
}

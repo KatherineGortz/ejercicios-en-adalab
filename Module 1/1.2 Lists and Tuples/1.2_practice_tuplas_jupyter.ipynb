{
 "cells": [
  {
   "cell_type": "code",
   "execution_count": null,
   "metadata": {},
   "outputs": [
    {
     "name": "stdout",
     "output_type": "stream",
     "text": [
      "('M', 42, 39, 61, 1.54, 'pelo marron')\n"
     ]
    }
   ],
   "source": [
    "#Ex. 1-3\n",
    "persona1 = (61, 1.54, \"pelo marron\")\n",
    "persona2 = 61, 1.54, \"pelo marron\"\n",
    "talla = [\"M\", 42, 39]\n",
    "\n",
    "#Ex. 4-5\n",
    "tuple_tallas = tuple(talla)\n",
    "tuple_tallas_persona1 = tuple_tallas + persona1\n",
    "print(tuple_tallas_persona1)\n"
   ]
  },
  {
   "cell_type": "code",
   "execution_count": 4,
   "metadata": {},
   "outputs": [
    {
     "name": "stdout",
     "output_type": "stream",
     "text": [
      "pelo marron\n",
      "3\n"
     ]
    }
   ],
   "source": [
    "#Ex. 1\n",
    "persona2_lista = list(persona2)\n",
    "color = persona2_lista.pop()\n",
    "print(color)\n",
    "\n",
    "#Ex. 1\n",
    "print(len(persona1))"
   ]
  },
  {
   "cell_type": "code",
   "execution_count": null,
   "metadata": {},
   "outputs": [
    {
     "name": "stdout",
     "output_type": "stream",
     "text": [
      "pelo marron\n",
      "<class 'list'>\n",
      "<class 'list'>\n",
      "[(61, 61), (1.54, 1.54)]\n",
      "[('peso', 61, 61), ('altura', 1.54, 1.54)]\n"
     ]
    }
   ],
   "source": [
    "#Ex. 8\n",
    "peso = persona1[0]\n",
    "altura = persona1[1]\n",
    "color_pelo = persona1[2]\n",
    "print(color_pelo)\n",
    "\n",
    "#Ex. 9\n",
    "persona1_lista = list(persona1)\n",
    "print(type(persona1_lista))\n",
    "print(type(persona2_lista))\n",
    "personas_zip = zip(persona1_lista, persona2_lista)\n",
    "print(list(personas_zip))\n",
    "\n",
    "#Ex. 10\n",
    "len(list(personas_zip))\n",
    "\n",
    "#Ex. 11\n",
    "etiquetas = (\"peso\", \"altura\", \"color_pelo\")\n",
    "etiquetas_lista = list(etiquetas)\n",
    "\n",
    "#Ex. 12\n",
    "todo_zip = zip(etiquetas_lista, persona1_lista, persona2_lista)\n",
    "print(list(todo_zip))\n",
    "\n",
    "#Ex. 13\n"
   ]
  }
 ],
 "metadata": {
  "kernelspec": {
   "display_name": "Python 3",
   "language": "python",
   "name": "python3"
  },
  "language_info": {
   "codemirror_mode": {
    "name": "ipython",
    "version": 3
   },
   "file_extension": ".py",
   "mimetype": "text/x-python",
   "name": "python",
   "nbconvert_exporter": "python",
   "pygments_lexer": "ipython3",
   "version": "3.13.0"
  }
 },
 "nbformat": 4,
 "nbformat_minor": 2
}

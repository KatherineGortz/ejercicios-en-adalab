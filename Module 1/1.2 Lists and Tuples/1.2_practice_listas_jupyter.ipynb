{
 "cells": [
  {
   "cell_type": "code",
   "execution_count": null,
   "metadata": {},
   "outputs": [],
   "source": [
    "#Ex. 1\n",
    "colors = [\"red\", \"orange\", \"yellow\", \"green\", \"blue\", \"purple\"]\n",
    "\n",
    "#Ex. 2\n",
    "buses = [148, 8, 62, 78]\n",
    "\n",
    "#Ex. 3\n",
    "temp_semana = [15, 16, 14, 15, 16, 10, 8]\n",
    "\n",
    "#Ex. 4\n",
    "nombre = \"Katie Gortz\"\n",
    "list(nombre)\n",
    "\n",
    "#5\n",
    "apellidos = \"Gortz Rogers\"\n",
    "list(apellidos)\n",
    "\n",
    "#6\n",
    "print(len(buses))\n",
    "\n",
    "#7\n",
    "print(len(apellidos))\n",
    "\n",
    "#8\n",
    "t_max = max(temp_semana)\n",
    "print(t_max)\n",
    "\n",
    "t_min = min(temp_semana)\n",
    "print(t_min)\n",
    "\n",
    "#Ex. 9\n",
    "print(\"e\" in nombre)\n",
    "\n",
    "#Ex. 10\n",
    "print(\"pink\" in colors)\n",
    "\n",
    "#Ex. 11\n",
    "print(\"x\" not in nombre)\n",
    "\n"
   ]
  },
  {
   "cell_type": "code",
   "execution_count": null,
   "metadata": {},
   "outputs": [],
   "source": [
    "#Ex. 12\n",
    "temperaturas2 = temp_semana.copy()\n",
    "print(temperaturas2)\n",
    "\n",
    "temperaturas3= temp_semana.copy()\n",
    "print(temperaturas3)\n",
    "\n",
    "#Ex. 13\n",
    "print(temperaturas2.clear())\n",
    "\n",
    "#Ex. 14\n",
    "print(temp_semana + temperaturas2)\n",
    "\n",
    "#Ex. 15\n",
    "nombres2 = nombre\n",
    "print(nombres2)\n",
    "\n",
    "#Ex. 16\n",
    "apellidos2 = apellidos\n",
    "print(apellidos2)\n"
   ]
  },
  {
   "cell_type": "code",
   "execution_count": null,
   "metadata": {},
   "outputs": [],
   "source": [
    "#Ex. 17\n",
    "temp_sorted = sorted(temperaturas3, reverse=True)\n",
    "print(temp_sorted)"
   ]
  },
  {
   "cell_type": "code",
   "execution_count": 31,
   "metadata": {},
   "outputs": [
    {
     "name": "stdout",
     "output_type": "stream",
     "text": [
      "Katie Gortz\n",
      "[' ', 'G', 'K', 'a', 'e', 'i', 'o', 'r', 't', 't', 'z']\n",
      "Gortz Rogers\n",
      "[' ', 'G', 'R', 'e', 'g', 'o', 'o', 'r', 'r', 's', 't', 'z']\n"
     ]
    }
   ],
   "source": [
    "#Ex. 18\n",
    "print(nombres2)\n",
    "sorted_nombres = sorted(nombres2)\n",
    "print(sorted_nombres)\n",
    "\n",
    "print(apellidos2)\n",
    "sorted_apellidos = sorted(apellidos2)\n",
    "print(sorted_apellidos)"
   ]
  },
  {
   "cell_type": "code",
   "execution_count": 44,
   "metadata": {},
   "outputs": [
    {
     "name": "stdout",
     "output_type": "stream",
     "text": [
      "Katie Gortz\n",
      "8\n"
     ]
    },
    {
     "data": {
      "text/plain": [
       "1"
      ]
     },
     "execution_count": 44,
     "metadata": {},
     "output_type": "execute_result"
    }
   ],
   "source": [
    "#Ex. 19\n",
    "\n",
    "print(nombre)\n",
    "nombre.count(\"a\")\n",
    "\n",
    "apellidos.count(\"o\")\n",
    "\n",
    "#Ex. 20\n",
    "nombres2.count(\"a\") == nombre.count(\"a\")\n",
    "\n",
    "#21\n",
    "print(t_min)\n",
    "temp_semana.count(t_max)\n",
    "temp_semana.count(t_min)"
   ]
  },
  {
   "cell_type": "code",
   "execution_count": 54,
   "metadata": {},
   "outputs": [
    {
     "name": "stdout",
     "output_type": "stream",
     "text": [
      "saturday\n",
      "18\n",
      "True\n",
      "18\n"
     ]
    },
    {
     "data": {
      "text/plain": [
       "2"
      ]
     },
     "execution_count": 54,
     "metadata": {},
     "output_type": "execute_result"
    }
   ],
   "source": [
    "#Ex. 22-23\n",
    "\n",
    "dias_en = [\"monday\", \"tuesday\", \"wednesday\", \"thursday\", \"friday\", \"saturday\", \"sunday\"]\n",
    "temperaturas_diciembre = [10, 10, 13, 14, 12, 15, \n",
    "                        12, 11, 13, 17, 18, 15, \n",
    "                        15, 17, 17, 13, 13, 11,\n",
    "                        12, 10, 12, 14, 12, 12,\n",
    "                        11, 12, 16, 16, 14, 17, 18]\n",
    "\n",
    "#Ex.24\n",
    "penúltimo_dia = dias_en[-2]\n",
    "print(penúltimo_dia)\n",
    "\n",
    "#Ex. 25\n",
    "print(temperaturas_diciembre [-1])\n",
    "\n",
    "#Ex. 26\n",
    "print(\"friday\" in dias_en)\n",
    "dias_en.index(\"friday\")\n",
    "\n",
    "#Ex. 27\n",
    "max_diciembre = max(temperaturas_diciembre)\n",
    "print(max_diciembre)\n",
    "\n",
    "min_diciembre = min(temperaturas_diciembre)\n",
    "\n",
    "#Ex. 28\n",
    "dias_en.index(\"wednesday\")\n"
   ]
  },
  {
   "cell_type": "markdown",
   "metadata": {},
   "source": [
    "\n",
    "##(Bonus) Imprime esta frase en pantalla: 'La temperatura máxima esta semana será 14 ºC, que ocurrirá en 1 días(s). El día más frío tendrá una temperatura máxima de 10 ºC, que ocurrirá en 2 día(s).'"
   ]
  },
  {
   "cell_type": "code",
   "execution_count": 55,
   "metadata": {},
   "outputs": [
    {
     "name": "stdout",
     "output_type": "stream",
     "text": [
      "La temperatura máxima esta semana será 18ºC, que ocurrirá en 2 dias. El día más frío tendrá una temperatura máxima de 10 ºC, que ocurrirá en 3.'\n"
     ]
    }
   ],
   "source": [
    "print(f\"La temperatura máxima esta semana será {max_diciembre}ºC, que ocurrirá en {temperaturas_diciembre.count(max_diciembre)} dias. El día más frío tendrá una temperatura máxima de {min_diciembre} ºC, que ocurrirá en {temperaturas_diciembre.count(min_diciembre)}.'\")"
   ]
  }
 ],
 "metadata": {
  "kernelspec": {
   "display_name": "Python 3",
   "language": "python",
   "name": "python3"
  },
  "language_info": {
   "codemirror_mode": {
    "name": "ipython",
    "version": 3
   },
   "file_extension": ".py",
   "mimetype": "text/x-python",
   "name": "python",
   "nbconvert_exporter": "python",
   "pygments_lexer": "ipython3",
   "version": "3.13.0"
  }
 },
 "nbformat": 4,
 "nbformat_minor": 2
}

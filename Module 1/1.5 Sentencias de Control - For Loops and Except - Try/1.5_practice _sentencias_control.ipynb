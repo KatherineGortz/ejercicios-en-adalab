{
 "cells": [
  {
   "cell_type": "code",
   "execution_count": 1,
   "metadata": {},
   "outputs": [],
   "source": [
    "temperaturas = [2,45,67,23, 45,66,12,1,34,67,99,98,67,64, 44, 100]"
   ]
  },
  {
   "cell_type": "code",
   "execution_count": 7,
   "metadata": {},
   "outputs": [
    {
     "name": "stdout",
     "output_type": "stream",
     "text": [
      "[2, 1]\n"
     ]
    }
   ],
   "source": [
    "#Ex. 1\n",
    "\n",
    "bajas_temp = []\n",
    "\n",
    "for temp in temperaturas:\n",
    "    if temp < 10:\n",
    "        bajas_temp.append(temp)\n",
    "\n",
    "print(bajas_temp)\n"
   ]
  },
  {
   "cell_type": "code",
   "execution_count": 9,
   "metadata": {},
   "outputs": [
    {
     "name": "stdout",
     "output_type": "stream",
     "text": [
      "[12]\n"
     ]
    }
   ],
   "source": [
    "medias_temp = []\n",
    "\n",
    "for temp in temperaturas:\n",
    "    if 11 < temp < 20:\n",
    "        medias_temp.append(temp)\n",
    "\n",
    "print(medias_temp)"
   ]
  },
  {
   "cell_type": "code",
   "execution_count": 10,
   "metadata": {},
   "outputs": [
    {
     "name": "stdout",
     "output_type": "stream",
     "text": [
      "[45, 67, 23, 45, 66, 34, 67, 99, 98, 67, 64, 44, 100]\n"
     ]
    }
   ],
   "source": [
    "altas_temp = []\n",
    "\n",
    "for temp in temperaturas:\n",
    "    if temp > 20:\n",
    "        altas_temp.append(temp)\n",
    "\n",
    "print(altas_temp)"
   ]
  },
  {
   "cell_type": "code",
   "execution_count": 16,
   "metadata": {},
   "outputs": [
    {
     "name": "stdout",
     "output_type": "stream",
     "text": [
      "[35.6, 113.0, 152.6, 73.4, 113.0, 150.8, 53.6, 33.8, 93.2, 152.6, 210.2, 208.4, 152.6, 147.2, 111.2, 212.0]\n"
     ]
    }
   ],
   "source": [
    "#Ex. 2\n",
    "# la relacion de grados celsius y fahrenheit es: (0 °C × 9 / 5) + 32 = 32 °F\n",
    "\n",
    "temp_celsuis = []\n",
    "\n",
    "for temp in temperaturas:\n",
    "    converted_temp = (temp * 9/5) + 32\n",
    "    temp_celsuis.append(converted_temp)\n",
    "\n",
    "print(temp_celsuis)\n"
   ]
  },
  {
   "cell_type": "code",
   "execution_count": 17,
   "metadata": {},
   "outputs": [
    {
     "name": "stdout",
     "output_type": "stream",
     "text": [
      "[0, 1, 2, 3, 4, 5]\n"
     ]
    }
   ],
   "source": [
    "#Ex. 3\n",
    "\n",
    "num_list = list(range(0,6))\n",
    "\n",
    "print(num_list)"
   ]
  },
  {
   "cell_type": "code",
   "execution_count": 20,
   "metadata": {},
   "outputs": [
    {
     "name": "stdout",
     "output_type": "stream",
     "text": [
      "[3, 4, 5, 6]\n"
     ]
    }
   ],
   "source": [
    "#Ex. 4\n",
    "\n",
    "num_list_ex4 = list(range(3,7))\n",
    "\n",
    "print(num_list_ex4)"
   ]
  },
  {
   "cell_type": "code",
   "execution_count": 21,
   "metadata": {},
   "outputs": [
    {
     "name": "stdout",
     "output_type": "stream",
     "text": [
      "[6, 7, 8]\n"
     ]
    }
   ],
   "source": [
    "#Ex. 5\n",
    "num_list_ex5 = list(range(6,9))\n",
    "\n",
    "print(num_list_ex5)"
   ]
  },
  {
   "cell_type": "code",
   "execution_count": 29,
   "metadata": {},
   "outputs": [
    {
     "name": "stdout",
     "output_type": "stream",
     "text": [
      "[2, 8, 14]\n"
     ]
    }
   ],
   "source": [
    "#Ex. 6 \n",
    " \n",
    "num_list_ex6 = list(range(2,30,6))\n",
    "\n",
    "print(num_list_ex6[0:3])"
   ]
  },
  {
   "cell_type": "code",
   "execution_count": 30,
   "metadata": {},
   "outputs": [
    {
     "name": "stdout",
     "output_type": "stream",
     "text": [
      "[2, 5, 8, 11]\n"
     ]
    }
   ],
   "source": [
    "#Ex. 7\n",
    "\n",
    "num_list_ex7 = list(range(2,13,3))\n",
    "\n",
    "print(num_list_ex7)"
   ]
  },
  {
   "cell_type": "code",
   "execution_count": 31,
   "metadata": {},
   "outputs": [
    {
     "name": "stdout",
     "output_type": "stream",
     "text": [
      "[1, 3, 5, 7, 9]\n"
     ]
    }
   ],
   "source": [
    "#Ex. 8\n",
    "\n",
    "num_list_ex8 = list(range(1, 10, 2))\n",
    "\n",
    "print(num_list_ex8)"
   ]
  },
  {
   "cell_type": "code",
   "execution_count": 32,
   "metadata": {},
   "outputs": [
    {
     "name": "stdout",
     "output_type": "stream",
     "text": [
      "[4, 2025, 4489, 529, 2025, 4356, 144, 1, 1156, 4489, 9801, 9604, 4489, 4096, 1936, 10000]\n"
     ]
    }
   ],
   "source": [
    "#Ex. 9\n",
    "\n",
    "lista_cuadrados = []\n",
    "\n",
    "for temp in temperaturas:\n",
    "    temp_cuadrado = temp ** 2\n",
    "    lista_cuadrados.append(temp_cuadrado)\n",
    "\n",
    "print(lista_cuadrados)"
   ]
  },
  {
   "cell_type": "code",
   "execution_count": 36,
   "metadata": {},
   "outputs": [
    {
     "name": "stdout",
     "output_type": "stream",
     "text": [
      "[0, 1, 1, 1, 1, 0, 0, 1, 0, 1, 1, 0, 1, 0, 0, 0]\n"
     ]
    }
   ],
   "source": [
    "#Ex. 10\n",
    "\n",
    "lista_restos = []\n",
    "\n",
    "for temp in temperaturas:\n",
    "    resto_temp= temp % 2\n",
    "    lista_restos.append(resto_temp)\n",
    "\n",
    "print(lista_restos)\n"
   ]
  },
  {
   "cell_type": "code",
   "execution_count": 38,
   "metadata": {},
   "outputs": [
    {
     "name": "stdout",
     "output_type": "stream",
     "text": [
      "[2, 66, 12, 34, 98, 64, 44, 100]\n"
     ]
    }
   ],
   "source": [
    "#Ex. 11\n",
    "\n",
    "lista_pares = []\n",
    "\n",
    "for temp in temperaturas:\n",
    "    if temp % 2 == 0:\n",
    "        lista_pares.append(temp)\n",
    "\n",
    "print(lista_pares)"
   ]
  },
  {
   "cell_type": "code",
   "execution_count": null,
   "metadata": {},
   "outputs": [
    {
     "name": "stdout",
     "output_type": "stream",
     "text": [
      "[2, 45, 23, 45, 12, 1, 34, 44]\n"
     ]
    }
   ],
   "source": [
    "#Ex. 12\n",
    "\n",
    "lista_menor_50 = []\n",
    "\n",
    "for temp in temperaturas:\n",
    "    if temp < 50:\n",
    "        lista_menor_50.append(temp)\n",
    "\n",
    "print(lista_menor_50)"
   ]
  },
  {
   "cell_type": "code",
   "execution_count": 41,
   "metadata": {},
   "outputs": [
    {
     "name": "stdout",
     "output_type": "stream",
     "text": [
      "['par', 'impar', 'impar', 'impar', 'impar', 'par', 'par', 'impar', 'par', 'impar', 'impar', 'par', 'impar', 'par', 'par', 'par']\n"
     ]
    }
   ],
   "source": [
    "#Ex. 13\n",
    "\n",
    "lista_strings = []\n",
    "\n",
    "for temp in temperaturas:\n",
    "    if temp % 2 == 0:\n",
    "        lista_strings.append(\"par\")\n",
    "    else:\n",
    "        lista_strings.append(\"impar\")\n",
    "\n",
    "print(lista_strings)\n"
   ]
  },
  {
   "cell_type": "code",
   "execution_count": 63,
   "metadata": {},
   "outputs": [
    {
     "name": "stdout",
     "output_type": "stream",
     "text": [
      "20\n",
      "25\n"
     ]
    }
   ],
   "source": [
    "#Ex. 14\n",
    "\n",
    "numero_usuario = int(input(\"Give me a positive whole numnber:\"))\n",
    "\n",
    "sum_even = sum(range(0, numero_usuario, 2))\n",
    "sum_odd = sum(range(1,numero_usuario,2))\n",
    "\n",
    "print(sum_even)\n",
    "print(sum_odd)\n",
    "\n"
   ]
  },
  {
   "cell_type": "code",
   "execution_count": 61,
   "metadata": {},
   "outputs": [
    {
     "name": "stdout",
     "output_type": "stream",
     "text": [
      "{'A': 0, 'E': 1, 'I': 0, 'O': 2, 'U': 0}\n"
     ]
    }
   ],
   "source": [
    "#Ex. 15\n",
    "\n",
    "frase_usuario = input(\"Dame una frase:\").upper()\n",
    "vocales = {\"A\", \"E\", \"I\", \"O\", \"U\"}\n",
    "vocales_dict = {\"A\": 0, \"E\": 0, \"I\": 0, \"O\" : 0, \"U\": 0}\n",
    "\n",
    "\n",
    "for letter in frase_usuario:\n",
    "    if letter in vocales:\n",
    "        vowel_count = frase_usuario.count(letter)\n",
    "        vocales_dict[letter]= vowel_count\n",
    "\n",
    "print(vocales_dict)\n"
   ]
  },
  {
   "cell_type": "code",
   "execution_count": 6,
   "metadata": {},
   "outputs": [
    {
     "name": "stdout",
     "output_type": "stream",
     "text": [
      "y\n",
      "t\n",
      "h\n",
      "o\n",
      "n\n"
     ]
    }
   ],
   "source": [
    "#Ex. 1\n",
    "\n",
    "python = \"Python\"\n",
    "\n",
    "for letter in python:\n",
    "    if letter == \"P\":\n",
    "        continue\n",
    "    print(letter)"
   ]
  },
  {
   "cell_type": "code",
   "execution_count": 4,
   "metadata": {},
   "outputs": [
    {
     "name": "stdout",
     "output_type": "stream",
     "text": [
      "h\n",
      "e\n",
      "o\n"
     ]
    }
   ],
   "source": [
    "#Ex. 2\n",
    "\n",
    "hello = \"hello\"\n",
    "\n",
    "for letter in hello:\n",
    "    if letter != \"l\":\n",
    "        print(letter)"
   ]
  },
  {
   "cell_type": "code",
   "execution_count": 9,
   "metadata": {},
   "outputs": [
    {
     "name": "stdout",
     "output_type": "stream",
     "text": [
      "h\n",
      "e\n",
      "o\n"
     ]
    }
   ],
   "source": [
    "#Ex. 3\n",
    "\n",
    "for letter in hello:\n",
    "    if letter == \"l\":\n",
    "        continue\n",
    "    print(letter)"
   ]
  },
  {
   "cell_type": "code",
   "execution_count": null,
   "metadata": {},
   "outputs": [
    {
     "name": "stdout",
     "output_type": "stream",
     "text": [
      "h\n",
      "e\n",
      "l\n",
      "l\n"
     ]
    }
   ],
   "source": [
    "#Ex. 4\n",
    "\n",
    "for letter in hello:\n",
    "    if letter == \"o\":\n",
    "        break\n",
    "    print(letter)"
   ]
  },
  {
   "cell_type": "code",
   "execution_count": 12,
   "metadata": {},
   "outputs": [
    {
     "name": "stdout",
     "output_type": "stream",
     "text": [
      "¡Un error!\n"
     ]
    }
   ],
   "source": [
    "#Ex. 5\n",
    "\n",
    "doce = \"12\"\n",
    "seis = 6\n",
    "\n",
    "try:\n",
    "    doce + seis\n",
    "\n",
    "except:\n",
    "    print(\"¡Un error!\")\n",
    "\n"
   ]
  },
  {
   "cell_type": "code",
   "execution_count": 13,
   "metadata": {},
   "outputs": [
    {
     "name": "stdout",
     "output_type": "stream",
     "text": [
      "18\n"
     ]
    }
   ],
   "source": [
    "#Ex. 6\n",
    "\n",
    "print(int(doce) + seis)"
   ]
  },
  {
   "cell_type": "code",
   "execution_count": 25,
   "metadata": {},
   "outputs": [
    {
     "name": "stdout",
     "output_type": "stream",
     "text": [
      "12\n"
     ]
    }
   ],
   "source": [
    "#Ex. 7\n",
    "#Solicita al usuario ingresar números enteros positivos hasta que ingrese un número negativo. \n",
    "#Luego, muestra la suma de todos los números pares ingresados\n",
    "\n",
    "num_usuario = int(input(\"Ingrese un número entero positivo:\"))\n",
    "lista_num_usuario = []\n",
    "lista_num_usuario_pares= [] \n",
    "\n",
    "while num_usuario > 0:\n",
    "    lista_num_usuario.append(num_usuario)\n",
    "    num_usuario = int(input(\"Dame otro número entero positivo.\"))\n",
    "\n",
    "for num_usuario in lista_num_usuario:\n",
    "    if num_usuario % 2 == 0:\n",
    "        lista_num_usuario_pares.append(num_usuario)\n",
    "\n",
    "print(sum(lista_num_usuario_pares))\n",
    "        "
   ]
  },
  {
   "cell_type": "code",
   "execution_count": 27,
   "metadata": {},
   "outputs": [
    {
     "name": "stdout",
     "output_type": "stream",
     "text": [
      "Error: El divisor no puede ser zero.\n"
     ]
    }
   ],
   "source": [
    "#Ex. 8\n",
    "\n",
    "num_1 = int(input(\"Indica un número.\"))\n",
    "num_2 = int(input(\"Indica otro número\"))\n",
    "\n",
    "try:\n",
    "    print(num_1 / num_2)\n",
    "\n",
    "except:\n",
    "    print(\"Error: El divisor no puede ser zero.\")\n",
    "            \n",
    "            "
   ]
  },
  {
   "cell_type": "code",
   "execution_count": 30,
   "metadata": {},
   "outputs": [
    {
     "name": "stdout",
     "output_type": "stream",
     "text": [
      "You cannot calculate the square root of a negative number.\n"
     ]
    }
   ],
   "source": [
    "#Ex. 9\n",
    "import math\n",
    "\n",
    "numero_usuario_raizcuad = int(input(\"Enter a number:\"))\n",
    "\n",
    "try:\n",
    "    print(math.sqrt(numero_usuario_raizcuad))\n",
    "\n",
    "except:\n",
    "    print(\"You cannot calculate the square root of a negative number.\")\n"
   ]
  },
  {
   "cell_type": "code",
   "execution_count": 33,
   "metadata": {},
   "outputs": [
    {
     "name": "stdout",
     "output_type": "stream",
     "text": [
      "Out of range. The number must be between 0 and 7\n"
     ]
    }
   ],
   "source": [
    "#Ex. 10\n",
    "\n",
    "lista = [5, 6, 19, 25, 53, 1, 90, 100]\n",
    "\n",
    "seleccion_usuario = int(input(\"Indica un número entre 0 y 7\"))\n",
    "\n",
    "try:\n",
    "    print(lista[seleccion_usuario])\n",
    "\n",
    "except:\n",
    "    print(\"Out of range. The number must be between 0 and 7\")\n",
    "\n"
   ]
  }
 ],
 "metadata": {
  "kernelspec": {
   "display_name": "Python 3",
   "language": "python",
   "name": "python3"
  },
  "language_info": {
   "codemirror_mode": {
    "name": "ipython",
    "version": 3
   },
   "file_extension": ".py",
   "mimetype": "text/x-python",
   "name": "python",
   "nbconvert_exporter": "python",
   "pygments_lexer": "ipython3",
   "version": "3.13.0"
  }
 },
 "nbformat": 4,
 "nbformat_minor": 2
}

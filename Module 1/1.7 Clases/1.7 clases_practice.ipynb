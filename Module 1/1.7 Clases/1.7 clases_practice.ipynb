{
 "cells": [
  {
   "cell_type": "markdown",
   "metadata": {},
   "source": [
    "#1.7 Clases\n",
    "\n",
    "##Crea una clase llamada Vehiculo que representa un vehículo genérico. Esta clase tiene la capacidad de realizar acciones relacionadas con el vehículo, como encenderlo, apagarlo, acelerar, frenar y detenerlo gradualmente. Cada método en la clase tiene una descripción específica de su función. A continuación, se detallan los aspectos clave de esta clase:\n",
    "\n",
    "##Atributos:\n",
    "\n",
    "    - marca: Una cadena que representa la marca del vehículo.\n",
    "\n",
    "    - modelo: Una cadena que representa el modelo del vehículo.\n",
    "\n",
    "    - año: Un número entero que representa el año de fabricación del vehículo.\n",
    "\n",
    "    - velocidad_actual: Un número entero que representa la velocidad actual del vehículo en km/h.\n",
    "\n",
    "    - encendido: Un valor booleano que indica si el vehículo está encendido (True) o apagado (False)."
   ]
  },
  {
   "cell_type": "code",
   "execution_count": null,
   "metadata": {},
   "outputs": [],
   "source": [
    "class Vehiculo:\n",
    "\n",
    "    def __init__(self, marca, modelo, año, velocidad_actual, encendido):\n",
    "\n",
    "        self.marca = marca #cadena\n",
    "\n",
    "        self.modelo = modelo #cadena\n",
    "\n",
    "        self.año = año #int\n",
    "\n",
    "        self.velocidad_actual = velocidad_actual #int\n",
    "\n",
    "        self.encendido = encendido #booleano\n"
   ]
  },
  {
   "cell_type": "markdown",
   "metadata": {},
   "source": [
    "##Metodos\n",
    "\n",
    "__init__(self, marca, modelo, año): El constructor de la clase que inicializa los atributos del vehículo, incluyendo la marca, el modelo, el año, la velocidad actual (inicialmente 0) y el estado del encendido (inicialmente apagado)."
   ]
  },
  {
   "cell_type": "code",
   "execution_count": 18,
   "metadata": {},
   "outputs": [],
   "source": [
    "class Vehiculo:\n",
    "\n",
    "    def __init__(self, marca, modelo, año, velocidad_actual=0, encendido=False):\n",
    "\n",
    "        self.marca = marca #cadena\n",
    "\n",
    "        self.modelo = modelo #cadena\n",
    "\n",
    "        self.año = año #int\n",
    "\n",
    "        self.velocidad_actual = 0 #int\n",
    "\n",
    "        self.encendido = False #booleano\n"
   ]
  },
  {
   "cell_type": "markdown",
   "metadata": {},
   "source": [
    "\n",
    "informacion(self): Un método que devuelve una cadena de texto con la información básica del vehículo, incluyendo la marca, el modelo y el año."
   ]
  },
  {
   "cell_type": "code",
   "execution_count": 22,
   "metadata": {},
   "outputs": [
    {
     "name": "stdout",
     "output_type": "stream",
     "text": [
      "Marca: Chevrolet, Modelo: Aveo, Año: 2012\n"
     ]
    }
   ],
   "source": [
    "class Vehiculo:\n",
    "\n",
    "    def __init__(self, marca, modelo, año, velocidad_actual=0, encendido=False):\n",
    "\n",
    "        self.marca = marca #cadena\n",
    "\n",
    "        self.modelo = modelo #cadena\n",
    "\n",
    "        self.año = año #int\n",
    "\n",
    "        self.velocidad_actual = 0 #int\n",
    "\n",
    "        self.encendido = False #booleano\n",
    "\n",
    "    def informacion(self):\n",
    "        return f\"Marca: {self.marca}, Modelo: {self.modelo}, Año: {self.año}\"\n",
    "\n",
    "mi_vehiculo = Vehiculo(\"Chevrolet\", \"Aveo\", 2012) \n",
    "    \n",
    "print(mi_vehiculo.informacion())\n",
    "\n",
    "\n",
    "    "
   ]
  },
  {
   "cell_type": "markdown",
   "metadata": {},
   "source": [
    "\n",
    "encender(self): Un método que enciende el vehículo si está apagado y devuelve un mensaje de confirmación. Si el vehículo ya está encendido, devuelve un mensaje indicando que ya está en funcionamiento."
   ]
  },
  {
   "cell_type": "markdown",
   "metadata": {},
   "source": [
    "\n",
    "apagar(self): Un método que apaga el vehículo si está encendido, establece la velocidad actual en 0 y devuelve un mensaje de confirmación. Si el vehículo ya está apagado, devuelve un mensaje indicando que ya está apagado.\n",
    "\n",
    "\n",
    "acelerar(self, velocidad): Un método que aumenta la velocidad actual del vehículo según la cantidad de velocidad proporcionada como argumento. Si el vehículo está encendido, aumenta la velocidad y devuelve un mensaje con la nueva velocidad actual. Si el vehículo está apagado, devuelve un mensaje indicando que no se puede acelerar.\n",
    "\n",
    "\n",
    "frenar(self, velocidad): Un método que reduce la velocidad actual del vehículo según la cantidad de velocidad proporcionada como argumento. Si el vehículo está encendido, reduce la velocidad y devuelve un mensaje con la nueva velocidad actual. Si el vehículo está apagado, devuelve un mensaje indicando que no se puede frenar.\n",
    "\n",
    "detener(self): Un método que detiene gradualmente el vehículo reduciendo la velocidad en incrementos de 5 km/h hasta que alcance una velocidad de 0 km/h. Si el vehículo está encendido, detiene el vehículo y devuelve un mensaje de confirmación. Si el vehículo está apagado, devuelve un mensaje indicando que no se puede detener."
   ]
  },
  {
   "cell_type": "code",
   "execution_count": null,
   "metadata": {},
   "outputs": [
    {
     "name": "stdout",
     "output_type": "stream",
     "text": [
      "Marca: Chevrolet, Modelo: Aveo, Año: 2012\n",
      "El vehículo ya está encendido.\n",
      "El motor está apagado. La velocidad actual es de 0 kmph.\n",
      "El vehículo se ha encendido.\n",
      "Tu velocidad es 43 kmph\n",
      "Tu velocidad se ha reducido a 38 kmph.\n",
      "Tu velocidad se ha reducido a 33 kmph.\n",
      "Tu velocidad se ha reducido a 28 kmph.\n",
      "Tu velocidad se ha reducido a 23 kmph.\n",
      "Tu velocidad se ha reducido a 18 kmph.\n",
      "Tu velocidad se ha reducido a 13 kmph.\n",
      "Tu velocidad se ha reducido a 8 kmph.\n",
      "Tu velocidad se ha reducido a 3 kmph.\n",
      "Se ha detenido el coche.\n"
     ]
    }
   ],
   "source": [
    "class Vehiculo:\n",
    "\n",
    "    def __init__(self, marca, modelo, año, velocidad_actual=0, encendido=True):\n",
    "\n",
    "        self.marca = marca #cadena\n",
    "\n",
    "        self.modelo = modelo #cadena\n",
    "\n",
    "        self.año = año #int\n",
    "\n",
    "        self.velocidad_actual = velocidad_actual #int\n",
    "\n",
    "        self.encendido = encendido #booleano\n",
    "\n",
    "    def informacion(self):\n",
    "        return f\"Marca: {self.marca}, Modelo: {self.modelo}, Año: {self.año}\"\n",
    "    \n",
    "    def encender(self):\n",
    "        if not self.encendido:\n",
    "            self.encendido = True\n",
    "            return \"El vehículo se ha encendido.\"\n",
    "        else:\n",
    "            return \"El vehículo ya está encendido.\"\n",
    "    \n",
    "    def apagar(self):\n",
    "        if self.encendido:\n",
    "            self.encendido = False\n",
    "            self.velocidad_actual = 0\n",
    "            return \"El motor está apagado. La velocidad actual es de 0 kmph.\"\n",
    "        else:\n",
    "            return \"El vehiculo ya está apagado.\"\n",
    "\n",
    "\n",
    "    def acelerar_velocidad (self, velocidad):\n",
    "        if self.encendido == True:\n",
    "            self.velocidad_actual += velocidad\n",
    "            return f\"Tu velocidad es {self.velocidad_actual} kmph\"\n",
    "        \n",
    "        else:\n",
    "            return \"No se puede acelerar porque el moto está apagado.\"\n",
    "        \n",
    "    def frenar_velocidad (self):\n",
    "        if self.encendido:\n",
    "            while self.velocidad_actual > 5:\n",
    "                self.velocidad_actual -= 5\n",
    "                print (f\"Tu velocidad se ha reducido a {self.velocidad_actual} kmph.\")\n",
    "\n",
    "            return f\"Se ha detenido el coche.\"\n",
    "        \n",
    "        else:\n",
    "            return \"No se puede frenar porque el moto está apagado.\"\n",
    "\n",
    "    \n",
    "            \n",
    "        \n",
    "    \n",
    "mi_vehiculo = Vehiculo(\"Chevrolet\", \"Aveo\", 2012) \n",
    "    \n",
    "print(mi_vehiculo.informacion())    \n",
    "\n",
    "print(mi_vehiculo.encender())\n",
    "\n",
    "print(mi_vehiculo.apagar())\n",
    "\n",
    "print(mi_vehiculo.encender())\n",
    "\n",
    "print(mi_vehiculo.acelerar_velocidad(43))\n",
    "\n",
    "print(mi_vehiculo.frenar_velocidad())"
   ]
  },
  {
   "cell_type": "markdown",
   "metadata": {},
   "source": [
    "Crea la subclase Coche que hereda de la clase base Vehiculo y representa un coche específico. Además de los atributos y métodos heredados, la clase Coche tiene un atributo adicional:\n",
    "\n",
    "Atributos:\n",
    "\n",
    "combustible: Una cadena que representa el tipo de combustible que utiliza el coche.\n",
    "\n",
    "Métodos:\n",
    "\n",
    "__init__(self, marca, modelo, año, combustible): Constructor que inicializa los atributos de la clase base y el atributo específico del coche.\n",
    "\n",
    "informacion(self): Devuelve una cadena con la información del coche, incluyendo la marca, el modelo, el año y el tipo de combustible."
   ]
  },
  {
   "cell_type": "code",
   "execution_count": 68,
   "metadata": {},
   "outputs": [
    {
     "name": "stdout",
     "output_type": "stream",
     "text": [
      "Marca:Audi, Modelo:A4, Año:2024, Combustible:electric\n"
     ]
    }
   ],
   "source": [
    "class Car (Vehiculo):\n",
    "    def __init__(self, marca, modelo, año, combustible, velocidad_actual=0, encendido=True):\n",
    "      super().__init__(marca, modelo, año, velocidad_actual= 0, encendido=True)\n",
    "      self.combustible = combustible\n",
    "\n",
    "    def information(self):\n",
    "         return f\"Marca:{self.marca}, Modelo:{self.modelo}, Año:{self.año}, Combustible:{self.combustible}\"\n",
    "\n",
    "mi_coche = Car(\"Audi\", \"A4\", 2024, \"electric\")\n",
    "\n",
    "print(mi_coche.information())"
   ]
  },
  {
   "cell_type": "code",
   "execution_count": 74,
   "metadata": {},
   "outputs": [
    {
     "name": "stdout",
     "output_type": "stream",
     "text": [
      "The name is Katie Gortz. The age is 44 and the gender is female.\n",
      "The name is Jane Doe and his/her graduation year is 2025. The age is 20 and the gender is female.\n"
     ]
    }
   ],
   "source": [
    "class Person():\n",
    "\n",
    "    def __init__(self, first_name, last_name, age, gender):\n",
    "        self.first_name = first_name\n",
    "        self.last_name = last_name\n",
    "        self.age = age\n",
    "        self.gender = gender\n",
    "\n",
    "    def information(self):\n",
    "        return f\"The name is {self.first_name} {self.last_name}. The age is {self.age} and the gender is {self.gender}.\"\n",
    "\n",
    "Katie = Person(\"Katie\", \"Gortz\", 44, \"female\")\n",
    "\n",
    "print(Katie.information())\n",
    "\n",
    "class Student(Person):\n",
    "    def __init__(self, first_name, last_name, age, gender, graduation_year):\n",
    "        super().__init__(first_name, last_name, age, gender)\n",
    "        self.graduation_year = graduation_year\n",
    "        \n",
    "    def information(self):\n",
    "            return f\"The name is {self.first_name} {self.last_name} and his/her graduation year is {self.graduation_year}. The age is {self.age} and the gender is {self.gender}.\"\n",
    "    \n",
    "Jane = Student(\"Jane\", \"Doe\", 20, \"female\", 2025)\n",
    "\n",
    "print(Jane.information())"
   ]
  }
 ],
 "metadata": {
  "kernelspec": {
   "display_name": "Python 3",
   "language": "python",
   "name": "python3"
  },
  "language_info": {
   "codemirror_mode": {
    "name": "ipython",
    "version": 3
   },
   "file_extension": ".py",
   "mimetype": "text/x-python",
   "name": "python",
   "nbconvert_exporter": "python",
   "pygments_lexer": "ipython3",
   "version": "3.13.0"
  }
 },
 "nbformat": 4,
 "nbformat_minor": 2
}

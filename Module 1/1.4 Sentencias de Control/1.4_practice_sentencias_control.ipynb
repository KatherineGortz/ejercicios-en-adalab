{
 "cells": [
  {
   "cell_type": "code",
   "execution_count": null,
   "metadata": {},
   "outputs": [],
   "source": [
    "#Ex. 1\n",
    "var1 = 8\n",
    "var2 = 2\n",
    "var3 = 8\n"
   ]
  },
  {
   "cell_type": "code",
   "execution_count": null,
   "metadata": {},
   "outputs": [],
   "source": [
    "#Ex. 2\n",
    "if var1 > 6:\n",
    "    print (\"¡Es enorme!\")\n",
    "    "
   ]
  },
  {
   "cell_type": "code",
   "execution_count": null,
   "metadata": {},
   "outputs": [],
   "source": [
    "#Ex. 3\n",
    "if var2 > 6:\n",
    "    print (\"¡Es enorme también!\")"
   ]
  },
  {
   "cell_type": "code",
   "execution_count": null,
   "metadata": {},
   "outputs": [],
   "source": [
    "#Ex. 4\n",
    "if var3 > 6:\n",
    "    print (\"¡Es enorme!\")\n",
    "    print(\"¡Pero de verdad!\")\n"
   ]
  },
  {
   "cell_type": "code",
   "execution_count": null,
   "metadata": {},
   "outputs": [],
   "source": [
    "#Ex. 5\n",
    "if var1 == var3:\n",
    "    print(\"Son iguales\")"
   ]
  },
  {
   "cell_type": "code",
   "execution_count": null,
   "metadata": {},
   "outputs": [],
   "source": [
    "#Ex. 6\n",
    "if var1 == var2:\n",
    "    print(\"Son iguales\")"
   ]
  },
  {
   "cell_type": "code",
   "execution_count": null,
   "metadata": {},
   "outputs": [],
   "source": [
    "#Ex. 7\n",
    "if var1 >= var2:\n",
    "    diff = var1 - var2\n",
    "    print(f\"La diferencia es {diff}\")"
   ]
  },
  {
   "cell_type": "code",
   "execution_count": null,
   "metadata": {},
   "outputs": [],
   "source": [
    "#Ex. 8\n",
    "if var1 > 6:\n",
    "    print (\"¡Es enorme!\")\n",
    "else:\n",
    "    print (\"Es chiquitin.\")"
   ]
  },
  {
   "cell_type": "code",
   "execution_count": null,
   "metadata": {},
   "outputs": [],
   "source": [
    "#Ex. 9\n",
    "if var2 > 6:\n",
    "    print (\"¡Es enorme también!\")\n",
    "else:\n",
    "    print (\"Es chiquitin también.\")"
   ]
  },
  {
   "cell_type": "code",
   "execution_count": null,
   "metadata": {},
   "outputs": [],
   "source": [
    "#Ex. 10\n",
    "if var1 == var3:\n",
    "    print(\"Son iguales\")\n",
    "else:\n",
    "    print(\"Son distintos\")"
   ]
  },
  {
   "cell_type": "code",
   "execution_count": null,
   "metadata": {},
   "outputs": [],
   "source": [
    "#Ex. 11 \n",
    "#Las condiciones que tendremos que chequear:\n",
    "#Si el cliente es menor de 4 años puede entrar gratis,\n",
    "#Si tiene entre 4 y 18 años debe pagar 5€ y\n",
    "#Si es mayor de 18 años, 10€.\n",
    "\n",
    "edad_cliente = int(input(\"How old are you?\"))\n",
    "\n",
    "if edad_cliente < 4:\n",
    "    print (\"La entrada es gratis!\")\n",
    "elif 4 <= edad_cliente <= 18:\n",
    "    print (\"La entrada vale 5 euros.\")\n",
    "else:\n",
    "    print (\"La entrada vale 10 euros.\")\n"
   ]
  },
  {
   "cell_type": "code",
   "execution_count": null,
   "metadata": {},
   "outputs": [],
   "source": [
    "#Ex. 12 Crea un bucle while que mientras los ahorros sean igual o menor que 20 imprima por pantalla la cantidad de ahorros que tenemos, \n",
    "# y añádele 5 más.\n",
    "# Cuando la variable ahorros supere el valor de 20 el bucle deberá parar.\n",
    "ahorros = 5\n",
    "\n",
    "while ahorros <= 20:\n",
    "    print(f\"You have saved {ahorros}\")\n",
    "    ahorros += 5\n"
   ]
  },
  {
   "cell_type": "code",
   "execution_count": null,
   "metadata": {},
   "outputs": [],
   "source": [
    "#Ex. 13\n",
    "unit_of_measure = input(\"What unit of measure do you wish to covert from: C or F?\")\n",
    "unit_converted = unit_of_measure.upper()\n",
    "temperature_to_convert = int(input(f\"What is the tempature in {unit_converted} that you wish to covert?\"))\n",
    "def round_output (value):\n",
    "    return round(value, 4)\n",
    "\n",
    "def convert_C2F (temperature):\n",
    "    return float(temperature * (9/5) + 32)\n",
    "\n",
    "def convert_F2C (temperature):\n",
    "    return float(0.56 * (temperature - 32))\n",
    "\n",
    "\n",
    "if unit_converted == \"C\":\n",
    "    converted_temperature = round_output(convert_C2F(temperature_to_convert))\n",
    "    print(f\"{temperature_to_convert}{unit_converted} converted to F is {converted_temperature}\")\n",
    "elif unit_converted == \"F\":\n",
    "    converted_temperature = round_output(convert_F2C(temperature_to_convert))\n",
    "    print(f\"{temperature_to_convert}{unit_converted} converted to C is {converted_temperature}\")\n"
   ]
  },
  {
   "cell_type": "code",
   "execution_count": null,
   "metadata": {},
   "outputs": [
    {
     "name": "stdout",
     "output_type": "stream",
     "text": [
      "Your tax rate is 10 percent of 19850 and 12 percent of the amount over 19850 . You owe $3203.0\n"
     ]
    }
   ],
   "source": [
    "#Ex. 14\n",
    "valid_inputs = [\"S\", \"C\"]\n",
    "ingreso_anual = int(input(\"How mucho do you make per year?\"))\n",
    "estado_civil = input(\"Are you married (C) or single (S)?\").upper()\n",
    "while estado_civil not in valid_inputs:\n",
    "    print(\"You must answer S or C, please try again.\")\n",
    "    estado_civil = input(\"Are you married (C) or single (S)?\").upper()\n",
    "if estado_civil == \"S\":\n",
    "    if ingreso_anual <= 9875:\n",
    "        impuestos = ingreso_anual * .10\n",
    "        print(f\"Your tax rate is 10 percent. You owe ${impuestos}\")\n",
    "    elif 9875 < ingreso_anual < 40125:\n",
    "        impuestos = 9875 * .10 + (ingreso_anual - 9875) * .12\n",
    "        print(f\"Your tax rate is 10 percent of 9875 and 12 percent of the amount over 9875 . You owe ${impuestos}\")\n",
    "else:\n",
    "    if ingreso_anual <= 19850:\n",
    "        impuestos = ingreso_anual * 10\n",
    "        print(f\"Your tax rate is 10 percent. You owe ${impuestos}\")\n",
    "    elif 19850 < ingreso_anual < 80250:\n",
    "        impuestos = 19850 * .10 + (ingreso_anual - 19850) * .12\n",
    "        print(f\"Your tax rate is 10 percent of 19850 and 12 percent of the amount over 19850 . You owe ${impuestos}\")"
   ]
  },
  {
   "cell_type": "code",
   "execution_count": 37,
   "metadata": {},
   "outputs": [
    {
     "name": "stdout",
     "output_type": "stream",
     "text": [
      "La calidad del aire es No Saludable para Grupos Sensibles.\n",
      "Hay posibles efectos negativos para la salud.\n"
     ]
    }
   ],
   "source": [
    "#Ex. 15\n",
    "concentracion_particulas = float(input(\"Ingrese la concentración de PM2.5 en el aire en µg/m³:\"))\n",
    "if concentracion_particulas <0:\n",
    "    print(\"ERROR: Tiene que ser un número positivo.\")\n",
    "\n",
    "if concentracion_particulas <= 12:\n",
    "    calidad_aire = \"Excelente\"\n",
    "elif 13 <= concentracion_particulas <= 35:\n",
    "    calidad_aire = \"Buena\"\n",
    "elif 36 <= concentracion_particulas <= 55:\n",
    "    calidad_aire = \"Aceptable\"\n",
    "elif 56 <= concentracion_particulas <= 150:\n",
    "    calidad_aire = \"No Saludable para Grupos Sensibles\"\n",
    "else:\n",
    "    calidad_aire = \"No Saludable\"\n",
    "\n",
    "print(f\"La calidad del aire es {calidad_aire}.\")\n",
    "\n",
    "if concentracion_particulas >= 56:\n",
    "    print(\"Hay posibles efectos negativos para la salud.\")\n"
   ]
  }
 ],
 "metadata": {
  "kernelspec": {
   "display_name": "Python 3",
   "language": "python",
   "name": "python3"
  },
  "language_info": {
   "codemirror_mode": {
    "name": "ipython",
    "version": 3
   },
   "file_extension": ".py",
   "mimetype": "text/x-python",
   "name": "python",
   "nbconvert_exporter": "python",
   "pygments_lexer": "ipython3",
   "version": "3.13.0"
  }
 },
 "nbformat": 4,
 "nbformat_minor": 2
}

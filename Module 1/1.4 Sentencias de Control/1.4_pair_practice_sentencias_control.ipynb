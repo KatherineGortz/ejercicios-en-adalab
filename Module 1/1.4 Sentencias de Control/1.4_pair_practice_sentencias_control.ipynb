{
 "cells": [
  {
   "cell_type": "code",
   "execution_count": 7,
   "metadata": {},
   "outputs": [
    {
     "name": "stdout",
     "output_type": "stream",
     "text": [
      "5729 es positivo\n"
     ]
    }
   ],
   "source": [
    "x = 5729\n",
    "\n",
    "if x < 0:\n",
    "    print(f\"{x} es negativo\")\n",
    "elif x > 0:\n",
    "    print(f\"{x} es positivo\")\n",
    "else:\n",
    "    print(f\"{x} es cero\")\n"
   ]
  },
  {
   "cell_type": "code",
   "execution_count": 10,
   "metadata": {},
   "outputs": [
    {
     "name": "stdout",
     "output_type": "stream",
     "text": [
      "0 es un numero par\n"
     ]
    }
   ],
   "source": [
    "x = 0\n",
    "\n",
    "if x % 2 == 0:\n",
    "    print(f\"{x} es un numero par\")\n",
    "else:\n",
    "    print(f\"{x} es impar\")"
   ]
  },
  {
   "cell_type": "code",
   "execution_count": 15,
   "metadata": {},
   "outputs": [
    {
     "name": "stdout",
     "output_type": "stream",
     "text": [
      "Has aprobado\n"
     ]
    }
   ],
   "source": [
    "calificacion = 60\n",
    "\n",
    "if calificacion >= 60:\n",
    "    print(\"Has aprobado\")\n",
    "else:\n",
    "    print(\"Has suspendido\")\n"
   ]
  },
  {
   "cell_type": "code",
   "execution_count": 18,
   "metadata": {},
   "outputs": [
    {
     "name": "stdout",
     "output_type": "stream",
     "text": [
      "y es el mayor\n"
     ]
    }
   ],
   "source": [
    "x = 4\n",
    "y = 80\n",
    "\n",
    "if y > x:\n",
    "    print(\"y es el mayor\")\n",
    "else:\n",
    "    print(\"x es el mayor\")\n",
    "\n"
   ]
  },
  {
   "cell_type": "code",
   "execution_count": 23,
   "metadata": {},
   "outputs": [
    {
     "name": "stdout",
     "output_type": "stream",
     "text": [
      "Es una consonante\n"
     ]
    }
   ],
   "source": [
    "vocales = [\"a\", \"e\", \"i\", \"o\", \"u\"]\n",
    "\n",
    "\n",
    "letra = input(\"Dame una letra, solo letras por favor\")\n",
    "\n",
    "if letra in vocales:\n",
    "    print(\"Es una vocal\")\n",
    "else:\n",
    "    print(\"Es una consonante\")"
   ]
  },
  {
   "cell_type": "code",
   "execution_count": 27,
   "metadata": {},
   "outputs": [
    {
     "name": "stdout",
     "output_type": "stream",
     "text": [
      "No se aplica ningún descuento\n"
     ]
    }
   ],
   "source": [
    "precio_total = 80\n",
    "\n",
    "if precio_total >= 100:\n",
    "    print(\"Tienes un descuento del 10%\")\n",
    "    precio_con_descuento = precio_total - (precio_total * .10)\n",
    "    print(f\"El total a pagar es: {precio_con_descuento}\")\n",
    "else:\n",
    "    print(\"No se aplica ningún descuento\")"
   ]
  },
  {
   "cell_type": "code",
   "execution_count": null,
   "metadata": {},
   "outputs": [
    {
     "name": "stdout",
     "output_type": "stream",
     "text": [
      "No es año bisiesto\n"
     ]
    }
   ],
   "source": [
    "year = 1605\n",
    "\n",
    "if year % 4 == 0 and (year % 100 == 0 or year % 400 != 0):\n",
    "    print(\"Es año bisiesto\")\n",
    "else: \n",
    "    print(\"No es año bisiesto\")"
   ]
  },
  {
   "cell_type": "code",
   "execution_count": null,
   "metadata": {},
   "outputs": [],
   "source": []
  }
 ],
 "metadata": {
  "kernelspec": {
   "display_name": "Python 3",
   "language": "python",
   "name": "python3"
  },
  "language_info": {
   "codemirror_mode": {
    "name": "ipython",
    "version": 3
   },
   "file_extension": ".py",
   "mimetype": "text/x-python",
   "name": "python",
   "nbconvert_exporter": "python",
   "pygments_lexer": "ipython3",
   "version": "3.13.0"
  }
 },
 "nbformat": 4,
 "nbformat_minor": 2
}

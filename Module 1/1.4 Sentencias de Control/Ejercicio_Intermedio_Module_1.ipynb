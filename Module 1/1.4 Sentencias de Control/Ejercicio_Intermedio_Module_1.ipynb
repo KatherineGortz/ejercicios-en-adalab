{
 "cells": [
  {
   "cell_type": "markdown",
   "metadata": {},
   "source": [
    "#Ex. 1: crea un programa que busque una palabra específica(elegida por la usuaria) en una cadena de texto\n",
    "e indique su posición.\n"
   ]
  },
  {
   "cell_type": "code",
   "execution_count": null,
   "metadata": {},
   "outputs": [],
   "source": [
    "frase = \"Hola, buenos dias\"\n",
    "palabra = input(f\"Elige una palabra que aparece en esta frase:{frase}\")\n",
    "\n",
    "index = frase.find(palabra)\n",
    "print(f\"Tu palabra empieza en el indice {index}!\")\n"
   ]
  },
  {
   "cell_type": "markdown",
   "metadata": {},
   "source": [
    "#Ex. 2 Dada la siguiente lista: frutas = ['manzana', 'pera', 'banana', 'uva', 'kiwi'],\n",
    "realiza lo siguiente:\n",
    "\n",
    "1. Reemplaza el segundo elemento con 'durazno'.\n",
    "2. Agrega 'naranja' al final de la lista.\n",
    "3. Extrae y muestra por pantalla el tercer elemento de la lista.\n"
   ]
  },
  {
   "cell_type": "code",
   "execution_count": null,
   "metadata": {},
   "outputs": [],
   "source": [
    "frutas = ['manzana', 'pera', 'banana', 'uva', 'kiwi']\n",
    "\n",
    "#1\n",
    "\n",
    "frutas[1] = \"durazno\"\n",
    "\n",
    "#2\n",
    "\n",
    "frutas.append(\"naranja\")\n",
    "\n",
    "#3\n",
    "\n",
    "print(frutas[2])"
   ]
  },
  {
   "cell_type": "markdown",
   "metadata": {},
   "source": [
    "#Ex. 3\n",
    "\n",
    "Crea una lista llamada numeros que contenga los siguientes valores: 10, 25, 15, 30, 20.\n",
    "\n",
    "1. Agrega el valor 35 al incio de la lista numeros.\n",
    "2. Ordena la lista numeros en orden ascendente.\n",
    "3. Encuentra el índice del número 25.\n",
    "\n"
   ]
  },
  {
   "cell_type": "code",
   "execution_count": null,
   "metadata": {},
   "outputs": [],
   "source": [
    "numeros = [10, 25, 15, 30, 20]\n",
    "\n",
    "#Ex. 1\n",
    "\n",
    "numeros.insert(0,35)\n",
    "\n",
    "#Ex. 2\n",
    "\n",
    "numeros.sort()\n",
    "\n",
    "#Ex. 3\n",
    "\n",
    "numeros.index(25)"
   ]
  },
  {
   "cell_type": "markdown",
   "metadata": {},
   "source": [
    "#Ex. 4\n",
    "\n",
    "Crea un diccionario llamado frutas con las siguientes parejas clave-valor:\n",
    "'manzana': 2\n",
    "'banana': 3\n",
    "'uva': 5\n",
    "'pera': 4\n",
    "\n",
    "Saca una lista de todas las frutas en el diccionario.\n",
    "\n",
    "Saca una lista de todas las cantidades en el diccionario.\n",
    "\n",
    "¿Qué cantidad de 'manzana' tenemos?. Si la clave 'manzana' no está presente, devuelve un mensaje\n",
    "diciendo \"No existe esa clave\".\n",
    "\n",
    "Agrega un nuevo par de clave-valor al diccionario frutas: 'kiwi' con una cantidad de 6.\n",
    "\n",
    "Cambia la cantidad de 'uva' a 8.\n",
    "\n",
    "Crea un segundo diccionario llamado frutas_nuevas con las siguientes parejas clave-valor: -\n",
    "'sandía': 7 - 'mango': 4\n",
    "\n",
    "Combinar los dos diccionarios frutas_nuevas y frutas en uno nuevos llamado frutas_total.\n",
    "\n",
    "Elimina el último par de clave-valor del diccionario fruta_total.\n",
    "\n",
    "Elimina el par de clave-valor correspondiente a la clave 'uva' del diccionario.\n",
    "\n",
    "\n",
    "Combinar métodos de listas y diccionarios:\n",
    "Obtén una lista de todas las cantidades en el diccionario y calcula suma total de las cantidades\n",
    "del diccionario frutas_total.\n",
    "\n",
    "Utilizando la lista creada en el apartado anterior encuentra la cantidad más grande y más\n",
    "pequeña."
   ]
  },
  {
   "cell_type": "code",
   "execution_count": null,
   "metadata": {},
   "outputs": [],
   "source": [
    "frutas_dict = {'manzana': 2, 'banana': 3, 'uva': 5, 'pera': 4}\n",
    "\n",
    "#Saca una lista de todas las frutas en el diccionario.\n",
    "\n",
    "print(list(frutas_dict.keys()))\n",
    "\n",
    "#Saca una lista de todas las cantidades en el diccionario.\n",
    "\n",
    "print(list(frutas_dict.values()))\n",
    "\n",
    "#¿Qué cantidad de 'manzana' tenemos?. Si la clave 'manzana' no está presente, devuelve un mensaje diciendo \"No existe esa clave\".\n",
    "\n",
    "print(frutas_dict.get(\"manzana\", \"No existe esta clave\"))\n",
    "\n",
    "#Agrega un nuevo par de clave-valor al diccionario frutas: 'kiwi' con una cantidad de 6.\n",
    "\n",
    "nuevo_elemento = {\"kiwi\": 6}\n",
    "frutas_dict.update(nuevo_elemento)\n",
    "print(frutas_dict)\n",
    "\n",
    "#Cambia la cantidad de 'uva' a 8.\n",
    "frutas_dict[\"uva\"] = 8\n",
    "print(frutas_dict)\n",
    "\n",
    "#Crea un segundo diccionario llamado frutas_nuevas con las siguientes parejas clave-valor: 'sandía': 7 - 'mango': 4\n",
    "frutas_nuevas = {\"sandía\": 7, 'mango': 4}\n",
    "print(frutas_nuevas)\n",
    "\n",
    "#Combinar los dos diccionarios frutas_nuevas y frutas en uno nuevos llamado frutas_total.\n",
    "frutas_total = frutas_dict | frutas_nuevas\n",
    "print(frutas_total)\n",
    "\n",
    "#Elimina el último par de clave-valor del diccionario fruta_total.\n",
    "frutas_total.popitem()\n",
    "print(frutas_total)\n",
    "\n",
    "#Elimina el par de clave-valor correspondiente a la clave 'uva' del diccionario.\n",
    "\n",
    "frutas_total.pop(\"uva\")\n",
    "print(frutas_total)\n",
    "\n",
    "#Obtén una lista de todas las cantidades en el diccionario y calcula suma total de las cantidades del diccionario frutas_total.\n",
    "valores_frutas_total = list(frutas_total.values())\n",
    "print(valores_frutas_total)\n",
    "print(sum(valores_frutas_total))\n",
    "\n",
    "#Utilizando la lista creada en el apartado anterior encuentra la cantidad más grande y más pequeña.\n",
    "\n",
    "max_frutas = max(valores_frutas_total)\n",
    "min_frutas = min(valores_frutas_total)\n",
    "print(f\"El valor maximo es {max_frutas}\")\n",
    "print(f\"El valor minimo es {min_frutas}\")\n",
    "\n"
   ]
  },
  {
   "cell_type": "markdown",
   "metadata": {},
   "source": [
    "#Ex. 5  Evaluación de Edades:\n",
    "Escribe un programa que solicite al usuario ingresar su edad.\n",
    "\n",
    "Si la edad es menor de 18, muestra \"Eres menor de edad\".\n",
    "\n",
    "Si la edad está entre 18 y 65 (incluyendo ambos extremos), muestra \"Eres adulto\".\n",
    "\n",
    "Si la edad es mayor que 65, muestra \"Eres un adulto mayor\".\n"
   ]
  },
  {
   "cell_type": "code",
   "execution_count": null,
   "metadata": {},
   "outputs": [],
   "source": [
    "edad = int(input(\"Ingresa tu edad\"))\n",
    "\n",
    "if edad < 18:\n",
    "    print(\"Eres menor de edad.\")\n",
    "elif 18 <= edad <= 65:\n",
    "    print(\"Eres adulto.\")\n",
    "elif edad > 65:\n",
    "    print(\"Eres un adult mayor.\")"
   ]
  },
  {
   "cell_type": "markdown",
   "metadata": {},
   "source": [
    "#Ex. 6: Determinación de Día de la Semana\n",
    "\n",
    "Solicita al usuario que ingrese un número del 1 al 7.\n",
    "\n",
    "Utilizando una serie de if-elif-else, muestra el día de la semana correspondiente al\n",
    "número ingresado. Por ejemplo, si ingresa 1, muestra \"Lunes\".\n",
    "\n"
   ]
  },
  {
   "cell_type": "code",
   "execution_count": null,
   "metadata": {},
   "outputs": [],
   "source": [
    "numero_usuario = (input(\"Ingresa un número entre 1 y 7.\"))\n",
    "\n",
    "if numero_usuario == 1:\n",
    "    print(\"Lunes\")\n",
    "elif numero_usuario == 2:\n",
    "    print(\"Martes\")\n",
    "elif numero_usuario == 3:\n",
    "    print(\"Miercoles\")\n",
    "elif numero_usuario == 4:\n",
    "    print(\"Jueves\")\n",
    "elif numero_usuario == 5:\n",
    "    print(\"Viernes\")\n",
    "elif numero_usuario == 6:\n",
    "    print (\"Sabado\")\n",
    "elif numero_usuario == 7:\n",
    "    print(\"Domingo\")\n",
    "else:\n",
    "    print(\"Error, Valor no admitido.\")\n",
    "                     \n"
   ]
  },
  {
   "cell_type": "markdown",
   "metadata": {},
   "source": [
    "#Ex 7 Juego de Adivinanza\n",
    "\n",
    "Genera un número aleatorio entre 1 y 100.(random int with range)\n",
    "\n",
    "Pídele al usuario que adivine el número. (user input,save as variable)\n",
    "\n",
    "Si el usuario adivina correctamente en el primer intento, muestra \"¡Ganaste en el primer intento!\". if, elf, elif\n",
    "\n",
    "Si el usuario no adivina en el primer intento, bríndale pistas (mayor o menor) y permite que intente nuevamente. \n",
    "\n",
    "Muestra cuántos intentos le llevó al final. (anadir variable, y sumar 1 con cada intento)\n"
   ]
  },
  {
   "cell_type": "code",
   "execution_count": null,
   "metadata": {},
   "outputs": [],
   "source": [
    "import random\n",
    "\n",
    "numero_aleatorio = random.randrange(1, 101)\n",
    "intento = 0\n",
    "\n",
    "intento_usuario = int(input(\"Ingresa un número entre 1 y 100, a ver si adivinas el número secreto!\"))\n",
    "\n",
    "if intento_usuario == numero_aleatorio:\n",
    "    print(\"¡Ganaste en el primer intento!\")\n",
    "    intento += 1\n",
    "\n",
    "#while intento_usuario is not numero_aleatorio:\n",
    "    if intento_usuario > numero_aleatorio:\n",
    "        print(f\"El número secreto es menor que {intento_usuario}.\")\n",
    "        intento += 1\n",
    "        intento_usuario = int(input(\"Guess again! Give me another number between 1 and 100.\"))\n",
    "    elif intento_usuario < numero_aleatorio:\n",
    "        print(f\"El numero secreto es mayor que {intento_usuario}.\")\n",
    "        intento += 1\n",
    "        intento_usuario = int(input(\"Guess again! Give me another number between 1 and 100.\"))\n",
    "\n",
    "print(f\"Ya los has adivinado en {intento} intentos!\")\n",
    "\n"
   ]
  },
  {
   "cell_type": "code",
   "execution_count": null,
   "metadata": {},
   "outputs": [],
   "source": [
    "import random\n",
    "\n",
    "numero_aleatorio = random.randrange(1, 101)\n",
    "intento = 0\n",
    "\n",
    "intento_usuario = int(input(\"Ingresa un número entre 1 y 100, a ver si adivinas el número secreto!\"))\n",
    "\n",
    "if intento_usuario == numero_aleatorio:\n",
    "    print(\"¡Ganaste en el primer intento!\")\n",
    "    intento += 1"
   ]
  }
 ],
 "metadata": {
  "kernelspec": {
   "display_name": "Python 3",
   "language": "python",
   "name": "python3"
  },
  "language_info": {
   "codemirror_mode": {
    "name": "ipython",
    "version": 3
   },
   "file_extension": ".py",
   "mimetype": "text/x-python",
   "name": "python",
   "nbconvert_exporter": "python",
   "pygments_lexer": "ipython3",
   "version": "3.13.0"
  }
 },
 "nbformat": 4,
 "nbformat_minor": 2
}

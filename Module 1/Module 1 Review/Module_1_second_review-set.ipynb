{
 "cells": [
  {
   "cell_type": "markdown",
   "metadata": {},
   "source": []
  },
  {
   "cell_type": "markdown",
   "metadata": {},
   "source": [
    "# Clase Ecommerce para la Gestión de Datos de un Ecommerce*\n",
    "En este ejercicio, crearás una clase llamada Ecommerce para gestionar los datos de un ecommerce, como productos, clientes y ventas. La clase Ecommerce tiene varios métodos que permiten realizar diversas operaciones."
   ]
  },
  {
   "cell_type": "markdown",
   "metadata": {},
   "source": [
    "\n",
    "## Método constructor\n",
    "\n",
    "Nombre de la tienda.\n",
    "\n",
    "Diccionario vacío para almacenar los productos. Ejemplo diccionario: {id_producto: [nombre, precio, stock]}\n",
    "\n",
    "Diccionario vacío para almacenar los clientes. Ejemplo diccionario: {id_cliente: [nombre, email]}\n",
    "\n",
    "Lista vacía para registrar las ventas. Ejemplo lista: [(id_venta, id_cliente, id_producto, cantidad)]"
   ]
  },
  {
   "cell_type": "markdown",
   "metadata": {},
   "source": [
    "## Método agregar_producto(id_producto, nombre, precio, stock):\n",
    "\n",
    "Este método permite agregar un nuevo producto al inventario del ecommerce.\n",
    "\n",
    "Verifica si el producto ya existe en el inventario antes de agregarlo.\n",
    "\n",
    "Retorna un mensaje de éxito si el producto se agrega correctamente."
   ]
  },
  {
   "cell_type": "markdown",
   "metadata": {},
   "source": [
    "\n",
    "## Método eliminar_producto(id_producto):\n",
    "\n",
    "Elimina un producto específico del inventario.\n",
    "\n",
    "También elimina las ventas asociadas al producto eliminado.\n",
    "\n",
    "Retorna un mensaje indicando si el producto se eliminó con éxito o si no se encontró en el inventario."
   ]
  },
  {
   "cell_type": "markdown",
   "metadata": {},
   "source": [
    "\n",
    "## Método agregar_cliente(id_cliente, nombre, email):\n",
    "\n",
    "Agrega un nuevo cliente a la base de datos de clientes.\n",
    "\n",
    "Verifica si el cliente ya existe en la base de datos antes de agregarlo.\n",
    "\n",
    "Retorna un mensaje de éxito si el cliente se agrega correctamente."
   ]
  },
  {
   "cell_type": "markdown",
   "metadata": {},
   "source": [
    "\n",
    "## Método realizar_venta(id_cliente, id_producto, cantidad):\n",
    "\n",
    "Permite registrar una venta de un producto a un cliente.\n",
    "\n",
    "Verifica si el producto y el cliente existen en la base de datos antes de realizar la venta.\n",
    "\n",
    "Comprueba si hay suficiente stock para la venta.\n",
    "\n",
    "Registra la venta y actualiza el stock del producto.\n",
    "\n",
    "Retorna un mensaje de éxito con el ID de la venta o un mensaje de error si no se puede realizar la venta.\n",
    "\n",
    "## Método obtener_inventario():\n",
    "\n",
    "Recopila información detallada sobre el inventario, incluyendo nombre, precio, stock disponible, stock vendido y stock total de cada producto.\n",
    "\n",
    "Retorna un diccionario con esta información.\n",
    "\n",
    "\n",
    "## Método obtener_clientes(con_compras=False):\n",
    "\n",
    "Recopila información sobre los clientes en la base de datos.\n",
    "\n",
    "Si se especifica con_compras, también muestra el total de compras de cada cliente.\n",
    "\n",
    "Retorna un diccionario con esta información."
   ]
  },
  {
   "cell_type": "code",
   "execution_count": 91,
   "metadata": {},
   "outputs": [
    {
     "name": "stdout",
     "output_type": "stream",
     "text": [
      "El cliente Katherine Gortz con email kgtz@gmail.com ha sido añadido a nuestra base de datos con el ID 1\n",
      "{1: ['Katherine Gortz', 'kgtz@gmail.com']}\n",
      "Ya se ha agregado el producto iphone con id:123456 en la cantidad de 4 al inventario.\n",
      "Ya se ha agregado el producto iphone con id:123456 en la cantidad de 6 al inventario.\n",
      "Ya se ha agregado el producto ipad con id:654321 en la cantidad de 50 al inventario.\n",
      "El cliente con id: 1 ya está en nuestra base de datos. Es Katherine Gortz con email kgtz@gmail.com\n",
      "El producto con id:123456 está en el inventario.\n",
      "La venta se ha realizado con éxito. El ID de la venta es 1.\n",
      "El cliente con id: 1 ya está en nuestra base de datos. Es Katherine Gortz con email kgtz@gmail.com\n",
      "El producto con id:123456 está en el inventario.\n",
      "La venta se ha realizado con éxito. El ID de la venta es 2.\n",
      "El cliente con id: 1 ya está en nuestra base de datos. Es Katherine Gortz con email kgtz@gmail.com\n",
      "El producto con id:654321 está en el inventario.\n",
      "La venta se ha realizado con éxito. El ID de la venta es 3.\n"
     ]
    }
   ],
   "source": [
    "class Ecommerce:\n",
    "    def __init__(self, nombre_tienda):\n",
    "        self.nombre = nombre_tienda \n",
    "        self.productos = {}\n",
    "        self.clientes = {}\n",
    "        self.ventas = []\n",
    "        self.id_cliente_counter = 1\n",
    "        self.id_ventas_counter = 1\n",
    "        self.stock_vendido = {}\n",
    "\n",
    "    def agregar_producto(self, id_producto, nombre, precio, stock):\n",
    "        #for producto in self.productos: not needed bc dictionaries will automatically search all entries without iteration\n",
    "        if id_producto in self.productos:\n",
    "            self.productos[id_producto][2] += stock\n",
    "        else:\n",
    "            self.productos[id_producto]= [nombre, precio, stock]\n",
    "        print(f\"Ya se ha agregado el producto {nombre} con id:{id_producto} en la cantidad de {stock} al inventario.\")\n",
    "\n",
    "    def eliminar_producto(self, id_producto):\n",
    "        nueva_lista_ventas = []\n",
    "        \n",
    "        if id_producto not in self.productos:\n",
    "                return f\"El producto con {id_producto} no se encontró en el inventario.\"\n",
    "        \n",
    "        self.productos.pop(id_producto)#I can use pop here to remove this key, value from the list, so it will remove the ID plus the list which is the corresponding value.\n",
    "        \n",
    "        for venta in self.ventas:\n",
    "            if venta[2] != id_producto:\n",
    "                nueva_lista_ventas.append(venta)\n",
    "\n",
    "        self.ventas = nueva_lista_ventas\n",
    "\n",
    "        return f\"El producto con {id_producto} se ha eliminado correctamente del inventario\"\n",
    "    \n",
    "    def agregar_cliente (self, nombre, email):\n",
    "        #verifica si el cliente y el producto están en la base de datos\n",
    "        #{id_cliente: [nombre, email]}\n",
    "        for id_cliente, values in self.clientes.items():\n",
    "            if values[0] == nombre or values[1] == email:\n",
    "                cliente = self.clientes[id_cliente]\n",
    "                print(f\"El cliente {nombre} con email {email} ya está en nuestra base de datos. Su ID es: {id_cliente}\")\n",
    "                return\n",
    "            \n",
    "        id_cliente = self.id_cliente_counter\n",
    "        self.clientes[id_cliente] = [nombre, email]\n",
    "\n",
    "        self.id_cliente_counter += 1\n",
    "        print(f\"El cliente {nombre} con email {email} ha sido añadido a nuestra base de datos con el ID {id_cliente}\")\n",
    "        return self.clientes\n",
    "\n",
    "    \n",
    "    def realizar_venta(self, id_cliente, id_producto, cantidad):\n",
    "        #verifica si el cliente y el producto están en la base de datos\n",
    "        if id_cliente in self.clientes:\n",
    "            cliente = self.clientes[id_cliente]\n",
    "            print(f\"El cliente con id: {id_cliente} ya está en nuestra base de datos. Es {cliente[0]} con email {cliente[1]}\")\n",
    "        else:\n",
    "            print(\"Cliente no encontrado.\")\n",
    "            return\n",
    "        \n",
    "        if id_producto in self.productos:\n",
    "            producto = self.productos[id_producto]\n",
    "            print(f\"El producto con id:{id_producto} está en el inventario.\")\n",
    "        else:\n",
    "            print(\"Producto no encontrado en el inventario.\")\n",
    "            return\n",
    "        \n",
    "        #comprueba si hay stock suficiente para la venta\n",
    "        #regista la venta y actualizar el stock\n",
    "        #retornar mensaje de exito con el ID de la venta, o mensaje de error si no se puede realizar\n",
    "\n",
    "        if producto[2] >= cantidad:\n",
    "            id_venta = self.id_ventas_counter\n",
    "            self.ventas.append((id_venta, id_cliente, id_producto, cantidad)) \n",
    "            self.productos[id_producto][2] -= cantidad\n",
    "\n",
    "            print(f\"La venta se ha realizado con éxito. El ID de la venta es {id_venta}.\")\n",
    "\n",
    "            self.id_ventas_counter += 1\n",
    "\n",
    "        else:\n",
    "            print(\"No se ha podido realizar la venta. No hay stock suficiente.\")\n",
    "\n",
    "    def obtener_inventario (self):\n",
    "    #Recopila información detallada sobre el inventario, incluyendo nombre, precio, stock disponible, stock vendido y stock total de cada producto.\n",
    "    #Retorna un diccionario con esta información.\n",
    "    #self.productos {id_producto: [nombre, precio, stock]}\n",
    "    #self.ventas [(id_venta, id_cliente, id_producto, cantidad)]\n",
    "\n",
    "        composite_info_inventario = {}\n",
    "        \n",
    "        for id_producto, values in self.productos.items():\n",
    "            info_inventario = {\"nombre\": values[0], \n",
    "                               \"precio\": values[1], \n",
    "                               \"stock disponible\": values[2], \n",
    "                               \"stock vendido\": 0, \n",
    "                               \"stock total\": 0}\n",
    "            \n",
    "            for venta in self.ventas:\n",
    "                if venta[2] == id_producto:\n",
    "                    info_inventario[\"stock vendido\"] += 1\n",
    "            \n",
    "            info_inventario[\"stock total\"] = info_inventario[\"stock vendido\"] + values[2]\n",
    "\n",
    "            composite_info_inventario[id_producto] = info_inventario\n",
    "\n",
    "        return composite_info_inventario\n",
    "    \n",
    "    def obtener_clientes(self, con_compras = False):\n",
    "\n",
    "        clientes_info_con_ventas = {}\n",
    "\n",
    "        for id_cliente, values in self.clientes.items():\n",
    "            clientes_datos = {\"nombre\" : values[0],\n",
    "                            \"email\" : values[1]}\n",
    "            if con_compras == True:\n",
    "                compras_count = 0\n",
    "                for venta in self.ventas:\n",
    "                    if venta[1] == id_cliente:\n",
    "                        compras_count += 1\n",
    "\n",
    "                clientes_datos[\"totalcompras\"] = compras_count\n",
    "\n",
    "            clientes_info_con_ventas[id_cliente]= clientes_datos\n",
    "        \n",
    "        return clientes_info_con_ventas\n",
    "\n",
    "#(id_venta, id_cliente, id_producto, cantidad)\n",
    "#Recopila información sobre los clientes en la base de datos.\n",
    "#Si se especifica con_compras, también muestra el total de compras de cada cliente.\n",
    "#Retorna un diccionario con esta información.\n",
    "\n",
    "\n",
    "\n",
    "\n",
    "ecommerce1 = Ecommerce(\"katie store\")\n",
    "ecommerce2 = Ecommerce(\"Ruben store\")\n",
    "\n",
    "ecommerce1.agregar_cliente(\"Katherine Gortz\", \"kgtz@gmail.com\")\n",
    "print(ecommerce1.clientes)\n",
    "\n",
    "ecommerce1.agregar_producto(123456, \"iphone\", 500, 4)\n",
    "ecommerce1.agregar_producto(123456, \"iphone\", 500, 6 )\n",
    "ecommerce1.agregar_producto(654321, \"ipad\", 1000, 50)\n",
    "\n",
    "ecommerce1.realizar_venta(1, 123456, 1)\n",
    "ecommerce1.realizar_venta(1, 123456, 5)\n",
    "ecommerce1.realizar_venta(1, 654321, 25)\n",
    "\n",
    "\n",
    "            "
   ]
  },
  {
   "cell_type": "code",
   "execution_count": 81,
   "metadata": {},
   "outputs": [
    {
     "data": {
      "text/plain": [
       "{123456: ['iphone', 500, 4], 654321: ['ipad', 1000, 50]}"
      ]
     },
     "execution_count": 81,
     "metadata": {},
     "output_type": "execute_result"
    }
   ],
   "source": [
    "ecommerce1.productos"
   ]
  },
  {
   "cell_type": "code",
   "execution_count": 82,
   "metadata": {},
   "outputs": [
    {
     "data": {
      "text/plain": [
       "{123456: {'nombre': 'iphone',\n",
       "  'precio': 500,\n",
       "  'stock disponible': 4,\n",
       "  'stock vendido': 6,\n",
       "  'stock total': 10},\n",
       " 654321: {'nombre': 'ipad',\n",
       "  'precio': 1000,\n",
       "  'stock disponible': 50,\n",
       "  'stock vendido': 0,\n",
       "  'stock total': 50}}"
      ]
     },
     "execution_count": 82,
     "metadata": {},
     "output_type": "execute_result"
    }
   ],
   "source": [
    "ecommerce1.obtener_inventario()"
   ]
  },
  {
   "cell_type": "code",
   "execution_count": 83,
   "metadata": {},
   "outputs": [
    {
     "name": "stdout",
     "output_type": "stream",
     "text": [
      "El cliente con id: 1 ya está en nuestra base de datos. Es Katherine Gortz con email kgtz@gmail.com\n",
      "El producto con id:654321 está en el inventario.\n",
      "La venta se ha realizado con éxito. El ID de la venta es 3.\n"
     ]
    }
   ],
   "source": [
    "ecommerce1.realizar_venta(1, 654321, 25)"
   ]
  },
  {
   "cell_type": "code",
   "execution_count": 84,
   "metadata": {},
   "outputs": [
    {
     "data": {
      "text/plain": [
       "{123456: {'nombre': 'iphone',\n",
       "  'precio': 500,\n",
       "  'stock disponible': 4,\n",
       "  'stock vendido': 6,\n",
       "  'stock total': 10},\n",
       " 654321: {'nombre': 'ipad',\n",
       "  'precio': 1000,\n",
       "  'stock disponible': 25,\n",
       "  'stock vendido': 25,\n",
       "  'stock total': 50}}"
      ]
     },
     "execution_count": 84,
     "metadata": {},
     "output_type": "execute_result"
    }
   ],
   "source": [
    "ecommerce1.obtener_inventario()"
   ]
  },
  {
   "cell_type": "code",
   "execution_count": 94,
   "metadata": {},
   "outputs": [
    {
     "name": "stdout",
     "output_type": "stream",
     "text": [
      "{1: {'nombre': 'Katherine Gortz', 'email': 'kgtz@gmail.com', 'totalcompras': 3}}\n"
     ]
    }
   ],
   "source": [
    "print(ecommerce1.obtener_clientes(con_compras=True))"
   ]
  }
 ],
 "metadata": {
  "kernelspec": {
   "display_name": "Python 3",
   "language": "python",
   "name": "python3"
  },
  "language_info": {
   "codemirror_mode": {
    "name": "ipython",
    "version": 3
   },
   "file_extension": ".py",
   "mimetype": "text/x-python",
   "name": "python",
   "nbconvert_exporter": "python",
   "pygments_lexer": "ipython3",
   "version": "3.13.0"
  }
 },
 "nbformat": 4,
 "nbformat_minor": 2
}

{
 "cells": [
  {
   "cell_type": "markdown",
   "metadata": {},
   "source": []
  },
  {
   "cell_type": "markdown",
   "metadata": {},
   "source": [
    "# Clase Ecommerce para la Gestión de Datos de un Ecommerce*\n",
    "En este ejercicio, crearás una clase llamada Ecommerce para gestionar los datos de un ecommerce, como productos, clientes y ventas. La clase Ecommerce tiene varios métodos que permiten realizar diversas operaciones."
   ]
  },
  {
   "cell_type": "markdown",
   "metadata": {},
   "source": [
    "\n",
    "## Método constructor\n",
    "\n",
    "Nombre de la tienda.\n",
    "\n",
    "Diccionario vacío para almacenar los productos. Ejemplo diccionario: {id_producto: [nombre, precio, stock]}\n",
    "\n",
    "Diccionario vacío para almacenar los clientes. Ejemplo diccionario: {id_cliente: [nombre, email]}\n",
    "\n",
    "Lista vacía para registrar las ventas. Ejemplo lista: [(id_venta, id_cliente, id_producto, cantidad)]"
   ]
  },
  {
   "cell_type": "markdown",
   "metadata": {},
   "source": [
    "## Método agregar_producto(id_producto, nombre, precio, stock):\n",
    "\n",
    "Este método permite agregar un nuevo producto al inventario del ecommerce.\n",
    "\n",
    "Verifica si el producto ya existe en el inventario antes de agregarlo.\n",
    "\n",
    "Retorna un mensaje de éxito si el producto se agrega correctamente."
   ]
  },
  {
   "cell_type": "markdown",
   "metadata": {},
   "source": [
    "\n",
    "## Método eliminar_producto(id_producto):\n",
    "\n",
    "Elimina un producto específico del inventario.\n",
    "\n",
    "También elimina las ventas asociadas al producto eliminado.\n",
    "\n",
    "Retorna un mensaje indicando si el producto se eliminó con éxito o si no se encontró en el inventario."
   ]
  },
  {
   "cell_type": "markdown",
   "metadata": {},
   "source": [
    "\n",
    "## Método agregar_cliente(id_cliente, nombre, email):\n",
    "\n",
    "Agrega un nuevo cliente a la base de datos de clientes.\n",
    "\n",
    "Verifica si el cliente ya existe en la base de datos antes de agregarlo.\n",
    "\n",
    "Retorna un mensaje de éxito si el cliente se agrega correctamente."
   ]
  },
  {
   "cell_type": "markdown",
   "metadata": {},
   "source": [
    "\n",
    "## Método realizar_venta(id_cliente, id_producto, cantidad):\n",
    "\n",
    "Permite registrar una venta de un producto a un cliente.\n",
    "\n",
    "Verifica si el producto y el cliente existen en la base de datos antes de realizar la venta.\n",
    "\n",
    "Comprueba si hay suficiente stock para la venta.\n",
    "\n",
    "Registra la venta y actualiza el stock del producto.\n",
    "\n",
    "Retorna un mensaje de éxito con el ID de la venta o un mensaje de error si no se puede realizar la venta.\n",
    "\n",
    "## Método obtener_inventario():\n",
    "\n",
    "Recopila información detallada sobre el inventario, incluyendo nombre, precio, stock disponible, stock vendido y stock total de cada producto.\n",
    "\n",
    "Retorna un diccionario con esta información.\n",
    "\n",
    "\n",
    "## Método obtener_clientes(con_compras=False):\n",
    "\n",
    "Recopila información sobre los clientes en la base de datos.\n",
    "\n",
    "Si se especifica con_compras, también muestra el total de compras de cada cliente.\n",
    "\n",
    "Retorna un diccionario con esta información."
   ]
  },
  {
   "cell_type": "code",
   "execution_count": 653,
   "metadata": {},
   "outputs": [],
   "source": [
    "class Ecommerce:\n",
    "    def __init__(self, nombre_tienda):\n",
    "        self.nombre = nombre_tienda \n",
    "        self.productos = {}\n",
    "        self.clientes = {}\n",
    "        self.ventas = []\n",
    "        self.id_cliente_counter = 1\n",
    "        self.id_ventas_counter = 1\n",
    "        self.stock_vendido = {}\n",
    "\n",
    "    def agregar_producto(self, id_producto, nombre, precio, stock):\n",
    "            #for producto in self.productos: not needed bc dictionaries will automatically search all entries without iteration\n",
    "            nombre = nombre.lower()\n",
    "            if id_producto in self.productos:\n",
    "                self.productos[id_producto][2] += stock\n",
    "                print(f\"El producto {nombre} con id:{id_producto} ya está en el inventario. Se ha añadido {stock} al stock; ahora hay que un total de {self.productos[id_producto][2]} en stock.\")\n",
    "            \n",
    "            else:\n",
    "                self.productos[id_producto]= [nombre, precio, stock]\n",
    "                print(f\"Ya se ha agregado el producto {nombre} con id:{id_producto} en la cantidad de {stock} al inventario.\")\n",
    "\n",
    "    def eliminar_producto(self, id_producto):\n",
    "        nueva_lista_ventas = []\n",
    "        \n",
    "        if id_producto not in self.productos:\n",
    "                return f\"El producto con {id_producto} no se encontró en el inventario.\"\n",
    "        \n",
    "        self.productos.pop(id_producto)#I can use pop here to remove this key, value from the list, so it will remove the ID plus the list which is the corresponding value.\n",
    "        \n",
    "        for venta in self.ventas:\n",
    "            if venta[2] != id_producto:\n",
    "                nueva_lista_ventas.append(venta)\n",
    "\n",
    "        self.ventas = nueva_lista_ventas\n",
    "\n",
    "        return f\"El producto con {id_producto} se ha eliminado correctamente del inventario\"\n",
    "    \n",
    "    def agregar_cliente (self, nombre, email):\n",
    "        #verifica si el cliente y el producto están en la base de datos\n",
    "        #{id_cliente: [nombre, email]}\n",
    "        for id_cliente, values in self.clientes.items():\n",
    "            if values[0] == nombre or values[1] == email:\n",
    "                cliente = self.clientes[id_cliente]\n",
    "                print(f\"El cliente {nombre} con email {email} ya está en nuestra base de datos. Su ID es: {id_cliente}\")\n",
    "                return\n",
    "            \n",
    "        id_cliente = self.id_cliente_counter\n",
    "        self.clientes[id_cliente] = [nombre, email]\n",
    "\n",
    "        self.id_cliente_counter += 1\n",
    "        print(f\"El cliente {nombre} con email {email} ha sido añadido a nuestra base de datos con el ID {id_cliente}\")\n",
    "\n",
    "    def realizar_venta(self, id_cliente, id_producto, cantidad):\n",
    "        #verifica si el cliente y el producto están en la base de datos\n",
    "        if id_cliente in self.clientes:\n",
    "            cliente = self.clientes[id_cliente]\n",
    "            print(f\"El cliente con id: {id_cliente} ya está en nuestra base de datos. Es {cliente[0]} con email {cliente[1]}\")\n",
    "        else:\n",
    "            print(\"Cliente no encontrado.\")\n",
    "            return\n",
    "        \n",
    "        if id_producto in self.productos:\n",
    "            producto = self.productos[id_producto]\n",
    "            print(f\"El producto con id:{id_producto} está en el inventario.\")\n",
    "        else:\n",
    "            print(\"Producto no encontrado en el inventario.\")\n",
    "            return\n",
    "        \n",
    "        #comprueba si hay stock suficiente para la venta\n",
    "        #regista la venta y actualizar el stock\n",
    "        #retornar mensaje de exito con el ID de la venta, o mensaje de error si no se puede realizar\n",
    "\n",
    "        if producto[2] >= cantidad:\n",
    "            id_venta = self.id_ventas_counter\n",
    "            self.ventas.append((id_venta, id_cliente, id_producto, cantidad)) \n",
    "            self.productos[id_producto][2] -= cantidad\n",
    "\n",
    "            print(f\"La venta se ha realizado con éxito. El ID de la venta es {id_venta}.\")\n",
    "\n",
    "            self.id_ventas_counter += 1\n",
    "\n",
    "        else:\n",
    "            print(\"No se ha podido realizar la venta. No hay stock suficiente.\")\n",
    "\n",
    "    def obtener_inventario (self):\n",
    "    #Recopila información detallada sobre el inventario, incluyendo nombre, precio, stock disponible, stock vendido y stock total de cada producto.\n",
    "    #Retorna un diccionario con esta información.\n",
    "    #self.productos {id_producto: [nombre, precio, stock]}\n",
    "    #self.ventas [(id_venta, id_cliente, id_producto, cantidad)]\n",
    "\n",
    "        composite_info_inventario = {}\n",
    "        \n",
    "        for id_producto, values in self.productos.items():\n",
    "            info_inventario = {\"nombre\": values[0], \n",
    "                               \"precio\": values[1], \n",
    "                               \"stock disponible\": values[2], \n",
    "                               \"stock vendido\": 0, \n",
    "                               \"stock total\": 0}\n",
    "\n",
    "            for venta in self.ventas:\n",
    "                if venta[2] == id_producto:\n",
    "                    info_inventario[\"stock vendido\"] += venta[3]\n",
    "            \n",
    "            info_inventario[\"stock total\"] = info_inventario[\"stock vendido\"] + values[2]\n",
    "\n",
    "            composite_info_inventario[id_producto] = info_inventario\n",
    "\n",
    "        return(composite_info_inventario)\n",
    "    \n",
    "    #(id_venta, id_cliente, id_producto, cantidad)\n",
    "#Recopila información sobre los clientes en la base de datos.\n",
    "#Si se especifica con_compras, también muestra el total de compras de cada cliente.\n",
    "#Retorna un diccionario con esta información.\n",
    "\n",
    "    def obtener_clientes(self, con_compras = False):\n",
    "\n",
    "            clientes_info_con_ventas = {}\n",
    "\n",
    "            for id_cliente, values in self.clientes.items():\n",
    "                clientes_datos = {\"nombre\" : values[0],\n",
    "                                \"email\" : values[1]}\n",
    "                if con_compras == True:\n",
    "                    compras_count = 0\n",
    "                    for venta in self.ventas:\n",
    "                        if venta[1] == id_cliente:\n",
    "                            compras_count += 1\n",
    "                    if compras_count> 0:\n",
    "                        clientes_datos[\"totalcompras\"] = compras_count\n",
    "\n",
    "                clientes_info_con_ventas[id_cliente]= clientes_datos\n",
    "            \n",
    "            return clientes_info_con_ventas\n",
    "    \n",
    "    def actualizar_producto (self, id_producto, nombre=None, precio=None, stock=None):\n",
    "        #verificar si el producto está en el inventario. \n",
    "        if id_producto not in self.productos:\n",
    "            print (f\"El producto con ID:{id_producto} no está en nuestra base de datos.\")\n",
    "            return\n",
    "        \n",
    "        #actualizar valores en caso de tener un valor para actualizarlo. Si no hay un valor, no entra en este bloque de código.\n",
    "        if nombre is not None:\n",
    "            self.productos[id_producto][0] = nombre.lower()\n",
    "        if precio is not None:\n",
    "            self.productos[id_producto][1] = precio\n",
    "        if stock is not None:\n",
    "            self.productos[id_producto][2] = stock\n",
    "\n",
    "        #poner los valores en neuvo variables para que englobe lo que seha actualizado y lo que no. Usar estos variables en le F string.\n",
    "        updated_nombre = self.productos[id_producto][0]\n",
    "        updated_precio = self.productos[id_producto][1]\n",
    "        updated_stock = self.productos[id_producto][2]\n",
    "\n",
    "        # Retorna un mensaje de éxito con la información actualizada del producto.       \n",
    "        print(f\"El producto con ID:{id_producto} tiene nombre: {updated_nombre}, precio:{updated_precio}, y stock: {updated_stock}\")\n",
    "        \n",
    "    def buscar_producto_por_nombre(self, nombre):\n",
    "    #Busca productos en el inventario que coincidan con un nombre dado, independientemente de las mayúsculas y minúsculas.\n",
    "    #Retorna una lista de productos que coinciden con el nombre buscado. {id_producto: [nombre, precio, stock]}\n",
    "        lista_productos = []\n",
    "        nombre = nombre.lower()\n",
    "        print(nombre)\n",
    "\n",
    "        for id_producto, values in self.productos.items():\n",
    "            if nombre.lower()in values[0].lower():\n",
    "                lista_productos.append((id_producto, values))\n",
    "\n",
    "        print(lista_productos)\n",
    "\n",
    "    #self.ventas[(id_venta, id_cliente, id_producto, cantidad)]\n",
    "    #self.productos {id_producto: [nombre, precio, stock]}\n",
    "    def calcular_ganancias(self): \n",
    "    \n",
    "        lista_ganancias = []\n",
    "\n",
    "        for venta in self.ventas:\n",
    "            id_producto = venta[2]\n",
    "            cantidad = venta[3]\n",
    "\n",
    "            precio_producto = self.productos[id_producto][1]\n",
    "            ganancias = cantidad * precio_producto\n",
    "        \n",
    "            lista_ganancias.append(ganancias)\n",
    "\n",
    "        return sum(lista_ganancias)\n",
    "    \n",
    "    def obtener_clientes_con_mas_compras(self, compras_count=2):\n",
    "    #Identifica a los mejores clientes según la cantidad de compras realizadas.\n",
    "    #Retorna una lista de los mejores clientes con información sobre su nombre y la cantidad de compras.\n",
    "        clientes_top = {}\n",
    "\n",
    "        for id_cliente, values in self.clientes.items():\n",
    "            #clientes_top_datos = {\"nombre\" : values[0],\n",
    "                                #\"email\" : values[1]}\n",
    "            num_compras = 0   \n",
    "            for venta in self.ventas:\n",
    "                if venta[1] == id_cliente:\n",
    "                    num_compras += 1\n",
    "            if num_compras >= compras_count:\n",
    "                clientes_top[id_cliente] = {\n",
    "                    \"nombre\" : values[0],\n",
    "                    \"email\" : values[1], \n",
    "                \"total compras\": num_compras}\n",
    "\n",
    "        return clientes_top  \n",
    "            \n",
    "    def estadisticas_producto(self, id_producto):\n",
    "    #Muestra estadísticas detalladas de un producto específico, incluyendo su nombre, precio, stock y total de ventas.~\n",
    "    #Retorna un diccionario con esta información.\n",
    "    #self.ventas[(id_venta, id_cliente, id_producto, cantidad)]\n",
    "    #self.productos {id_producto: [nombre, precio, stock]}\n",
    "\n",
    "        producto_stats = {}\n",
    "        if id_producto not in self.productos:\n",
    "            print(f\"No se encuentra el ID:{id_producto} en la base de datos\")\n",
    "            return\n",
    "       \n",
    "        nombre = self.productos[id_producto][0]\n",
    "        precio = self.productos[id_producto][1]\n",
    "        stock = self.productos[id_producto][2]\n",
    "       \n",
    "        total_ventas = 0\n",
    "        for venta in self.ventas:\n",
    "            if venta[2] == id_producto:\n",
    "                cantidad = venta[3]\n",
    "                total_ventas += cantidad\n",
    "\n",
    "        producto_stats = {\"nombre\" : nombre,\n",
    "                    \"precio\" : precio, \n",
    "                    \"stock\" : stock,\n",
    "                    \"total ventas\" : total_ventas\n",
    "                          }\n",
    "        \n",
    "        return producto_stats\n",
    "\n",
    "ecommerce1 = Ecommerce(\"katie store\")\n",
    "ecommerce2 = Ecommerce(\"Ruben store\")"
   ]
  },
  {
   "cell_type": "code",
   "execution_count": 654,
   "metadata": {},
   "outputs": [
    {
     "name": "stdout",
     "output_type": "stream",
     "text": [
      "Ya se ha agregado el producto iphone con id:123456 en la cantidad de 25 al inventario.\n",
      "Ya se ha agregado el producto ipad con id:654321 en la cantidad de 25 al inventario.\n",
      "El producto ipad con id:654321 ya está en el inventario. Se ha añadido 5 al stock; ahora hay que un total de 30 en stock.\n"
     ]
    }
   ],
   "source": [
    "#Prubeas agregar_producto\n",
    "\n",
    "ecommerce1.agregar_producto(123456, \"iPhone\", 500, 25)\n",
    "ecommerce1.agregar_producto(654321, \"iPad\", 500, 25)\n",
    "ecommerce1.agregar_producto(654321, \"iPad\", 500, 5)\n"
   ]
  },
  {
   "cell_type": "code",
   "execution_count": 655,
   "metadata": {},
   "outputs": [
    {
     "data": {
      "text/plain": [
       "{123456: ['iphone', 500, 25], 654321: ['ipad', 500, 30]}"
      ]
     },
     "execution_count": 655,
     "metadata": {},
     "output_type": "execute_result"
    }
   ],
   "source": [
    "ecommerce1.productos"
   ]
  },
  {
   "cell_type": "code",
   "execution_count": 656,
   "metadata": {},
   "outputs": [
    {
     "data": {
      "text/plain": [
       "'El producto con 999999 no se encontró en el inventario.'"
      ]
     },
     "execution_count": 656,
     "metadata": {},
     "output_type": "execute_result"
    }
   ],
   "source": [
    "#Pruebas eliminar_producto\n",
    "\n",
    "ecommerce1.eliminar_producto(654321)\n",
    "ecommerce1.eliminar_producto(999999)"
   ]
  },
  {
   "cell_type": "code",
   "execution_count": 657,
   "metadata": {},
   "outputs": [
    {
     "data": {
      "text/plain": [
       "{123456: ['iphone', 500, 25]}"
      ]
     },
     "execution_count": 657,
     "metadata": {},
     "output_type": "execute_result"
    }
   ],
   "source": [
    "ecommerce1.productos"
   ]
  },
  {
   "cell_type": "code",
   "execution_count": 658,
   "metadata": {},
   "outputs": [
    {
     "name": "stdout",
     "output_type": "stream",
     "text": [
      "Ya se ha agregado el producto ipad con id:654321 en la cantidad de 1 al inventario.\n"
     ]
    }
   ],
   "source": [
    "ecommerce1.agregar_producto(654321, \"iPad\", 500, 1) #se ha podido agregar de nuevo porque ese producto se eliminó con éxito."
   ]
  },
  {
   "cell_type": "code",
   "execution_count": 659,
   "metadata": {},
   "outputs": [
    {
     "data": {
      "text/plain": [
       "{123456: ['iphone', 500, 25], 654321: ['ipad', 500, 1]}"
      ]
     },
     "execution_count": 659,
     "metadata": {},
     "output_type": "execute_result"
    }
   ],
   "source": [
    "ecommerce1.productos"
   ]
  },
  {
   "cell_type": "code",
   "execution_count": 660,
   "metadata": {},
   "outputs": [
    {
     "name": "stdout",
     "output_type": "stream",
     "text": [
      "El cliente Katherine Smith con email smith@gmail.com ha sido añadido a nuestra base de datos con el ID 1\n"
     ]
    }
   ],
   "source": [
    "#Pruebas agregar_cliente \n",
    "#I changed the email but not the name, and it detected that the user is already in the database. \n",
    "#We would need to decide if we want user and email to be unique, or just one of the two.\n",
    "\n",
    "\n",
    "ecommerce1.clientes\n",
    "ecommerce1.agregar_cliente(\"Katherine Smith\", \"smith@gmail.com\")\n",
    "\n"
   ]
  },
  {
   "cell_type": "code",
   "execution_count": 661,
   "metadata": {},
   "outputs": [
    {
     "name": "stdout",
     "output_type": "stream",
     "text": [
      "El cliente Katherine Smith con email smith@hotmail.com ya está en nuestra base de datos. Su ID es: 1\n"
     ]
    }
   ],
   "source": [
    "ecommerce1.agregar_cliente(\"Katherine Smith\", \"smith@hotmail.com\")"
   ]
  },
  {
   "cell_type": "code",
   "execution_count": 662,
   "metadata": {},
   "outputs": [
    {
     "name": "stdout",
     "output_type": "stream",
     "text": [
      "El cliente Jane Doe con email jane@gmail.com ha sido añadido a nuestra base de datos con el ID 2\n"
     ]
    }
   ],
   "source": [
    "ecommerce1.agregar_cliente(\"Jane Doe\", \"jane@gmail.com\")"
   ]
  },
  {
   "cell_type": "code",
   "execution_count": 663,
   "metadata": {},
   "outputs": [
    {
     "data": {
      "text/plain": [
       "{1: ['Katherine Smith', 'smith@gmail.com'], 2: ['Jane Doe', 'jane@gmail.com']}"
      ]
     },
     "execution_count": 663,
     "metadata": {},
     "output_type": "execute_result"
    }
   ],
   "source": [
    "ecommerce1.clientes"
   ]
  },
  {
   "cell_type": "code",
   "execution_count": 664,
   "metadata": {},
   "outputs": [
    {
     "name": "stdout",
     "output_type": "stream",
     "text": [
      "El cliente con id: 1 ya está en nuestra base de datos. Es Katherine Smith con email smith@gmail.com\n",
      "El producto con id:123456 está en el inventario.\n",
      "La venta se ha realizado con éxito. El ID de la venta es 1.\n"
     ]
    }
   ],
   "source": [
    "#pruebas realizar venta\n",
    "\n",
    "ecommerce1.realizar_venta(1, 123456, 2)"
   ]
  },
  {
   "cell_type": "code",
   "execution_count": 665,
   "metadata": {},
   "outputs": [
    {
     "data": {
      "text/plain": [
       "{123456: ['iphone', 500, 23], 654321: ['ipad', 500, 1]}"
      ]
     },
     "execution_count": 665,
     "metadata": {},
     "output_type": "execute_result"
    }
   ],
   "source": [
    "ecommerce1.productos"
   ]
  },
  {
   "cell_type": "code",
   "execution_count": 666,
   "metadata": {},
   "outputs": [
    {
     "data": {
      "text/plain": [
       "{123456: ['iphone', 500, 23], 654321: ['ipad', 500, 1]}"
      ]
     },
     "execution_count": 666,
     "metadata": {},
     "output_type": "execute_result"
    }
   ],
   "source": [
    "ecommerce1.productos"
   ]
  },
  {
   "cell_type": "code",
   "execution_count": 667,
   "metadata": {},
   "outputs": [
    {
     "data": {
      "text/plain": [
       "{123456: {'nombre': 'iphone',\n",
       "  'precio': 500,\n",
       "  'stock disponible': 23,\n",
       "  'stock vendido': 2,\n",
       "  'stock total': 25},\n",
       " 654321: {'nombre': 'ipad',\n",
       "  'precio': 500,\n",
       "  'stock disponible': 1,\n",
       "  'stock vendido': 0,\n",
       "  'stock total': 1}}"
      ]
     },
     "execution_count": 667,
     "metadata": {},
     "output_type": "execute_result"
    }
   ],
   "source": [
    "#pruebas obtener_inventario\n",
    "\n",
    "ecommerce1.obtener_inventario()"
   ]
  },
  {
   "cell_type": "code",
   "execution_count": 668,
   "metadata": {},
   "outputs": [
    {
     "data": {
      "text/plain": [
       "{1: {'nombre': 'Katherine Smith',\n",
       "  'email': 'smith@gmail.com',\n",
       "  'totalcompras': 1},\n",
       " 2: {'nombre': 'Jane Doe', 'email': 'jane@gmail.com'}}"
      ]
     },
     "execution_count": 668,
     "metadata": {},
     "output_type": "execute_result"
    }
   ],
   "source": [
    "ecommerce1.obtener_clientes(con_compras=True)\n"
   ]
  },
  {
   "cell_type": "code",
   "execution_count": 669,
   "metadata": {},
   "outputs": [
    {
     "name": "stdout",
     "output_type": "stream",
     "text": [
      "El producto con ID:123456 tiene nombre: iphone pro, precio:500, y stock: 23\n"
     ]
    }
   ],
   "source": [
    "#Prueba actualizar_producto\n",
    "\n",
    "ecommerce1.actualizar_producto(123456, nombre=\"iPhone Pro\", precio=None, stock=None)"
   ]
  },
  {
   "cell_type": "code",
   "execution_count": 670,
   "metadata": {},
   "outputs": [
    {
     "name": "stdout",
     "output_type": "stream",
     "text": [
      "El producto con ID:123456 tiene nombre: iphone pro, precio:750, y stock: 23\n"
     ]
    }
   ],
   "source": [
    "ecommerce1.actualizar_producto(123456, precio = 750)"
   ]
  },
  {
   "cell_type": "code",
   "execution_count": 671,
   "metadata": {},
   "outputs": [
    {
     "name": "stdout",
     "output_type": "stream",
     "text": [
      "Ya se ha agregado el producto iphone 15 con id:111111 en la cantidad de 5 al inventario.\n"
     ]
    }
   ],
   "source": [
    "ecommerce1.agregar_producto(111111, \"iphone 15\", 800, 5)"
   ]
  },
  {
   "cell_type": "code",
   "execution_count": 672,
   "metadata": {},
   "outputs": [
    {
     "data": {
      "text/plain": [
       "{123456: ['iphone pro', 750, 23],\n",
       " 654321: ['ipad', 500, 1],\n",
       " 111111: ['iphone 15', 800, 5]}"
      ]
     },
     "execution_count": 672,
     "metadata": {},
     "output_type": "execute_result"
    }
   ],
   "source": [
    "ecommerce1.productos"
   ]
  },
  {
   "cell_type": "code",
   "execution_count": 673,
   "metadata": {},
   "outputs": [
    {
     "name": "stdout",
     "output_type": "stream",
     "text": [
      "iphone\n",
      "[(123456, ['iphone pro', 750, 23]), (111111, ['iphone 15', 800, 5])]\n"
     ]
    }
   ],
   "source": [
    "ecommerce1.buscar_producto_por_nombre(\"iPhone\")"
   ]
  },
  {
   "cell_type": "code",
   "execution_count": 674,
   "metadata": {},
   "outputs": [
    {
     "data": {
      "text/plain": [
       "[(1, 1, 123456, 2)]"
      ]
     },
     "execution_count": 674,
     "metadata": {},
     "output_type": "execute_result"
    }
   ],
   "source": [
    "ecommerce1.ventas"
   ]
  },
  {
   "cell_type": "code",
   "execution_count": 675,
   "metadata": {},
   "outputs": [
    {
     "data": {
      "text/plain": [
       "{123456: {'nombre': 'iphone pro',\n",
       "  'precio': 750,\n",
       "  'stock disponible': 23,\n",
       "  'stock vendido': 2,\n",
       "  'stock total': 25},\n",
       " 654321: {'nombre': 'ipad',\n",
       "  'precio': 500,\n",
       "  'stock disponible': 1,\n",
       "  'stock vendido': 0,\n",
       "  'stock total': 1},\n",
       " 111111: {'nombre': 'iphone 15',\n",
       "  'precio': 800,\n",
       "  'stock disponible': 5,\n",
       "  'stock vendido': 0,\n",
       "  'stock total': 5}}"
      ]
     },
     "execution_count": 675,
     "metadata": {},
     "output_type": "execute_result"
    }
   ],
   "source": [
    "ecommerce1.obtener_inventario()"
   ]
  },
  {
   "cell_type": "code",
   "execution_count": 676,
   "metadata": {},
   "outputs": [
    {
     "data": {
      "text/plain": [
       "1500"
      ]
     },
     "execution_count": 676,
     "metadata": {},
     "output_type": "execute_result"
    }
   ],
   "source": [
    "ecommerce1.calcular_ganancias()"
   ]
  },
  {
   "cell_type": "code",
   "execution_count": 677,
   "metadata": {},
   "outputs": [
    {
     "name": "stdout",
     "output_type": "stream",
     "text": [
      "El cliente con id: 1 ya está en nuestra base de datos. Es Katherine Smith con email smith@gmail.com\n",
      "El producto con id:111111 está en el inventario.\n",
      "La venta se ha realizado con éxito. El ID de la venta es 2.\n"
     ]
    }
   ],
   "source": [
    "ecommerce1.realizar_venta(1, 111111, 2)"
   ]
  },
  {
   "cell_type": "code",
   "execution_count": 678,
   "metadata": {},
   "outputs": [
    {
     "data": {
      "text/plain": [
       "3100"
      ]
     },
     "execution_count": 678,
     "metadata": {},
     "output_type": "execute_result"
    }
   ],
   "source": [
    "ecommerce1.calcular_ganancias()"
   ]
  },
  {
   "cell_type": "code",
   "execution_count": 679,
   "metadata": {},
   "outputs": [
    {
     "data": {
      "text/plain": [
       "[(1, 1, 123456, 2), (2, 1, 111111, 2)]"
      ]
     },
     "execution_count": 679,
     "metadata": {},
     "output_type": "execute_result"
    }
   ],
   "source": [
    "ecommerce1.ventas"
   ]
  },
  {
   "cell_type": "code",
   "execution_count": 680,
   "metadata": {},
   "outputs": [
    {
     "name": "stdout",
     "output_type": "stream",
     "text": [
      "El cliente con id: 1 ya está en nuestra base de datos. Es Katherine Smith con email smith@gmail.com\n",
      "El producto con id:123456 está en el inventario.\n",
      "La venta se ha realizado con éxito. El ID de la venta es 3.\n"
     ]
    }
   ],
   "source": [
    "ecommerce1.realizar_venta(1, 123456, 1)"
   ]
  },
  {
   "cell_type": "code",
   "execution_count": 681,
   "metadata": {},
   "outputs": [
    {
     "data": {
      "text/plain": [
       "{1: {'nombre': 'Katherine Smith',\n",
       "  'email': 'smith@gmail.com',\n",
       "  'total compras': 3}}"
      ]
     },
     "execution_count": 681,
     "metadata": {},
     "output_type": "execute_result"
    }
   ],
   "source": [
    "ecommerce1.obtener_clientes_con_mas_compras(compras_count=2)\n"
   ]
  },
  {
   "cell_type": "code",
   "execution_count": 685,
   "metadata": {},
   "outputs": [
    {
     "name": "stdout",
     "output_type": "stream",
     "text": [
      "{'nombre': 'iphone 15', 'precio': 800, 'stock': 3, 'total ventas': 2}\n",
      "{'nombre': 'iphone pro', 'precio': 750, 'stock': 22, 'total ventas': 3}\n",
      "{'nombre': 'ipad', 'precio': 500, 'stock': 1, 'total ventas': 0}\n"
     ]
    }
   ],
   "source": [
    "print(ecommerce1.estadisticas_producto(111111))\n",
    "print(ecommerce1.estadisticas_producto(123456))\n",
    "print(ecommerce1.estadisticas_producto(654321))"
   ]
  }
 ],
 "metadata": {
  "kernelspec": {
   "display_name": "Python 3",
   "language": "python",
   "name": "python3"
  },
  "language_info": {
   "codemirror_mode": {
    "name": "ipython",
    "version": 3
   },
   "file_extension": ".py",
   "mimetype": "text/x-python",
   "name": "python",
   "nbconvert_exporter": "python",
   "pygments_lexer": "ipython3",
   "version": "3.13.0"
  }
 },
 "nbformat": 4,
 "nbformat_minor": 2
}

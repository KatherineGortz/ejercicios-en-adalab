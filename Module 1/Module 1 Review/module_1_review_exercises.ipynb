{
 "cells": [
  {
   "cell_type": "markdown",
   "metadata": {},
   "source": [
    "##dictionaries"
   ]
  },
  {
   "cell_type": "code",
   "execution_count": null,
   "metadata": {},
   "outputs": [],
   "source": []
  },
  {
   "cell_type": "markdown",
   "metadata": {},
   "source": [
    "#sentencias de control"
   ]
  },
  {
   "cell_type": "code",
   "execution_count": null,
   "metadata": {},
   "outputs": [
    {
     "name": "stdout",
     "output_type": "stream",
     "text": [
      "Es escaleno.\n"
     ]
    }
   ],
   "source": [
    "#Ex. 1\n",
    "\n",
    "#Clasificación de triángulos: Pide al usuario que ingrese las longitudes de tres lados de un triángulo. \n",
    "#Determina si el triángulo es equilátero (todos los lados iguales), isósceles (dos lados iguales), o escaleno (ningún lado igual)\n",
    "\n",
    "lado1 = int(input(\"Dime el largo de lado 1:\"))\n",
    "lado2 = int(input(\"Dime el largo de lado 2:\"))\n",
    "lado3 = int(input(\"Dime el largo de lado 3\"))\n",
    "\n",
    "if lado1 == lado2 == lado3:\n",
    "    print(\"Es equilátero.\")\n",
    "elif lado1 == lado2 or lado1 == lado3 or lado2 == lado3:\n",
    "    print(\"Es isoceles.\")\n",
    "else:\n",
    "    print(\"Es escaleno.\")"
   ]
  },
  {
   "cell_type": "code",
   "execution_count": 15,
   "metadata": {},
   "outputs": [
    {
     "name": "stdout",
     "output_type": "stream",
     "text": [
      "The temperature converted to C is: 0.0\n"
     ]
    }
   ],
   "source": [
    "#Ex. 2\n",
    "\n",
    "#Conversión de temperatura: Crea un programa que permita al usuario convertir temperaturas entre Celsius y Fahrenheit. \n",
    "# Pide al usuario que ingrese la temperatura y la unidad (C o F) y realiza la conversión.\n",
    "\n",
    "temperatura = int(input(\"Cual es la temperatura?\"))\n",
    "unidades_validas = [\"C\", \"F\"]\n",
    "unidad_de_medida = input(\"Is the unit of measure Celsuis (C) or Farenheit(F)?\").upper()\n",
    "\n",
    "if unidad_de_medida not in unidades_validas:\n",
    "    print(\"This is not a valid answer. Please enter C or F.\")\n",
    "    unidad_de_medida = input(\"Is the unit of measure Celsuis (C) or Farenheit(F)?\").upper()\n",
    "else:\n",
    "    if unidad_de_medida == \"F\":\n",
    "        converted_temp = (temperatura -32) * 5/9\n",
    "        print(f\"The temperature converted to C is: {converted_temp}\")\n",
    "    if unidad_de_medida == \"C\":\n",
    "        converted_temp = (temperatura * (9/5)) + 32\n",
    "        print(f\"The temperature converted to F is: {converted_temp}\")\n",
    "\n",
    "\n",
    "\n"
   ]
  },
  {
   "cell_type": "code",
   "execution_count": null,
   "metadata": {},
   "outputs": [
    {
     "name": "stdout",
     "output_type": "stream",
     "text": [
      "Confirmed:withdraw in the amount of $50.0\n",
      "Your updated saldo is 50.0.\n"
     ]
    }
   ],
   "source": [
    "#Ex. 3\n",
    "\n",
    "#Cajero automático: Simula un cajero automático que permite a los usuarios verificar su saldo, depositar y retirar dinero. \n",
    "# El programa debe mantener un registro del saldo actual.\n",
    "\n",
    "saldo_actual = 100\n",
    "\n",
    "action = input(\"Would you like to deposit or withdraw?\")\n",
    "amount = float(input(\"How much would you like to {action}?\"))\n",
    "\n",
    "print(f\"Confirmed: {action} in the amount of ${amount}\")\n",
    "\n",
    "if action == \"deposit\":\n",
    "    saldo_actual += amount\n",
    "if action == \"withdraw\":\n",
    "    saldo_actual -= amount\n",
    "\n",
    "print(f\"Your updated saldo is ${saldo_actual}.\")\n",
    "\n"
   ]
  },
  {
   "cell_type": "code",
   "execution_count": null,
   "metadata": {},
   "outputs": [
    {
     "name": "stdout",
     "output_type": "stream",
     "text": [
      "The final price with the 13.0 percent discount is $87.0\n"
     ]
    }
   ],
   "source": [
    "#Ex. 4\n",
    "\n",
    "#Calculadora de descuento: Pide al usuario que ingrese el precio original de un producto y el porcentaje de descuento. \n",
    "# Calcula el precio final después del descuento y muestra el ahorro.\n",
    "\n",
    "precio = float(input(\"What is the price of the product?\"))\n",
    "discount = float(input(\"What is the percentage discount?\"))\n",
    "\n",
    "final_price = precio - (precio * (discount/100))\n",
    "print(f\"The final price with the {discount} percent discount is ${final_price}\")\n",
    "\n"
   ]
  },
  {
   "cell_type": "markdown",
   "metadata": {},
   "source": [
    "##while\n"
   ]
  },
  {
   "cell_type": "code",
   "execution_count": 1,
   "metadata": {},
   "outputs": [
    {
     "name": "stdout",
     "output_type": "stream",
     "text": [
      "10\n",
      "9\n",
      "8\n",
      "7\n",
      "6\n",
      "5\n",
      "4\n",
      "3\n",
      "2\n",
      "1\n",
      "0: Blast off!\n"
     ]
    }
   ],
   "source": [
    "#Ex. 1\n",
    "#Contador Regresivo: Crea un programa que pida al usuario ingresar un número y \n",
    "#luego cuente hacia abajo desde ese número hasta llegar a cero utilizando un bucle while.\n",
    "\n",
    "num_usuario = int(input(\"Choose a number to begin our countdown:\"))\n",
    "                  \n",
    "while num_usuario > 0:\n",
    "    print(num_usuario)\n",
    "    num_usuario = num_usuario - 1\n",
    "\n",
    "print(\"0: Blast off!\")\n"
   ]
  },
  {
   "cell_type": "code",
   "execution_count": null,
   "metadata": {},
   "outputs": [
    {
     "data": {
      "text/plain": [
       "16"
      ]
     },
     "execution_count": 6,
     "metadata": {},
     "output_type": "execute_result"
    }
   ],
   "source": [
    "#Ex. 2\n",
    "\n",
    "#Adivina el Número: Genera un número aleatorio entre 1 y 20. \n",
    "#Pide al usuario que adivine el número y proporciona pistas (mayor o menor) hasta que adivinen correctamente.\n",
    "\n",
    "import random\n",
    "\n",
    "num_secret = random.randint(0,20)\n",
    "num_guess = input(\"Guess a number between 1 and 20.\")\n"
   ]
  }
 ],
 "metadata": {
  "kernelspec": {
   "display_name": "Python 3",
   "language": "python",
   "name": "python3"
  },
  "language_info": {
   "codemirror_mode": {
    "name": "ipython",
    "version": 3
   },
   "file_extension": ".py",
   "mimetype": "text/x-python",
   "name": "python",
   "nbconvert_exporter": "python",
   "pygments_lexer": "ipython3",
   "version": "3.13.0"
  }
 },
 "nbformat": 4,
 "nbformat_minor": 2
}

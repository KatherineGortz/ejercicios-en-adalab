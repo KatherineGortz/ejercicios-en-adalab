{
 "cells": [
  {
   "cell_type": "code",
   "execution_count": null,
   "metadata": {},
   "outputs": [
    {
     "name": "stdout",
     "output_type": "stream",
     "text": [
      "16\n",
      "Si! El numero secreto es 16!\n",
      "¡Ganaste en el primer intento!\n"
     ]
    }
   ],
   "source": [
    "import random\n",
    "\n",
    "numero_aleatorio = random.randint(1, 100)\n",
    "print(numero_aleatorio)\n",
    "intento = 0\n",
    "\n",
    "intento_usuario = int(input(\"Ingresa un número entre 1 y 100, a ver si adivinas el número secreto!\"))\n",
    "intento += 1\n",
    "\n",
    "##if intento_usuario == numero_aleatorio:\n",
    "#print(\"¡Ganaste en el primer intento!\")\n",
    "    #print(f\"Si! El numero secreto es {intento_usuario}!\")\n",
    "\n",
    "while intento_usuario is not numero_aleatorio:\n",
    "    \n",
    "    if intento_usuario > numero_aleatorio:\n",
    "        print(f\"El número secreto es menor que {intento_usuario}.\")\n",
    "        \n",
    "    elif intento_usuario < numero_aleatorio:\n",
    "        print(f\"El numero secreto es mayor que {intento_usuario}.\")\n",
    "    \n",
    "    intento_usuario = int(input(\"Guess again! Give me another number between 1 and 100.\"))\n",
    "    intento += 1\n",
    "        \n",
    "else: \n",
    "    if intento == 1:\n",
    "        print(f\"Si! El numero secreto es {intento_usuario}!\")\n",
    "        print(\"¡Ganaste en el primer intento!\")\n",
    "    else:\n",
    "        print(f\"Si! El numero secreto es {intento_usuario}!\")\n",
    "        print(f\"Ya los has adivinado en {intento} intentos!\")"
   ]
  }
 ],
 "metadata": {
  "kernelspec": {
   "display_name": "Python 3",
   "language": "python",
   "name": "python3"
  },
  "language_info": {
   "codemirror_mode": {
    "name": "ipython",
    "version": 3
   },
   "file_extension": ".py",
   "mimetype": "text/x-python",
   "name": "python",
   "nbconvert_exporter": "python",
   "pygments_lexer": "ipython3",
   "version": "3.13.0"
  }
 },
 "nbformat": 4,
 "nbformat_minor": 2
}

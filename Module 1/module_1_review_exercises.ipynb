{
 "cells": [
  {
   "cell_type": "markdown",
   "metadata": {},
   "source": [
    "#Sesión de Repaso (listas, tuplas, sets, diccionarios y sentencias de control)\n",
    "\n",
    "##listas"
   ]
  },
  {
   "cell_type": "code",
   "execution_count": 36,
   "metadata": {},
   "outputs": [
    {
     "name": "stdout",
     "output_type": "stream",
     "text": [
      "yellow\n",
      "6\n",
      "['apple', 'orange', 'pear', 'strawberry', 'blueberry', 'blackberry', 'apple', 'orange', 'pear', 'strawberry', 'blueberry', 'blackberry', 'apple', 'orange', 'pear', 'strawberry', 'blueberry', 'blackberry']\n",
      "['apple', 'orange', 'pear', 'strawberry', 'blueberry', 'blackberry']\n",
      "['apple', 'orange', 'pear', 'strawberry', 'blueberry', 'blackberry']\n"
     ]
    }
   ],
   "source": [
    "#Ex. 1: Crear una lista: Crea una lista con cinco colores diferentes.\n",
    "lista_colores = [\"red\", \"orange\", \"yellow\", \"green\", \"blue\"]\n",
    "\n",
    "#Ex. 2: Acceder a elementos: Accede al tercer elemento de la lista de colores.\n",
    "print(lista_colores[2])\n",
    "\n",
    "#Ex.3: Modificar elementos: Cambia el segundo color de la lista por otro de tu elección.\n",
    "lista_colores[1] = \"purple\"\n",
    "\n",
    "#Ex. 4: Agregar elementos: Agrega dos colores nuevos a la lista.\n",
    "lista_colores_new = [\"brown\", \"black\"]\n",
    "lista_colores.extend(lista_colores_new)\n",
    "\n",
    "#Ex. 5: Eliminar elementos: Elimina el cuarto color de la lista.\n",
    "lista_colores.pop(3)\n",
    "\n",
    "#Ex. 6: Longitud de la lista: Encuentra la longitud de la lista de colores\n",
    "print(len(lista_colores))\n",
    "\n",
    "#Ex. 7: Ordenar la lista: Ordena la lista de colores en orden alfabético.\n",
    "lista_colores.sort()\n",
    "\n",
    "#Ex. 8: Listas anidadas: Crea una lista de dos sublistas, cada una con tres nombres de frutas.\n",
    "sublist_1 = [\"apple\", \"orange\", \"pear\"]\n",
    "sublist_2 = [\"strawberry\", \"blueberry\", \"blackberry\"]\n",
    "\n",
    "#Ex. 9: Concatenar listas: Concatena las dos sublistas en una sola lista de frutas.\n",
    "lista_frutas = sublist_1 + sublist_2\n",
    "\n",
    "#Ex. 10: Repetir elementos: Repite la lista de frutas tres veces para obtener una lista más larga.\n",
    "repeated_lista_frutas = lista_frutas * 3\n",
    "print(repeated_lista_frutas)\n",
    "\n",
    "#Ex. 11: Acceder a la primera lista de frutas: Crea una variable llamada primera_lista y asigna la primera lista de frutas a esta variable.\n",
    "primera_lista = repeated_lista_frutas[0: 6] \n",
    "print(primera_lista)\n",
    "\n",
    "#Ex. 12: Acceder a la segunda lista de frutas: Crea una variable llamada segunda_lista y asigna la segunda lista de frutas a esta variable\n",
    "segunda_lista = repeated_lista_frutas[6:12]\n",
    "print(segunda_lista)\n",
    "\n",
    "#Ex. 13: Acceder a la primera fruta de la primera lista: Crea una variable llamada primera_fruta y asigna la primera fruta de la primera lista de frutas a esta variable.\n",
    "primera_fruta = primera_lista[0]\n",
    "\n",
    "#Ex. 14: Acceder a la última fruta de la segunda lista: Crea una variable llamada ultima_fruta y asigna la última fruta de la segunda lista de frutas a esta variable.\n",
    "ultima_fruta = segunda_lista[-1]\n",
    "\n",
    "#Ex. 15: Acceder a la segunda fruta de la primera lista: Crea una variable llamada segunda_fruta y asigna la segunda fruta de la primera lista de frutas a esta variable.\n",
    "segunda_fruta = primera_lista[1]\n",
    "\n",
    "#Ex. 16: Acceder a la última fruta de la primera lista: Crea una variable llamada ultima_fruta_primera_lista y asigna la última fruta de la primera lista de frutas a esta variable.\n",
    "ultima_fruta_primera_lista = primera_lista[-1]\n",
    "\n",
    "#Ex. 17: Acceder a la longitud de la segunda lista de frutas: Crea una variable llamada longitud_segunda_lista y asigna la longitud (número de elementos) de la segunda lista de frutas a esta variable.\n",
    "longitud_segunda_lista = len(segunda_lista)\n",
    "\n",
    "#Ex. 18: Acceder a una porción de la segunda lista (slicing): Crea una variable llamada porcion_segunda_lista y asigna los dos primeros elementos de la segunda lista de frutas a esta variable utilizando el slicing.\n",
    "porcion_segunda_lista = segunda_lista[0:2]\n",
    "\n",
    "#Ex. 19: Cambiar la segunda fruta de la segunda lista: Cambia la segunda fruta de la segunda lista de frutas a \"ciruela\".\n",
    "segunda_lista[1] = \"ciruela\"\n",
    "\n",
    "#Ex. 20: Agregar una nueva fruta a la primera lista: Agrega una nueva fruta, \"kiwi\", a la primera lista de frutas.\n",
    "primera_lista.insert(0, \"kiwi\")"
   ]
  },
  {
   "cell_type": "markdown",
   "metadata": {},
   "source": [
    "##Tuplas"
   ]
  },
  {
   "cell_type": "code",
   "execution_count": 54,
   "metadata": {},
   "outputs": [
    {
     "name": "stdout",
     "output_type": "stream",
     "text": [
      "('lucia', 'sofia', 'sonia,tania', 'david', 'carlos', 'andres', 'nicolas', 2, 4, 6, 8, 1, 3, 5, 9)\n",
      "Katie\n",
      "Gortz\n",
      "<class 'tuple'>\n"
     ]
    }
   ],
   "source": [
    "#Ex. 1: Crear una tupla: Crea una tupla llamada mi_tupla con algunos elementos de tu elección.\n",
    "mi_tupla = (\"lucia\", \"sofia\", \"sonia,\" \"tania\", \"david\", \"carlos\", \"andres\", \"nicolas\")\n",
    "\n",
    "#Ex. 2: Acceder al primer elemento: Accede al primer elemento de mi_tupla y guárdalo en una variable llamada primer_elemento.\n",
    "primer_elemento =mi_tupla[0]\n",
    "\n",
    "#Ex. 3: Acceder al último elemento: Accede al último elemento de mi_tupla y guárdalo en una variable llamada ultimo_elemento.\n",
    "ultimo_elemento = mi_tupla[1]\n",
    "\n",
    "#Ex. 4: Acceder a un rango de elementos: Utilizando el slicing, crea una nueva tupla llamada sub_tupla que contenga los elementos desde el segundo hasta el cuarto de mi_tupla.\n",
    "mi_tupla_lista= list(mi_tupla)\n",
    "mi_tupla_sublista = mi_tupla_lista[2:5]\n",
    "sub_tupla = tuple(mi_tupla_sublista)\n",
    "\n",
    "#Ex. 5: Concatenar dos tuplas: Crea otra tupla llamada otra_tupla y concaténala con mi_tupla para formar una nueva tupla llamada tupla_concatenada.\n",
    "otra_tupla = (2, 4, 6, 8, 1, 3, 5, 9)\n",
    "\n",
    "tupla_concatenada = mi_tupla + otra_tupla\n",
    "print(tupla_concatenada)\n",
    "\n",
    "#Ex.6: Encontrar la longitud: Encuentra la longitud de tupla_concatenada y guárdala en una variable llamada longitud.\n",
    "longitud = len(tupla_concatenada)\n",
    "\n",
    "#Ex.7: Buscar un elemento: Verifica si un elemento específico está presente en mi_tupla, por ejemplo, \"manzana\".\n",
    "\n",
    "\"katherine\" in mi_tupla\n",
    "\"lucia\"in mi_tupla\n",
    "\n",
    "#Ex. 8: Contar elementos: Cuenta cuántas veces aparece un elemento específico en mi_tupla, por ejemplo, cuántas veces aparece \"pera\".\n",
    "mi_tupla.count(\"lucia\")\n",
    "\n",
    "#Ex. 9: Desempaquetar una tupla: Si tienes una tupla de nombres (nombre, apellido), desempaqueta los valores en dos variables separadas.\n",
    "\n",
    "tupla_nombres = (\"Katie\", \"Gortz\")\n",
    "\n",
    "nombre, apellido = tupla_nombres\n",
    "\n",
    "print(nombre)\n",
    "print(apellido)\n",
    "\n",
    "#Ex. 10: Convertir una lista en tupla: Crea una lista de números y conviértela en una tupla llamada tupla_desde_lista.\n",
    "\n",
    "lista_num= list(range(0,11))\n",
    "\n",
    "tupla_desde_lista= tuple(lista_num)\n",
    "\n",
    "print(type(tupla_desde_lista))\n",
    "\n"
   ]
  },
  {
   "cell_type": "markdown",
   "metadata": {},
   "source": [
    "##Diccionarios\n"
   ]
  },
  {
   "cell_type": "code",
   "execution_count": 143,
   "metadata": {},
   "outputs": [
    {
     "name": "stdout",
     "output_type": "stream",
     "text": [
      "juan\n",
      "dict_items([('apellido', 'lopez'), ('nombre', 'juan'), ('edad', 36)])\n",
      "dict_items([('apellido', 'lopez'), ('nombre', 'juan'), ('edad', 36)])\n",
      "dict_items([('apellido', 'lopez'), ('nombre', 'juan'), ('edad', 36)])\n",
      "3\n",
      "{'apellido': 'lopez', 'nombre': 'juan', 'edad': 36}\n",
      "{}\n",
      "{'marital status': 'single'}\n"
     ]
    }
   ],
   "source": [
    "#Ex. 1 Crear un diccionario: Crea un diccionario vacío llamado mi_diccionario con una key llamada apellido y que su value sea López.\n",
    "\n",
    "mi_diccionario = {\"apellido\": \"lopez\"}\n",
    "\n",
    "#Ex. 2: Agregar elementos: Agrega una clave-valor al diccionario mi_diccionario. Por ejemplo, agrega la clave \"nombre\" con el valor \"Juan\".\n",
    "\n",
    "nuevo_elemento = {\"nombre\" : \"juan\"}\n",
    "mi_diccionario.update(nuevo_elemento)\n",
    "\n",
    "#Ex. 3: Acceder a un valor: Accede al valor correspondiente a la clave \"nombre\" en mi_diccionario.\n",
    "print(mi_diccionario[\"nombre\"])\n",
    "\n",
    "#Ex. 4: Modificar un valor: Cambia el valor de la clave \"nombre\" a \"Ana\".\n",
    "mi_diccionario[\"nombre\"] = \"Ana\"\n",
    "\n",
    "#Ex. 5: Eliminar un elemento: Elimina la clave \"nombre\" de mi_diccionario.\n",
    "mi_diccionario.pop(\"nombre\")\n",
    "\n",
    "#Ex. 6 Verificar existencia: Verifica si la clave \"apellido\" existe en mi_diccionario.\n",
    "\"apellido\" in mi_diccionario\n",
    "\n",
    "#Ex. 7: Obtener todas las claves: Obtén una lista de todas las claves en mi_diccionario.\n",
    "mi_diccionario.keys()\n",
    "\n",
    "#Ex. 8 Obtener todos los valores: Obtén una lista de todos los valores en mi_diccionario.\n",
    "mi_diccionario.values()\n",
    "\n",
    "#Ex. 9 SOS Recorrer el diccionario: Usa un bucle for para recorrer y mostrar todas las claves y valores en mi_diccionario\n",
    "\n",
    "nuevo_elemento = {\"nombre\" : \"juan\"}\n",
    "mi_diccionario.update(nuevo_elemento)\n",
    "\n",
    "otro_elemento = {\"edad\" : 36}\n",
    "mi_diccionario.update(otro_elemento)\n",
    "\n",
    "for element in mi_diccionario:\n",
    "    print(mi_diccionario.items())\n",
    "\n",
    "#Ex. 10: Longitud del diccionario: Calcula la longitud (cantidad de elementos) de mi_diccionario.\n",
    "print(len(mi_diccionario))\n",
    "\n",
    "#Ex. 11 Copiar un diccionario: Crea una copia de mi_diccionario llamada copia_diccionario.\n",
    "copia_diccionario = mi_diccionario.copy()\n",
    "print(copia_diccionario)\n",
    "\n",
    "#Ex. 12: Eliminar elementos: Elimina todos los elementos de copia_diccionario.\n",
    "copia_diccionario.clear()\n",
    "print(copia_diccionario)\n",
    "another_element = {\"marital status\": \"single\"}\n",
    "copia_diccionario.update(another_element)\n",
    "print(copia_diccionario)\n"
   ]
  },
  {
   "cell_type": "code",
   "execution_count": 148,
   "metadata": {},
   "outputs": [
    {
     "name": "stdout",
     "output_type": "stream",
     "text": [
      "{'apellido': 'lopez', 'nombre': 'juan', 'edad': 36}\n",
      "apellido : lopez\n",
      "nombre : juan\n",
      "edad : 36\n"
     ]
    }
   ],
   "source": [
    "#Ex. 9\n",
    "print(mi_diccionario)\n",
    "for key, value in mi_diccionario.items():\n",
    "    print(key, \":\", value)"
   ]
  },
  {
   "cell_type": "code",
   "execution_count": 130,
   "metadata": {},
   "outputs": [
    {
     "name": "stdout",
     "output_type": "stream",
     "text": [
      "{'apellido': 'lopez', 'nombre': 'juan', 'edad': 36, 'marital status': 'single'}\n",
      "{'marital status': 'single'}\n",
      "{'apellido': 'lopez', 'nombre': 'juan', 'edad': 36, 'marital status': 'single'}\n"
     ]
    }
   ],
   "source": [
    "#Ex. 13: Combinar diccionarios: Crea otro diccionario llamado diccionario_combinado y combina mi_diccionario y copia_diccionario en él.\n",
    "\n",
    "print(mi_diccionario)\n",
    "print(copia_diccionario)\n",
    "\n",
    "mi_diccionario.update(copia_diccionario)\n",
    "diccionario_combinado = mi_diccionario.copy()\n",
    "print(diccionario_combinado)"
   ]
  },
  {
   "cell_type": "code",
   "execution_count": 131,
   "metadata": {},
   "outputs": [
    {
     "data": {
      "text/plain": [
       "{'apellido': 'lopez', 'nombre': 'juan', 'edad': 36, 'marital status': 'single'}"
      ]
     },
     "execution_count": 131,
     "metadata": {},
     "output_type": "execute_result"
    }
   ],
   "source": [
    "diccionario_combinado"
   ]
  },
  {
   "cell_type": "code",
   "execution_count": 134,
   "metadata": {},
   "outputs": [
    {
     "data": {
      "text/plain": [
       "'Madrid'"
      ]
     },
     "execution_count": 134,
     "metadata": {},
     "output_type": "execute_result"
    }
   ],
   "source": [
    "#Ex. 14: Obtener valor predeterminado: Intenta acceder a la clave \"edad\" en mi_diccionario. Si no existe, muestra el valor predeterminado \"Desconocida\".\n",
    "mi_diccionario.setdefault(\"edad\", 45)\n",
    "\n",
    "mi_diccionario.setdefault(\"city of residence\", \"Madrid\")"
   ]
  },
  {
   "cell_type": "code",
   "execution_count": 160,
   "metadata": {},
   "outputs": [
    {
     "name": "stdout",
     "output_type": "stream",
     "text": [
      "9\n"
     ]
    }
   ],
   "source": [
    "#Ex. 15 Clave máxima: Encuentra la clave con el valor máximo en un diccionario que contenga pares clave-valor numéricos.\n",
    "diccionario_num = {2 : 4, 3 : 7, 9 : 100 }\n",
    "\n",
    "lista_valores = list(diccionario_num.values())\n",
    "\n",
    "valor_max = max(lista_valores)\n",
    "\n",
    "for key, value in diccionario_num.items():\n",
    "    if value == valor_max:\n",
    "        print (key)\n",
    "\n",
    "\n",
    "\n",
    "\n"
   ]
  },
  {
   "cell_type": "markdown",
   "metadata": {},
   "source": [
    "#Sets"
   ]
  },
  {
   "cell_type": "code",
   "execution_count": null,
   "metadata": {},
   "outputs": [],
   "source": [
    "#Ex. 1\n",
    "mi_set = set({})"
   ]
  },
  {
   "cell_type": "code",
   "execution_count": 172,
   "metadata": {},
   "outputs": [],
   "source": [
    "#Ex. 2\n",
    "list_to_update = [4, 5, 6, 7]\n",
    "mi_set.update(list_to_update)\n"
   ]
  },
  {
   "cell_type": "code",
   "execution_count": 175,
   "metadata": {},
   "outputs": [],
   "source": [
    "#Ex. 3\n",
    "mi_set.remove(2)"
   ]
  },
  {
   "cell_type": "code",
   "execution_count": 176,
   "metadata": {},
   "outputs": [],
   "source": [
    "#Ex. 4\n",
    "existe = 3 in mi_set"
   ]
  },
  {
   "cell_type": "code",
   "execution_count": 178,
   "metadata": {},
   "outputs": [
    {
     "name": "stdout",
     "output_type": "stream",
     "text": [
      "{89, 22}\n"
     ]
    }
   ],
   "source": [
    "#Ex. 5\n",
    "set1 = {10, 20, 34, 1, 9, 89, 22}\n",
    "set2 = {5, 79, 89, 22, 29, 90, 56}\n",
    "\n",
    "set_intersection = set1.intersection(set2)\n",
    "print(set_intersection)"
   ]
  },
  {
   "cell_type": "code",
   "execution_count": 180,
   "metadata": {},
   "outputs": [
    {
     "name": "stdout",
     "output_type": "stream",
     "text": [
      "{1, 34, 5, 9, 10, 79, 20, 22, 56, 89, 90, 29}\n"
     ]
    }
   ],
   "source": [
    "#Ex. 6\n",
    "set_combninado = set1.union(set2)\n",
    "print(set_combninado)"
   ]
  },
  {
   "cell_type": "code",
   "execution_count": 181,
   "metadata": {},
   "outputs": [
    {
     "name": "stdout",
     "output_type": "stream",
     "text": [
      "{1, 34, 9, 10, 20}\n"
     ]
    }
   ],
   "source": [
    "#Ex. 7\n",
    "print(set1.difference(set2))"
   ]
  },
  {
   "cell_type": "code",
   "execution_count": 182,
   "metadata": {},
   "outputs": [
    {
     "name": "stdout",
     "output_type": "stream",
     "text": [
      "False\n"
     ]
    }
   ],
   "source": [
    "#Ex. 8\n",
    "es_subconjunto = set1.issubset(set2)\n",
    "print(es_subconjunto)"
   ]
  },
  {
   "cell_type": "code",
   "execution_count": 183,
   "metadata": {},
   "outputs": [
    {
     "name": "stdout",
     "output_type": "stream",
     "text": [
      "{1, 3, 5, 7, 9}\n"
     ]
    }
   ],
   "source": [
    "#Ex. 9\n",
    "lista_con_duplicados = [1, 3, 5, 7, 9, 1, 3]\n",
    "set_elim_duplicados =set(lista_con_duplicados)\n",
    "print(set_elim_duplicados)"
   ]
  },
  {
   "cell_type": "code",
   "execution_count": 186,
   "metadata": {},
   "outputs": [
    {
     "name": "stdout",
     "output_type": "stream",
     "text": [
      "False\n"
     ]
    }
   ],
   "source": [
    "#Ex. 10\n",
    "son_iguales = set1 == set2\n",
    "print(son_iguales)"
   ]
  },
  {
   "cell_type": "markdown",
   "metadata": {},
   "source": [
    "#Sentencias de Control"
   ]
  },
  {
   "cell_type": "code",
   "execution_count": null,
   "metadata": {},
   "outputs": [],
   "source": [
    "#Ex. 2\n",
    "\n",
    "temperatura = int(input(\"Enter the temperature:\"))\n",
    "unit_of_measure = input(\"Did you enter the temperature in C or F?\").upper()\n",
    "\n",
    "if unit_of_measure66"
   ]
  }
 ],
 "metadata": {
  "kernelspec": {
   "display_name": "Python 3",
   "language": "python",
   "name": "python3"
  },
  "language_info": {
   "codemirror_mode": {
    "name": "ipython",
    "version": 3
   },
   "file_extension": ".py",
   "mimetype": "text/x-python",
   "name": "python",
   "nbconvert_exporter": "python",
   "pygments_lexer": "ipython3",
   "version": "3.13.0"
  }
 },
 "nbformat": 4,
 "nbformat_minor": 2
}
